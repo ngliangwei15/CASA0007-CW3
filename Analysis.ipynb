{
 "cells": [
  {
   "cell_type": "markdown",
   "id": "d61c90df",
   "metadata": {},
   "source": [
    "# CASA0007 QUANTITATIVE METHODS - COURSEWORK 3\n",
    "\n",
    "Title: How does Urban Greenery Affect Personal Well-Being in London?\n",
    "\n",
    "Abstract: This paper investigates the effect of urban greenery on personal well-being in London and the associated pathway(s) by answering the following research questions:\n",
    "- Does urban greenery affect personal well-being, as measured by ONS4?\n",
    "- What is the pathway(s) by which urban greenery affect personal well-being?"
   ]
  },
  {
   "cell_type": "code",
   "execution_count": 1,
   "id": "954a0d6a",
   "metadata": {},
   "outputs": [],
   "source": [
    "import numpy as np\n",
    "import pandas as pd\n",
    "import os\n",
    "import re\n",
    "import matplotlib.pyplot as plt\n",
    "from statsmodels.stats.outliers_influence import variance_inflation_factor \n",
    "from statsmodels.tools.tools import add_constant\n",
    "import statsmodels.api as sm\n",
    "from sklearn.linear_model import LinearRegression\n",
    "from math import log, sqrt\n",
    "import seaborn as sns\n",
    "import sklearn\n",
    "from sklearn.preprocessing import StandardScaler\n",
    "from sklearn.preprocessing import MinMaxScaler\n",
    "from sklearn.decomposition import PCA \n",
    "from scipy.stats import norm"
   ]
  },
  {
   "cell_type": "markdown",
   "id": "3fa1674f",
   "metadata": {},
   "source": [
    "## Presentation of Data\n",
    "\n",
    "### Personal Well-Being"
   ]
  },
  {
   "cell_type": "code",
   "execution_count": 2,
   "id": "8ec63de2",
   "metadata": {},
   "outputs": [],
   "source": [
    "# Read well-being\n",
    "# Source: https://data.london.gov.uk/dataset/subjective-personal-well-being-borough\n",
    "url = 'https://github.com/ngliangwei15/CASA0007-CW3/blob/main/Data/personal-well-being-borough.xlsx?raw=true'\n",
    "wellbeing = pd.read_excel(url, sheet_name = 'Summary - Mean Scores', skiprows = 1)\n",
    "\n",
    "# Rename and keep useful columns\n",
    "wellbeing_cols = ['Life Satisfaction', 'Worthwhile', 'Happiness']\n",
    "year = '2011/12'\n",
    "wellbeing.rename({year: wellbeing_cols[0],\n",
    "                 year+'.1': wellbeing_cols[1],\n",
    "                 year+'.2': wellbeing_cols[2],\n",
    "                 year+'.3': 'Anxiety'},\n",
    "                axis = 1, inplace = True)\n",
    "wellbeing = wellbeing[['Code', 'Area'] + wellbeing_cols + ['Anxiety']]\n",
    "\n",
    "# Keep only data on London boroughs (Area Code starts with E09)\n",
    "wellbeing.dropna(axis = 0, inplace = True)\n",
    "wellbeing.drop(wellbeing[wellbeing.Area == \"City of London\"].index, inplace = True)\n",
    "wellbeing = wellbeing[wellbeing['Code'].str.match(r'E09')].sort_values(by = ['Code'], ascending=True)\n",
    "wellbeing = wellbeing.reset_index(drop = True)\n",
    "wellbeing.drop('Code', axis = 1, inplace = True)\n",
    "\n",
    "# Set data type\n",
    "wellbeing[wellbeing_cols + ['Anxiety']] = wellbeing[wellbeing_cols + ['Anxiety']].astype('float', copy = False)"
   ]
  },
  {
   "cell_type": "markdown",
   "id": "76d75410",
   "metadata": {},
   "source": [
    "### Urban Greenery"
   ]
  },
  {
   "cell_type": "code",
   "execution_count": 3,
   "id": "3efe7340",
   "metadata": {},
   "outputs": [],
   "source": [
    "# Read NDVI\n",
    "# Source: https://data.london.gov.uk/dataset/green-and-blue-cover\n",
    "url = 'https://github.com/ngliangwei15/CASA0007-CW3/blob/main/Data/green_cover_borough_summary_0.05.xlsx?raw=true'\n",
    "ndvi_cols = ['lb_code', 'lb_name', 'percent_green']\n",
    "ndvi = pd.read_excel(url, sheet_name = 'borough_green_cover', usecols = ndvi_cols)\n",
    "\n",
    "# Drop City of London\n",
    "ndvi.drop(ndvi[ndvi.lb_code == 'City of London'].index, inplace = True)\n",
    "ndvi.sort_values(by = ['lb_name'], ascending=True)\n",
    "ndvi = ndvi.reset_index(drop = True)\n",
    "\n",
    "# Change name of 'City of Westminster' to Westminster\n",
    "ndvi.loc[ndvi[ndvi.lb_code == 'City of Westminster'].index, 'lb_code'] = 'Westminster'\n",
    "\n",
    "# Rename column\n",
    "ndvi.drop('lb_name', axis = 1, inplace = True)\n",
    "ndvi.rename({'lb_code': 'Area', \n",
    "             'percent_green': 'percentage_greenery'}, axis = 1, inplace = True)"
   ]
  },
  {
   "cell_type": "markdown",
   "id": "3018ce96",
   "metadata": {},
   "source": [
    "### Mediators\n",
    "\n",
    "#### Intrinsic well-being enhancement quality of greenery"
   ]
  },
  {
   "cell_type": "code",
   "execution_count": 4,
   "id": "8a1024ce",
   "metadata": {},
   "outputs": [],
   "source": [
    "anxiety = wellbeing.drop(wellbeing_cols, axis = 1)\n",
    "anxiety.Anxiety = -anxiety.Anxiety\n",
    "wellbeing.drop('Anxiety', axis = 1, inplace = True)"
   ]
  },
  {
   "cell_type": "markdown",
   "id": "a43c771c",
   "metadata": {},
   "source": [
    "#### Promotion of physical activities"
   ]
  },
  {
   "cell_type": "code",
   "execution_count": 5,
   "id": "d6673ec2",
   "metadata": {},
   "outputs": [],
   "source": [
    "# Read in physical exercise\n",
    "# Source: https://data.londonsport.org/dataset/e53dn/physical-activity-levels-by-borough\n",
    "url = 'https://github.com/ngliangwei15/CASA0007-CW3/blob/main/Data/LSD21-APS-Physical-Activity-Levels.xlsx?raw=true'\n",
    "exercise = pd.read_excel(url, sheet_name = '2012', usecols = ['GSS_Code', 'Region', 'Active'])\n",
    "\n",
    "# Keep only data on London boroughs (Area Code starts with E09)\n",
    "exercise = exercise[exercise['GSS_Code'].str.match(r'E09')].sort_values(by = ['GSS_Code'], ascending=True)\n",
    "exercise = exercise.reset_index(drop = True)\n",
    "exercise.drop('GSS_Code', axis = 1, inplace = True)\n",
    "\n",
    "# Convert 'Active' to percentage\n",
    "exercise.Active = exercise.Active*100\n",
    "\n",
    "# Rename columns\n",
    "exercise.rename({'Region': 'Area'}, axis = 1, inplace = True)"
   ]
  },
  {
   "cell_type": "markdown",
   "id": "4836b07d",
   "metadata": {},
   "source": [
    "#### Enhancement of air quality"
   ]
  },
  {
   "cell_type": "code",
   "execution_count": 6,
   "id": "c7ea7097",
   "metadata": {},
   "outputs": [],
   "source": [
    "# Read in air quality \n",
    "# Source: https://data.london.gov.uk/dataset/llaqm-bespoke-borough-by-borough-air-quality-modelling-and-data\n",
    "url = 'https://github.com/ngliangwei15/CASA0007-CW3/blob/main/Data/NO2_AnnualMean_2013_PopulationData.xlsx?raw=true'\n",
    "air_quality = pd.read_excel(url, sheet_name = 'Borough exceeding 40', skiprows = 4, \n",
    "                            usecols=['Borough Name', 'PopExc2013 %'])\n",
    "air_quality['Borough Name'] = air_quality['Borough Name'].str.replace('&', 'and')\n",
    "\n",
    "# Drop City of London\n",
    "air_quality.drop(air_quality[air_quality['Borough Name'] == 'City of London'].index, inplace = True)\n",
    "air_quality = air_quality.reset_index(drop = True)\n",
    "\n",
    "# Log\n",
    "air_quality['air_quality'] = -air_quality['PopExc2013 %'].apply(log)\n",
    "air_quality.drop('PopExc2013 %', axis = 1, inplace = True)\n",
    "\n",
    "# Rename columns\n",
    "air_quality.rename({'Borough Name': 'Area'},\n",
    "                  axis = 1, inplace = True)"
   ]
  },
  {
   "cell_type": "markdown",
   "id": "44ffc753",
   "metadata": {},
   "source": [
    "### Control Variables"
   ]
  },
  {
   "cell_type": "markdown",
   "id": "a3e42609",
   "metadata": {},
   "source": [
    "#### Self-reported health and age"
   ]
  },
  {
   "cell_type": "code",
   "execution_count": 7,
   "id": "f28807ca",
   "metadata": {},
   "outputs": [],
   "source": [
    "# Read self-reported health and age profile \n",
    "# Source: https://data.london.gov.uk/dataset/msoa-atlas\n",
    "url = 'https://raw.githubusercontent.com/ngliangwei15/CASA0007-CW3/main/Data/msoa-data.csv'\n",
    "age_cols = ['Age Structure (2011 Census);0-15;',\n",
    "            'Age Structure (2011 Census);16-29;',\n",
    "            'Age Structure (2011 Census);30-44;',\n",
    "            'Age Structure (2011 Census);45-64;',\n",
    "            'Age Structure (2011 Census);65+;']\n",
    "health_cols = ['Health (2011 Census);Very good health;',\n",
    "              'Health (2011 Census);Good health;',\n",
    "              'Health (2011 Census);Fair health;',\n",
    "              'Health (2011 Census);Bad health;',\n",
    "              'Health (2011 Census);Very bad health;']\n",
    "age_health = pd.read_csv(url,\n",
    "                         usecols = ['Middle Super Output Area', 'MSOA Name',\n",
    "                                    'Age Structure (2011 Census);All Ages;'] + age_cols + health_cols, \n",
    "                         low_memory = False, encoding = 'latin')\n",
    "\n",
    "# Drop row on average for London and City of London\n",
    "age_health.dropna(axis = 0, inplace = True)\n",
    "age_health.drop(age_health[age_health['MSOA Name'] == 'City of London 001'].index, inplace = True)\n",
    "age_health.reset_index(inplace = True)\n",
    "\n",
    "# Change data type\n",
    "age_health[age_cols] = age_health[age_cols].astype('int', copy = False)\n",
    "age_health[health_cols] = age_health[health_cols].astype('int', copy = False)\n",
    "\n",
    "# Drop numbers (last 4 characters) from MSOA name\n",
    "for i in range(0, age_health.shape[0]):\n",
    "               age_health.iloc[i,2] = age_health.iloc[i,2][:-4]\n",
    "\n",
    "# Compute total number of respondents in MSOA\n",
    "respondents = age_health.groupby('MSOA Name').agg({'Age Structure (2011 Census);All Ages;': np.sum}).reset_index()\n",
    "\n",
    "# Compute number and percentage of respondents in each age group\n",
    "age = age_health.groupby('MSOA Name').agg(dict.fromkeys(age_cols, np.sum)).reset_index()\n",
    "age[age_cols] = age[age_cols].div(respondents['Age Structure (2011 Census);All Ages;'], axis = 0) * 100\n",
    "\n",
    "# Compute number and percentage of respondents in each health category\n",
    "health = age_health.groupby('MSOA Name').agg(dict.fromkeys(health_cols, np.sum)).reset_index()\n",
    "health[health_cols] = health[health_cols].div(respondents['Age Structure (2011 Census);All Ages;'], axis = 0) * 100\n",
    "\n",
    "# Rename columns for easy reference\n",
    "age.rename({age_cols[0]: 'Age_0-15',\n",
    "           age_cols[1]: 'Age_15-29',\n",
    "           age_cols[2]: 'Age_30-44',\n",
    "           age_cols[3]: 'Age_45-64',\n",
    "           age_cols[4]: 'Age_65+',\n",
    "           'MSOA Name': 'Area'},\n",
    "          axis = 1, inplace = True)\n",
    "health.rename({health_cols[0]: 'Health_Very_good',\n",
    "               health_cols[1]: 'Health_Good',\n",
    "               health_cols[2]: 'Health_Fair',\n",
    "               health_cols[3]: 'Health_Bad',\n",
    "               health_cols[4]: 'Health_Very_bad',\n",
    "              'MSOA Name': 'Area'},\n",
    "              axis = 1, inplace = True)"
   ]
  },
  {
   "cell_type": "markdown",
   "id": "57248a81",
   "metadata": {},
   "source": [
    "#### Economic Activity"
   ]
  },
  {
   "cell_type": "code",
   "execution_count": 8,
   "id": "76508905",
   "metadata": {},
   "outputs": [],
   "source": [
    "# Read economic inactivity and rename columns for easy reference\n",
    "# Source: https://data.london.gov.uk/dataset/economic-inactivity-gender\n",
    "url = 'https://github.com/ngliangwei15/CASA0007-CW3/blob/main/Data/economic-inactivity.csv?raw=true'\n",
    "econ_cols = ['Code', 'Area', 'percent; Jan 2011-Dec 2011']\n",
    "economic = pd.read_csv(url, usecols = econ_cols, low_memory = False, encoding = 'latin')\n",
    "economic.rename({econ_cols[2]: 'Economic_Inactive'}, axis = 1, inplace = True)\n",
    "\n",
    "# Keep only data on London boroughs (Area Code starts with E09), drop City of London and change data type\n",
    "economic.dropna(axis = 0, inplace = True)\n",
    "economic = economic[economic['Code'].str.match(r'E09')].sort_values(by = ['Code'], ascending=True)\n",
    "economic.drop(economic[economic.Area == 'City of London'].index, inplace = True)\n",
    "economic = economic.reset_index(drop = True)\n",
    "economic.drop('Code', axis = 1, inplace = True)\n",
    "\n",
    "# Change data type\n",
    "economic.Economic_Inactive = economic.Economic_Inactive.astype('float', copy = False)"
   ]
  },
  {
   "cell_type": "code",
   "execution_count": 9,
   "id": "59893804",
   "metadata": {},
   "outputs": [],
   "source": [
    "# Read unemployment rate\n",
    "# Source: https://data.london.gov.uk/dataset/employment-occupation-type-and-gender-borough\n",
    "url = 'https://github.com/ngliangwei15/CASA0007-CW3/blob/main/Data/mb-unemployment-rates.xlsx?raw=true'\n",
    "unemployment_cols = ['Code', 'Area', 'Jan 2011-Dec 2011']\n",
    "unemployment = pd.read_excel(url, usecols = unemployment_cols, sheet_name = 'Rates')\n",
    "\n",
    "# Keep only data on London boroughs (Area Code starts with E09), drop City of London and change data type\n",
    "unemployment.dropna(axis = 0, inplace = True)\n",
    "unemployment = unemployment[unemployment['Code'].str.match(r'E09')].sort_values(by = ['Code'], ascending=True)\n",
    "unemployment.drop(unemployment[unemployment.Area == 'City of London'].index, inplace = True)\n",
    "unemployment = unemployment.reset_index(drop = True)\n",
    "\n",
    "# Change data type\n",
    "unemployment['Jan 2011-Dec 2011'] = unemployment['Jan 2011-Dec 2011'].astype('float', copy = False)"
   ]
  },
  {
   "cell_type": "code",
   "execution_count": 10,
   "id": "49376974",
   "metadata": {},
   "outputs": [],
   "source": [
    "# Compute unemployment rate among economically active\n",
    "economic['Economic_Unemployed'] = ((100 - economic.Economic_Inactive)/100) * (unemployment['Jan 2011-Dec 2011']/100) * 100\n",
    "\n",
    "# Compute employment rate among economically active\n",
    "economic['Economic_Employed'] = 100 - economic.Economic_Inactive - economic.Economic_Unemployed"
   ]
  },
  {
   "cell_type": "markdown",
   "id": "bc9c3408",
   "metadata": {},
   "source": [
    "### Descriptive Statistics"
   ]
  },
  {
   "cell_type": "code",
   "execution_count": 11,
   "id": "8d9cfce6",
   "metadata": {},
   "outputs": [
    {
     "data": {
      "text/html": [
       "<div>\n",
       "<style scoped>\n",
       "    .dataframe tbody tr th:only-of-type {\n",
       "        vertical-align: middle;\n",
       "    }\n",
       "\n",
       "    .dataframe tbody tr th {\n",
       "        vertical-align: top;\n",
       "    }\n",
       "\n",
       "    .dataframe thead th {\n",
       "        text-align: right;\n",
       "    }\n",
       "</style>\n",
       "<table border=\"1\" class=\"dataframe\">\n",
       "  <thead>\n",
       "    <tr style=\"text-align: right;\">\n",
       "      <th></th>\n",
       "      <th>Life Satisfaction</th>\n",
       "      <th>Worthwhile</th>\n",
       "      <th>Happiness</th>\n",
       "      <th>percentage_greenery</th>\n",
       "      <th>Anxiety</th>\n",
       "      <th>Active</th>\n",
       "      <th>air_quality</th>\n",
       "      <th>Health_Very_good</th>\n",
       "      <th>Health_Good</th>\n",
       "      <th>Health_Fair</th>\n",
       "      <th>Health_Bad</th>\n",
       "      <th>Health_Very_bad</th>\n",
       "      <th>Economic_Inactive</th>\n",
       "      <th>Economic_Unemployed</th>\n",
       "      <th>Economic_Employed</th>\n",
       "      <th>Age_0-15</th>\n",
       "      <th>Age_15-29</th>\n",
       "      <th>Age_30-44</th>\n",
       "      <th>Age_45-64</th>\n",
       "      <th>Age_65+</th>\n",
       "    </tr>\n",
       "  </thead>\n",
       "  <tbody>\n",
       "    <tr>\n",
       "      <th>count</th>\n",
       "      <td>32.000000</td>\n",
       "      <td>32.000000</td>\n",
       "      <td>32.000000</td>\n",
       "      <td>32.000000</td>\n",
       "      <td>32.000000</td>\n",
       "      <td>32.000000</td>\n",
       "      <td>32.000000</td>\n",
       "      <td>32.000000</td>\n",
       "      <td>32.000000</td>\n",
       "      <td>32.000000</td>\n",
       "      <td>32.000000</td>\n",
       "      <td>32.000000</td>\n",
       "      <td>32.000000</td>\n",
       "      <td>32.000000</td>\n",
       "      <td>32.000000</td>\n",
       "      <td>32.000000</td>\n",
       "      <td>32.000000</td>\n",
       "      <td>32.000000</td>\n",
       "      <td>32.000000</td>\n",
       "      <td>32.000000</td>\n",
       "    </tr>\n",
       "    <tr>\n",
       "      <th>mean</th>\n",
       "      <td>7.258125</td>\n",
       "      <td>7.515313</td>\n",
       "      <td>7.196875</td>\n",
       "      <td>44.802959</td>\n",
       "      <td>-3.408125</td>\n",
       "      <td>56.646875</td>\n",
       "      <td>-2.089631</td>\n",
       "      <td>50.737407</td>\n",
       "      <td>33.179188</td>\n",
       "      <td>11.131793</td>\n",
       "      <td>3.729020</td>\n",
       "      <td>1.222592</td>\n",
       "      <td>25.618750</td>\n",
       "      <td>6.912775</td>\n",
       "      <td>67.468475</td>\n",
       "      <td>19.725082</td>\n",
       "      <td>22.477956</td>\n",
       "      <td>25.436773</td>\n",
       "      <td>21.230973</td>\n",
       "      <td>11.129217</td>\n",
       "    </tr>\n",
       "    <tr>\n",
       "      <th>std</th>\n",
       "      <td>0.161034</td>\n",
       "      <td>0.168771</td>\n",
       "      <td>0.137617</td>\n",
       "      <td>11.010521</td>\n",
       "      <td>0.299402</td>\n",
       "      <td>4.783101</td>\n",
       "      <td>1.409677</td>\n",
       "      <td>3.291963</td>\n",
       "      <td>2.159292</td>\n",
       "      <td>1.108135</td>\n",
       "      <td>0.546002</td>\n",
       "      <td>0.250549</td>\n",
       "      <td>4.362778</td>\n",
       "      <td>1.510814</td>\n",
       "      <td>4.946267</td>\n",
       "      <td>2.400514</td>\n",
       "      <td>4.075104</td>\n",
       "      <td>2.788041</td>\n",
       "      <td>2.857208</td>\n",
       "      <td>2.859348</td>\n",
       "    </tr>\n",
       "    <tr>\n",
       "      <th>min</th>\n",
       "      <td>7.000000</td>\n",
       "      <td>7.140000</td>\n",
       "      <td>6.910000</td>\n",
       "      <td>25.381534</td>\n",
       "      <td>-3.890000</td>\n",
       "      <td>47.900000</td>\n",
       "      <td>-4.437235</td>\n",
       "      <td>46.001804</td>\n",
       "      <td>28.483634</td>\n",
       "      <td>8.892327</td>\n",
       "      <td>2.469116</td>\n",
       "      <td>0.751912</td>\n",
       "      <td>18.200000</td>\n",
       "      <td>3.720000</td>\n",
       "      <td>55.341000</td>\n",
       "      <td>14.851684</td>\n",
       "      <td>15.407241</td>\n",
       "      <td>19.512123</td>\n",
       "      <td>13.853032</td>\n",
       "      <td>6.127605</td>\n",
       "    </tr>\n",
       "    <tr>\n",
       "      <th>25%</th>\n",
       "      <td>7.117500</td>\n",
       "      <td>7.367500</td>\n",
       "      <td>7.097500</td>\n",
       "      <td>38.511252</td>\n",
       "      <td>-3.545000</td>\n",
       "      <td>53.625000</td>\n",
       "      <td>-3.168913</td>\n",
       "      <td>48.112261</td>\n",
       "      <td>31.102858</td>\n",
       "      <td>10.412260</td>\n",
       "      <td>3.430292</td>\n",
       "      <td>1.088244</td>\n",
       "      <td>22.400000</td>\n",
       "      <td>5.776575</td>\n",
       "      <td>63.411625</td>\n",
       "      <td>18.662404</td>\n",
       "      <td>20.127883</td>\n",
       "      <td>23.289848</td>\n",
       "      <td>19.517624</td>\n",
       "      <td>8.939003</td>\n",
       "    </tr>\n",
       "    <tr>\n",
       "      <th>50%</th>\n",
       "      <td>7.255000</td>\n",
       "      <td>7.545000</td>\n",
       "      <td>7.200000</td>\n",
       "      <td>43.412392</td>\n",
       "      <td>-3.435000</td>\n",
       "      <td>55.600000</td>\n",
       "      <td>-1.840001</td>\n",
       "      <td>49.856985</td>\n",
       "      <td>33.668575</td>\n",
       "      <td>11.277400</td>\n",
       "      <td>3.750597</td>\n",
       "      <td>1.198700</td>\n",
       "      <td>24.650000</td>\n",
       "      <td>6.879200</td>\n",
       "      <td>67.659100</td>\n",
       "      <td>20.134199</td>\n",
       "      <td>21.621243</td>\n",
       "      <td>25.630995</td>\n",
       "      <td>21.242347</td>\n",
       "      <td>10.792873</td>\n",
       "    </tr>\n",
       "    <tr>\n",
       "      <th>75%</th>\n",
       "      <td>7.382500</td>\n",
       "      <td>7.645000</td>\n",
       "      <td>7.272500</td>\n",
       "      <td>53.105374</td>\n",
       "      <td>-3.282500</td>\n",
       "      <td>60.475000</td>\n",
       "      <td>-1.338607</td>\n",
       "      <td>52.740271</td>\n",
       "      <td>34.990509</td>\n",
       "      <td>11.814429</td>\n",
       "      <td>4.117947</td>\n",
       "      <td>1.387229</td>\n",
       "      <td>28.150000</td>\n",
       "      <td>8.270100</td>\n",
       "      <td>71.827350</td>\n",
       "      <td>20.783955</td>\n",
       "      <td>26.297520</td>\n",
       "      <td>27.880288</td>\n",
       "      <td>22.927577</td>\n",
       "      <td>12.749657</td>\n",
       "    </tr>\n",
       "    <tr>\n",
       "      <th>max</th>\n",
       "      <td>7.570000</td>\n",
       "      <td>7.840000</td>\n",
       "      <td>7.490000</td>\n",
       "      <td>68.356138</td>\n",
       "      <td>-2.650000</td>\n",
       "      <td>67.400000</td>\n",
       "      <td>0.805629</td>\n",
       "      <td>57.840894</td>\n",
       "      <td>36.003698</td>\n",
       "      <td>13.274769</td>\n",
       "      <td>4.740327</td>\n",
       "      <td>1.684900</td>\n",
       "      <td>35.500000</td>\n",
       "      <td>9.282000</td>\n",
       "      <td>76.015500</td>\n",
       "      <td>25.979098</td>\n",
       "      <td>32.640419</td>\n",
       "      <td>30.555221</td>\n",
       "      <td>26.309267</td>\n",
       "      <td>17.820952</td>\n",
       "    </tr>\n",
       "  </tbody>\n",
       "</table>\n",
       "</div>"
      ],
      "text/plain": [
       "       Life Satisfaction  Worthwhile  Happiness  percentage_greenery  \\\n",
       "count          32.000000   32.000000  32.000000            32.000000   \n",
       "mean            7.258125    7.515313   7.196875            44.802959   \n",
       "std             0.161034    0.168771   0.137617            11.010521   \n",
       "min             7.000000    7.140000   6.910000            25.381534   \n",
       "25%             7.117500    7.367500   7.097500            38.511252   \n",
       "50%             7.255000    7.545000   7.200000            43.412392   \n",
       "75%             7.382500    7.645000   7.272500            53.105374   \n",
       "max             7.570000    7.840000   7.490000            68.356138   \n",
       "\n",
       "         Anxiety     Active  air_quality  Health_Very_good  Health_Good  \\\n",
       "count  32.000000  32.000000    32.000000         32.000000    32.000000   \n",
       "mean   -3.408125  56.646875    -2.089631         50.737407    33.179188   \n",
       "std     0.299402   4.783101     1.409677          3.291963     2.159292   \n",
       "min    -3.890000  47.900000    -4.437235         46.001804    28.483634   \n",
       "25%    -3.545000  53.625000    -3.168913         48.112261    31.102858   \n",
       "50%    -3.435000  55.600000    -1.840001         49.856985    33.668575   \n",
       "75%    -3.282500  60.475000    -1.338607         52.740271    34.990509   \n",
       "max    -2.650000  67.400000     0.805629         57.840894    36.003698   \n",
       "\n",
       "       Health_Fair  Health_Bad  Health_Very_bad  Economic_Inactive  \\\n",
       "count    32.000000   32.000000        32.000000          32.000000   \n",
       "mean     11.131793    3.729020         1.222592          25.618750   \n",
       "std       1.108135    0.546002         0.250549           4.362778   \n",
       "min       8.892327    2.469116         0.751912          18.200000   \n",
       "25%      10.412260    3.430292         1.088244          22.400000   \n",
       "50%      11.277400    3.750597         1.198700          24.650000   \n",
       "75%      11.814429    4.117947         1.387229          28.150000   \n",
       "max      13.274769    4.740327         1.684900          35.500000   \n",
       "\n",
       "       Economic_Unemployed  Economic_Employed   Age_0-15  Age_15-29  \\\n",
       "count            32.000000          32.000000  32.000000  32.000000   \n",
       "mean              6.912775          67.468475  19.725082  22.477956   \n",
       "std               1.510814           4.946267   2.400514   4.075104   \n",
       "min               3.720000          55.341000  14.851684  15.407241   \n",
       "25%               5.776575          63.411625  18.662404  20.127883   \n",
       "50%               6.879200          67.659100  20.134199  21.621243   \n",
       "75%               8.270100          71.827350  20.783955  26.297520   \n",
       "max               9.282000          76.015500  25.979098  32.640419   \n",
       "\n",
       "       Age_30-44  Age_45-64    Age_65+  \n",
       "count  32.000000  32.000000  32.000000  \n",
       "mean   25.436773  21.230973  11.129217  \n",
       "std     2.788041   2.857208   2.859348  \n",
       "min    19.512123  13.853032   6.127605  \n",
       "25%    23.289848  19.517624   8.939003  \n",
       "50%    25.630995  21.242347  10.792873  \n",
       "75%    27.880288  22.927577  12.749657  \n",
       "max    30.555221  26.309267  17.820952  "
      ]
     },
     "execution_count": 11,
     "metadata": {},
     "output_type": "execute_result"
    }
   ],
   "source": [
    "# Create dictionary of variable names\n",
    "dataset = {'dependent': ['wellbeing'], \n",
    "           'independent': ['ndvi'], \n",
    "           'mediators': ['anxiety', 'exercise', 'air_quality'], \n",
    "           'control': ['health', 'economic', 'age']}\n",
    "\n",
    "# Initialize dataframe\n",
    "data_descriptive = pd.DataFrame(globals()[dataset[[*dataset][0]][0]].Area)\n",
    "\n",
    "# Merge data\n",
    "for value in dataset.values():\n",
    "    for var in value:\n",
    "        data_descriptive = data_descriptive.merge(globals()[var], on = 'Area')\n",
    "        \n",
    "# Descriptive statistics\n",
    "data_descriptive.describe()"
   ]
  },
  {
   "cell_type": "markdown",
   "id": "d61f5e37",
   "metadata": {},
   "source": [
    "## Step 1: Establish the effect of the independent variable on the dependent variables "
   ]
  },
  {
   "cell_type": "markdown",
   "id": "fa1be9a5",
   "metadata": {},
   "source": [
    "### Step 1a: Linear regressions of dependent variables on the independent variable"
   ]
  },
  {
   "cell_type": "code",
   "execution_count": 12,
   "id": "2cc81840",
   "metadata": {},
   "outputs": [
    {
     "name": "stdout",
     "output_type": "stream",
     "text": [
      "PERFORMING REGRESSION ON:LIFE SATISFACTION\n",
      "                            OLS Regression Results                            \n",
      "==============================================================================\n",
      "Dep. Variable:      Life Satisfaction   R-squared:                       0.131\n",
      "Model:                            OLS   Adj. R-squared:                  0.102\n",
      "Method:                 Least Squares   F-statistic:                     4.531\n",
      "Date:                Mon, 17 Jan 2022   Prob (F-statistic):             0.0416\n",
      "Time:                        17:51:27   Log-Likelihood:                 15.789\n",
      "No. Observations:                  32   AIC:                            -27.58\n",
      "Df Residuals:                      30   BIC:                            -24.65\n",
      "Df Model:                           1                                         \n",
      "Covariance Type:            nonrobust                                         \n",
      "=======================================================================================\n",
      "                          coef    std err          t      P>|t|      [0.025      0.975]\n",
      "---------------------------------------------------------------------------------------\n",
      "const                   7.0208      0.115     61.196      0.000       6.786       7.255\n",
      "percentage_greenery     0.0053      0.002      2.129      0.042       0.000       0.010\n",
      "==============================================================================\n",
      "Omnibus:                        1.292   Durbin-Watson:                   1.976\n",
      "Prob(Omnibus):                  0.524   Jarque-Bera (JB):                1.010\n",
      "Skew:                           0.425   Prob(JB):                        0.604\n",
      "Kurtosis:                       2.813   Cond. No.                         196.\n",
      "==============================================================================\n",
      "\n",
      "Notes:\n",
      "[1] Standard Errors assume that the covariance matrix of the errors is correctly specified.\n"
     ]
    },
    {
     "data": {
      "image/png": "[encoded data removed]",
      "text/plain": [
       "<Figure size 432x288 with 1 Axes>"
      ]
     },
     "metadata": {
      "needs_background": "light"
     },
     "output_type": "display_data"
    },
    {
     "name": "stdout",
     "output_type": "stream",
     "text": [
      "\n",
      "\n",
      "PERFORMING REGRESSION ON:WORTHWHILE\n",
      "                            OLS Regression Results                            \n",
      "==============================================================================\n",
      "Dep. Variable:             Worthwhile   R-squared:                       0.306\n",
      "Model:                            OLS   Adj. R-squared:                  0.283\n",
      "Method:                 Least Squares   F-statistic:                     13.24\n",
      "Date:                Mon, 17 Jan 2022   Prob (F-statistic):            0.00102\n",
      "Time:                        17:51:27   Log-Likelihood:                 17.885\n",
      "No. Observations:                  32   AIC:                            -31.77\n",
      "Df Residuals:                      30   BIC:                            -28.84\n",
      "Df Model:                           1                                         \n",
      "Covariance Type:            nonrobust                                         \n",
      "=======================================================================================\n",
      "                          coef    std err          t      P>|t|      [0.025      0.975]\n",
      "---------------------------------------------------------------------------------------\n",
      "const                   7.1353      0.107     66.405      0.000       6.916       7.355\n",
      "percentage_greenery     0.0085      0.002      3.638      0.001       0.004       0.013\n",
      "==============================================================================\n",
      "Omnibus:                        0.294   Durbin-Watson:                   2.096\n",
      "Prob(Omnibus):                  0.863   Jarque-Bera (JB):                0.478\n",
      "Skew:                          -0.105   Prob(JB):                        0.787\n",
      "Kurtosis:                       2.439   Cond. No.                         196.\n",
      "==============================================================================\n",
      "\n",
      "Notes:\n",
      "[1] Standard Errors assume that the covariance matrix of the errors is correctly specified.\n"
     ]
    },
    {
     "data": {
      "image/png": "[encoded data removed]",
      "text/plain": [
       "<Figure size 432x288 with 1 Axes>"
      ]
     },
     "metadata": {
      "needs_background": "light"
     },
     "output_type": "display_data"
    },
    {
     "name": "stdout",
     "output_type": "stream",
     "text": [
      "\n",
      "\n",
      "PERFORMING REGRESSION ON:HAPPINESS\n",
      "                            OLS Regression Results                            \n",
      "==============================================================================\n",
      "Dep. Variable:              Happiness   R-squared:                       0.113\n",
      "Model:                            OLS   Adj. R-squared:                  0.083\n",
      "Method:                 Least Squares   F-statistic:                     3.822\n",
      "Date:                Mon, 17 Jan 2022   Prob (F-statistic):             0.0599\n",
      "Time:                        17:51:27   Log-Likelihood:                 20.486\n",
      "No. Observations:                  32   AIC:                            -36.97\n",
      "Df Residuals:                      30   BIC:                            -34.04\n",
      "Df Model:                           1                                         \n",
      "Covariance Type:            nonrobust                                         \n",
      "=======================================================================================\n",
      "                          coef    std err          t      P>|t|      [0.025      0.975]\n",
      "---------------------------------------------------------------------------------------\n",
      "const                   7.0086      0.099     70.749      0.000       6.806       7.211\n",
      "percentage_greenery     0.0042      0.002      1.955      0.060      -0.000       0.009\n",
      "==============================================================================\n",
      "Omnibus:                        2.363   Durbin-Watson:                   1.699\n",
      "Prob(Omnibus):                  0.307   Jarque-Bera (JB):                1.283\n",
      "Skew:                           0.448   Prob(JB):                        0.526\n",
      "Kurtosis:                       3.399   Cond. No.                         196.\n",
      "==============================================================================\n",
      "\n",
      "Notes:\n",
      "[1] Standard Errors assume that the covariance matrix of the errors is correctly specified.\n"
     ]
    },
    {
     "data": {
      "image/png": "[encoded data removed]",
      "text/plain": [
       "<Figure size 432x288 with 1 Axes>"
      ]
     },
     "metadata": {
      "needs_background": "light"
     },
     "output_type": "display_data"
    },
    {
     "name": "stdout",
     "output_type": "stream",
     "text": [
      "\n",
      "\n"
     ]
    }
   ],
   "source": [
    "# Merge data\n",
    "data = pd.merge(wellbeing, ndvi, on = 'Area')\n",
    "ind_var = ndvi.columns.tolist()[1:]\n",
    "\n",
    "# Perform regression\n",
    "for cat in wellbeing_cols:\n",
    "    print(f'PERFORMING REGRESSION ON:{cat.upper()}')\n",
    "\n",
    "    # Perform regression\n",
    "    reg_model = sm.OLS(endog=data[cat], exog=sm.add_constant(data[ind_var])).fit()\n",
    "    print(reg_model.summary())\n",
    "\n",
    "    # plot residual vs. fit\n",
    "    plt.scatter(reg_model.fittedvalues, reg_model.resid)\n",
    "    plt.xlabel('Fitted Value')\n",
    "    plt.ylabel('Residual')\n",
    "    plt.title('Residual vs. Fitted Plot for ' + cat.title())\n",
    "    plt.show()\n",
    "    print('\\n')"
   ]
  },
  {
   "cell_type": "markdown",
   "id": "1533a79d",
   "metadata": {},
   "source": [
    "Urban greenery had positive effect on all three aspects of well-being, but were significant for LS and WW only."
   ]
  },
  {
   "cell_type": "markdown",
   "id": "0719d9c1",
   "metadata": {},
   "source": [
    "### Step 1(b): Control variables were added to the regressions as additional independent variables."
   ]
  },
  {
   "cell_type": "code",
   "execution_count": 13,
   "id": "bb168895",
   "metadata": {},
   "outputs": [],
   "source": [
    "# Merge data\n",
    "data = pd.merge(wellbeing, ndvi, on = 'Area')\n",
    "data = data.merge(health, on = 'Area')\n",
    "data = data.merge(economic, on = 'Area')\n",
    "data = data.merge(age, on = 'Area')"
   ]
  },
  {
   "cell_type": "code",
   "execution_count": 14,
   "id": "dbbeaf4d",
   "metadata": {},
   "outputs": [
    {
     "data": {
      "image/png": "[encoded data removed]",
      "text/plain": [
       "<Figure size 1152x576 with 2 Axes>"
      ]
     },
     "metadata": {
      "needs_background": "light"
     },
     "output_type": "display_data"
    }
   ],
   "source": [
    "# Visualize collinearity\n",
    "df = data.drop(['Area'] + wellbeing.columns.tolist(), axis = 1)\n",
    "plt.figure(figsize=(16, 8))\n",
    "cm = sns.diverging_palette(20, 220, as_cmap=True)\n",
    "heatmap = sns.heatmap(df.corr(), vmin=-1, vmax=1, cmap = cm, annot=True)\n",
    "heatmap.set_title('Correlation Heatmap', fontdict={'fontsize':12}, pad=12);"
   ]
  },
  {
   "cell_type": "markdown",
   "id": "f4a55e24",
   "metadata": {},
   "source": [
    "#### (i) Using VIF to handle multi-collinearity"
   ]
  },
  {
   "cell_type": "code",
   "execution_count": 15,
   "id": "5c454941",
   "metadata": {},
   "outputs": [],
   "source": [
    "# Define function to drop variables using VIF\n",
    "# This function is adjusted from: https://stackoverflow.com/a/51329496/4667568\n",
    "\n",
    "def drop_column_using_vif_(df, thresh=5):\n",
    "    '''\n",
    "    Calculates VIF each feature in a pandas dataframe, and repeatedly drop the columns with the highest VIF\n",
    "    A constant must be added to variance_inflation_factor or the results will be incorrect\n",
    "\n",
    "    :param df: the pandas dataframe containing only the predictor features, not the response variable\n",
    "    :param thresh: (default 5) the threshould VIF value. If the VIF of a variable is greater than thresh, it should be removed from the dataframe\n",
    "    :return: dataframe with multicollinear features removed\n",
    "    '''\n",
    "    while True:\n",
    "        # adding a constant item to the data\n",
    "        df_with_const = add_constant(df)\n",
    "\n",
    "        vif_df = pd.Series([variance_inflation_factor(df_with_const.values, i) \n",
    "               for i in range(df_with_const.shape[1])], name= \"VIF\",\n",
    "              index=df_with_const.columns).to_frame()\n",
    "\n",
    "        # drop the const\n",
    "        vif_df = vif_df.drop('const')\n",
    "        \n",
    "        # if the largest VIF is above the thresh, remove a variable with the largest VIF\n",
    "        # If there are multiple variabels with VIF>thresh, only one of them is removed. This is because we want to keep as many variables as possible\n",
    "        if vif_df.VIF.max() > thresh:\n",
    "            # If there are multiple variables with the maximum VIF, choose the first one\n",
    "            index_to_drop = vif_df.index[vif_df.VIF == vif_df.VIF.max()].tolist()[0]\n",
    "            print('Dropping: {}'.format(index_to_drop))\n",
    "            df = df.drop(columns = index_to_drop)\n",
    "        else:\n",
    "            # No VIF is above threshold. Exit the loop\n",
    "            break\n",
    "\n",
    "    return df"
   ]
  },
  {
   "cell_type": "code",
   "execution_count": 16,
   "id": "eabfb185",
   "metadata": {},
   "outputs": [
    {
     "name": "stdout",
     "output_type": "stream",
     "text": [
      "Dropping: Health_Very_good\n",
      "Dropping: Economic_Inactive\n",
      "Dropping: Age_0-15\n",
      "Dropping: Health_Bad\n",
      "Dropping: Age_65+\n",
      "Dropping: Health_Fair\n",
      "Dropping: Age_45-64\n"
     ]
    },
    {
     "name": "stderr",
     "output_type": "stream",
     "text": [
      "/opt/conda/envs/sds2021/lib/python3.9/site-packages/statsmodels/regression/linear_model.py:1738: RuntimeWarning: divide by zero encountered in double_scalars\n",
      "  return 1 - self.ssr/self.centered_tss\n",
      "/opt/conda/envs/sds2021/lib/python3.9/site-packages/statsmodels/stats/outliers_influence.py:195: RuntimeWarning: divide by zero encountered in double_scalars\n",
      "  vif = 1. / (1. - r_squared_i)\n"
     ]
    }
   ],
   "source": [
    "# Drop collinear variables\n",
    "ind_var_data = drop_column_using_vif_(df)\n",
    "\n",
    "# Variable names of remaining variables\n",
    "ind_var = ind_var_data.columns.tolist()"
   ]
  },
  {
   "cell_type": "code",
   "execution_count": 17,
   "id": "15dcc73b",
   "metadata": {},
   "outputs": [
    {
     "name": "stdout",
     "output_type": "stream",
     "text": [
      "PERFORMING REGRESSION ON:LIFE SATISFACTION\n",
      "                            OLS Regression Results                            \n",
      "==============================================================================\n",
      "Dep. Variable:      Life Satisfaction   R-squared:                       0.716\n",
      "Model:                            OLS   Adj. R-squared:                  0.633\n",
      "Method:                 Least Squares   F-statistic:                     8.649\n",
      "Date:                Mon, 17 Jan 2022   Prob (F-statistic):           2.70e-05\n",
      "Time:                        17:51:28   Log-Likelihood:                 33.686\n",
      "No. Observations:                  32   AIC:                            -51.37\n",
      "Df Residuals:                      24   BIC:                            -39.65\n",
      "Df Model:                           7                                         \n",
      "Covariance Type:            nonrobust                                         \n",
      "=======================================================================================\n",
      "                          coef    std err          t      P>|t|      [0.025      0.975]\n",
      "---------------------------------------------------------------------------------------\n",
      "const                  10.1066      0.836     12.083      0.000       8.380      11.833\n",
      "percentage_greenery    -0.0017      0.003     -0.514      0.612      -0.008       0.005\n",
      "Health_Good            -0.0385      0.017     -2.300      0.030      -0.073      -0.004\n",
      "Health_Very_bad        -0.2573      0.127     -2.026      0.054      -0.519       0.005\n",
      "Economic_Unemployed    -0.0441      0.020     -2.237      0.035      -0.085      -0.003\n",
      "Economic_Employed      -0.0019      0.005     -0.347      0.732      -0.013       0.009\n",
      "Age_15-29              -0.0022      0.009     -0.257      0.799      -0.020       0.015\n",
      "Age_30-44              -0.0275      0.014     -1.984      0.059      -0.056       0.001\n",
      "==============================================================================\n",
      "Omnibus:                        1.835   Durbin-Watson:                   1.969\n",
      "Prob(Omnibus):                  0.399   Jarque-Bera (JB):                1.693\n",
      "Skew:                          -0.504   Prob(JB):                        0.429\n",
      "Kurtosis:                       2.497   Cond. No.                     4.59e+03\n",
      "==============================================================================\n",
      "\n",
      "Notes:\n",
      "[1] Standard Errors assume that the covariance matrix of the errors is correctly specified.\n",
      "[2] The condition number is large, 4.59e+03. This might indicate that there are\n",
      "strong multicollinearity or other numerical problems.\n"
     ]
    },
    {
     "data": {
      "image/png": "[encoded data removed]",
      "text/plain": [
       "<Figure size 432x288 with 1 Axes>"
      ]
     },
     "metadata": {
      "needs_background": "light"
     },
     "output_type": "display_data"
    },
    {
     "name": "stdout",
     "output_type": "stream",
     "text": [
      "\n",
      "\n",
      "PERFORMING REGRESSION ON:WORTHWHILE\n",
      "                            OLS Regression Results                            \n",
      "==============================================================================\n",
      "Dep. Variable:             Worthwhile   R-squared:                       0.710\n",
      "Model:                            OLS   Adj. R-squared:                  0.626\n",
      "Method:                 Least Squares   F-statistic:                     8.411\n",
      "Date:                Mon, 17 Jan 2022   Prob (F-statistic):           3.37e-05\n",
      "Time:                        17:51:28   Log-Likelihood:                 31.866\n",
      "No. Observations:                  32   AIC:                            -47.73\n",
      "Df Residuals:                      24   BIC:                            -36.01\n",
      "Df Model:                           7                                         \n",
      "Covariance Type:            nonrobust                                         \n",
      "=======================================================================================\n",
      "                          coef    std err          t      P>|t|      [0.025      0.975]\n",
      "---------------------------------------------------------------------------------------\n",
      "const                  10.4851      0.885     11.843      0.000       8.658      12.312\n",
      "percentage_greenery    -0.0004      0.003     -0.118      0.907      -0.007       0.007\n",
      "Health_Good            -0.0496      0.018     -2.798      0.010      -0.086      -0.013\n",
      "Health_Very_bad        -0.2920      0.134     -2.172      0.040      -0.569      -0.015\n",
      "Economic_Unemployed     0.0089      0.021      0.428      0.673      -0.034       0.052\n",
      "Economic_Employed       0.0006      0.006      0.107      0.916      -0.011       0.012\n",
      "Age_15-29              -0.0190      0.009     -2.103      0.046      -0.038      -0.000\n",
      "Age_30-44              -0.0246      0.015     -1.671      0.108      -0.055       0.006\n",
      "==============================================================================\n",
      "Omnibus:                        2.159   Durbin-Watson:                   2.258\n",
      "Prob(Omnibus):                  0.340   Jarque-Bera (JB):                1.578\n",
      "Skew:                          -0.543   Prob(JB):                        0.454\n",
      "Kurtosis:                       2.949   Cond. No.                     4.59e+03\n",
      "==============================================================================\n",
      "\n",
      "Notes:\n",
      "[1] Standard Errors assume that the covariance matrix of the errors is correctly specified.\n",
      "[2] The condition number is large, 4.59e+03. This might indicate that there are\n",
      "strong multicollinearity or other numerical problems.\n"
     ]
    },
    {
     "data": {
      "image/png": "[encoded data removed]",
      "text/plain": [
       "<Figure size 432x288 with 1 Axes>"
      ]
     },
     "metadata": {
      "needs_background": "light"
     },
     "output_type": "display_data"
    },
    {
     "name": "stdout",
     "output_type": "stream",
     "text": [
      "\n",
      "\n",
      "PERFORMING REGRESSION ON:HAPPINESS\n",
      "                            OLS Regression Results                            \n",
      "==============================================================================\n",
      "Dep. Variable:              Happiness   R-squared:                       0.411\n",
      "Model:                            OLS   Adj. R-squared:                  0.240\n",
      "Method:                 Least Squares   F-statistic:                     2.395\n",
      "Date:                Mon, 17 Jan 2022   Prob (F-statistic):             0.0522\n",
      "Time:                        17:51:28   Log-Likelihood:                 27.043\n",
      "No. Observations:                  32   AIC:                            -38.09\n",
      "Df Residuals:                      24   BIC:                            -26.36\n",
      "Df Model:                           7                                         \n",
      "Covariance Type:            nonrobust                                         \n",
      "=======================================================================================\n",
      "                          coef    std err          t      P>|t|      [0.025      0.975]\n",
      "---------------------------------------------------------------------------------------\n",
      "const                   8.1521      1.029      7.920      0.000       6.028      10.277\n",
      "percentage_greenery     0.0041      0.004      1.025      0.316      -0.004       0.012\n",
      "Health_Good            -0.0113      0.021     -0.548      0.589      -0.054       0.031\n",
      "Health_Very_bad        -0.0781      0.156     -0.500      0.622      -0.401       0.244\n",
      "Economic_Unemployed    -0.0485      0.024     -2.001      0.057      -0.099       0.002\n",
      "Economic_Employed      -0.0045      0.007     -0.683      0.501      -0.018       0.009\n",
      "Age_15-29               0.0088      0.011      0.837      0.411      -0.013       0.030\n",
      "Age_30-44              -0.0088      0.017     -0.515      0.611      -0.044       0.026\n",
      "==============================================================================\n",
      "Omnibus:                        0.258   Durbin-Watson:                   2.571\n",
      "Prob(Omnibus):                  0.879   Jarque-Bera (JB):                0.173\n",
      "Skew:                           0.161   Prob(JB):                        0.917\n",
      "Kurtosis:                       2.841   Cond. No.                     4.59e+03\n",
      "==============================================================================\n",
      "\n",
      "Notes:\n",
      "[1] Standard Errors assume that the covariance matrix of the errors is correctly specified.\n",
      "[2] The condition number is large, 4.59e+03. This might indicate that there are\n",
      "strong multicollinearity or other numerical problems.\n"
     ]
    },
    {
     "data": {
      "image/png": "[encoded data removed]",
      "text/plain": [
       "<Figure size 432x288 with 1 Axes>"
      ]
     },
     "metadata": {
      "needs_background": "light"
     },
     "output_type": "display_data"
    },
    {
     "name": "stdout",
     "output_type": "stream",
     "text": [
      "\n",
      "\n"
     ]
    }
   ],
   "source": [
    "# Perform regression\n",
    "for cat in wellbeing_cols:\n",
    "    print(f'PERFORMING REGRESSION ON:{cat.upper()}')\n",
    "\n",
    "    # Perform regression\n",
    "    reg_model = sm.OLS(endog=data[cat], exog=sm.add_constant(data[ind_var])).fit()\n",
    "    print(reg_model.summary())\n",
    "\n",
    "    # plot residual vs. fit\n",
    "    plt.scatter(reg_model.fittedvalues, reg_model.resid)\n",
    "    plt.xlabel('Fitted Value')\n",
    "    plt.ylabel('Residual')\n",
    "    plt.title('Residual vs. Fitted Plot for ' + cat.title())\n",
    "    plt.show()\n",
    "    print('\\n')"
   ]
  },
  {
   "cell_type": "markdown",
   "id": "591b26da",
   "metadata": {},
   "source": [
    "Urban greenery no longer had a significant effect on well-being, when other variables are controlled for."
   ]
  },
  {
   "cell_type": "markdown",
   "id": "65357e94",
   "metadata": {},
   "source": [
    "#### (i) Using PCA to handle collinearity"
   ]
  },
  {
   "cell_type": "code",
   "execution_count": 18,
   "id": "7c7ca4bd",
   "metadata": {},
   "outputs": [],
   "source": [
    "# Merge data of independent and control variables\n",
    "data_pca = pd.merge(ndvi, health, on = 'Area')\n",
    "data_pca = data_pca.merge(economic, on = 'Area')\n",
    "data_pca = data_pca.merge(age, on = 'Area')\n",
    "\n",
    "# Standardize data\n",
    "cols = data_pca.columns.tolist()[1:]\n",
    "scalers = [StandardScaler().fit(data_pca[x].values.reshape(-1,1)) for x in cols]\n",
    "data_tr = data_pca.copy()\n",
    "for i in range(0, len(cols)):\n",
    "    data_tr.loc[:,cols[i]] = scalers[i].transform(data_tr[cols[i]].values.reshape(-1,1))"
   ]
  },
  {
   "cell_type": "code",
   "execution_count": 19,
   "id": "ea93ca23",
   "metadata": {},
   "outputs": [
    {
     "data": {
      "image/png": "[encoded data removed]",
      "text/plain": [
       "<Figure size 432x288 with 1 Axes>"
      ]
     },
     "metadata": {
      "needs_background": "light"
     },
     "output_type": "display_data"
    },
    {
     "name": "stdout",
     "output_type": "stream",
     "text": [
      "Component  0 accounts for 46.93% of variance\n",
      "Component  1 accounts for 31.62% of variance\n",
      "Component  2 accounts for 8.94% of variance\n",
      "Component  3 accounts for 5.82% of variance\n",
      "Component  4 accounts for 2.58% of variance\n",
      "Component  5 accounts for 1.64% of variance\n",
      "Component  6 accounts for 1.13% of variance\n",
      "Component  7 accounts for 0.91% of variance\n",
      "Component  8 accounts for 0.22% of variance\n",
      "Component  9 accounts for 0.16% of variance\n"
     ]
    }
   ],
   "source": [
    "# Perform PCA\n",
    "pca = PCA(n_components=10, whiten=True) \n",
    "pca.fit(data_tr[cols])\n",
    "\n",
    "# Check the variance\n",
    "explained_variance = pca.explained_variance_ratio_\n",
    "singular_values = pca.singular_values_\n",
    "\n",
    "# Plot variance\n",
    "x = np.arange(1,len(explained_variance)+1)\n",
    "plt.plot(x, explained_variance)\n",
    "plt.ylabel('Share of Variance Explained')\n",
    "plt.show()\n",
    "\n",
    "for i in range(0, 10):\n",
    "    print(f\"Component {i:>2} accounts for {explained_variance[i]*100:>2.2f}% of variance\")"
   ]
  },
  {
   "cell_type": "code",
   "execution_count": 20,
   "id": "d2a21c3f",
   "metadata": {},
   "outputs": [],
   "source": [
    "# The first four components explain 93.31% of the variance. Hence, we will proceed with 4 components \n",
    "\n",
    "keep_n_components = 4\n",
    "pca = PCA(n_components=keep_n_components, whiten=True)\n",
    "\n",
    "data_tr_pca = pca.fit_transform(data_tr[cols])"
   ]
  },
  {
   "cell_type": "code",
   "execution_count": 21,
   "id": "e8c39268",
   "metadata": {},
   "outputs": [],
   "source": [
    "# Merge back with dataframe\n",
    "\n",
    "for x in [data_tr_pca]:\n",
    "    new_columns = []\n",
    "    \n",
    "    for i in range(0,keep_n_components):\n",
    "        new_columns.append([])\n",
    "\n",
    "    for i in x:\n",
    "        for j in range(0,keep_n_components):\n",
    "            new_columns[j].append(i[j])\n",
    "\n",
    "    for i in range(0,keep_n_components):\n",
    "        data_pca[f\"Component_{i+1}\"] = new_columns[i]"
   ]
  },
  {
   "cell_type": "code",
   "execution_count": 22,
   "id": "73c307c0",
   "metadata": {},
   "outputs": [
    {
     "data": {
      "text/html": [
       "<style type=\"text/css\">\n",
       "#T_c09c9_row0_col1 {\n",
       "  background-color: #c3573b;\n",
       "  color: #f1f1f1;\n",
       "}\n",
       "#T_c09c9_row0_col2, #T_c09c9_row1_col3 {\n",
       "  background-color: #f2f0ef;\n",
       "  color: #000000;\n",
       "}\n",
       "#T_c09c9_row0_col3 {\n",
       "  background-color: #e7ecee;\n",
       "  color: #000000;\n",
       "}\n",
       "#T_c09c9_row0_col4 {\n",
       "  background-color: #ecf0f1;\n",
       "  color: #000000;\n",
       "}\n",
       "#T_c09c9_row1_col1 {\n",
       "  background-color: #9fbec7;\n",
       "  color: #000000;\n",
       "}\n",
       "#T_c09c9_row1_col2, #T_c09c9_row4_col4, #T_c09c9_row8_col3, #T_c09c9_row10_col1 {\n",
       "  background-color: #3f7f93;\n",
       "  color: #f1f1f1;\n",
       "}\n",
       "#T_c09c9_row1_col4 {\n",
       "  background-color: #eddedb;\n",
       "  color: #000000;\n",
       "}\n",
       "#T_c09c9_row2_col1 {\n",
       "  background-color: #d18572;\n",
       "  color: #f1f1f1;\n",
       "}\n",
       "#T_c09c9_row2_col2 {\n",
       "  background-color: #cd7862;\n",
       "  color: #f1f1f1;\n",
       "}\n",
       "#T_c09c9_row2_col3 {\n",
       "  background-color: #9ebdc6;\n",
       "  color: #000000;\n",
       "}\n",
       "#T_c09c9_row2_col4 {\n",
       "  background-color: #e9d4ce;\n",
       "  color: #000000;\n",
       "}\n",
       "#T_c09c9_row3_col1 {\n",
       "  background-color: #dba496;\n",
       "  color: #000000;\n",
       "}\n",
       "#T_c09c9_row3_col2, #T_c09c9_row6_col3, #T_c09c9_row9_col4, #T_c09c9_row12_col1 {\n",
       "  background-color: #c3553a;\n",
       "  color: #f1f1f1;\n",
       "}\n",
       "#T_c09c9_row3_col3 {\n",
       "  background-color: #d6e1e5;\n",
       "  color: #000000;\n",
       "}\n",
       "#T_c09c9_row3_col4 {\n",
       "  background-color: #8eb2be;\n",
       "  color: #000000;\n",
       "}\n",
       "#T_c09c9_row4_col1 {\n",
       "  background-color: #88afbb;\n",
       "  color: #f1f1f1;\n",
       "}\n",
       "#T_c09c9_row4_col2 {\n",
       "  background-color: #cb7059;\n",
       "  color: #f1f1f1;\n",
       "}\n",
       "#T_c09c9_row4_col3 {\n",
       "  background-color: #f0e9e8;\n",
       "  color: #000000;\n",
       "}\n",
       "#T_c09c9_row5_col1 {\n",
       "  background-color: #5d93a4;\n",
       "  color: #f1f1f1;\n",
       "}\n",
       "#T_c09c9_row5_col2 {\n",
       "  background-color: #d69584;\n",
       "  color: #f1f1f1;\n",
       "}\n",
       "#T_c09c9_row5_col3 {\n",
       "  background-color: #efe5e2;\n",
       "  color: #000000;\n",
       "}\n",
       "#T_c09c9_row5_col4 {\n",
       "  background-color: #528c9e;\n",
       "  color: #f1f1f1;\n",
       "}\n",
       "#T_c09c9_row6_col1, #T_c09c9_row8_col4 {\n",
       "  background-color: #76a3b1;\n",
       "  color: #f1f1f1;\n",
       "}\n",
       "#T_c09c9_row6_col2 {\n",
       "  background-color: #e4c2ba;\n",
       "  color: #000000;\n",
       "}\n",
       "#T_c09c9_row6_col4 {\n",
       "  background-color: #d99f90;\n",
       "  color: #000000;\n",
       "}\n",
       "#T_c09c9_row7_col1 {\n",
       "  background-color: #a5c1ca;\n",
       "  color: #000000;\n",
       "}\n",
       "#T_c09c9_row7_col2 {\n",
       "  background-color: #c66047;\n",
       "  color: #f1f1f1;\n",
       "}\n",
       "#T_c09c9_row7_col3 {\n",
       "  background-color: #78a4b2;\n",
       "  color: #f1f1f1;\n",
       "}\n",
       "#T_c09c9_row7_col4 {\n",
       "  background-color: #ebdad5;\n",
       "  color: #000000;\n",
       "}\n",
       "#T_c09c9_row8_col1 {\n",
       "  background-color: #cf7f6a;\n",
       "  color: #f1f1f1;\n",
       "}\n",
       "#T_c09c9_row8_col2 {\n",
       "  background-color: #92b5c0;\n",
       "  color: #000000;\n",
       "}\n",
       "#T_c09c9_row9_col1 {\n",
       "  background-color: #e2bab0;\n",
       "  color: #000000;\n",
       "}\n",
       "#T_c09c9_row9_col2 {\n",
       "  background-color: #c96b53;\n",
       "  color: #f1f1f1;\n",
       "}\n",
       "#T_c09c9_row9_col3 {\n",
       "  background-color: #a2bfc9;\n",
       "  color: #000000;\n",
       "}\n",
       "#T_c09c9_row10_col2 {\n",
       "  background-color: #eee3e1;\n",
       "  color: #000000;\n",
       "}\n",
       "#T_c09c9_row10_col3 {\n",
       "  background-color: #95b7c1;\n",
       "  color: #000000;\n",
       "}\n",
       "#T_c09c9_row10_col4 {\n",
       "  background-color: #c4d6db;\n",
       "  color: #000000;\n",
       "}\n",
       "#T_c09c9_row11_col1 {\n",
       "  background-color: #558e9f;\n",
       "  color: #f1f1f1;\n",
       "}\n",
       "#T_c09c9_row11_col2, #T_c09c9_row13_col4 {\n",
       "  background-color: #8cb1bd;\n",
       "  color: #000000;\n",
       "}\n",
       "#T_c09c9_row11_col3 {\n",
       "  background-color: #93b6c1;\n",
       "  color: #000000;\n",
       "}\n",
       "#T_c09c9_row11_col4 {\n",
       "  background-color: #e8edef;\n",
       "  color: #000000;\n",
       "}\n",
       "#T_c09c9_row12_col2 {\n",
       "  background-color: #d9e3e7;\n",
       "  color: #000000;\n",
       "}\n",
       "#T_c09c9_row12_col3 {\n",
       "  background-color: #e1b9af;\n",
       "  color: #000000;\n",
       "}\n",
       "#T_c09c9_row12_col4 {\n",
       "  background-color: #bcd0d7;\n",
       "  color: #000000;\n",
       "}\n",
       "#T_c09c9_row13_col1 {\n",
       "  background-color: #c3583c;\n",
       "  color: #f1f1f1;\n",
       "}\n",
       "#T_c09c9_row13_col2 {\n",
       "  background-color: #dde6e9;\n",
       "  color: #000000;\n",
       "}\n",
       "#T_c09c9_row13_col3 {\n",
       "  background-color: #ddaa9d;\n",
       "  color: #000000;\n",
       "}\n",
       "</style>\n",
       "<table id=\"T_c09c9_\">\n",
       "  <thead>\n",
       "    <tr>\n",
       "      <th class=\"blank level0\" >&nbsp;</th>\n",
       "      <th class=\"col_heading level0 col0\" >Indepdendent Variable</th>\n",
       "      <th class=\"col_heading level0 col1\" >PC1</th>\n",
       "      <th class=\"col_heading level0 col2\" >PC2</th>\n",
       "      <th class=\"col_heading level0 col3\" >PC3</th>\n",
       "      <th class=\"col_heading level0 col4\" >PC4</th>\n",
       "    </tr>\n",
       "  </thead>\n",
       "  <tbody>\n",
       "    <tr>\n",
       "      <th id=\"T_c09c9_level0_row0\" class=\"row_heading level0 row0\" >0</th>\n",
       "      <td id=\"T_c09c9_row0_col0\" class=\"data row0 col0\" >percentage_greenery</td>\n",
       "      <td id=\"T_c09c9_row0_col1\" class=\"data row0 col1\" >-0.349875</td>\n",
       "      <td id=\"T_c09c9_row0_col2\" class=\"data row0 col2\" >-0.000405</td>\n",
       "      <td id=\"T_c09c9_row0_col3\" class=\"data row0 col3\" >-0.050224</td>\n",
       "      <td id=\"T_c09c9_row0_col4\" class=\"data row0 col4\" >-0.029411</td>\n",
       "    </tr>\n",
       "    <tr>\n",
       "      <th id=\"T_c09c9_level0_row1\" class=\"row_heading level0 row1\" >1</th>\n",
       "      <td id=\"T_c09c9_row1_col0\" class=\"data row1 col0\" >Health_Very_good</td>\n",
       "      <td id=\"T_c09c9_row1_col1\" class=\"data row1 col1\" >0.163377</td>\n",
       "      <td id=\"T_c09c9_row1_col2\" class=\"data row1 col2\" >0.417756</td>\n",
       "      <td id=\"T_c09c9_row1_col3\" class=\"data row1 col3\" >-0.083235</td>\n",
       "      <td id=\"T_c09c9_row1_col4\" class=\"data row1 col4\" >-0.097067</td>\n",
       "    </tr>\n",
       "    <tr>\n",
       "      <th id=\"T_c09c9_level0_row2\" class=\"row_heading level0 row2\" >2</th>\n",
       "      <td id=\"T_c09c9_row2_col0\" class=\"data row2 col0\" >Health_Good</td>\n",
       "      <td id=\"T_c09c9_row2_col1\" class=\"data row2 col1\" >-0.245123</td>\n",
       "      <td id=\"T_c09c9_row2_col2\" class=\"data row2 col2\" >-0.314810</td>\n",
       "      <td id=\"T_c09c9_row2_col3\" class=\"data row2 col3\" >0.169851</td>\n",
       "      <td id=\"T_c09c9_row2_col4\" class=\"data row2 col4\" >-0.132851</td>\n",
       "    </tr>\n",
       "    <tr>\n",
       "      <th id=\"T_c09c9_level0_row3\" class=\"row_heading level0 row3\" >3</th>\n",
       "      <td id=\"T_c09c9_row3_col0\" class=\"data row3 col0\" >Health_Fair</td>\n",
       "      <td id=\"T_c09c9_row3_col1\" class=\"data row3 col1\" >-0.175668</td>\n",
       "      <td id=\"T_c09c9_row3_col2\" class=\"data row3 col2\" >-0.408124</td>\n",
       "      <td id=\"T_c09c9_row3_col3\" class=\"data row3 col3\" >-0.003843</td>\n",
       "      <td id=\"T_c09c9_row3_col4\" class=\"data row3 col4\" >0.232461</td>\n",
       "    </tr>\n",
       "    <tr>\n",
       "      <th id=\"T_c09c9_level0_row4\" class=\"row_heading level0 row4\" >4</th>\n",
       "      <td id=\"T_c09c9_row4_col0\" class=\"data row4 col0\" >Health_Bad</td>\n",
       "      <td id=\"T_c09c9_row4_col1\" class=\"data row4 col1\" >0.207130</td>\n",
       "      <td id=\"T_c09c9_row4_col2\" class=\"data row4 col2\" >-0.335200</td>\n",
       "      <td id=\"T_c09c9_row4_col3\" class=\"data row4 col3\" >-0.105698</td>\n",
       "      <td id=\"T_c09c9_row4_col4\" class=\"data row4 col4\" >0.456114</td>\n",
       "    </tr>\n",
       "    <tr>\n",
       "      <th id=\"T_c09c9_level0_row5\" class=\"row_heading level0 row5\" >5</th>\n",
       "      <td id=\"T_c09c9_row5_col0\" class=\"data row5 col0\" >Health_Very_bad</td>\n",
       "      <td id=\"T_c09c9_row5_col1\" class=\"data row5 col1\" >0.291481</td>\n",
       "      <td id=\"T_c09c9_row5_col2\" class=\"data row5 col2\" >-0.240251</td>\n",
       "      <td id=\"T_c09c9_row5_col3\" class=\"data row5 col3\" >-0.122860</td>\n",
       "      <td id=\"T_c09c9_row5_col4\" class=\"data row5 col4\" >0.398197</td>\n",
       "    </tr>\n",
       "    <tr>\n",
       "      <th id=\"T_c09c9_level0_row6\" class=\"row_heading level0 row6\" >6</th>\n",
       "      <td id=\"T_c09c9_row6_col0\" class=\"data row6 col0\" >Economic_Inactive</td>\n",
       "      <td id=\"T_c09c9_row6_col1\" class=\"data row6 col1\" >0.242273</td>\n",
       "      <td id=\"T_c09c9_row6_col2\" class=\"data row6 col2\" >-0.120279</td>\n",
       "      <td id=\"T_c09c9_row6_col3\" class=\"data row6 col3\" >-0.611081</td>\n",
       "      <td id=\"T_c09c9_row6_col4\" class=\"data row6 col4\" >-0.299408</td>\n",
       "    </tr>\n",
       "    <tr>\n",
       "      <th id=\"T_c09c9_level0_row7\" class=\"row_heading level0 row7\" >7</th>\n",
       "      <td id=\"T_c09c9_row7_col0\" class=\"data row7 col0\" >Economic_Unemployed</td>\n",
       "      <td id=\"T_c09c9_row7_col1\" class=\"data row7 col1\" >0.151865</td>\n",
       "      <td id=\"T_c09c9_row7_col2\" class=\"data row7 col2\" >-0.378535</td>\n",
       "      <td id=\"T_c09c9_row7_col3\" class=\"data row7 col3\" >0.281361</td>\n",
       "      <td id=\"T_c09c9_row7_col4\" class=\"data row7 col4\" >-0.115052</td>\n",
       "    </tr>\n",
       "    <tr>\n",
       "      <th id=\"T_c09c9_level0_row8\" class=\"row_heading level0 row8\" >8</th>\n",
       "      <td id=\"T_c09c9_row8_col0\" class=\"data row8 col0\" >Economic_Employed</td>\n",
       "      <td id=\"T_c09c9_row8_col1\" class=\"data row8 col1\" >-0.260080</td>\n",
       "      <td id=\"T_c09c9_row8_col2\" class=\"data row8 col2\" >0.221712</td>\n",
       "      <td id=\"T_c09c9_row8_col3\" class=\"data row8 col3\" >0.453054</td>\n",
       "      <td id=\"T_c09c9_row8_col4\" class=\"data row8 col4\" >0.299230</td>\n",
       "    </tr>\n",
       "    <tr>\n",
       "      <th id=\"T_c09c9_level0_row9\" class=\"row_heading level0 row9\" >9</th>\n",
       "      <td id=\"T_c09c9_row9_col0\" class=\"data row9 col0\" >Age_0-15</td>\n",
       "      <td id=\"T_c09c9_row9_col1\" class=\"data row9 col1\" >-0.124783</td>\n",
       "      <td id=\"T_c09c9_row9_col2\" class=\"data row9 col2\" >-0.347434</td>\n",
       "      <td id=\"T_c09c9_row9_col3\" class=\"data row9 col3\" >0.154591</td>\n",
       "      <td id=\"T_c09c9_row9_col4\" class=\"data row9 col4\" >-0.532667</td>\n",
       "    </tr>\n",
       "    <tr>\n",
       "      <th id=\"T_c09c9_level0_row10\" class=\"row_heading level0 row10\" >10</th>\n",
       "      <td id=\"T_c09c9_row10_col0\" class=\"data row10 col0\" >Age_15-29</td>\n",
       "      <td id=\"T_c09c9_row10_col1\" class=\"data row10 col1\" >0.354639</td>\n",
       "      <td id=\"T_c09c9_row10_col2\" class=\"data row10 col2\" >-0.031947</td>\n",
       "      <td id=\"T_c09c9_row10_col3\" class=\"data row10 col3\" >0.192128</td>\n",
       "      <td id=\"T_c09c9_row10_col4\" class=\"data row10 col4\" >0.084708</td>\n",
       "    </tr>\n",
       "    <tr>\n",
       "      <th id=\"T_c09c9_level0_row11\" class=\"row_heading level0 row11\" >11</th>\n",
       "      <td id=\"T_c09c9_row11_col0\" class=\"data row11 col0\" >Age_30-44</td>\n",
       "      <td id=\"T_c09c9_row11_col1\" class=\"data row11 col1\" >0.308445</td>\n",
       "      <td id=\"T_c09c9_row11_col2\" class=\"data row11 col2\" >0.234924</td>\n",
       "      <td id=\"T_c09c9_row11_col3\" class=\"data row11 col3\" >0.196012</td>\n",
       "      <td id=\"T_c09c9_row11_col4\" class=\"data row11 col4\" >-0.017363</td>\n",
       "    </tr>\n",
       "    <tr>\n",
       "      <th id=\"T_c09c9_level0_row12\" class=\"row_heading level0 row12\" >12</th>\n",
       "      <td id=\"T_c09c9_row12_col0\" class=\"data row12 col0\" >Age_45-64</td>\n",
       "      <td id=\"T_c09c9_row12_col1\" class=\"data row12 col1\" >-0.354495</td>\n",
       "      <td id=\"T_c09c9_row12_col2\" class=\"data row12 col2\" >0.058789</td>\n",
       "      <td id=\"T_c09c9_row12_col3\" class=\"data row12 col3\" >-0.271254</td>\n",
       "      <td id=\"T_c09c9_row12_col4\" class=\"data row12 col4\" >0.105385</td>\n",
       "    </tr>\n",
       "    <tr>\n",
       "      <th id=\"T_c09c9_level0_row13\" class=\"row_heading level0 row13\" >13</th>\n",
       "      <td id=\"T_c09c9_row13_col0\" class=\"data row13 col0\" >Age_65+</td>\n",
       "      <td id=\"T_c09c9_row13_col1\" class=\"data row13 col1\" >-0.347190</td>\n",
       "      <td id=\"T_c09c9_row13_col2\" class=\"data row13 col2\" >0.049401</td>\n",
       "      <td id=\"T_c09c9_row13_col3\" class=\"data row13 col3\" >-0.323675</td>\n",
       "      <td id=\"T_c09c9_row13_col4\" class=\"data row13 col4\" >0.238090</td>\n",
       "    </tr>\n",
       "  </tbody>\n",
       "</table>\n"
      ],
      "text/plain": [
       "<pandas.io.formats.style.Styler at 0x7f5e344123d0>"
      ]
     },
     "metadata": {},
     "output_type": "display_data"
    }
   ],
   "source": [
    "# Eigenvectors\n",
    "eig_vec = pca.components_\n",
    "eig_vec_table = pd.DataFrame(cols, columns = ['Indepdendent Variable'])\n",
    "eig_vec_table = eig_vec_table.join(pd.DataFrame(eig_vec).transpose())\n",
    "eig_vec_table = eig_vec_table.rename({0: 'PC1', 1: 'PC2', 2: 'PC3', 3: 'PC4'}, axis = 1)\n",
    "\n",
    "cm = sns.diverging_palette(20, 220, as_cmap=True)\n",
    "x=eig_vec_table.style.background_gradient(cmap=cm)\n",
    "display(x)"
   ]
  },
  {
   "cell_type": "markdown",
   "id": "c85bf890",
   "metadata": {},
   "source": [
    "Urban greenery was highly loaded in PC1."
   ]
  },
  {
   "cell_type": "code",
   "execution_count": 23,
   "id": "5ef3f28d",
   "metadata": {},
   "outputs": [],
   "source": [
    "# Prepare data for regression\n",
    "data_pca.drop(['Health_Very_good', 'Health_Good', 'Health_Fair', 'Health_Bad', 'Health_Very_bad', \n",
    "               'Age_0-15', 'Age_15-29', 'Age_30-44', 'Age_45-64', 'Age_65+', \n",
    "               'Economic_Inactive', 'Economic_Unemployed', 'Economic_Employed', \n",
    "               'percentage_greenery'], axis = 1, inplace = True)\n",
    "\n",
    "# Merge data\n",
    "data_reg = wellbeing.merge(data_pca, on = 'Area')"
   ]
  },
  {
   "cell_type": "code",
   "execution_count": 24,
   "id": "0e6c6379",
   "metadata": {},
   "outputs": [
    {
     "name": "stdout",
     "output_type": "stream",
     "text": [
      "PERFORMING REGRESSION OF LIFE SATISFACTION\n",
      "                            OLS Regression Results                            \n",
      "==============================================================================\n",
      "Dep. Variable:      Life Satisfaction   R-squared:                       0.703\n",
      "Model:                            OLS   Adj. R-squared:                  0.659\n",
      "Method:                 Least Squares   F-statistic:                     15.97\n",
      "Date:                Mon, 17 Jan 2022   Prob (F-statistic):           8.05e-07\n",
      "Time:                        17:51:29   Log-Likelihood:                 32.955\n",
      "No. Observations:                  32   AIC:                            -55.91\n",
      "Df Residuals:                      27   BIC:                            -48.58\n",
      "Df Model:                           4                                         \n",
      "Covariance Type:            nonrobust                                         \n",
      "===============================================================================\n",
      "                  coef    std err          t      P>|t|      [0.025      0.975]\n",
      "-------------------------------------------------------------------------------\n",
      "const           7.2581      0.017    436.518      0.000       7.224       7.292\n",
      "Component_1    -0.0688      0.017     -4.071      0.000      -0.103      -0.034\n",
      "Component_2     0.1027      0.017      6.080      0.000       0.068       0.137\n",
      "Component_3    -0.0542      0.017     -3.211      0.003      -0.089      -0.020\n",
      "Component_4    -0.0020      0.017     -0.120      0.905      -0.037       0.033\n",
      "==============================================================================\n",
      "Omnibus:                        2.887   Durbin-Watson:                   1.941\n",
      "Prob(Omnibus):                  0.236   Jarque-Bera (JB):                2.286\n",
      "Skew:                          -0.653   Prob(JB):                        0.319\n",
      "Kurtosis:                       2.894   Cond. No.                         1.02\n",
      "==============================================================================\n",
      "\n",
      "Notes:\n",
      "[1] Standard Errors assume that the covariance matrix of the errors is correctly specified.\n"
     ]
    },
    {
     "data": {
      "image/png": "[encoded data removed]",
      "text/plain": [
       "<Figure size 432x288 with 1 Axes>"
      ]
     },
     "metadata": {
      "needs_background": "light"
     },
     "output_type": "display_data"
    },
    {
     "name": "stdout",
     "output_type": "stream",
     "text": [
      "\n",
      "\n",
      "PERFORMING REGRESSION OF WORTHWHILE\n",
      "                            OLS Regression Results                            \n",
      "==============================================================================\n",
      "Dep. Variable:             Worthwhile   R-squared:                       0.629\n",
      "Model:                            OLS   Adj. R-squared:                  0.574\n",
      "Method:                 Least Squares   F-statistic:                     11.43\n",
      "Date:                Mon, 17 Jan 2022   Prob (F-statistic):           1.48e-05\n",
      "Time:                        17:51:29   Log-Likelihood:                 27.887\n",
      "No. Observations:                  32   AIC:                            -45.77\n",
      "Df Residuals:                      27   BIC:                            -38.44\n",
      "Df Model:                           4                                         \n",
      "Covariance Type:            nonrobust                                         \n",
      "===============================================================================\n",
      "                  coef    std err          t      P>|t|      [0.025      0.975]\n",
      "-------------------------------------------------------------------------------\n",
      "const           7.5153      0.019    385.777      0.000       7.475       7.555\n",
      "Component_1    -0.1054      0.020     -5.326      0.000      -0.146      -0.065\n",
      "Component_2     0.0715      0.020      3.614      0.001       0.031       0.112\n",
      "Component_3    -0.0393      0.020     -1.987      0.057      -0.080       0.001\n",
      "Component_4    -0.0115      0.020     -0.579      0.568      -0.052       0.029\n",
      "==============================================================================\n",
      "Omnibus:                        9.155   Durbin-Watson:                   2.258\n",
      "Prob(Omnibus):                  0.010   Jarque-Bera (JB):                7.739\n",
      "Skew:                          -1.111   Prob(JB):                       0.0209\n",
      "Kurtosis:                       3.933   Cond. No.                         1.02\n",
      "==============================================================================\n",
      "\n",
      "Notes:\n",
      "[1] Standard Errors assume that the covariance matrix of the errors is correctly specified.\n"
     ]
    },
    {
     "data": {
      "image/png": "[encoded data removed]",
      "text/plain": [
       "<Figure size 432x288 with 1 Axes>"
      ]
     },
     "metadata": {
      "needs_background": "light"
     },
     "output_type": "display_data"
    },
    {
     "name": "stdout",
     "output_type": "stream",
     "text": [
      "\n",
      "\n",
      "PERFORMING REGRESSION OF HAPPINESS\n",
      "                            OLS Regression Results                            \n",
      "==============================================================================\n",
      "Dep. Variable:              Happiness   R-squared:                       0.407\n",
      "Model:                            OLS   Adj. R-squared:                  0.319\n",
      "Method:                 Least Squares   F-statistic:                     4.635\n",
      "Date:                Mon, 17 Jan 2022   Prob (F-statistic):            0.00560\n",
      "Time:                        17:51:29   Log-Likelihood:                 26.931\n",
      "No. Observations:                  32   AIC:                            -43.86\n",
      "Df Residuals:                      27   BIC:                            -36.53\n",
      "Df Model:                           4                                         \n",
      "Covariance Type:            nonrobust                                         \n",
      "===============================================================================\n",
      "                  coef    std err          t      P>|t|      [0.025      0.975]\n",
      "-------------------------------------------------------------------------------\n",
      "const           7.1969      0.020    358.556      0.000       7.156       7.238\n",
      "Component_1    -0.0416      0.020     -2.039      0.051      -0.083       0.000\n",
      "Component_2     0.0630      0.020      3.091      0.005       0.021       0.105\n",
      "Component_3    -0.0431      0.020     -2.113      0.044      -0.085      -0.001\n",
      "Component_4     0.0123      0.020      0.603      0.552      -0.030       0.054\n",
      "==============================================================================\n",
      "Omnibus:                        0.966   Durbin-Watson:                   2.363\n",
      "Prob(Omnibus):                  0.617   Jarque-Bera (JB):                0.292\n",
      "Skew:                           0.195   Prob(JB):                        0.864\n",
      "Kurtosis:                       3.258   Cond. No.                         1.02\n",
      "==============================================================================\n",
      "\n",
      "Notes:\n",
      "[1] Standard Errors assume that the covariance matrix of the errors is correctly specified.\n"
     ]
    },
    {
     "data": {
      "image/png": "[encoded data removed]",
      "text/plain": [
       "<Figure size 432x288 with 1 Axes>"
      ]
     },
     "metadata": {
      "needs_background": "light"
     },
     "output_type": "display_data"
    },
    {
     "name": "stdout",
     "output_type": "stream",
     "text": [
      "\n",
      "\n"
     ]
    }
   ],
   "source": [
    "# Perform regression\n",
    "for cat in wellbeing_cols:\n",
    "    print(f'PERFORMING REGRESSION OF {cat.upper()}')\n",
    "    \n",
    "    # Perform regression\n",
    "    reg_model = sm.OLS(endog=data_reg[cat], exog=sm.add_constant(data_reg[data_reg.columns.tolist()[4:]])).fit()\n",
    "    #reg_model = back_regress(data_reout[cat], data_reout[group])\n",
    "    print(reg_model.summary())\n",
    "\n",
    "    # plot residual vs. fit\n",
    "    plt.scatter(reg_model.fittedvalues, reg_model.resid)\n",
    "    plt.xlabel('Fitted Value')\n",
    "    plt.ylabel('Residual')\n",
    "    plt.title('Residual vs. Fitted Plot for ' + cat.title())\n",
    "    plt.show()\n",
    "    print('\\n')"
   ]
  },
  {
   "cell_type": "markdown",
   "id": "81a5fa97",
   "metadata": {},
   "source": [
    "PC1, which was negatively related to urban greenery, had a negative relationship with all aspects of well-being, and this was significant for LS and WW, like the observation in step 1(a)."
   ]
  },
  {
   "cell_type": "markdown",
   "id": "030700ff",
   "metadata": {},
   "source": [
    "## Step 2: Establish the effect of urban greenery on the mediators"
   ]
  },
  {
   "cell_type": "code",
   "execution_count": 25,
   "id": "4a786beb",
   "metadata": {},
   "outputs": [],
   "source": [
    "# Initialize dataframe to track coefficient and standard error\n",
    "path_a = pd.DataFrame({'Mediators': dataset['mediators'], \n",
    "                       'Coeff_a': [0] * len(dataset['mediators']),\n",
    "                       'se_a': [0] * len(dataset['mediators'])})"
   ]
  },
  {
   "cell_type": "code",
   "execution_count": 26,
   "id": "69350337",
   "metadata": {},
   "outputs": [
    {
     "name": "stdout",
     "output_type": "stream",
     "text": [
      "PERFORMING REGRESSION OF ANXIETY\n",
      "                            OLS Regression Results                            \n",
      "==============================================================================\n",
      "Dep. Variable:                Anxiety   R-squared:                       0.024\n",
      "Model:                            OLS   Adj. R-squared:                 -0.009\n",
      "Method:                 Least Squares   F-statistic:                    0.7343\n",
      "Date:                Mon, 17 Jan 2022   Prob (F-statistic):              0.398\n",
      "Time:                        17:51:29   Log-Likelihood:                -5.9201\n",
      "No. Observations:                  32   AIC:                             15.84\n",
      "Df Residuals:                      30   BIC:                             18.77\n",
      "Df Model:                           1                                         \n",
      "Covariance Type:            nonrobust                                         \n",
      "=======================================================================================\n",
      "                          coef    std err          t      P>|t|      [0.025      0.975]\n",
      "---------------------------------------------------------------------------------------\n",
      "const                  -3.5964      0.226    -15.907      0.000      -4.058      -3.135\n",
      "percentage_greenery     0.0042      0.005      0.857      0.398      -0.006       0.014\n",
      "==============================================================================\n",
      "Omnibus:                        4.142   Durbin-Watson:                   1.887\n",
      "Prob(Omnibus):                  0.126   Jarque-Bera (JB):                2.868\n",
      "Skew:                           0.710   Prob(JB):                        0.238\n",
      "Kurtosis:                       3.370   Cond. No.                         196.\n",
      "==============================================================================\n",
      "\n",
      "Notes:\n",
      "[1] Standard Errors assume that the covariance matrix of the errors is correctly specified.\n"
     ]
    },
    {
     "data": {
      "image/png": "[encoded data removed]",
      "text/plain": [
       "<Figure size 432x288 with 1 Axes>"
      ]
     },
     "metadata": {
      "needs_background": "light"
     },
     "output_type": "display_data"
    },
    {
     "name": "stdout",
     "output_type": "stream",
     "text": [
      "\n",
      "\n",
      "PERFORMING REGRESSION OF EXERCISE\n",
      "                            OLS Regression Results                            \n",
      "==============================================================================\n",
      "Dep. Variable:                 Active   R-squared:                       0.000\n",
      "Model:                            OLS   Adj. R-squared:                 -0.033\n",
      "Method:                 Least Squares   F-statistic:                 9.029e-05\n",
      "Date:                Mon, 17 Jan 2022   Prob (F-statistic):              0.992\n",
      "Time:                        17:51:29   Log-Likelihood:                -94.981\n",
      "No. Observations:                  32   AIC:                             194.0\n",
      "Df Residuals:                      30   BIC:                             196.9\n",
      "Df Model:                           1                                         \n",
      "Covariance Type:            nonrobust                                         \n",
      "=======================================================================================\n",
      "                          coef    std err          t      P>|t|      [0.025      0.975]\n",
      "---------------------------------------------------------------------------------------\n",
      "const                  56.6806      3.656     15.504      0.000      49.214      64.147\n",
      "percentage_greenery    -0.0008      0.079     -0.010      0.992      -0.163       0.161\n",
      "==============================================================================\n",
      "Omnibus:                        1.756   Durbin-Watson:                   1.833\n",
      "Prob(Omnibus):                  0.416   Jarque-Bera (JB):                1.619\n",
      "Skew:                           0.498   Prob(JB):                        0.445\n",
      "Kurtosis:                       2.527   Cond. No.                         196.\n",
      "==============================================================================\n",
      "\n",
      "Notes:\n",
      "[1] Standard Errors assume that the covariance matrix of the errors is correctly specified.\n"
     ]
    },
    {
     "data": {
      "image/png": "[encoded data removed]",
      "text/plain": [
       "<Figure size 432x288 with 1 Axes>"
      ]
     },
     "metadata": {
      "needs_background": "light"
     },
     "output_type": "display_data"
    },
    {
     "name": "stdout",
     "output_type": "stream",
     "text": [
      "\n",
      "\n",
      "PERFORMING REGRESSION OF AIR_QUALITY\n",
      "                            OLS Regression Results                            \n",
      "==============================================================================\n",
      "Dep. Variable:            air_quality   R-squared:                       0.370\n",
      "Model:                            OLS   Adj. R-squared:                  0.349\n",
      "Method:                 Least Squares   F-statistic:                     17.60\n",
      "Date:                Mon, 17 Jan 2022   Prob (F-statistic):           0.000223\n",
      "Time:                        17:51:29   Log-Likelihood:                -48.499\n",
      "No. Observations:                  32   AIC:                             101.0\n",
      "Df Residuals:                      30   BIC:                             103.9\n",
      "Df Model:                           1                                         \n",
      "Covariance Type:            nonrobust                                         \n",
      "=======================================================================================\n",
      "                          coef    std err          t      P>|t|      [0.025      0.975]\n",
      "---------------------------------------------------------------------------------------\n",
      "const                  -5.5777      0.855     -6.521      0.000      -7.325      -3.831\n",
      "percentage_greenery     0.0779      0.019      4.195      0.000       0.040       0.116\n",
      "==============================================================================\n",
      "Omnibus:                        1.397   Durbin-Watson:                   1.453\n",
      "Prob(Omnibus):                  0.497   Jarque-Bera (JB):                1.239\n",
      "Skew:                           0.452   Prob(JB):                        0.538\n",
      "Kurtosis:                       2.664   Cond. No.                         196.\n",
      "==============================================================================\n",
      "\n",
      "Notes:\n",
      "[1] Standard Errors assume that the covariance matrix of the errors is correctly specified.\n"
     ]
    },
    {
     "data": {
      "image/png": "[encoded data removed]",
      "text/plain": [
       "<Figure size 432x288 with 1 Axes>"
      ]
     },
     "metadata": {
      "needs_background": "light"
     },
     "output_type": "display_data"
    },
    {
     "name": "stdout",
     "output_type": "stream",
     "text": [
      "\n",
      "\n"
     ]
    }
   ],
   "source": [
    "# Get exogeneous variable\n",
    "exog = globals()[dataset['independent'][0]]\n",
    "\n",
    "# Perform regression\n",
    "for mediator in dataset['mediators']:\n",
    "    print(f'PERFORMING REGRESSION OF {mediator.upper()}')\n",
    "\n",
    "    # Get endogeneous variable\n",
    "    endog = globals()[mediator]\n",
    "    \n",
    "    # Merge data\n",
    "    data_reg = pd.merge(endog, exog, on = 'Area')\n",
    "    \n",
    "    # Perform regression\n",
    "    reg_model = sm.OLS(endog= data_reg[endog.columns.tolist()[1:]], \n",
    "                       exog=sm.add_constant(data_reg[exog.columns.tolist()[1:]])).fit()\n",
    "    print(reg_model.summary())\n",
    "\n",
    "    # plot residual vs. fit\n",
    "    plt.scatter(reg_model.fittedvalues, reg_model.resid)\n",
    "    plt.xlabel('Fitted Value')\n",
    "    plt.ylabel('Residual')\n",
    "    plt.title('Residual vs. Fitted Plot for ' + cat.title())\n",
    "    plt.show()\n",
    "    print('\\n')\n",
    "    \n",
    "    # Store results\n",
    "    path_a.loc[path_a.Mediators == mediator, 'Coeff_a'] = reg_model.params[1]\n",
    "    path_a.loc[path_a.Mediators == mediator, 'se_a'] = reg_model.bse[1]"
   ]
  },
  {
   "cell_type": "markdown",
   "id": "fe178671",
   "metadata": {},
   "source": [
    "Urban greenery had a positive and significant effect on air quality, but no significant effect on the other two mediators. Hence, testing for the effect of the mediators on well-being proceeded for enhancement of air quality only."
   ]
  },
  {
   "cell_type": "markdown",
   "id": "d301d50b",
   "metadata": {},
   "source": [
    "## Step 3: Establish the effect of the mediators, which were established to be significantly affected by urban greenery, on personal well-being "
   ]
  },
  {
   "cell_type": "code",
   "execution_count": 27,
   "id": "420080e5",
   "metadata": {},
   "outputs": [],
   "source": [
    "# Initialize dataframe to track coefficient and standard error\n",
    "path_b = pd.DataFrame({'Aspect': wellbeing_cols, \n",
    "                       'Coeff_b': [0] * len(wellbeing_cols),\n",
    "                       'se_b': [0] * len(wellbeing_cols)})"
   ]
  },
  {
   "cell_type": "code",
   "execution_count": 28,
   "id": "de4bf415",
   "metadata": {},
   "outputs": [
    {
     "name": "stdout",
     "output_type": "stream",
     "text": [
      "PERFORMING REGRESSION ON:LIFE SATISFACTION\n",
      "                            OLS Regression Results                            \n",
      "==============================================================================\n",
      "Dep. Variable:      Life Satisfaction   R-squared:                       0.265\n",
      "Model:                            OLS   Adj. R-squared:                  0.214\n",
      "Method:                 Least Squares   F-statistic:                     5.225\n",
      "Date:                Mon, 17 Jan 2022   Prob (F-statistic):             0.0115\n",
      "Time:                        17:51:29   Log-Likelihood:                 18.462\n",
      "No. Observations:                  32   AIC:                            -30.92\n",
      "Df Residuals:                      29   BIC:                            -26.53\n",
      "Df Model:                           2                                         \n",
      "Covariance Type:            nonrobust                                         \n",
      "=======================================================================================\n",
      "                          coef    std err          t      P>|t|      [0.025      0.975]\n",
      "---------------------------------------------------------------------------------------\n",
      "const                   6.7273      0.167     40.311      0.000       6.386       7.069\n",
      "percentage_greenery     0.0094      0.003      3.203      0.003       0.003       0.015\n",
      "air_quality            -0.0526      0.023     -2.296      0.029      -0.099      -0.006\n",
      "==============================================================================\n",
      "Omnibus:                        0.614   Durbin-Watson:                   2.340\n",
      "Prob(Omnibus):                  0.736   Jarque-Bera (JB):                0.228\n",
      "Skew:                           0.205   Prob(JB):                        0.892\n",
      "Kurtosis:                       3.042   Cond. No.                         307.\n",
      "==============================================================================\n",
      "\n",
      "Notes:\n",
      "[1] Standard Errors assume that the covariance matrix of the errors is correctly specified.\n"
     ]
    },
    {
     "data": {
      "image/png": "[encoded data removed]",
      "text/plain": [
       "<Figure size 432x288 with 1 Axes>"
      ]
     },
     "metadata": {
      "needs_background": "light"
     },
     "output_type": "display_data"
    },
    {
     "name": "stdout",
     "output_type": "stream",
     "text": [
      "\n",
      "\n",
      "PERFORMING REGRESSION ON:WORTHWHILE\n",
      "                            OLS Regression Results                            \n",
      "==============================================================================\n",
      "Dep. Variable:             Worthwhile   R-squared:                       0.322\n",
      "Model:                            OLS   Adj. R-squared:                  0.275\n",
      "Method:                 Least Squares   F-statistic:                     6.871\n",
      "Date:                Mon, 17 Jan 2022   Prob (F-statistic):            0.00361\n",
      "Time:                        17:51:29   Log-Likelihood:                 18.243\n",
      "No. Observations:                  32   AIC:                            -30.49\n",
      "Df Residuals:                      29   BIC:                            -26.09\n",
      "Df Model:                           2                                         \n",
      "Covariance Type:            nonrobust                                         \n",
      "=======================================================================================\n",
      "                          coef    std err          t      P>|t|      [0.025      0.975]\n",
      "---------------------------------------------------------------------------------------\n",
      "const                   7.0311      0.168     41.844      0.000       6.687       7.375\n",
      "percentage_greenery     0.0099      0.003      3.364      0.002       0.004       0.016\n",
      "air_quality            -0.0187      0.023     -0.810      0.425      -0.066       0.028\n",
      "==============================================================================\n",
      "Omnibus:                        0.663   Durbin-Watson:                   2.197\n",
      "Prob(Omnibus):                  0.718   Jarque-Bera (JB):                0.712\n",
      "Skew:                          -0.138   Prob(JB):                        0.701\n",
      "Kurtosis:                       2.324   Cond. No.                         307.\n",
      "==============================================================================\n",
      "\n",
      "Notes:\n",
      "[1] Standard Errors assume that the covariance matrix of the errors is correctly specified.\n"
     ]
    },
    {
     "data": {
      "image/png": "[encoded data removed]",
      "text/plain": [
       "<Figure size 432x288 with 1 Axes>"
      ]
     },
     "metadata": {
      "needs_background": "light"
     },
     "output_type": "display_data"
    },
    {
     "name": "stdout",
     "output_type": "stream",
     "text": [
      "\n",
      "\n",
      "PERFORMING REGRESSION ON:HAPPINESS\n",
      "                            OLS Regression Results                            \n",
      "==============================================================================\n",
      "Dep. Variable:              Happiness   R-squared:                       0.446\n",
      "Model:                            OLS   Adj. R-squared:                  0.407\n",
      "Method:                 Least Squares   F-statistic:                     11.66\n",
      "Date:                Mon, 17 Jan 2022   Prob (F-statistic):           0.000192\n",
      "Time:                        17:51:29   Log-Likelihood:                 28.008\n",
      "No. Observations:                  32   AIC:                            -50.02\n",
      "Df Residuals:                      29   BIC:                            -45.62\n",
      "Df Model:                           2                                         \n",
      "Covariance Type:            nonrobust                                         \n",
      "=======================================================================================\n",
      "                          coef    std err          t      P>|t|      [0.025      0.975]\n",
      "---------------------------------------------------------------------------------------\n",
      "const                   6.6130      0.124     53.400      0.000       6.360       6.866\n",
      "percentage_greenery     0.0097      0.002      4.467      0.000       0.005       0.014\n",
      "air_quality            -0.0709      0.017     -4.172      0.000      -0.106      -0.036\n",
      "==============================================================================\n",
      "Omnibus:                        5.142   Durbin-Watson:                   2.444\n",
      "Prob(Omnibus):                  0.076   Jarque-Bera (JB):                3.926\n",
      "Skew:                           0.845   Prob(JB):                        0.140\n",
      "Kurtosis:                       3.297   Cond. No.                         307.\n",
      "==============================================================================\n",
      "\n",
      "Notes:\n",
      "[1] Standard Errors assume that the covariance matrix of the errors is correctly specified.\n"
     ]
    },
    {
     "data": {
      "image/png": "[encoded data removed]",
      "text/plain": [
       "<Figure size 432x288 with 1 Axes>"
      ]
     },
     "metadata": {
      "needs_background": "light"
     },
     "output_type": "display_data"
    },
    {
     "name": "stdout",
     "output_type": "stream",
     "text": [
      "\n",
      "\n"
     ]
    }
   ],
   "source": [
    "# Merge data\n",
    "data = pd.merge(wellbeing, ndvi, on = 'Area')\n",
    "data = data.merge(air_quality, on = 'Area')\n",
    "ind_var = data.columns.tolist()[4:]\n",
    "\n",
    "# Perform regression\n",
    "for cat in wellbeing_cols:\n",
    "    print(f'PERFORMING REGRESSION ON:{cat.upper()}')\n",
    "\n",
    "    # Perform regression\n",
    "    reg_model = sm.OLS(endog=data[cat], exog=sm.add_constant(data[ind_var])).fit()\n",
    "    print(reg_model.summary())\n",
    "\n",
    "    # plot residual vs. fit\n",
    "    plt.scatter(reg_model.fittedvalues, reg_model.resid)\n",
    "    plt.xlabel('Fitted Value')\n",
    "    plt.ylabel('Residual')\n",
    "    plt.title('Residual vs. Fitted Plot for ' + cat.title())\n",
    "    plt.show()\n",
    "    print('\\n')\n",
    "    \n",
    "    # Store results\n",
    "    path_b.loc[path_b.Aspect == cat, 'Coeff_b'] = reg_model.params[2]\n",
    "    path_b.loc[path_b.Aspect == cat, 'se_b'] = reg_model.bse[2]"
   ]
  },
  {
   "cell_type": "markdown",
   "id": "c9db3217",
   "metadata": {},
   "source": [
    "#### Sobel test"
   ]
  },
  {
   "cell_type": "code",
   "execution_count": 29,
   "id": "6a13230e",
   "metadata": {},
   "outputs": [
    {
     "data": {
      "text/html": [
       "<div>\n",
       "<style scoped>\n",
       "    .dataframe tbody tr th:only-of-type {\n",
       "        vertical-align: middle;\n",
       "    }\n",
       "\n",
       "    .dataframe tbody tr th {\n",
       "        vertical-align: top;\n",
       "    }\n",
       "\n",
       "    .dataframe thead th {\n",
       "        text-align: right;\n",
       "    }\n",
       "</style>\n",
       "<table border=\"1\" class=\"dataframe\">\n",
       "  <thead>\n",
       "    <tr style=\"text-align: right;\">\n",
       "      <th></th>\n",
       "      <th>Aspect</th>\n",
       "      <th>Coeff_a</th>\n",
       "      <th>se_a</th>\n",
       "      <th>Coeff_b</th>\n",
       "      <th>se_b</th>\n",
       "      <th>Z-stat</th>\n",
       "      <th>p-value</th>\n",
       "    </tr>\n",
       "  </thead>\n",
       "  <tbody>\n",
       "    <tr>\n",
       "      <th>0</th>\n",
       "      <td>Life Satisfaction</td>\n",
       "      <td>0.077854</td>\n",
       "      <td>0.018557</td>\n",
       "      <td>-0.052613</td>\n",
       "      <td>0.022910</td>\n",
       "      <td>-2.014443</td>\n",
       "      <td>0.021982</td>\n",
       "    </tr>\n",
       "    <tr>\n",
       "      <th>1</th>\n",
       "      <td>Worthwhile</td>\n",
       "      <td>0.077854</td>\n",
       "      <td>0.018557</td>\n",
       "      <td>-0.018680</td>\n",
       "      <td>0.023068</td>\n",
       "      <td>-0.795111</td>\n",
       "      <td>0.213275</td>\n",
       "    </tr>\n",
       "    <tr>\n",
       "      <th>2</th>\n",
       "      <td>Happiness</td>\n",
       "      <td>0.077854</td>\n",
       "      <td>0.018557</td>\n",
       "      <td>-0.070930</td>\n",
       "      <td>0.017001</td>\n",
       "      <td>-2.958362</td>\n",
       "      <td>0.001546</td>\n",
       "    </tr>\n",
       "  </tbody>\n",
       "</table>\n",
       "</div>"
      ],
      "text/plain": [
       "              Aspect   Coeff_a      se_a   Coeff_b      se_b    Z-stat  \\\n",
       "0  Life Satisfaction  0.077854  0.018557 -0.052613  0.022910 -2.014443   \n",
       "1         Worthwhile  0.077854  0.018557 -0.018680  0.023068 -0.795111   \n",
       "2          Happiness  0.077854  0.018557 -0.070930  0.017001 -2.958362   \n",
       "\n",
       "    p-value  \n",
       "0  0.021982  \n",
       "1  0.213275  \n",
       "2  0.001546  "
      ]
     },
     "execution_count": 29,
     "metadata": {},
     "output_type": "execute_result"
    }
   ],
   "source": [
    "# Create dataframe\n",
    "sobel = pd.DataFrame({'Aspect': wellbeing_cols, \n",
    "                       'Coeff_a': path_a.loc[path_a.Mediators == 'air_quality', 'Coeff_a'].tolist() * len(wellbeing_cols),\n",
    "                       'se_a': path_a.loc[path_a.Mediators == 'air_quality', 'se_a'].tolist() * len(wellbeing_cols)})\n",
    "sobel = sobel.merge(path_b, on = 'Aspect')\n",
    "\n",
    "# Compute Z-statistics and p-value\n",
    "sobel['Z-stat'] = (sobel.Coeff_a * sobel.Coeff_b) / (\n",
    "    (((sobel.Coeff_a**2) * (sobel.se_b**2)) + ((sobel.Coeff_b**2) * (sobel.se_a**2))).apply(sqrt))\n",
    "sobel['p-value'] = norm.cdf(sobel['Z-stat'])\n",
    "\n",
    "# Display values\n",
    "sobel"
   ]
  },
  {
   "cell_type": "markdown",
   "id": "0af1d80c",
   "metadata": {},
   "source": [
    "Enhancement of air quality was a significant mediator between urban greenery, and LS and HP. While urban greenery had a positive relationship on both air quality and well-being, there was a negative relationship between air quality and well-being."
   ]
  }
 ],
 "metadata": {
  "kernelspec": {
   "display_name": "Python 3 (ipykernel)",
   "language": "python",
   "name": "python3"
  },
  "language_info": {
   "codemirror_mode": {
    "name": "ipython",
    "version": 3
   },
   "file_extension": ".py",
   "mimetype": "text/x-python",
   "name": "python",
   "nbconvert_exporter": "python",
   "pygments_lexer": "ipython3",
   "version": "3.9.6"
  }
 },
 "nbformat": 4,
 "nbformat_minor": 5
}
