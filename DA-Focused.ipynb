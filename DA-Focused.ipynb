{
 "cells": [
  {
   "cell_type": "markdown",
   "id": "2251c895",
   "metadata": {},
   "source": [
    "# CASA0007 QM Coursework 3\n",
    "\n",
    "Focused analysis"
   ]
  },
  {
   "cell_type": "code",
   "execution_count": 1,
   "id": "1262ff8e",
   "metadata": {},
   "outputs": [],
   "source": [
    "# Import library\n",
    "\n",
    "import numpy as np\n",
    "import pandas as pd\n",
    "import os\n",
    "import re\n",
    "import numpy as np\n",
    "import matplotlib.pyplot as plt\n",
    "from statsmodels.stats.outliers_influence import variance_inflation_factor \n",
    "from statsmodels.tools.tools import add_constant\n",
    "import statsmodels.api as sm\n",
    "from sklearn.linear_model import LinearRegression\n",
    "from math import log"
   ]
  },
  {
   "cell_type": "markdown",
   "id": "1e38e2c4",
   "metadata": {},
   "source": [
    "## Regression 1: Wellbeing against NDVI"
   ]
  },
  {
   "cell_type": "markdown",
   "id": "9aefcf07",
   "metadata": {},
   "source": [
    "### Well-being scores\n",
    "\n",
    "I am using the data from 2011/12 as the available data on self-reported health and age are from 2011 census."
   ]
  },
  {
   "cell_type": "code",
   "execution_count": 2,
   "id": "1e7c8393",
   "metadata": {},
   "outputs": [],
   "source": [
    "# Read well-being\n",
    "wellbeing = pd.read_excel(os.path.join(os.getcwd(), 'Data', 'personal-well-being-borough.xlsx'),\n",
    "                         sheet_name = 'Summary - Mean Scores', skiprows = 1)\n",
    "\n",
    "# Rename and keep useful columns\n",
    "wellbeing_cols = ['Life Satisfaction', 'Worthwhile', 'Happiness']\n",
    "year = '2011/12'\n",
    "wellbeing.rename({year: wellbeing_cols[0],\n",
    "                 year+'.1': wellbeing_cols[1],\n",
    "                 year+'.2': wellbeing_cols[2],\n",
    "                 year+'.3': 'Anxiety'},\n",
    "                axis = 1, inplace = True)\n",
    "wellbeing = wellbeing[['Code', 'Area'] + wellbeing_cols + ['Anxiety']]\n",
    "\n",
    "# Keep only data on London boroughs (Area Code starts with E09)\n",
    "wellbeing.dropna(axis = 0, inplace = True)\n",
    "wellbeing.drop(wellbeing[wellbeing.Area == \"City of London\"].index, inplace = True)\n",
    "wellbeing = wellbeing[wellbeing['Code'].str.match(r'E09')].sort_values(by = ['Code'], ascending=True)\n",
    "wellbeing = wellbeing.reset_index(drop = True)\n",
    "\n",
    "# Set data type\n",
    "wellbeing[wellbeing_cols + ['Anxiety']] = wellbeing[wellbeing_cols + ['Anxiety']].astype('float', copy = False)"
   ]
  },
  {
   "cell_type": "code",
   "execution_count": 3,
   "id": "78ce70d9",
   "metadata": {},
   "outputs": [
    {
     "data": {
      "image/png": "[encoded data removed]",
      "text/plain": [
       "<Figure size 432x432 with 1 Axes>"
      ]
     },
     "metadata": {
      "needs_background": "light"
     },
     "output_type": "display_data"
    }
   ],
   "source": [
    "# Box plot\n",
    "plt.figure(figsize=(6, 6))\n",
    "plt.title('Boxplot of Wellbeing Score')\n",
    "plt.xlabel('Wellbeing Category')\n",
    "plt.ylabel('Score')\n",
    "plt_wellbeing = wellbeing.boxplot(wellbeing_cols + ['Anxiety'], grid = False, rot = 30, widths = 0.5)"
   ]
  },
  {
   "cell_type": "markdown",
   "id": "34abcf3b",
   "metadata": {},
   "source": [
    "Next, I will read in independent variables - NDVI, self-reported health, age and economic activity. Other variables added in to control for them, based on study done by ONS (these are those with at least moderate effect on well-being score) and availability of data.\n",
    "\n",
    "Self-reported health and age are from 2011 census, but NDVI is collected in 2019. An alternative is to look at the land use data, but there seems to be a data gap between 2005 and 2018. 2018 data is also not very suitable as urban greenery is not a category on its own - they may be subsumed under other land uses. Should be ok to use NDVI data from 2019, since green cover may not change very fast as part of the built environment (??).\n",
    "\n",
    "### NDVI"
   ]
  },
  {
   "cell_type": "code",
   "execution_count": 22,
   "id": "17e192f8",
   "metadata": {},
   "outputs": [],
   "source": [
    "# Read NDVI\n",
    "ndvi_cols = ['lb_code', 'lb_name', 'percent_green']\n",
    "ndvi = pd.read_excel(os.path.join(os.getcwd(), 'Data', 'green_cover_borough_summary_0.05.xlsx'),\n",
    "                         sheet_name = 'borough_green_cover', usecols = ndvi_cols)\n",
    "\n",
    "# Drop City of London\n",
    "ndvi.drop(ndvi[ndvi.lb_code == 'City of London'].index, inplace = True)\n",
    "ndvi.sort_values(by = ['lb_name'], ascending=True)\n",
    "ndvi = ndvi.reset_index(drop = True)\n",
    "\n",
    "# Change name of 'City of Westminster' to Westminster\n",
    "ndvi.loc[ndvi[ndvi.lb_code == 'City of Westminster'].index, 'lb_code'] = 'Westminster'"
   ]
  },
  {
   "cell_type": "code",
   "execution_count": 23,
   "id": "e1f2bf05",
   "metadata": {},
   "outputs": [
    {
     "data": {
      "image/png": "[encoded data removed]",
      "text/plain": [
       "<Figure size 432x432 with 1 Axes>"
      ]
     },
     "metadata": {
      "needs_background": "light"
     },
     "output_type": "display_data"
    }
   ],
   "source": [
    "# Box plot\n",
    "plt.figure(figsize=(6, 6))\n",
    "plt.title('Boxplot of NDVI')\n",
    "plt.xlabel('NDVI')\n",
    "plt.ylabel('Percentage')\n",
    "plt_ndvi = ndvi.boxplot('percent_green', grid = False, rot = 30, widths = 0.5)"
   ]
  },
  {
   "cell_type": "markdown",
   "id": "805bebb6",
   "metadata": {},
   "source": [
    "### Univariate regression\n",
    "\n",
    "I will now perform regression on well-being scores against NDVI only to see if there is any significant relationship."
   ]
  },
  {
   "cell_type": "code",
   "execution_count": 27,
   "id": "bef9af6d",
   "metadata": {},
   "outputs": [],
   "source": [
    "# Merge data\n",
    "data_uni = pd.merge(wellbeing[['Area'] + wellbeing_cols], ndvi[['lb_code','percent_green']], \n",
    "                    left_on = 'Area', right_on = 'lb_code').drop('lb_code', axis = 1)"
   ]
  },
  {
   "cell_type": "code",
   "execution_count": 30,
   "id": "f7757d31",
   "metadata": {},
   "outputs": [
    {
     "name": "stdout",
     "output_type": "stream",
     "text": [
      "PERFORMING REGRESSION ON:LIFE SATISFACTION\n",
      "                            OLS Regression Results                            \n",
      "==============================================================================\n",
      "Dep. Variable:      Life Satisfaction   R-squared:                       0.131\n",
      "Model:                            OLS   Adj. R-squared:                  0.102\n",
      "Method:                 Least Squares   F-statistic:                     4.531\n",
      "Date:                Wed, 05 Jan 2022   Prob (F-statistic):             0.0416\n",
      "Time:                        23:25:52   Log-Likelihood:                 15.789\n",
      "No. Observations:                  32   AIC:                            -27.58\n",
      "Df Residuals:                      30   BIC:                            -24.65\n",
      "Df Model:                           1                                         \n",
      "Covariance Type:            nonrobust                                         \n",
      "=================================================================================\n",
      "                    coef    std err          t      P>|t|      [0.025      0.975]\n",
      "---------------------------------------------------------------------------------\n",
      "const             7.0208      0.115     61.196      0.000       6.786       7.255\n",
      "percent_green     0.0053      0.002      2.129      0.042       0.000       0.010\n",
      "==============================================================================\n",
      "Omnibus:                        1.292   Durbin-Watson:                   1.976\n",
      "Prob(Omnibus):                  0.524   Jarque-Bera (JB):                1.010\n",
      "Skew:                           0.425   Prob(JB):                        0.604\n",
      "Kurtosis:                       2.813   Cond. No.                         196.\n",
      "==============================================================================\n",
      "\n",
      "Notes:\n",
      "[1] Standard Errors assume that the covariance matrix of the errors is correctly specified.\n"
     ]
    },
    {
     "data": {
      "image/png": "[encoded data removed]",
      "text/plain": [
       "<Figure size 432x288 with 1 Axes>"
      ]
     },
     "metadata": {
      "needs_background": "light"
     },
     "output_type": "display_data"
    },
    {
     "name": "stdout",
     "output_type": "stream",
     "text": [
      "\n",
      "\n",
      "PERFORMING REGRESSION ON:WORTHWHILE\n",
      "                            OLS Regression Results                            \n",
      "==============================================================================\n",
      "Dep. Variable:             Worthwhile   R-squared:                       0.306\n",
      "Model:                            OLS   Adj. R-squared:                  0.283\n",
      "Method:                 Least Squares   F-statistic:                     13.24\n",
      "Date:                Wed, 05 Jan 2022   Prob (F-statistic):            0.00102\n",
      "Time:                        23:25:52   Log-Likelihood:                 17.885\n",
      "No. Observations:                  32   AIC:                            -31.77\n",
      "Df Residuals:                      30   BIC:                            -28.84\n",
      "Df Model:                           1                                         \n",
      "Covariance Type:            nonrobust                                         \n",
      "=================================================================================\n",
      "                    coef    std err          t      P>|t|      [0.025      0.975]\n",
      "---------------------------------------------------------------------------------\n",
      "const             7.1353      0.107     66.405      0.000       6.916       7.355\n",
      "percent_green     0.0085      0.002      3.638      0.001       0.004       0.013\n",
      "==============================================================================\n",
      "Omnibus:                        0.294   Durbin-Watson:                   2.096\n",
      "Prob(Omnibus):                  0.863   Jarque-Bera (JB):                0.478\n",
      "Skew:                          -0.105   Prob(JB):                        0.787\n",
      "Kurtosis:                       2.439   Cond. No.                         196.\n",
      "==============================================================================\n",
      "\n",
      "Notes:\n",
      "[1] Standard Errors assume that the covariance matrix of the errors is correctly specified.\n"
     ]
    },
    {
     "data": {
      "image/png": "[encoded data removed]",
      "text/plain": [
       "<Figure size 432x288 with 1 Axes>"
      ]
     },
     "metadata": {
      "needs_background": "light"
     },
     "output_type": "display_data"
    },
    {
     "name": "stdout",
     "output_type": "stream",
     "text": [
      "\n",
      "\n",
      "PERFORMING REGRESSION ON:HAPPINESS\n",
      "                            OLS Regression Results                            \n",
      "==============================================================================\n",
      "Dep. Variable:              Happiness   R-squared:                       0.113\n",
      "Model:                            OLS   Adj. R-squared:                  0.083\n",
      "Method:                 Least Squares   F-statistic:                     3.822\n",
      "Date:                Wed, 05 Jan 2022   Prob (F-statistic):             0.0599\n",
      "Time:                        23:25:52   Log-Likelihood:                 20.486\n",
      "No. Observations:                  32   AIC:                            -36.97\n",
      "Df Residuals:                      30   BIC:                            -34.04\n",
      "Df Model:                           1                                         \n",
      "Covariance Type:            nonrobust                                         \n",
      "=================================================================================\n",
      "                    coef    std err          t      P>|t|      [0.025      0.975]\n",
      "---------------------------------------------------------------------------------\n",
      "const             7.0086      0.099     70.749      0.000       6.806       7.211\n",
      "percent_green     0.0042      0.002      1.955      0.060      -0.000       0.009\n",
      "==============================================================================\n",
      "Omnibus:                        2.363   Durbin-Watson:                   1.699\n",
      "Prob(Omnibus):                  0.307   Jarque-Bera (JB):                1.283\n",
      "Skew:                           0.448   Prob(JB):                        0.526\n",
      "Kurtosis:                       3.399   Cond. No.                         196.\n",
      "==============================================================================\n",
      "\n",
      "Notes:\n",
      "[1] Standard Errors assume that the covariance matrix of the errors is correctly specified.\n"
     ]
    },
    {
     "data": {
      "image/png": "[encoded data removed]",
      "text/plain": [
       "<Figure size 432x288 with 1 Axes>"
      ]
     },
     "metadata": {
      "needs_background": "light"
     },
     "output_type": "display_data"
    },
    {
     "name": "stdout",
     "output_type": "stream",
     "text": [
      "\n",
      "\n"
     ]
    }
   ],
   "source": [
    "# Perform regression\n",
    "for cat in wellbeing_cols:\n",
    "    print(f'PERFORMING REGRESSION ON:{cat.upper()}')\n",
    "    \n",
    "    # Perform regression\n",
    "    reg_model = sm.OLS(endog=data_uni[cat], exog=sm.add_constant(data_uni.percent_green)).fit()\n",
    "    print(reg_model.summary())\n",
    "\n",
    "    # plot residual vs. fit\n",
    "    plt.scatter(reg_model.fittedvalues, reg_model.resid)\n",
    "    plt.xlabel('Fitted Value')\n",
    "    plt.ylabel('Residual')\n",
    "    plt.title('Residual vs. Fitted Plot for ' + cat.title())\n",
    "    plt.show()\n",
    "    print('\\n')"
   ]
  },
  {
   "cell_type": "markdown",
   "id": "ffc91a8a",
   "metadata": {},
   "source": [
    "At 5% significance level, life satisfaction and worthwhile have positive and significant relationship with NDVI. Happiness has no significant relationship with NDVI.\n",
    "\n",
    "Next, I will read in other variables that are known to have at least a moderate effect on well-being based on study done by ONS."
   ]
  },
  {
   "cell_type": "markdown",
   "id": "fb0c8ba4",
   "metadata": {},
   "source": [
    "### Age and health"
   ]
  },
  {
   "cell_type": "code",
   "execution_count": 7,
   "id": "71cc824f",
   "metadata": {},
   "outputs": [],
   "source": [
    "# Read self-reported health and age profile\n",
    "age_cols = ['Age Structure (2011 Census);0-15;',\n",
    "            'Age Structure (2011 Census);16-29;',\n",
    "            'Age Structure (2011 Census);30-44;',\n",
    "            'Age Structure (2011 Census);45-64;',\n",
    "            'Age Structure (2011 Census);65+;']\n",
    "health_cols = ['Health (2011 Census);Very good health;',\n",
    "              'Health (2011 Census);Good health;',\n",
    "              'Health (2011 Census);Fair health;',\n",
    "              'Health (2011 Census);Bad health;',\n",
    "              'Health (2011 Census);Very bad health;']\n",
    "age_health = pd.read_csv(os.path.join(os.getcwd(), 'Data', 'msoa-data.csv'),\n",
    "                         usecols = ['Middle Super Output Area', 'MSOA Name',\n",
    "                                    'Age Structure (2011 Census);All Ages;'] + age_cols + health_cols, \n",
    "                         low_memory = False, encoding = 'latin')\n",
    "\n",
    "# Drop row on average for London and City of London\n",
    "age_health.dropna(axis = 0, inplace = True)\n",
    "age_health.drop(age_health[age_health['MSOA Name'] == 'City of London 001'].index, inplace = True)\n",
    "age_health.reset_index(inplace = True)\n",
    "\n",
    "# Change data type\n",
    "age_health[age_cols] = age_health[age_cols].astype('int', copy = False)\n",
    "age_health[health_cols] = age_health[health_cols].astype('int', copy = False)\n",
    "\n",
    "# Drop numbers (last 4 characters) from MSOA name\n",
    "for i in range(0, age_health.shape[0]):\n",
    "               age_health.iloc[i,2] = age_health.iloc[i,2][:-4]\n",
    "\n",
    "# Compute total number of respondents in MSOA\n",
    "respondents = age_health.groupby('MSOA Name').agg({'Age Structure (2011 Census);All Ages;': np.sum}).reset_index()\n",
    "\n",
    "# Compute number and percentage of respondents in each age group\n",
    "age = age_health.groupby('MSOA Name').agg(dict.fromkeys(age_cols, np.sum)).reset_index()\n",
    "age[age_cols] = age[age_cols].div(respondents['Age Structure (2011 Census);All Ages;'], axis = 0) * 100\n",
    "\n",
    "# Compute number and percentage of respondents in each health category\n",
    "health = age_health.groupby('MSOA Name').agg(dict.fromkeys(health_cols, np.sum)).reset_index()\n",
    "health[health_cols] = health[health_cols].div(respondents['Age Structure (2011 Census);All Ages;'], axis = 0) * 100\n",
    "\n",
    "# Rename columns for easy reference\n",
    "age.rename({age_cols[0]: 'Age_0-15',\n",
    "           age_cols[1]: 'Age_15-29',\n",
    "           age_cols[2]: 'Age_30-44',\n",
    "           age_cols[3]: 'Age_45-64',\n",
    "           age_cols[4]: 'Age_65+'},\n",
    "          axis = 1, inplace = True)\n",
    "health.rename({health_cols[0]: 'Very_good',\n",
    "               health_cols[1]: 'Good',\n",
    "               health_cols[2]: 'Fair',\n",
    "               health_cols[3]: 'Bad',\n",
    "               health_cols[4]: 'Very_bad'},\n",
    "              axis = 1, inplace = True)"
   ]
  },
  {
   "cell_type": "code",
   "execution_count": 8,
   "id": "8764616e",
   "metadata": {},
   "outputs": [
    {
     "data": {
      "image/png": "[encoded data removed]",
      "text/plain": [
       "<Figure size 432x432 with 1 Axes>"
      ]
     },
     "metadata": {
      "needs_background": "light"
     },
     "output_type": "display_data"
    }
   ],
   "source": [
    "# Box plot\n",
    "plt.figure(figsize=(6, 6))\n",
    "plt.title('Boxplot of Age')\n",
    "plt.xlabel('Age Group')\n",
    "plt.ylabel('Percentage')\n",
    "plt_age = age.boxplot(['Age_0-15', 'Age_15-29', 'Age_30-44', 'Age_45-64', 'Age_65+'], \n",
    "                       grid = False, rot = 30, widths = 0.5)"
   ]
  },
  {
   "cell_type": "code",
   "execution_count": 9,
   "id": "5422cf8f",
   "metadata": {},
   "outputs": [
    {
     "data": {
      "image/png": "[encoded data removed]",
      "text/plain": [
       "<Figure size 432x432 with 1 Axes>"
      ]
     },
     "metadata": {
      "needs_background": "light"
     },
     "output_type": "display_data"
    }
   ],
   "source": [
    "# Box plot\n",
    "plt.figure(figsize=(6, 6))\n",
    "plt.title('Boxplot of Self-Reported Health')\n",
    "plt.xlabel('Self-Reported Health')\n",
    "plt.ylabel('Percentage')\n",
    "plt_health = health.boxplot(['Very_good', 'Good', 'Fair', 'Bad', 'Very_bad'], \n",
    "                            grid = False, rot = 30, widths = 0.5)"
   ]
  },
  {
   "cell_type": "markdown",
   "id": "f0b24293",
   "metadata": {},
   "source": [
    "### Economic activity"
   ]
  },
  {
   "cell_type": "code",
   "execution_count": 10,
   "id": "94068a5b",
   "metadata": {},
   "outputs": [],
   "source": [
    "# Read economic inactivity and rename columns for easy reference\n",
    "econ_cols = ['Code', 'Area', 'percent; Jan 2011-Dec 2011']\n",
    "economic = pd.read_csv(os.path.join(os.getcwd(), 'Data', 'economic-inactivity.csv'),\n",
    "                         usecols = econ_cols, \n",
    "                         low_memory = False, encoding = 'latin')\n",
    "economic.rename({econ_cols[2]: 'Econ_inactive'}, axis = 1, inplace = True)\n",
    "\n",
    "# Keep only data on London boroughs (Area Code starts with E09), drop City of London and change data type\n",
    "economic.dropna(axis = 0, inplace = True)\n",
    "economic = economic[economic['Code'].str.match(r'E09')].sort_values(by = ['Code'], ascending=True)\n",
    "economic.drop(economic[economic.Area == 'City of London'].index, inplace = True)\n",
    "economic = economic.reset_index(drop = True)\n",
    "\n",
    "# Change data type\n",
    "economic.Econ_inactive = economic.Econ_inactive.astype('float', copy = False)"
   ]
  },
  {
   "cell_type": "code",
   "execution_count": 11,
   "id": "a818f3b2",
   "metadata": {},
   "outputs": [],
   "source": [
    "# Read unemployment rate\n",
    "unemployment_cols = ['Code', 'Area', 'Jan 2011-Dec 2011']\n",
    "unemployment = pd.read_excel(os.path.join(os.getcwd(), 'Data', 'mb-unemployment-rates.xlsx'), \n",
    "                             usecols = unemployment_cols, sheet_name = 'Rates')\n",
    "\n",
    "# Keep only data on London boroughs (Area Code starts with E09), drop City of London and change data type\n",
    "unemployment.dropna(axis = 0, inplace = True)\n",
    "unemployment = unemployment[unemployment['Code'].str.match(r'E09')].sort_values(by = ['Code'], ascending=True)\n",
    "unemployment.drop(unemployment[unemployment.Area == 'City of London'].index, inplace = True)\n",
    "unemployment = unemployment.reset_index(drop = True)\n",
    "\n",
    "# Change data type\n",
    "unemployment['Jan 2011-Dec 2011'] = unemployment['Jan 2011-Dec 2011'].astype('float', copy = False)"
   ]
  },
  {
   "cell_type": "code",
   "execution_count": 12,
   "id": "5ada58bc",
   "metadata": {},
   "outputs": [],
   "source": [
    "# Compute unemployment rate among economically active\n",
    "economic['Unemployed'] = ((100 - economic.Econ_inactive)/100) * (unemployment['Jan 2011-Dec 2011']/100) * 100\n",
    "\n",
    "# Compute employment rate among economically active\n",
    "economic['Employed'] = 100 - economic.Econ_inactive - economic.Unemployed"
   ]
  },
  {
   "cell_type": "code",
   "execution_count": 13,
   "id": "e7f57e88",
   "metadata": {},
   "outputs": [
    {
     "data": {
      "image/png": "[encoded data removed]",
      "text/plain": [
       "<Figure size 432x432 with 1 Axes>"
      ]
     },
     "metadata": {
      "needs_background": "light"
     },
     "output_type": "display_data"
    }
   ],
   "source": [
    "# Box plot\n",
    "plt.figure(figsize=(6, 6))\n",
    "plt.title('Boxplot of Economic Activity')\n",
    "plt.xlabel('Economic Activity')\n",
    "plt.ylabel('Percentage')\n",
    "plt_economic = economic.boxplot(['Econ_inactive', 'Unemployed', 'Employed'], \n",
    "                                grid = False, rot = 30, widths = 0.5)"
   ]
  },
  {
   "cell_type": "markdown",
   "id": "a990bf5f",
   "metadata": {},
   "source": [
    "### Multi-variate regression"
   ]
  },
  {
   "cell_type": "code",
   "execution_count": 31,
   "id": "b40aa781",
   "metadata": {},
   "outputs": [],
   "source": [
    "# Merge all variables into a dataframe\n",
    "data = data_uni.merge(health, left_on = 'Area', right_on = 'MSOA Name').drop('MSOA Name', axis = 1)\n",
    "data = data.merge(age, left_on = 'Area', right_on = 'MSOA Name').drop('MSOA Name', axis = 1)\n",
    "data = data.merge(economic[['Area','Econ_inactive','Unemployed','Employed']], on = 'Area')"
   ]
  },
  {
   "cell_type": "markdown",
   "id": "d0b991e4",
   "metadata": {},
   "source": [
    "Check for collinearity first"
   ]
  },
  {
   "cell_type": "code",
   "execution_count": 15,
   "id": "f0e0aec0",
   "metadata": {},
   "outputs": [],
   "source": [
    "# Define function to drop variables using VIF\n",
    "# This function is adjusted from: https://stackoverflow.com/a/51329496/4667568\n",
    "\n",
    "def drop_column_using_vif_(df, thresh=5):\n",
    "    '''\n",
    "    Calculates VIF each feature in a pandas dataframe, and repeatedly drop the columns with the highest VIF\n",
    "    A constant must be added to variance_inflation_factor or the results will be incorrect\n",
    "\n",
    "    :param df: the pandas dataframe containing only the predictor features, not the response variable\n",
    "    :param thresh: (default 5) the threshould VIF value. If the VIF of a variable is greater than thresh, it should be removed from the dataframe\n",
    "    :return: dataframe with multicollinear features removed\n",
    "    '''\n",
    "    while True:\n",
    "        # adding a constatnt item to the data\n",
    "        df_with_const = add_constant(df)\n",
    "\n",
    "        vif_df = pd.Series([variance_inflation_factor(df_with_const.values, i) \n",
    "               for i in range(df_with_const.shape[1])], name= \"VIF\",\n",
    "              index=df_with_const.columns).to_frame()\n",
    "\n",
    "        # drop the const\n",
    "        vif_df = vif_df.drop('const')\n",
    "        \n",
    "        # if the largest VIF is above the thresh, remove a variable with the largest VIF\n",
    "        # If there are multiple variabels with VIF>thresh, only one of them is removed. This is because we want to keep as many variables as possible\n",
    "        if vif_df.VIF.max() > thresh:\n",
    "            # If there are multiple variables with the maximum VIF, choose the first one\n",
    "            index_to_drop = vif_df.index[vif_df.VIF == vif_df.VIF.max()].tolist()[0]\n",
    "            print('Dropping: {}'.format(index_to_drop))\n",
    "            df = df.drop(columns = index_to_drop)\n",
    "        else:\n",
    "            # No VIF is above threshold. Exit the loop\n",
    "            break\n",
    "\n",
    "    return df"
   ]
  },
  {
   "cell_type": "code",
   "execution_count": 32,
   "id": "c73f2892",
   "metadata": {},
   "outputs": [
    {
     "name": "stdout",
     "output_type": "stream",
     "text": [
      "Dropping: Very_good\n",
      "Dropping: Age_0-15\n",
      "Dropping: Econ_inactive\n",
      "Dropping: Bad\n",
      "Dropping: Age_65+\n",
      "Dropping: Fair\n",
      "Dropping: Age_45-64\n"
     ]
    },
    {
     "name": "stderr",
     "output_type": "stream",
     "text": [
      "/opt/conda/envs/sds2021/lib/python3.9/site-packages/statsmodels/regression/linear_model.py:1738: RuntimeWarning: divide by zero encountered in double_scalars\n",
      "  return 1 - self.ssr/self.centered_tss\n",
      "/opt/conda/envs/sds2021/lib/python3.9/site-packages/statsmodels/stats/outliers_influence.py:195: RuntimeWarning: divide by zero encountered in double_scalars\n",
      "  vif = 1. / (1. - r_squared_i)\n"
     ]
    }
   ],
   "source": [
    "# Drop collinear independent variables\n",
    "ind_var_data = drop_column_using_vif_(data.drop(['Area'] + wellbeing_cols, axis=1))"
   ]
  },
  {
   "cell_type": "markdown",
   "id": "6140948d",
   "metadata": {},
   "source": [
    "Define functions to remove outliers"
   ]
  },
  {
   "cell_type": "code",
   "execution_count": 17,
   "id": "b8ff979c",
   "metadata": {},
   "outputs": [],
   "source": [
    "# Define function to extract outliers based on Tukey fences\n",
    "\n",
    "def re_outliers(df, col_name):\n",
    "\n",
    "    '''\n",
    "    Remove the outliers from dataframe based on Tukey fences\n",
    "\n",
    "    :param df: the pandas dataframe\n",
    "    :param col_name: the column being checked for outliers\n",
    "    :return: (1) dataframe with outliers removed, and (2) outliers [area] that have been removed\n",
    "    '''\n",
    "\n",
    "    # Initialize\n",
    "    df_clean = df\n",
    "    outliers_areas = []\n",
    "    temp_areas = []\n",
    "\n",
    "    while True:\n",
    "    \n",
    "        # Compute quartiles and IQR\n",
    "        q1 = df_clean[col_name].quantile(0.25)\n",
    "        q3 = df_clean[col_name].quantile(0.75)\n",
    "        iqr = q3 - q1\n",
    "        # Compute Tukey fences\n",
    "        lo_tukey = q1 - 1.5*iqr\n",
    "        hi_tukey = q3 + 1.5*iqr\n",
    "    \n",
    "        # Locate the rows and areas that are outside the Tukey fences\n",
    "        outliers_rows = df_clean.index[(df_clean[col_name] < lo_tukey) | (df_clean[col_name] > hi_tukey)]\n",
    "        \n",
    "        if len(outliers_rows) > 0:\n",
    "            temp_areas = df_clean['Area'][outliers_rows].values.tolist()\n",
    "            outliers_areas = list(set(outliers_areas + temp_areas))\n",
    "            df_clean = df_clean.drop(index = outliers_rows)\n",
    "        else:\n",
    "            break\n",
    "    \n",
    "    # Return both cleaned df and outlier areas\n",
    "    return df_clean, sorted(outliers_areas)"
   ]
  },
  {
   "cell_type": "code",
   "execution_count": 18,
   "id": "f26d3ee3",
   "metadata": {},
   "outputs": [],
   "source": [
    "# Define function to remove outliers in paired samples\n",
    "\n",
    "def re_outliers_paired(df, col_name):\n",
    "\n",
    "    '''\n",
    "    Remove the outliers from dataframe based on Tukey fences in paired fashion for multiple columns\n",
    "\n",
    "    :param df: the pandas dataframe\n",
    "    :param col_name: the list of column(s) being checked for outliers\n",
    "    :return: (1) dataframe with outliers removed, and (2) outliers [local authority area] that have been removed\n",
    "    '''\n",
    "    # initialize list to hold outlier areas\n",
    "    outliers_area = []\n",
    "    \n",
    "    # For each column\n",
    "    for col in col_name:\n",
    "        # get outliers for the column\n",
    "        temp_df, temp_outliers = re_outliers(df, col)\n",
    "        # find all unique areas\n",
    "        outliers_area = list(set(outliers_area + temp_outliers))\n",
    "    \n",
    "    outliers_area = sorted(outliers_area)\n",
    "    \n",
    "    # For all outlier areas\n",
    "    df_clean = df\n",
    "    for i in outliers_area:\n",
    "        # Drop from df\n",
    "        df_clean = df_clean.drop(df.index[df['Area'] == i])\n",
    "    \n",
    "    return df_clean, outliers_area"
   ]
  },
  {
   "cell_type": "markdown",
   "id": "78d71306",
   "metadata": {},
   "source": [
    "Perform regression"
   ]
  },
  {
   "cell_type": "code",
   "execution_count": 19,
   "id": "40113a50",
   "metadata": {},
   "outputs": [],
   "source": [
    "# Define function to perform backwards regression using p-value as selection criterion\n",
    "\n",
    "def back_regress(df_dep, df_ind, thresh=0.05):\n",
    "    '''\n",
    "    Performs regression with backwards selection of variables using AIC as selection criterion.\n",
    "\n",
    "    :param df_dep, df_ind: the pandas dataframe containing dependent variable and indepdendent variables respectively.\n",
    "    :return: the final regression model\n",
    "    '''    \n",
    "    \n",
    "    # Initialize index_to_drop\n",
    "    index_to_drop = []\n",
    "    \n",
    "    while True:\n",
    "        # Get variables\n",
    "        var = df_ind.columns.values.tolist()\n",
    "        \n",
    "        # Perform regressions\n",
    "        if index_to_drop == 'const':\n",
    "            reg_model = sm.OLS(endog=df_dep, exog=df_ind).fit()\n",
    "        else:\n",
    "            reg_model = sm.OLS(endog=df_dep, exog=sm.add_constant(df_ind)).fit()\n",
    "        \n",
    "        # Find p-values for all variables\n",
    "        df_pval = reg_model.pvalues\n",
    "        #df_pval = pd.Series([reg_model.pvalues[i] for i in var], name='pvalue', index = var).to_frame()\n",
    "        \n",
    "        # If best (lowest) new AIC is lower than the current best, remove variable that improves AIC the most\n",
    "        if df_pval.max() > thresh:\n",
    "            # If there are multiple variables with best new AIC, choose the first one\n",
    "            index_to_drop = df_pval.index[df_pval == df_pval.max()].tolist()[0]\n",
    "            print('Dropping: {}'.format(index_to_drop))\n",
    "            # Drop variable from df_ind\n",
    "            if index_to_drop != 'const':\n",
    "                df_ind = df_ind.drop(columns = index_to_drop)\n",
    "        else:\n",
    "            break\n",
    "            \n",
    "    # Perform regression with final set of variables\n",
    "    if index_to_drop == 'const':\n",
    "        reg_model = sm.OLS(endog=df_dep, exog=df_ind).fit()\n",
    "    else:\n",
    "        reg_model = sm.OLS(endog=df_dep, exog=sm.add_constant(df_ind)).fit()\n",
    "    \n",
    "    return reg_model"
   ]
  },
  {
   "cell_type": "code",
   "execution_count": 20,
   "id": "fad9a974",
   "metadata": {},
   "outputs": [
    {
     "name": "stdout",
     "output_type": "stream",
     "text": [
      "PERFORMING REGRESSION ON:LIFE SATISFACTION\n",
      "Dropping: Age_15-29\n",
      "Dropping: Employed\n",
      "Dropping: percent_green\n",
      "                            OLS Regression Results                            \n",
      "==============================================================================\n",
      "Dep. Variable:      Life Satisfaction   R-squared:                       0.710\n",
      "Model:                            OLS   Adj. R-squared:                  0.667\n",
      "Method:                 Least Squares   F-statistic:                     16.52\n",
      "Date:                Wed, 05 Jan 2022   Prob (F-statistic):           5.88e-07\n",
      "Time:                        23:11:47   Log-Likelihood:                 33.337\n",
      "No. Observations:                  32   AIC:                            -56.67\n",
      "Df Residuals:                      27   BIC:                            -49.35\n",
      "Df Model:                           4                                         \n",
      "Covariance Type:            nonrobust                                         \n",
      "==============================================================================\n",
      "                 coef    std err          t      P>|t|      [0.025      0.975]\n",
      "------------------------------------------------------------------------------\n",
      "const          9.8573      0.720     13.698      0.000       8.381      11.334\n",
      "Good          -0.0409      0.016     -2.638      0.014      -0.073      -0.009\n",
      "Very_bad      -0.2289      0.100     -2.293      0.030      -0.434      -0.024\n",
      "Age_30-44     -0.0267      0.011     -2.523      0.018      -0.048      -0.005\n",
      "Unemployed    -0.0410      0.018     -2.280      0.031      -0.078      -0.004\n",
      "==============================================================================\n",
      "Omnibus:                        1.907   Durbin-Watson:                   2.057\n",
      "Prob(Omnibus):                  0.385   Jarque-Bera (JB):                1.755\n",
      "Skew:                          -0.510   Prob(JB):                        0.416\n",
      "Kurtosis:                       2.474   Cond. No.                     1.86e+03\n",
      "==============================================================================\n",
      "\n",
      "Notes:\n",
      "[1] Standard Errors assume that the covariance matrix of the errors is correctly specified.\n",
      "[2] The condition number is large, 1.86e+03. This might indicate that there are\n",
      "strong multicollinearity or other numerical problems.\n"
     ]
    },
    {
     "data": {
      "image/png": "[encoded data removed]",
      "text/plain": [
       "<Figure size 432x288 with 1 Axes>"
      ]
     },
     "metadata": {
      "needs_background": "light"
     },
     "output_type": "display_data"
    },
    {
     "name": "stdout",
     "output_type": "stream",
     "text": [
      "\n",
      "\n",
      "PERFORMING REGRESSION ON:WORTHWHILE\n",
      "Dropping: Employed\n",
      "Dropping: percent_green\n",
      "Dropping: Unemployed\n",
      "Dropping: Age_30-44\n",
      "                            OLS Regression Results                            \n",
      "==============================================================================\n",
      "Dep. Variable:             Worthwhile   R-squared:                       0.673\n",
      "Model:                            OLS   Adj. R-squared:                  0.638\n",
      "Method:                 Least Squares   F-statistic:                     19.22\n",
      "Date:                Wed, 05 Jan 2022   Prob (F-statistic):           5.74e-07\n",
      "Time:                        23:11:47   Log-Likelihood:                 29.928\n",
      "No. Observations:                  32   AIC:                            -51.86\n",
      "Df Residuals:                      28   BIC:                            -45.99\n",
      "Df Model:                           3                                         \n",
      "Covariance Type:            nonrobust                                         \n",
      "==============================================================================\n",
      "                 coef    std err          t      P>|t|      [0.025      0.975]\n",
      "------------------------------------------------------------------------------\n",
      "const          9.2915      0.373     24.881      0.000       8.527      10.056\n",
      "Good          -0.0276      0.009     -2.932      0.007      -0.047      -0.008\n",
      "Very_bad      -0.2289      0.100     -2.284      0.030      -0.434      -0.024\n",
      "Age_15-29     -0.0258      0.007     -3.870      0.001      -0.039      -0.012\n",
      "==============================================================================\n",
      "Omnibus:                        3.275   Durbin-Watson:                   2.356\n",
      "Prob(Omnibus):                  0.194   Jarque-Bera (JB):                2.968\n",
      "Skew:                          -0.701   Prob(JB):                        0.227\n",
      "Kurtosis:                       2.487   Cond. No.                         836.\n",
      "==============================================================================\n",
      "\n",
      "Notes:\n",
      "[1] Standard Errors assume that the covariance matrix of the errors is correctly specified.\n"
     ]
    },
    {
     "data": {
      "image/png": "[encoded data removed]",
      "text/plain": [
       "<Figure size 432x288 with 1 Axes>"
      ]
     },
     "metadata": {
      "needs_background": "light"
     },
     "output_type": "display_data"
    },
    {
     "name": "stdout",
     "output_type": "stream",
     "text": [
      "\n",
      "\n",
      "PERFORMING REGRESSION ON:HAPPINESS\n",
      "Dropping: Very_bad\n",
      "Dropping: Age_30-44\n",
      "Dropping: Good\n",
      "Dropping: Age_15-29\n",
      "Dropping: Employed\n",
      "Dropping: percent_green\n",
      "                            OLS Regression Results                            \n",
      "==============================================================================\n",
      "Dep. Variable:              Happiness   R-squared:                       0.354\n",
      "Model:                            OLS   Adj. R-squared:                  0.332\n",
      "Method:                 Least Squares   F-statistic:                     16.41\n",
      "Date:                Wed, 05 Jan 2022   Prob (F-statistic):           0.000332\n",
      "Time:                        23:11:47   Log-Likelihood:                 25.548\n",
      "No. Observations:                  32   AIC:                            -47.10\n",
      "Df Residuals:                      30   BIC:                            -44.17\n",
      "Df Model:                           1                                         \n",
      "Covariance Type:            nonrobust                                         \n",
      "==============================================================================\n",
      "                 coef    std err          t      P>|t|      [0.025      0.975]\n",
      "------------------------------------------------------------------------------\n",
      "const          7.5713      0.095     80.084      0.000       7.378       7.764\n",
      "Unemployed    -0.0542      0.013     -4.051      0.000      -0.081      -0.027\n",
      "==============================================================================\n",
      "Omnibus:                        0.544   Durbin-Watson:                   2.546\n",
      "Prob(Omnibus):                  0.762   Jarque-Bera (JB):                0.166\n",
      "Skew:                           0.174   Prob(JB):                        0.921\n",
      "Kurtosis:                       3.051   Cond. No.                         34.3\n",
      "==============================================================================\n",
      "\n",
      "Notes:\n",
      "[1] Standard Errors assume that the covariance matrix of the errors is correctly specified.\n"
     ]
    },
    {
     "data": {
      "image/png": "[encoded data removed]",
      "text/plain": [
       "<Figure size 432x288 with 1 Axes>"
      ]
     },
     "metadata": {
      "needs_background": "light"
     },
     "output_type": "display_data"
    },
    {
     "name": "stdout",
     "output_type": "stream",
     "text": [
      "\n",
      "\n"
     ]
    }
   ],
   "source": [
    "# Perform regression without removing outliers\n",
    "\n",
    "for cat in wellbeing_cols:\n",
    "    print(f'PERFORMING REGRESSION ON:{cat.upper()}')\n",
    "\n",
    "    # Perform regression\n",
    "    reg_model = back_regress(data[cat], ind_var_data)\n",
    "    #reg_model = sm.OLS(endog=data[cat], exog=sm.add_constant(ind_var_data)).fit()\n",
    "    print(reg_model.summary())\n",
    "\n",
    "    # plot residual vs. fit\n",
    "    plt.scatter(reg_model.fittedvalues, reg_model.resid)\n",
    "    plt.xlabel('Fitted Value')\n",
    "    plt.ylabel('Residual')\n",
    "    plt.title('Residual vs. Fitted Plot for ' + cat.title())\n",
    "    plt.show()\n",
    "    print('\\n')"
   ]
  },
  {
   "cell_type": "code",
   "execution_count": 21,
   "id": "cb6e9d34",
   "metadata": {},
   "outputs": [
    {
     "name": "stdout",
     "output_type": "stream",
     "text": [
      "PERFORMING REGRESSION ON:LIFE SATISFACTION\n",
      "Outliers: []\n",
      "Dropping: Age_15-29\n",
      "Dropping: Employed\n",
      "Dropping: percent_green\n",
      "                            OLS Regression Results                            \n",
      "==============================================================================\n",
      "Dep. Variable:      Life Satisfaction   R-squared:                       0.710\n",
      "Model:                            OLS   Adj. R-squared:                  0.667\n",
      "Method:                 Least Squares   F-statistic:                     16.52\n",
      "Date:                Wed, 05 Jan 2022   Prob (F-statistic):           5.88e-07\n",
      "Time:                        23:11:47   Log-Likelihood:                 33.337\n",
      "No. Observations:                  32   AIC:                            -56.67\n",
      "Df Residuals:                      27   BIC:                            -49.35\n",
      "Df Model:                           4                                         \n",
      "Covariance Type:            nonrobust                                         \n",
      "==============================================================================\n",
      "                 coef    std err          t      P>|t|      [0.025      0.975]\n",
      "------------------------------------------------------------------------------\n",
      "const          9.8573      0.720     13.698      0.000       8.381      11.334\n",
      "Good          -0.0409      0.016     -2.638      0.014      -0.073      -0.009\n",
      "Very_bad      -0.2289      0.100     -2.293      0.030      -0.434      -0.024\n",
      "Age_30-44     -0.0267      0.011     -2.523      0.018      -0.048      -0.005\n",
      "Unemployed    -0.0410      0.018     -2.280      0.031      -0.078      -0.004\n",
      "==============================================================================\n",
      "Omnibus:                        1.907   Durbin-Watson:                   2.057\n",
      "Prob(Omnibus):                  0.385   Jarque-Bera (JB):                1.755\n",
      "Skew:                          -0.510   Prob(JB):                        0.416\n",
      "Kurtosis:                       2.474   Cond. No.                     1.86e+03\n",
      "==============================================================================\n",
      "\n",
      "Notes:\n",
      "[1] Standard Errors assume that the covariance matrix of the errors is correctly specified.\n",
      "[2] The condition number is large, 1.86e+03. This might indicate that there are\n",
      "strong multicollinearity or other numerical problems.\n"
     ]
    },
    {
     "data": {
      "image/png": "[encoded data removed]",
      "text/plain": [
       "<Figure size 432x288 with 1 Axes>"
      ]
     },
     "metadata": {
      "needs_background": "light"
     },
     "output_type": "display_data"
    },
    {
     "name": "stdout",
     "output_type": "stream",
     "text": [
      "\n",
      "\n",
      "PERFORMING REGRESSION ON:WORTHWHILE\n",
      "Outliers: []\n",
      "Dropping: Employed\n",
      "Dropping: percent_green\n",
      "Dropping: Unemployed\n",
      "Dropping: Age_30-44\n",
      "                            OLS Regression Results                            \n",
      "==============================================================================\n",
      "Dep. Variable:             Worthwhile   R-squared:                       0.673\n",
      "Model:                            OLS   Adj. R-squared:                  0.638\n",
      "Method:                 Least Squares   F-statistic:                     19.22\n",
      "Date:                Wed, 05 Jan 2022   Prob (F-statistic):           5.74e-07\n",
      "Time:                        23:11:48   Log-Likelihood:                 29.928\n",
      "No. Observations:                  32   AIC:                            -51.86\n",
      "Df Residuals:                      28   BIC:                            -45.99\n",
      "Df Model:                           3                                         \n",
      "Covariance Type:            nonrobust                                         \n",
      "==============================================================================\n",
      "                 coef    std err          t      P>|t|      [0.025      0.975]\n",
      "------------------------------------------------------------------------------\n",
      "const          9.2915      0.373     24.881      0.000       8.527      10.056\n",
      "Good          -0.0276      0.009     -2.932      0.007      -0.047      -0.008\n",
      "Very_bad      -0.2289      0.100     -2.284      0.030      -0.434      -0.024\n",
      "Age_15-29     -0.0258      0.007     -3.870      0.001      -0.039      -0.012\n",
      "==============================================================================\n",
      "Omnibus:                        3.275   Durbin-Watson:                   2.356\n",
      "Prob(Omnibus):                  0.194   Jarque-Bera (JB):                2.968\n",
      "Skew:                          -0.701   Prob(JB):                        0.227\n",
      "Kurtosis:                       2.487   Cond. No.                         836.\n",
      "==============================================================================\n",
      "\n",
      "Notes:\n",
      "[1] Standard Errors assume that the covariance matrix of the errors is correctly specified.\n"
     ]
    },
    {
     "data": {
      "image/png": "[encoded data removed]",
      "text/plain": [
       "<Figure size 432x288 with 1 Axes>"
      ]
     },
     "metadata": {
      "needs_background": "light"
     },
     "output_type": "display_data"
    },
    {
     "name": "stdout",
     "output_type": "stream",
     "text": [
      "\n",
      "\n",
      "PERFORMING REGRESSION ON:HAPPINESS\n",
      "Outliers: []\n",
      "Dropping: Very_bad\n",
      "Dropping: Age_30-44\n",
      "Dropping: Good\n",
      "Dropping: Age_15-29\n",
      "Dropping: Employed\n",
      "Dropping: percent_green\n",
      "                            OLS Regression Results                            \n",
      "==============================================================================\n",
      "Dep. Variable:              Happiness   R-squared:                       0.354\n",
      "Model:                            OLS   Adj. R-squared:                  0.332\n",
      "Method:                 Least Squares   F-statistic:                     16.41\n",
      "Date:                Wed, 05 Jan 2022   Prob (F-statistic):           0.000332\n",
      "Time:                        23:11:48   Log-Likelihood:                 25.548\n",
      "No. Observations:                  32   AIC:                            -47.10\n",
      "Df Residuals:                      30   BIC:                            -44.17\n",
      "Df Model:                           1                                         \n",
      "Covariance Type:            nonrobust                                         \n",
      "==============================================================================\n",
      "                 coef    std err          t      P>|t|      [0.025      0.975]\n",
      "------------------------------------------------------------------------------\n",
      "const          7.5713      0.095     80.084      0.000       7.378       7.764\n",
      "Unemployed    -0.0542      0.013     -4.051      0.000      -0.081      -0.027\n",
      "==============================================================================\n",
      "Omnibus:                        0.544   Durbin-Watson:                   2.546\n",
      "Prob(Omnibus):                  0.762   Jarque-Bera (JB):                0.166\n",
      "Skew:                           0.174   Prob(JB):                        0.921\n",
      "Kurtosis:                       3.051   Cond. No.                         34.3\n",
      "==============================================================================\n",
      "\n",
      "Notes:\n",
      "[1] Standard Errors assume that the covariance matrix of the errors is correctly specified.\n"
     ]
    },
    {
     "data": {
      "image/png": "[encoded data removed]",
      "text/plain": [
       "<Figure size 432x288 with 1 Axes>"
      ]
     },
     "metadata": {
      "needs_background": "light"
     },
     "output_type": "display_data"
    },
    {
     "name": "stdout",
     "output_type": "stream",
     "text": [
      "\n",
      "\n"
     ]
    }
   ],
   "source": [
    "# Perform regression with outliers removed\n",
    "\n",
    "for cat in wellbeing_cols:\n",
    "    print(f'PERFORMING REGRESSION ON:{cat.upper()}')\n",
    "\n",
    "    # Remove outliers first\n",
    "    ind_var = ind_var_data.columns.tolist()\n",
    "    df = data[['Area', cat]+ ind_var]\n",
    "    data_reout, outliers_area = re_outliers_paired(df, ([cat]+ ind_var))\n",
    "    print('Outliers:', format(outliers_area))\n",
    "\n",
    "    # Perform regression\n",
    "    reg_model = back_regress(data_reout[cat], data_reout[ind_var])\n",
    "    #reg_model = sm.OLS(endog=data_reout[cat], exog=sm.add_constant(data_reout[ind_var])).fit()\n",
    "    print(reg_model.summary())\n",
    "\n",
    "    # plot residual vs. fit\n",
    "    plt.scatter(reg_model.fittedvalues, reg_model.resid)\n",
    "    plt.xlabel('Fitted Value')\n",
    "    plt.ylabel('Residual')\n",
    "    plt.title('Residual vs. Fitted Plot for ' + cat.title())\n",
    "    plt.show()\n",
    "    print('\\n')"
   ]
  },
  {
   "cell_type": "markdown",
   "id": "8c90adf9",
   "metadata": {},
   "source": [
    "Once we add other variables, there is no longer any significant relationship between well-being scores and NDVI. Significance of relationship between well-being scores and NDVI may be due to associations with other predictors.\n",
    "\n",
    "Justify looking for mediators???"
   ]
  },
  {
   "cell_type": "markdown",
   "id": "e68a2a5f",
   "metadata": {},
   "source": [
    "## Regression 2: Mediators against NDVI\n",
    "\n",
    "Four mediators from literature: Physical exercise, air quality and noise, self-reported stress, and social cohesion.\n",
    "\n",
    "Due to lack of data, I am unable to look at social cohesion. Also, I will only be looking at objective air quality."
   ]
  },
  {
   "cell_type": "markdown",
   "id": "288ec606",
   "metadata": {},
   "source": [
    "### Physical Activity"
   ]
  },
  {
   "cell_type": "code",
   "execution_count": 24,
   "id": "9c0ebe0a",
   "metadata": {},
   "outputs": [],
   "source": [
    "# Read in physical exercise (from 2012)\n",
    "exercise = pd.read_excel(os.path.join(os.getcwd(), 'Data', 'LSD21-APS-Physical-Activity-Levels.xlsx'),\n",
    "                         sheet_name = '2012', usecols = ['GSS_Code', 'Region', 'Active'])\n",
    "\n",
    "# Keep only data on London boroughs (Area Code starts with E09)\n",
    "exercise = exercise[exercise['GSS_Code'].str.match(r'E09')].sort_values(by = ['GSS_Code'], ascending=True)\n",
    "exercise = exercise.reset_index(drop = True)\n",
    "\n",
    "# Convert 'Active' to percentage\n",
    "exercise.Active = exercise.Active*100"
   ]
  },
  {
   "cell_type": "code",
   "execution_count": 26,
   "id": "cdaac4c5",
   "metadata": {},
   "outputs": [
    {
     "data": {
      "image/png": "[encoded data removed]",
      "text/plain": [
       "<Figure size 432x432 with 1 Axes>"
      ]
     },
     "metadata": {
      "needs_background": "light"
     },
     "output_type": "display_data"
    }
   ],
   "source": [
    "# Box plot\n",
    "plt.figure(figsize=(6, 6))\n",
    "plt.title('Boxplot of Physical Exercise')\n",
    "plt.xlabel('Physical Exercise')\n",
    "plt.ylabel('Percentage')\n",
    "plt_exercise = exercise.boxplot('Active', grid = False, rot = 30, widths = 0.5)"
   ]
  },
  {
   "cell_type": "code",
   "execution_count": 40,
   "id": "5c1313ad",
   "metadata": {},
   "outputs": [
    {
     "name": "stdout",
     "output_type": "stream",
     "text": [
      "                            OLS Regression Results                            \n",
      "==============================================================================\n",
      "Dep. Variable:                 Active   R-squared:                       0.000\n",
      "Model:                            OLS   Adj. R-squared:                 -0.033\n",
      "Method:                 Least Squares   F-statistic:                 9.029e-05\n",
      "Date:                Wed, 05 Jan 2022   Prob (F-statistic):              0.992\n",
      "Time:                        23:39:10   Log-Likelihood:                -94.981\n",
      "No. Observations:                  32   AIC:                             194.0\n",
      "Df Residuals:                      30   BIC:                             196.9\n",
      "Df Model:                           1                                         \n",
      "Covariance Type:            nonrobust                                         \n",
      "=================================================================================\n",
      "                    coef    std err          t      P>|t|      [0.025      0.975]\n",
      "---------------------------------------------------------------------------------\n",
      "const            56.6806      3.656     15.504      0.000      49.214      64.147\n",
      "percent_green    -0.0008      0.079     -0.010      0.992      -0.163       0.161\n",
      "==============================================================================\n",
      "Omnibus:                        1.756   Durbin-Watson:                   1.833\n",
      "Prob(Omnibus):                  0.416   Jarque-Bera (JB):                1.619\n",
      "Skew:                           0.498   Prob(JB):                        0.445\n",
      "Kurtosis:                       2.527   Cond. No.                         196.\n",
      "==============================================================================\n",
      "\n",
      "Notes:\n",
      "[1] Standard Errors assume that the covariance matrix of the errors is correctly specified.\n"
     ]
    },
    {
     "data": {
      "image/png": "[encoded data removed]",
      "text/plain": [
       "<Figure size 432x288 with 1 Axes>"
      ]
     },
     "metadata": {
      "needs_background": "light"
     },
     "output_type": "display_data"
    }
   ],
   "source": [
    "# Merge data\n",
    "data_uni = pd.merge(exercise[['Region', 'Active']], ndvi[['lb_code','percent_green']], \n",
    "                    left_on = 'Region', right_on = 'lb_code').drop('lb_code', axis = 1)\n",
    "\n",
    "# Regress physical activity against NDVI\n",
    "\n",
    "reg_model = sm.OLS(endog=data_uni.Active, exog=sm.add_constant(data_uni.percent_green)).fit()\n",
    "print(reg_model.summary())\n",
    "plt.scatter(reg_model.fittedvalues, reg_model.resid)\n",
    "plt.xlabel('Fitted Value')\n",
    "plt.ylabel('Residual')\n",
    "plt.title('Residual vs. Fitted Plot for Physical Exercise')\n",
    "plt.show()"
   ]
  },
  {
   "cell_type": "markdown",
   "id": "9e7e936e",
   "metadata": {},
   "source": [
    "Physical activity not significantly correlated with NDVI"
   ]
  },
  {
   "cell_type": "markdown",
   "id": "82261d18",
   "metadata": {},
   "source": [
    "### Air Quality"
   ]
  },
  {
   "cell_type": "code",
   "execution_count": 85,
   "id": "9409e51c",
   "metadata": {},
   "outputs": [],
   "source": [
    "# Read in air quality (from 2013)\n",
    "air_quality = pd.read_excel(os.path.join(os.getcwd(), 'Data', 'NO2_AnnualMean_2013_PopulationData.xlsx'),\n",
    "                            sheet_name = 'Borough exceeding 40', skiprows = 4, \n",
    "                            usecols=['Borough Name', 'PopExc2013 %'])\n",
    "air_quality['Borough Name'] = air_quality['Borough Name'].str.replace('&', 'and')\n",
    "\n",
    "# Drop City of London\n",
    "air_quality.drop(air_quality[air_quality['Borough Name'] == 'City of London'].index, inplace = True)\n",
    "air_quality = air_quality.reset_index(drop = True)\n"
   ]
  },
  {
   "cell_type": "code",
   "execution_count": 86,
   "id": "dac75d39",
   "metadata": {},
   "outputs": [
    {
     "data": {
      "image/png": "[encoded data removed]",
      "text/plain": [
       "<Figure size 432x432 with 1 Axes>"
      ]
     },
     "metadata": {
      "needs_background": "light"
     },
     "output_type": "display_data"
    }
   ],
   "source": [
    "# Box plot\n",
    "plt.figure(figsize=(6, 6))\n",
    "plt.title('Boxplot of Air Quality')\n",
    "plt.xlabel('Percentage of Population Exceeding Limits')\n",
    "plt.ylabel('Percentage')\n",
    "plt_air = air_quality.boxplot('PopExc2013 %', grid = False, rot = 30, widths = 0.5)"
   ]
  },
  {
   "cell_type": "code",
   "execution_count": 87,
   "id": "a6e8fbe6",
   "metadata": {},
   "outputs": [
    {
     "name": "stdout",
     "output_type": "stream",
     "text": [
      "                            OLS Regression Results                            \n",
      "==============================================================================\n",
      "Dep. Variable:           PopExc2013 %   R-squared:                       0.377\n",
      "Model:                            OLS   Adj. R-squared:                  0.356\n",
      "Method:                 Least Squares   F-statistic:                     18.15\n",
      "Date:                Thu, 06 Jan 2022   Prob (F-statistic):           0.000186\n",
      "Time:                        00:06:56   Log-Likelihood:                -138.73\n",
      "No. Observations:                  32   AIC:                             281.5\n",
      "Df Residuals:                      30   BIC:                             284.4\n",
      "Df Model:                           1                                         \n",
      "Covariance Type:            nonrobust                                         \n",
      "=================================================================================\n",
      "                    coef    std err          t      P>|t|      [0.025      0.975]\n",
      "---------------------------------------------------------------------------------\n",
      "const            78.0252     14.349      5.438      0.000      48.721     107.329\n",
      "percent_green    -1.3261      0.311     -4.260      0.000      -1.962      -0.690\n",
      "==============================================================================\n",
      "Omnibus:                        7.626   Durbin-Watson:                   1.334\n",
      "Prob(Omnibus):                  0.022   Jarque-Bera (JB):                6.320\n",
      "Skew:                           1.056   Prob(JB):                       0.0424\n",
      "Kurtosis:                       3.528   Cond. No.                         196.\n",
      "==============================================================================\n",
      "\n",
      "Notes:\n",
      "[1] Standard Errors assume that the covariance matrix of the errors is correctly specified.\n"
     ]
    },
    {
     "data": {
      "image/png": "[encoded data removed]",
      "text/plain": [
       "<Figure size 432x288 with 1 Axes>"
      ]
     },
     "metadata": {
      "needs_background": "light"
     },
     "output_type": "display_data"
    }
   ],
   "source": [
    "# Merge data\n",
    "data_uni = pd.merge(air_quality, ndvi[['lb_code','percent_green']], \n",
    "                    left_on = 'Borough Name', right_on = 'lb_code').drop('lb_code', axis = 1)\n",
    "\n",
    "# Regress air quality against NDVI without removing outliers\n",
    "\n",
    "reg_model = sm.OLS(endog=data_uni['PopExc2013 %'], exog=sm.add_constant(data_uni.percent_green)).fit()\n",
    "print(reg_model.summary())\n",
    "plt.scatter(reg_model.fittedvalues, reg_model.resid)\n",
    "plt.xlabel('Fitted Value')\n",
    "plt.ylabel('Residual')\n",
    "plt.title('Residual vs. Fitted Plot for Air Quality')\n",
    "plt.show()"
   ]
  },
  {
   "cell_type": "code",
   "execution_count": 88,
   "id": "cc8f37bb",
   "metadata": {},
   "outputs": [
    {
     "data": {
      "text/plain": [
       "<matplotlib.collections.PathCollection at 0x7fdd00922c10>"
      ]
     },
     "execution_count": 88,
     "metadata": {},
     "output_type": "execute_result"
    },
    {
     "data": {
      "image/png": "[encoded data removed]",
      "text/plain": [
       "<Figure size 432x288 with 1 Axes>"
      ]
     },
     "metadata": {
      "needs_background": "light"
     },
     "output_type": "display_data"
    }
   ],
   "source": [
    "plt.scatter(ndvi.percent_green, air_quality['PopExc2013 %'])"
   ]
  },
  {
   "cell_type": "markdown",
   "id": "b8dad4a9",
   "metadata": {},
   "source": [
    "Greenery has negative and significant relationship with air quality. However, there appears to be heteroskedasticity, likely because there are a lot of values near zero. Try taking log."
   ]
  },
  {
   "cell_type": "code",
   "execution_count": 90,
   "id": "dc6f81dc",
   "metadata": {},
   "outputs": [
    {
     "data": {
      "image/png": "[encoded data removed]",
      "text/plain": [
       "<Figure size 432x432 with 1 Axes>"
      ]
     },
     "metadata": {
      "needs_background": "light"
     },
     "output_type": "display_data"
    }
   ],
   "source": [
    "# Log\n",
    "air_quality['log_PopExc2013 %'] = air_quality['PopExc2013 %'].apply(log)\n",
    "\n",
    "# Box plot\n",
    "plt.figure(figsize=(6, 6))\n",
    "plt.title('Boxplot of Air Quality')\n",
    "plt.xlabel('Percentage of Population Exceeding Limits')\n",
    "plt.ylabel('Log Percentage')\n",
    "plt_air = air_quality.boxplot('log_PopExc2013 %', grid = False, rot = 30, widths = 0.5)"
   ]
  },
  {
   "cell_type": "code",
   "execution_count": 91,
   "id": "1c7a1c37",
   "metadata": {},
   "outputs": [
    {
     "name": "stdout",
     "output_type": "stream",
     "text": [
      "                            OLS Regression Results                            \n",
      "==============================================================================\n",
      "Dep. Variable:       log_PopExc2013 %   R-squared:                       0.370\n",
      "Model:                            OLS   Adj. R-squared:                  0.349\n",
      "Method:                 Least Squares   F-statistic:                     17.60\n",
      "Date:                Thu, 06 Jan 2022   Prob (F-statistic):           0.000223\n",
      "Time:                        00:08:06   Log-Likelihood:                -48.499\n",
      "No. Observations:                  32   AIC:                             101.0\n",
      "Df Residuals:                      30   BIC:                             103.9\n",
      "Df Model:                           1                                         \n",
      "Covariance Type:            nonrobust                                         \n",
      "=================================================================================\n",
      "                    coef    std err          t      P>|t|      [0.025      0.975]\n",
      "---------------------------------------------------------------------------------\n",
      "const             5.5777      0.855      6.521      0.000       3.831       7.325\n",
      "percent_green    -0.0779      0.019     -4.195      0.000      -0.116      -0.040\n",
      "==============================================================================\n",
      "Omnibus:                        1.397   Durbin-Watson:                   1.453\n",
      "Prob(Omnibus):                  0.497   Jarque-Bera (JB):                1.239\n",
      "Skew:                          -0.452   Prob(JB):                        0.538\n",
      "Kurtosis:                       2.664   Cond. No.                         196.\n",
      "==============================================================================\n",
      "\n",
      "Notes:\n",
      "[1] Standard Errors assume that the covariance matrix of the errors is correctly specified.\n"
     ]
    },
    {
     "data": {
      "image/png": "[encoded data removed]",
      "text/plain": [
       "<Figure size 432x288 with 1 Axes>"
      ]
     },
     "metadata": {
      "needs_background": "light"
     },
     "output_type": "display_data"
    }
   ],
   "source": [
    "# Merge data\n",
    "data_uni = pd.merge(air_quality, ndvi[['lb_code','percent_green']], \n",
    "                    left_on = 'Borough Name', right_on = 'lb_code').drop('lb_code', axis = 1)\n",
    "\n",
    "# Regress air quality against NDVI without removing outliers\n",
    "\n",
    "reg_model = sm.OLS(endog=data_uni['log_PopExc2013 %'], exog=sm.add_constant(data_uni.percent_green)).fit()\n",
    "print(reg_model.summary())\n",
    "plt.scatter(reg_model.fittedvalues, reg_model.resid)\n",
    "plt.xlabel('Fitted Value')\n",
    "plt.ylabel('Residual')\n",
    "plt.title('Residual vs. Fitted Plot for Air Quality')\n",
    "plt.show()"
   ]
  },
  {
   "cell_type": "markdown",
   "id": "163455f0",
   "metadata": {},
   "source": [
    "Negative and significant relationship between log pop exceeding limits and greenery. With homoskedasticity."
   ]
  },
  {
   "cell_type": "markdown",
   "id": "d347a6be",
   "metadata": {},
   "source": [
    "### Stress"
   ]
  },
  {
   "cell_type": "code",
   "execution_count": 96,
   "id": "72865230",
   "metadata": {},
   "outputs": [
    {
     "name": "stdout",
     "output_type": "stream",
     "text": [
      "                            OLS Regression Results                            \n",
      "==============================================================================\n",
      "Dep. Variable:                Anxiety   R-squared:                       0.024\n",
      "Model:                            OLS   Adj. R-squared:                 -0.009\n",
      "Method:                 Least Squares   F-statistic:                    0.7343\n",
      "Date:                Thu, 06 Jan 2022   Prob (F-statistic):              0.398\n",
      "Time:                        00:11:59   Log-Likelihood:                -5.9201\n",
      "No. Observations:                  32   AIC:                             15.84\n",
      "Df Residuals:                      30   BIC:                             18.77\n",
      "Df Model:                           1                                         \n",
      "Covariance Type:            nonrobust                                         \n",
      "=================================================================================\n",
      "                    coef    std err          t      P>|t|      [0.025      0.975]\n",
      "---------------------------------------------------------------------------------\n",
      "const             3.5964      0.226     15.907      0.000       3.135       4.058\n",
      "percent_green    -0.0042      0.005     -0.857      0.398      -0.014       0.006\n",
      "==============================================================================\n",
      "Omnibus:                        4.142   Durbin-Watson:                   1.887\n",
      "Prob(Omnibus):                  0.126   Jarque-Bera (JB):                2.868\n",
      "Skew:                          -0.710   Prob(JB):                        0.238\n",
      "Kurtosis:                       3.370   Cond. No.                         196.\n",
      "==============================================================================\n",
      "\n",
      "Notes:\n",
      "[1] Standard Errors assume that the covariance matrix of the errors is correctly specified.\n"
     ]
    },
    {
     "data": {
      "image/png": "[encoded data removed]",
      "text/plain": [
       "<Figure size 432x288 with 1 Axes>"
      ]
     },
     "metadata": {
      "needs_background": "light"
     },
     "output_type": "display_data"
    }
   ],
   "source": [
    "# Merge data\n",
    "data_uni = pd.merge(wellbeing, ndvi[['lb_code','percent_green']], \n",
    "                    left_on = 'Area', right_on = 'lb_code').drop('lb_code', axis = 1)\n",
    "\n",
    "# Regress physical activity against NDVI\n",
    "reg_model = sm.OLS(endog=data_uni.Anxiety, exog=sm.add_constant(data_uni.percent_green)).fit()\n",
    "print(reg_model.summary())\n",
    "plt.scatter(reg_model.fittedvalues, reg_model.resid)\n",
    "plt.xlabel('Fitted Value')\n",
    "plt.ylabel('Residual')\n",
    "plt.title('Residual vs. Fitted Plot for Anxiety')\n",
    "plt.show()"
   ]
  },
  {
   "cell_type": "markdown",
   "id": "11e401e9",
   "metadata": {},
   "source": [
    "Anxiety not significantly correlated with NDVI"
   ]
  },
  {
   "cell_type": "code",
   "execution_count": null,
   "id": "24351b94",
   "metadata": {},
   "outputs": [],
   "source": []
  }
 ],
 "metadata": {
  "kernelspec": {
   "display_name": "Python 3 (ipykernel)",
   "language": "python",
   "name": "python3"
  },
  "language_info": {
   "codemirror_mode": {
    "name": "ipython",
    "version": 3
   },
   "file_extension": ".py",
   "mimetype": "text/x-python",
   "name": "python",
   "nbconvert_exporter": "python",
   "pygments_lexer": "ipython3",
   "version": "3.9.6"
  }
 },
 "nbformat": 4,
 "nbformat_minor": 5
}
