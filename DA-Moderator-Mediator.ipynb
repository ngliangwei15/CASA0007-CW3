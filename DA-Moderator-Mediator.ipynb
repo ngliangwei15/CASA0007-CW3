{
 "cells": [
  {
   "cell_type": "markdown",
   "id": "0124fc06",
   "metadata": {},
   "source": [
    "# CASA0007 QM Coursework 3\n",
    "\n",
    "This version explores the moderator and mediator mechanisms."
   ]
  },
  {
   "cell_type": "code",
   "execution_count": 1,
   "id": "b09ce299",
   "metadata": {},
   "outputs": [],
   "source": [
    "# Import library\n",
    "\n",
    "import numpy as np\n",
    "import pandas as pd\n",
    "import os\n",
    "import re\n",
    "import numpy as np\n",
    "import matplotlib.pyplot as plt\n",
    "from statsmodels.stats.outliers_influence import variance_inflation_factor \n",
    "from statsmodels.tools.tools import add_constant\n",
    "import statsmodels.api as sm\n",
    "from sklearn.linear_model import LinearRegression\n",
    "from math import log"
   ]
  },
  {
   "cell_type": "markdown",
   "id": "74d8906a",
   "metadata": {},
   "source": [
    "## Read and Prepare Variables"
   ]
  },
  {
   "cell_type": "markdown",
   "id": "df733aa8",
   "metadata": {},
   "source": [
    "### Stressor (S): Green Cover"
   ]
  },
  {
   "cell_type": "code",
   "execution_count": 2,
   "id": "3c1e234d",
   "metadata": {},
   "outputs": [],
   "source": [
    "# Read NDVI\n",
    "ndvi_cols = ['lb_code', 'lb_name', 'percent_green']\n",
    "ndvi = pd.read_excel(os.path.join(os.getcwd(), 'Data', 'green_cover_borough_summary_0.05.xlsx'),\n",
    "                         sheet_name = 'borough_green_cover', usecols = ndvi_cols)\n",
    "\n",
    "# Drop City of London\n",
    "ndvi.drop(ndvi[ndvi.lb_code == 'City of London'].index, inplace = True)\n",
    "ndvi.sort_values(by = ['lb_name'], ascending=True)\n",
    "ndvi = ndvi.reset_index(drop = True)\n",
    "\n",
    "# Change name of 'City of Westminster' to Westminster\n",
    "ndvi.loc[ndvi[ndvi.lb_code == 'City of Westminster'].index, 'lb_code'] = 'Westminster'\n",
    "\n",
    "# Rename column\n",
    "ndvi.drop('lb_name', axis = 1, inplace = True)\n",
    "ndvi.rename({'lb_code': 'Area'}, axis = 1, inplace = True)"
   ]
  },
  {
   "cell_type": "markdown",
   "id": "cfffc1ce",
   "metadata": {},
   "source": [
    "### Outcome (O): Well-being"
   ]
  },
  {
   "cell_type": "code",
   "execution_count": 3,
   "id": "d370ea7a",
   "metadata": {},
   "outputs": [],
   "source": [
    "# Read well-being\n",
    "wellbeing = pd.read_excel(os.path.join(os.getcwd(), 'Data', 'personal-well-being-borough.xlsx'),\n",
    "                         sheet_name = 'Summary - Mean Scores', skiprows = 1)\n",
    "\n",
    "# Rename and keep useful columns\n",
    "wellbeing_cols = ['Life Satisfaction', 'Worthwhile', 'Happiness']\n",
    "year = '2011/12'\n",
    "wellbeing.rename({year: wellbeing_cols[0],\n",
    "                 year+'.1': wellbeing_cols[1],\n",
    "                 year+'.2': wellbeing_cols[2],\n",
    "                 year+'.3': 'Anxiety'},\n",
    "                axis = 1, inplace = True)\n",
    "wellbeing = wellbeing[['Code', 'Area'] + wellbeing_cols + ['Anxiety']]\n",
    "\n",
    "# Keep only data on London boroughs (Area Code starts with E09)\n",
    "wellbeing.dropna(axis = 0, inplace = True)\n",
    "wellbeing.drop(wellbeing[wellbeing.Area == \"City of London\"].index, inplace = True)\n",
    "wellbeing = wellbeing[wellbeing['Code'].str.match(r'E09')].sort_values(by = ['Code'], ascending=True)\n",
    "wellbeing = wellbeing.reset_index(drop = True)\n",
    "wellbeing.drop('Code', axis = 1, inplace = True)\n",
    "\n",
    "# Set data type\n",
    "wellbeing[wellbeing_cols + ['Anxiety']] = wellbeing[wellbeing_cols + ['Anxiety']].astype('float', copy = False)"
   ]
  },
  {
   "cell_type": "markdown",
   "id": "882593aa",
   "metadata": {},
   "source": [
    "### Control\n",
    "\n",
    "#### Control 1 (C1): Age + Control 2 (C2): Health"
   ]
  },
  {
   "cell_type": "code",
   "execution_count": 4,
   "id": "b4c4c56a",
   "metadata": {},
   "outputs": [],
   "source": [
    "# Read self-reported health and age profile\n",
    "age_cols = ['Age Structure (2011 Census);0-15;',\n",
    "            'Age Structure (2011 Census);16-29;',\n",
    "            'Age Structure (2011 Census);30-44;',\n",
    "            'Age Structure (2011 Census);45-64;',\n",
    "            'Age Structure (2011 Census);65+;']\n",
    "health_cols = ['Health (2011 Census);Very good health;',\n",
    "              'Health (2011 Census);Good health;',\n",
    "              'Health (2011 Census);Fair health;',\n",
    "              'Health (2011 Census);Bad health;',\n",
    "              'Health (2011 Census);Very bad health;']\n",
    "age_health = pd.read_csv(os.path.join(os.getcwd(), 'Data', 'msoa-data.csv'),\n",
    "                         usecols = ['Middle Super Output Area', 'MSOA Name',\n",
    "                                    'Age Structure (2011 Census);All Ages;'] + age_cols + health_cols, \n",
    "                         low_memory = False, encoding = 'latin')\n",
    "\n",
    "# Drop row on average for London and City of London\n",
    "age_health.dropna(axis = 0, inplace = True)\n",
    "age_health.drop(age_health[age_health['MSOA Name'] == 'City of London 001'].index, inplace = True)\n",
    "age_health.reset_index(inplace = True)\n",
    "\n",
    "# Change data type\n",
    "age_health[age_cols] = age_health[age_cols].astype('int', copy = False)\n",
    "age_health[health_cols] = age_health[health_cols].astype('int', copy = False)\n",
    "\n",
    "# Drop numbers (last 4 characters) from MSOA name\n",
    "for i in range(0, age_health.shape[0]):\n",
    "               age_health.iloc[i,2] = age_health.iloc[i,2][:-4]\n",
    "\n",
    "# Compute total number of respondents in MSOA\n",
    "respondents = age_health.groupby('MSOA Name').agg({'Age Structure (2011 Census);All Ages;': np.sum}).reset_index()\n",
    "\n",
    "# Compute number and percentage of respondents in each age group\n",
    "age = age_health.groupby('MSOA Name').agg(dict.fromkeys(age_cols, np.sum)).reset_index()\n",
    "age[age_cols] = age[age_cols].div(respondents['Age Structure (2011 Census);All Ages;'], axis = 0) * 100\n",
    "\n",
    "# Compute number and percentage of respondents in each health category\n",
    "health = age_health.groupby('MSOA Name').agg(dict.fromkeys(health_cols, np.sum)).reset_index()\n",
    "health[health_cols] = health[health_cols].div(respondents['Age Structure (2011 Census);All Ages;'], axis = 0) * 100\n",
    "\n",
    "# Rename columns for easy reference\n",
    "age.rename({age_cols[0]: 'Age_0-15',\n",
    "           age_cols[1]: 'Age_15-29',\n",
    "           age_cols[2]: 'Age_30-44',\n",
    "           age_cols[3]: 'Age_45-64',\n",
    "           age_cols[4]: 'Age_65+',\n",
    "           'MSOA Name': 'Area'},\n",
    "          axis = 1, inplace = True)\n",
    "health.rename({health_cols[0]: 'Very_good',\n",
    "               health_cols[1]: 'Good',\n",
    "               health_cols[2]: 'Fair',\n",
    "               health_cols[3]: 'Bad',\n",
    "               health_cols[4]: 'Very_bad',\n",
    "              'MSOA Name': 'Area'},\n",
    "              axis = 1, inplace = True)"
   ]
  },
  {
   "cell_type": "markdown",
   "id": "bb6e3cee",
   "metadata": {},
   "source": [
    "#### Control 3 (C3): Economic Activity"
   ]
  },
  {
   "cell_type": "code",
   "execution_count": 5,
   "id": "23bc591c",
   "metadata": {},
   "outputs": [],
   "source": [
    "# Read economic inactivity and rename columns for easy reference\n",
    "econ_cols = ['Code', 'Area', 'percent; Jan 2011-Dec 2011']\n",
    "economic = pd.read_csv(os.path.join(os.getcwd(), 'Data', 'economic-inactivity.csv'),\n",
    "                         usecols = econ_cols, \n",
    "                         low_memory = False, encoding = 'latin')\n",
    "economic.rename({econ_cols[2]: 'Econ_inactive'}, axis = 1, inplace = True)\n",
    "\n",
    "# Keep only data on London boroughs (Area Code starts with E09), drop City of London and change data type\n",
    "economic.dropna(axis = 0, inplace = True)\n",
    "economic = economic[economic['Code'].str.match(r'E09')].sort_values(by = ['Code'], ascending=True)\n",
    "economic.drop(economic[economic.Area == 'City of London'].index, inplace = True)\n",
    "economic = economic.reset_index(drop = True)\n",
    "economic.drop('Code', axis = 1, inplace = True)\n",
    "\n",
    "# Change data type\n",
    "economic.Econ_inactive = economic.Econ_inactive.astype('float', copy = False)"
   ]
  },
  {
   "cell_type": "code",
   "execution_count": 6,
   "id": "a5c79d9f",
   "metadata": {},
   "outputs": [],
   "source": [
    "# Read unemployment rate\n",
    "unemployment_cols = ['Code', 'Area', 'Jan 2011-Dec 2011']\n",
    "unemployment = pd.read_excel(os.path.join(os.getcwd(), 'Data', 'mb-unemployment-rates.xlsx'), \n",
    "                             usecols = unemployment_cols, sheet_name = 'Rates')\n",
    "\n",
    "# Keep only data on London boroughs (Area Code starts with E09), drop City of London and change data type\n",
    "unemployment.dropna(axis = 0, inplace = True)\n",
    "unemployment = unemployment[unemployment['Code'].str.match(r'E09')].sort_values(by = ['Code'], ascending=True)\n",
    "unemployment.drop(unemployment[unemployment.Area == 'City of London'].index, inplace = True)\n",
    "unemployment = unemployment.reset_index(drop = True)\n",
    "\n",
    "# Change data type\n",
    "unemployment['Jan 2011-Dec 2011'] = unemployment['Jan 2011-Dec 2011'].astype('float', copy = False)"
   ]
  },
  {
   "cell_type": "code",
   "execution_count": 7,
   "id": "42517fc9",
   "metadata": {},
   "outputs": [],
   "source": [
    "# Compute unemployment rate among economically active\n",
    "economic['Unemployed'] = ((100 - economic.Econ_inactive)/100) * (unemployment['Jan 2011-Dec 2011']/100) * 100\n",
    "\n",
    "# Compute employment rate among economically active\n",
    "economic['Employed'] = 100 - economic.Econ_inactive - economic.Unemployed"
   ]
  },
  {
   "cell_type": "markdown",
   "id": "7ccddcb7",
   "metadata": {},
   "source": [
    "### Perceived Control\n",
    "\n",
    "#### Perceived Control 1 (P1): Physical Exercise"
   ]
  },
  {
   "cell_type": "code",
   "execution_count": 8,
   "id": "8ce6e152",
   "metadata": {},
   "outputs": [],
   "source": [
    "# Read in physical exercise (from 2012)\n",
    "exercise = pd.read_excel(os.path.join(os.getcwd(), 'Data', 'LSD21-APS-Physical-Activity-Levels.xlsx'),\n",
    "                         sheet_name = '2012', usecols = ['GSS_Code', 'Region', 'Active'])\n",
    "\n",
    "# Keep only data on London boroughs (Area Code starts with E09)\n",
    "exercise = exercise[exercise['GSS_Code'].str.match(r'E09')].sort_values(by = ['GSS_Code'], ascending=True)\n",
    "exercise = exercise.reset_index(drop = True)\n",
    "exercise.drop('GSS_Code', axis = 1, inplace = True)\n",
    "\n",
    "# Convert 'Active' to percentage\n",
    "exercise.Active = exercise.Active*100\n",
    "\n",
    "# Rename columns\n",
    "exercise.rename({'Region': 'Area'}, axis = 1, inplace = True)"
   ]
  },
  {
   "cell_type": "markdown",
   "id": "2e4ea4e3",
   "metadata": {},
   "source": [
    "#### Perceived Control 2 (P2): Air Quality"
   ]
  },
  {
   "cell_type": "code",
   "execution_count": 9,
   "id": "2d9d1254",
   "metadata": {},
   "outputs": [],
   "source": [
    "# Read in air quality (from 2013)\n",
    "air_quality = pd.read_excel(os.path.join(os.getcwd(), 'Data', 'NO2_AnnualMean_2013_PopulationData.xlsx'),\n",
    "                            sheet_name = 'Borough exceeding 40', skiprows = 4, \n",
    "                            usecols=['Borough Name', 'PopExc2013 %'])\n",
    "air_quality['Borough Name'] = air_quality['Borough Name'].str.replace('&', 'and')\n",
    "\n",
    "# Drop City of London\n",
    "air_quality.drop(air_quality[air_quality['Borough Name'] == 'City of London'].index, inplace = True)\n",
    "air_quality = air_quality.reset_index(drop = True)\n",
    "\n",
    "# Log\n",
    "air_quality['log_PopExc2013%'] = air_quality['PopExc2013 %'].apply(log)\n",
    "air_quality.drop('PopExc2013 %', axis = 1, inplace = True)\n",
    "\n",
    "# Rename columns\n",
    "air_quality.rename({'Borough Name': 'Area'},\n",
    "                  axis = 1, inplace = True)"
   ]
  },
  {
   "cell_type": "markdown",
   "id": "260ca85f",
   "metadata": {},
   "source": [
    "#### Perceived Control 3 (P3): Anxiety"
   ]
  },
  {
   "cell_type": "code",
   "execution_count": 10,
   "id": "303bc28f",
   "metadata": {},
   "outputs": [],
   "source": [
    "anxiety = wellbeing.drop(wellbeing_cols, axis = 1)\n",
    "wellbeing.drop('Anxiety', axis = 1, inplace = True)"
   ]
  },
  {
   "cell_type": "markdown",
   "id": "86c74b3d",
   "metadata": {},
   "source": [
    "### Control x Stressor\n",
    "\n",
    "#### CS1: Greenery x Age"
   ]
  },
  {
   "cell_type": "code",
   "execution_count": 11,
   "id": "878c2662",
   "metadata": {},
   "outputs": [],
   "source": [
    "# Merge dataframe\n",
    "ndvi_age = pd.merge(ndvi, age, on = 'Area')\n",
    "\n",
    "# Mulitply the columns\n",
    "for i in age.columns.tolist()[1:]:\n",
    "    ndvi_age[i] = ndvi_age['percent_green'] * ndvi_age[i]\n",
    "    ndvi_age.rename({i: ('green_x_'+i)}, axis = 1, inplace = True)\n",
    "\n",
    "ndvi_age.drop('percent_green', axis = 1, inplace = True)"
   ]
  },
  {
   "cell_type": "markdown",
   "id": "8897d438",
   "metadata": {},
   "source": [
    "#### CS2: Greenery x Health"
   ]
  },
  {
   "cell_type": "code",
   "execution_count": 12,
   "id": "1e09f20c",
   "metadata": {},
   "outputs": [],
   "source": [
    "# Merge dataframe\n",
    "ndvi_health = pd.merge(ndvi, health, on = 'Area')\n",
    "\n",
    "# Mulitply the columns\n",
    "for i in health.columns.tolist()[1:]:\n",
    "    ndvi_health[i] = ndvi_health['percent_green'] * ndvi_health[i]\n",
    "    ndvi_health.rename({i: ('green_x_'+i)}, axis = 1, inplace = True)\n",
    "\n",
    "ndvi_health.drop('percent_green', axis = 1, inplace = True)"
   ]
  },
  {
   "cell_type": "markdown",
   "id": "c37c1515",
   "metadata": {},
   "source": [
    "#### CS3: Greenery x Economic Activity"
   ]
  },
  {
   "cell_type": "code",
   "execution_count": 13,
   "id": "0b796c36",
   "metadata": {},
   "outputs": [],
   "source": [
    "# Merge dataframe\n",
    "ndvi_economic = pd.merge(ndvi, economic, left_on = 'Area', right_on = 'Area')\n",
    "\n",
    "# Mulitply the columns\n",
    "for i in economic.columns.tolist()[1:]:\n",
    "    ndvi_economic[i] = ndvi_economic['percent_green'] * ndvi_economic[i]\n",
    "    ndvi_economic.rename({i: ('green_x_'+i)}, axis = 1, inplace = True)\n",
    "\n",
    "ndvi_economic.drop('percent_green', axis = 1, inplace = True)"
   ]
  },
  {
   "cell_type": "markdown",
   "id": "c142b29c",
   "metadata": {},
   "source": [
    "## Step 1: Regression of Outcome Variable"
   ]
  },
  {
   "cell_type": "code",
   "execution_count": 14,
   "id": "a406aa68",
   "metadata": {},
   "outputs": [],
   "source": [
    "# Define function to drop variables using VIF\n",
    "# This function is adjusted from: https://stackoverflow.com/a/51329496/4667568\n",
    "\n",
    "def drop_column_using_vif_(df, thresh=5):\n",
    "    '''\n",
    "    Calculates VIF each feature in a pandas dataframe, and repeatedly drop the columns with the highest VIF\n",
    "    A constant must be added to variance_inflation_factor or the results will be incorrect\n",
    "\n",
    "    :param df: the pandas dataframe containing only the predictor features, not the response variable\n",
    "    :param thresh: (default 5) the threshould VIF value. If the VIF of a variable is greater than thresh, it should be removed from the dataframe\n",
    "    :return: dataframe with multicollinear features removed\n",
    "    '''\n",
    "    while True:\n",
    "        # adding a constant item to the data\n",
    "        df_with_const = add_constant(df)\n",
    "\n",
    "        vif_df = pd.Series([variance_inflation_factor(df_with_const.values, i) \n",
    "               for i in range(df_with_const.shape[1])], name= \"VIF\",\n",
    "              index=df_with_const.columns).to_frame()\n",
    "\n",
    "        # drop the const\n",
    "        vif_df = vif_df.drop('const')\n",
    "        \n",
    "        # if the largest VIF is above the thresh, remove a variable with the largest VIF\n",
    "        # If there are multiple variabels with VIF>thresh, only one of them is removed. This is because we want to keep as many variables as possible\n",
    "        if vif_df.VIF.max() > thresh:\n",
    "            # If there are multiple variables with the maximum VIF, choose the first one\n",
    "            index_to_drop = vif_df.index[vif_df.VIF == vif_df.VIF.max()].tolist()[0]\n",
    "            print('Dropping: {}'.format(index_to_drop))\n",
    "            df = df.drop(columns = index_to_drop)\n",
    "        else:\n",
    "            # No VIF is above threshold. Exit the loop\n",
    "            break\n",
    "\n",
    "    return df"
   ]
  },
  {
   "cell_type": "code",
   "execution_count": 15,
   "id": "1ecdc15f",
   "metadata": {},
   "outputs": [],
   "source": [
    "# Define function to extract outliers based on Tukey fences\n",
    "\n",
    "def re_outliers(df, col_name):\n",
    "\n",
    "    '''\n",
    "    Remove the outliers from dataframe based on Tukey fences\n",
    "\n",
    "    :param df: the pandas dataframe\n",
    "    :param col_name: the column being checked for outliers\n",
    "    :return: (1) dataframe with outliers removed, and (2) outliers [area] that have been removed\n",
    "    '''\n",
    "\n",
    "    # Initialize\n",
    "    df_clean = df\n",
    "    outliers_areas = []\n",
    "    temp_areas = []\n",
    "\n",
    "    while True:\n",
    "    \n",
    "        # Compute quartiles and IQR\n",
    "        q1 = df_clean[col_name].quantile(0.25)\n",
    "        q3 = df_clean[col_name].quantile(0.75)\n",
    "        iqr = q3 - q1\n",
    "        # Compute Tukey fences\n",
    "        lo_tukey = q1 - 1.5*iqr\n",
    "        hi_tukey = q3 + 1.5*iqr\n",
    "    \n",
    "        # Locate the rows and areas that are outside the Tukey fences\n",
    "        outliers_rows = df_clean.index[(df_clean[col_name] < lo_tukey) | (df_clean[col_name] > hi_tukey)]\n",
    "        \n",
    "        if len(outliers_rows) > 0:\n",
    "            temp_areas = df_clean['Area'][outliers_rows].values.tolist()\n",
    "            outliers_areas = list(set(outliers_areas + temp_areas))\n",
    "            df_clean = df_clean.drop(index = outliers_rows)\n",
    "        else:\n",
    "            break\n",
    "    \n",
    "    # Return both cleaned df and outlier areas\n",
    "    return df_clean, sorted(outliers_areas)"
   ]
  },
  {
   "cell_type": "code",
   "execution_count": 16,
   "id": "7a7f622c",
   "metadata": {},
   "outputs": [],
   "source": [
    "# Define function to remove outliers in paired samples\n",
    "\n",
    "def re_outliers_paired(df, col_name):\n",
    "\n",
    "    '''\n",
    "    Remove the outliers from dataframe based on Tukey fences in paired fashion for multiple columns\n",
    "\n",
    "    :param df: the pandas dataframe\n",
    "    :param col_name: the list of column(s) being checked for outliers\n",
    "    :return: (1) dataframe with outliers removed, and (2) outliers [local authority area] that have been removed\n",
    "    '''\n",
    "    # initialize list to hold outlier areas\n",
    "    outliers_area = []\n",
    "    \n",
    "    # For each column\n",
    "    for col in col_name:\n",
    "        # get outliers for the column\n",
    "        temp_df, temp_outliers = re_outliers(df, col)\n",
    "        # find all unique areas\n",
    "        outliers_area = list(set(outliers_area + temp_outliers))\n",
    "    \n",
    "    outliers_area = sorted(outliers_area)\n",
    "    \n",
    "    # For all outlier areas\n",
    "    df_clean = df\n",
    "    for i in outliers_area:\n",
    "        # Drop from df\n",
    "        df_clean = df_clean.drop(df.index[df['Area'] == i])\n",
    "    \n",
    "    return df_clean, outliers_area"
   ]
  },
  {
   "cell_type": "code",
   "execution_count": 17,
   "id": "a286a120",
   "metadata": {},
   "outputs": [],
   "source": [
    "# Define function to perform backwards regression using p-value as selection criterion\n",
    "\n",
    "def back_regress(df_dep, df_ind, thresh=0.05):\n",
    "    '''\n",
    "    Performs regression with backwards selection of variables using AIC as selection criterion.\n",
    "\n",
    "    :param df_dep, df_ind: the pandas dataframe containing dependent variable and indepdendent variables respectively.\n",
    "    :return: the final regression model\n",
    "    '''    \n",
    "    \n",
    "    # Initialize index_to_drop\n",
    "    index_to_drop = []\n",
    "    \n",
    "    while True:\n",
    "        # Get variables\n",
    "        var = df_ind.columns.values.tolist()\n",
    "        \n",
    "        # Perform regressions\n",
    "        if index_to_drop == 'const':\n",
    "            reg_model = sm.OLS(endog=df_dep, exog=df_ind).fit()\n",
    "        else:\n",
    "            reg_model = sm.OLS(endog=df_dep, exog=sm.add_constant(df_ind)).fit()\n",
    "        \n",
    "        # Find p-values for all variables\n",
    "        df_pval = reg_model.pvalues\n",
    "        #df_pval = pd.Series([reg_model.pvalues[i] for i in var], name='pvalue', index = var).to_frame()\n",
    "        \n",
    "        # If best (lowest) new AIC is lower than the current best, remove variable that improves AIC the most\n",
    "        if df_pval.max() > thresh:\n",
    "            # If there are multiple variables with best new AIC, choose the first one\n",
    "            index_to_drop = df_pval.index[df_pval == df_pval.max()].tolist()[0]\n",
    "            print('Dropping: {}'.format(index_to_drop))\n",
    "            # Drop variable from df_ind\n",
    "            if index_to_drop != 'const':\n",
    "                df_ind = df_ind.drop(columns = index_to_drop)\n",
    "        else:\n",
    "            break\n",
    "            \n",
    "    # Perform regression with final set of variables\n",
    "    if index_to_drop == 'const':\n",
    "        reg_model = sm.OLS(endog=df_dep, exog=df_ind).fit()\n",
    "    else:\n",
    "        reg_model = sm.OLS(endog=df_dep, exog=sm.add_constant(df_ind)).fit()\n",
    "    \n",
    "    return reg_model"
   ]
  },
  {
   "cell_type": "markdown",
   "id": "b2060ebe",
   "metadata": {},
   "source": [
    "### Outcome on control"
   ]
  },
  {
   "cell_type": "markdown",
   "id": "80f1e7e9",
   "metadata": {},
   "source": [
    "#### Outcome on C1 (Age)"
   ]
  },
  {
   "cell_type": "code",
   "execution_count": 18,
   "id": "adf9b877",
   "metadata": {},
   "outputs": [
    {
     "name": "stdout",
     "output_type": "stream",
     "text": [
      "CHECKING FOR COLLINEARITY\n",
      "Dropping: Age_0-15\n",
      "Dropping: Age_45-64\n",
      "Dropping: Age_65+\n",
      "\n",
      "\n",
      "PERFORMING REGRESSION ON:LIFE SATISFACTION\n",
      "Outliers: []\n",
      "Dropping: Age_30-44\n",
      "                            OLS Regression Results                            \n",
      "==============================================================================\n",
      "Dep. Variable:      Life Satisfaction   R-squared:                       0.224\n",
      "Model:                            OLS   Adj. R-squared:                  0.198\n",
      "Method:                 Least Squares   F-statistic:                     8.649\n",
      "Date:                Fri, 07 Jan 2022   Prob (F-statistic):            0.00625\n",
      "Time:                        20:58:17   Log-Likelihood:                 17.592\n",
      "No. Observations:                  32   AIC:                            -31.18\n",
      "Df Residuals:                      30   BIC:                            -28.25\n",
      "Df Model:                           1                                         \n",
      "Covariance Type:            nonrobust                                         \n",
      "==============================================================================\n",
      "                 coef    std err          t      P>|t|      [0.025      0.975]\n",
      "------------------------------------------------------------------------------\n",
      "const          7.6783      0.145     52.905      0.000       7.382       7.975\n",
      "Age_15-29     -0.0187      0.006     -2.941      0.006      -0.032      -0.006\n",
      "==============================================================================\n",
      "Omnibus:                        0.118   Durbin-Watson:                   1.861\n",
      "Prob(Omnibus):                  0.943   Jarque-Bera (JB):                0.333\n",
      "Skew:                           0.050   Prob(JB):                        0.847\n",
      "Kurtosis:                       2.511   Cond. No.                         130.\n",
      "==============================================================================\n",
      "\n",
      "Notes:\n",
      "[1] Standard Errors assume that the covariance matrix of the errors is correctly specified.\n"
     ]
    },
    {
     "name": "stderr",
     "output_type": "stream",
     "text": [
      "/opt/conda/envs/sds2021/lib/python3.9/site-packages/statsmodels/regression/linear_model.py:1738: RuntimeWarning: divide by zero encountered in double_scalars\n",
      "  return 1 - self.ssr/self.centered_tss\n",
      "/opt/conda/envs/sds2021/lib/python3.9/site-packages/statsmodels/stats/outliers_influence.py:195: RuntimeWarning: divide by zero encountered in double_scalars\n",
      "  vif = 1. / (1. - r_squared_i)\n"
     ]
    },
    {
     "data": {
      "image/png": "[encoded data removed]",
      "text/plain": [
       "<Figure size 432x288 with 1 Axes>"
      ]
     },
     "metadata": {
      "needs_background": "light"
     },
     "output_type": "display_data"
    },
    {
     "name": "stdout",
     "output_type": "stream",
     "text": [
      "\n",
      "\n",
      "PERFORMING REGRESSION ON:WORTHWHILE\n",
      "Outliers: []\n",
      "Dropping: Age_30-44\n",
      "                            OLS Regression Results                            \n",
      "==============================================================================\n",
      "Dep. Variable:             Worthwhile   R-squared:                       0.492\n",
      "Model:                            OLS   Adj. R-squared:                  0.475\n",
      "Method:                 Least Squares   F-statistic:                     29.08\n",
      "Date:                Fri, 07 Jan 2022   Prob (F-statistic):           7.69e-06\n",
      "Time:                        20:58:17   Log-Likelihood:                 22.879\n",
      "No. Observations:                  32   AIC:                            -41.76\n",
      "Df Residuals:                      30   BIC:                            -38.83\n",
      "Df Model:                           1                                         \n",
      "Covariance Type:            nonrobust                                         \n",
      "==============================================================================\n",
      "                 coef    std err          t      P>|t|      [0.025      0.975]\n",
      "------------------------------------------------------------------------------\n",
      "const          8.1684      0.123     66.394      0.000       7.917       8.420\n",
      "Age_15-29     -0.0291      0.005     -5.392      0.000      -0.040      -0.018\n",
      "==============================================================================\n",
      "Omnibus:                        1.931   Durbin-Watson:                   2.021\n",
      "Prob(Omnibus):                  0.381   Jarque-Bera (JB):                1.592\n",
      "Skew:                          -0.534   Prob(JB):                        0.451\n",
      "Kurtosis:                       2.765   Cond. No.                         130.\n",
      "==============================================================================\n",
      "\n",
      "Notes:\n",
      "[1] Standard Errors assume that the covariance matrix of the errors is correctly specified.\n"
     ]
    },
    {
     "data": {
      "image/png": "[encoded data removed]",
      "text/plain": [
       "<Figure size 432x288 with 1 Axes>"
      ]
     },
     "metadata": {
      "needs_background": "light"
     },
     "output_type": "display_data"
    },
    {
     "name": "stdout",
     "output_type": "stream",
     "text": [
      "\n",
      "\n",
      "PERFORMING REGRESSION ON:HAPPINESS\n",
      "Outliers: []\n",
      "Dropping: Age_30-44\n",
      "Dropping: Age_15-29\n",
      "                            OLS Regression Results                            \n",
      "==============================================================================\n",
      "Dep. Variable:              Happiness   R-squared:                       0.000\n",
      "Model:                            OLS   Adj. R-squared:                  0.000\n",
      "Method:                 Least Squares   F-statistic:                       nan\n",
      "Date:                Fri, 07 Jan 2022   Prob (F-statistic):                nan\n",
      "Time:                        20:58:17   Log-Likelihood:                 18.567\n",
      "No. Observations:                  32   AIC:                            -35.13\n",
      "Df Residuals:                      31   BIC:                            -33.67\n",
      "Df Model:                           0                                         \n",
      "Covariance Type:            nonrobust                                         \n",
      "==============================================================================\n",
      "                 coef    std err          t      P>|t|      [0.025      0.975]\n",
      "------------------------------------------------------------------------------\n",
      "const          7.1969      0.024    295.834      0.000       7.147       7.246\n",
      "==============================================================================\n",
      "Omnibus:                        0.298   Durbin-Watson:                   1.732\n",
      "Prob(Omnibus):                  0.862   Jarque-Bera (JB):                0.416\n",
      "Skew:                           0.198   Prob(JB):                        0.812\n",
      "Kurtosis:                       2.606   Cond. No.                         1.00\n",
      "==============================================================================\n",
      "\n",
      "Notes:\n",
      "[1] Standard Errors assume that the covariance matrix of the errors is correctly specified.\n"
     ]
    },
    {
     "data": {
      "image/png": "[encoded data removed]",
      "text/plain": [
       "<Figure size 432x288 with 1 Axes>"
      ]
     },
     "metadata": {
      "needs_background": "light"
     },
     "output_type": "display_data"
    },
    {
     "name": "stdout",
     "output_type": "stream",
     "text": [
      "\n",
      "\n"
     ]
    }
   ],
   "source": [
    "# Merge data\n",
    "data = pd.merge(wellbeing, age, on = 'Area')\n",
    "\n",
    "# Drop collinear independent variables\n",
    "print(f'CHECKING FOR COLLINEARITY')\n",
    "ind_var_data = drop_column_using_vif_(data.drop(['Area'] + wellbeing_cols, axis=1))\n",
    "ind_var = ind_var_data.columns.tolist()\n",
    "print('\\n')\n",
    "\n",
    "# Perform regression\n",
    "for cat in wellbeing_cols:\n",
    "    print(f'PERFORMING REGRESSION ON:{cat.upper()}')\n",
    "\n",
    "    # Remove outliers first\n",
    "    df = data[['Area', cat]+ ind_var]\n",
    "    data_reout, outliers_area = re_outliers_paired(df, ([cat]+ ind_var))\n",
    "    print('Outliers:', format(outliers_area))\n",
    "\n",
    "    # Perform regression\n",
    "    #reg_model = sm.OLS(endog=data_reout[cat], exog=sm.add_constant(data_reout[ind_var])).fit()\n",
    "    reg_model = back_regress(data_reout[cat], data_reout[ind_var])\n",
    "    print(reg_model.summary())\n",
    "\n",
    "    # plot residual vs. fit\n",
    "    plt.scatter(reg_model.fittedvalues, reg_model.resid)\n",
    "    plt.xlabel('Fitted Value')\n",
    "    plt.ylabel('Residual')\n",
    "    plt.title('Residual vs. Fitted Plot for ' + cat.title())\n",
    "    plt.show()\n",
    "    print('\\n')"
   ]
  },
  {
   "cell_type": "markdown",
   "id": "1f91a284",
   "metadata": {},
   "source": [
    "#### Outcome on C2 (Health)"
   ]
  },
  {
   "cell_type": "code",
   "execution_count": 19,
   "id": "2067f427",
   "metadata": {},
   "outputs": [
    {
     "name": "stdout",
     "output_type": "stream",
     "text": [
      "CHECKING FOR COLLINEARITY\n",
      "Dropping: Very_good\n",
      "Dropping: Bad\n",
      "\n",
      "\n",
      "PERFORMING REGRESSION ON:LIFE SATISFACTION\n",
      "Outliers: []\n",
      "Dropping: Fair\n",
      "                            OLS Regression Results                            \n",
      "==============================================================================\n",
      "Dep. Variable:      Life Satisfaction   R-squared:                       0.522\n",
      "Model:                            OLS   Adj. R-squared:                  0.489\n",
      "Method:                 Least Squares   F-statistic:                     15.85\n",
      "Date:                Fri, 07 Jan 2022   Prob (F-statistic):           2.23e-05\n",
      "Time:                        20:58:17   Log-Likelihood:                 25.356\n",
      "No. Observations:                  32   AIC:                            -44.71\n",
      "Df Residuals:                      29   BIC:                            -40.31\n",
      "Df Model:                           2                                         \n",
      "Covariance Type:            nonrobust                                         \n",
      "==============================================================================\n",
      "                 coef    std err          t      P>|t|      [0.025      0.975]\n",
      "------------------------------------------------------------------------------\n",
      "const          8.7565      0.363     24.090      0.000       8.013       9.500\n",
      "Good          -0.0285      0.010     -2.902      0.007      -0.049      -0.008\n",
      "Very_bad      -0.4524      0.085     -5.347      0.000      -0.625      -0.279\n",
      "==============================================================================\n",
      "Omnibus:                        2.006   Durbin-Watson:                   1.576\n",
      "Prob(Omnibus):                  0.367   Jarque-Bera (JB):                1.813\n",
      "Skew:                          -0.542   Prob(JB):                        0.404\n",
      "Kurtosis:                       2.570   Cond. No.                         599.\n",
      "==============================================================================\n",
      "\n",
      "Notes:\n",
      "[1] Standard Errors assume that the covariance matrix of the errors is correctly specified.\n"
     ]
    },
    {
     "name": "stderr",
     "output_type": "stream",
     "text": [
      "/opt/conda/envs/sds2021/lib/python3.9/site-packages/statsmodels/regression/linear_model.py:1738: RuntimeWarning: divide by zero encountered in double_scalars\n",
      "  return 1 - self.ssr/self.centered_tss\n",
      "/opt/conda/envs/sds2021/lib/python3.9/site-packages/statsmodels/stats/outliers_influence.py:195: RuntimeWarning: divide by zero encountered in double_scalars\n",
      "  vif = 1. / (1. - r_squared_i)\n"
     ]
    },
    {
     "data": {
      "image/png": "[encoded data removed]",
      "text/plain": [
       "<Figure size 432x288 with 1 Axes>"
      ]
     },
     "metadata": {
      "needs_background": "light"
     },
     "output_type": "display_data"
    },
    {
     "name": "stdout",
     "output_type": "stream",
     "text": [
      "\n",
      "\n",
      "PERFORMING REGRESSION ON:WORTHWHILE\n",
      "Outliers: []\n",
      "                            OLS Regression Results                            \n",
      "==============================================================================\n",
      "Dep. Variable:             Worthwhile   R-squared:                       0.642\n",
      "Model:                            OLS   Adj. R-squared:                  0.604\n",
      "Method:                 Least Squares   F-statistic:                     16.75\n",
      "Date:                Fri, 07 Jan 2022   Prob (F-statistic):           1.99e-06\n",
      "Time:                        20:58:18   Log-Likelihood:                 28.481\n",
      "No. Observations:                  32   AIC:                            -48.96\n",
      "Df Residuals:                      28   BIC:                            -43.10\n",
      "Df Model:                           3                                         \n",
      "Covariance Type:            nonrobust                                         \n",
      "==============================================================================\n",
      "                 coef    std err          t      P>|t|      [0.025      0.975]\n",
      "------------------------------------------------------------------------------\n",
      "const          9.3063      0.404     23.032      0.000       8.479      10.134\n",
      "Good          -0.0707      0.019     -3.649      0.001      -0.110      -0.031\n",
      "Fair           0.1251      0.037      3.355      0.002       0.049       0.202\n",
      "Very_bad      -0.6850      0.098     -7.006      0.000      -0.885      -0.485\n",
      "==============================================================================\n",
      "Omnibus:                        0.031   Durbin-Watson:                   2.274\n",
      "Prob(Omnibus):                  0.985   Jarque-Bera (JB):                0.140\n",
      "Skew:                           0.064   Prob(JB):                        0.932\n",
      "Kurtosis:                       2.702   Cond. No.                         767.\n",
      "==============================================================================\n",
      "\n",
      "Notes:\n",
      "[1] Standard Errors assume that the covariance matrix of the errors is correctly specified.\n"
     ]
    },
    {
     "data": {
      "image/png": "[encoded data removed]",
      "text/plain": [
       "<Figure size 432x288 with 1 Axes>"
      ]
     },
     "metadata": {
      "needs_background": "light"
     },
     "output_type": "display_data"
    },
    {
     "name": "stdout",
     "output_type": "stream",
     "text": [
      "\n",
      "\n",
      "PERFORMING REGRESSION ON:HAPPINESS\n",
      "Outliers: []\n",
      "Dropping: Fair\n",
      "Dropping: Good\n",
      "                            OLS Regression Results                            \n",
      "==============================================================================\n",
      "Dep. Variable:              Happiness   R-squared:                       0.159\n",
      "Model:                            OLS   Adj. R-squared:                  0.131\n",
      "Method:                 Least Squares   F-statistic:                     5.681\n",
      "Date:                Fri, 07 Jan 2022   Prob (F-statistic):             0.0237\n",
      "Time:                        20:58:18   Log-Likelihood:                 21.342\n",
      "No. Observations:                  32   AIC:                            -38.68\n",
      "Df Residuals:                      30   BIC:                            -35.75\n",
      "Df Model:                           1                                         \n",
      "Covariance Type:            nonrobust                                         \n",
      "==============================================================================\n",
      "                 coef    std err          t      P>|t|      [0.025      0.975]\n",
      "------------------------------------------------------------------------------\n",
      "const          7.4648      0.115     65.090      0.000       7.231       7.699\n",
      "Very_bad      -0.2192      0.092     -2.383      0.024      -0.407      -0.031\n",
      "==============================================================================\n",
      "Omnibus:                        0.277   Durbin-Watson:                   1.668\n",
      "Prob(Omnibus):                  0.871   Jarque-Bera (JB):                0.015\n",
      "Skew:                           0.053   Prob(JB):                        0.993\n",
      "Kurtosis:                       3.004   Cond. No.                         10.3\n",
      "==============================================================================\n",
      "\n",
      "Notes:\n",
      "[1] Standard Errors assume that the covariance matrix of the errors is correctly specified.\n"
     ]
    },
    {
     "data": {
      "image/png": "[encoded data removed]",
      "text/plain": [
       "<Figure size 432x288 with 1 Axes>"
      ]
     },
     "metadata": {
      "needs_background": "light"
     },
     "output_type": "display_data"
    },
    {
     "name": "stdout",
     "output_type": "stream",
     "text": [
      "\n",
      "\n"
     ]
    }
   ],
   "source": [
    "# Merge data\n",
    "data = pd.merge(wellbeing, health, on = 'Area')\n",
    "\n",
    "# Drop collinear independent variables\n",
    "print(f'CHECKING FOR COLLINEARITY')\n",
    "ind_var_data = drop_column_using_vif_(data.drop(['Area'] + wellbeing_cols, axis=1))\n",
    "ind_var = ind_var_data.columns.tolist()\n",
    "print('\\n')\n",
    "\n",
    "# Perform regression\n",
    "for cat in wellbeing_cols:\n",
    "    print(f'PERFORMING REGRESSION ON:{cat.upper()}')\n",
    "\n",
    "    # Remove outliers first\n",
    "    df = data[['Area', cat]+ ind_var]\n",
    "    data_reout, outliers_area = re_outliers_paired(df, ([cat]+ ind_var))\n",
    "    print('Outliers:', format(outliers_area))\n",
    "\n",
    "    # Perform regression\n",
    "    #reg_model = sm.OLS(endog=data_reout[cat], exog=sm.add_constant(data_reout[ind_var])).fit()\n",
    "    reg_model = back_regress(data_reout[cat], data_reout[ind_var])\n",
    "    print(reg_model.summary())\n",
    "\n",
    "    # plot residual vs. fit\n",
    "    plt.scatter(reg_model.fittedvalues, reg_model.resid)\n",
    "    plt.xlabel('Fitted Value')\n",
    "    plt.ylabel('Residual')\n",
    "    plt.title('Residual vs. Fitted Plot for ' + cat.title())\n",
    "    plt.show()\n",
    "    print('\\n')"
   ]
  },
  {
   "cell_type": "markdown",
   "id": "21a06394",
   "metadata": {},
   "source": [
    "#### Outcome on C3 (Economic Activity)"
   ]
  },
  {
   "cell_type": "code",
   "execution_count": 20,
   "id": "c9917a0a",
   "metadata": {},
   "outputs": [
    {
     "name": "stdout",
     "output_type": "stream",
     "text": [
      "CHECKING FOR COLLINEARITY\n",
      "Dropping: Econ_inactive\n",
      "\n",
      "\n",
      "PERFORMING REGRESSION ON:LIFE SATISFACTION\n",
      "Outliers: []\n",
      "Dropping: Employed\n",
      "                            OLS Regression Results                            \n",
      "==============================================================================\n",
      "Dep. Variable:      Life Satisfaction   R-squared:                       0.593\n",
      "Model:                            OLS   Adj. R-squared:                  0.580\n",
      "Method:                 Least Squares   F-statistic:                     43.73\n",
      "Date:                Fri, 07 Jan 2022   Prob (F-statistic):           2.55e-07\n",
      "Time:                        20:58:18   Log-Likelihood:                 27.926\n",
      "No. Observations:                  32   AIC:                            -51.85\n",
      "Df Residuals:                      30   BIC:                            -48.92\n",
      "Df Model:                           1                                         \n",
      "Covariance Type:            nonrobust                                         \n",
      "==============================================================================\n",
      "                 coef    std err          t      P>|t|      [0.025      0.975]\n",
      "------------------------------------------------------------------------------\n",
      "const          7.8256      0.088     89.157      0.000       7.646       8.005\n",
      "Unemployed    -0.0821      0.012     -6.613      0.000      -0.107      -0.057\n",
      "==============================================================================\n",
      "Omnibus:                        0.517   Durbin-Watson:                   2.162\n",
      "Prob(Omnibus):                  0.772   Jarque-Bera (JB):                0.607\n",
      "Skew:                          -0.032   Prob(JB):                        0.738\n",
      "Kurtosis:                       2.328   Cond. No.                         34.3\n",
      "==============================================================================\n",
      "\n",
      "Notes:\n",
      "[1] Standard Errors assume that the covariance matrix of the errors is correctly specified.\n"
     ]
    },
    {
     "name": "stderr",
     "output_type": "stream",
     "text": [
      "/opt/conda/envs/sds2021/lib/python3.9/site-packages/statsmodels/regression/linear_model.py:1738: RuntimeWarning: divide by zero encountered in double_scalars\n",
      "  return 1 - self.ssr/self.centered_tss\n",
      "/opt/conda/envs/sds2021/lib/python3.9/site-packages/statsmodels/stats/outliers_influence.py:195: RuntimeWarning: divide by zero encountered in double_scalars\n",
      "  vif = 1. / (1. - r_squared_i)\n"
     ]
    },
    {
     "data": {
      "image/png": "[encoded data removed]",
      "text/plain": [
       "<Figure size 432x288 with 1 Axes>"
      ]
     },
     "metadata": {
      "needs_background": "light"
     },
     "output_type": "display_data"
    },
    {
     "name": "stdout",
     "output_type": "stream",
     "text": [
      "\n",
      "\n",
      "PERFORMING REGRESSION ON:WORTHWHILE\n",
      "Outliers: []\n",
      "Dropping: Employed\n",
      "                            OLS Regression Results                            \n",
      "==============================================================================\n",
      "Dep. Variable:             Worthwhile   R-squared:                       0.329\n",
      "Model:                            OLS   Adj. R-squared:                  0.307\n",
      "Method:                 Least Squares   F-statistic:                     14.72\n",
      "Date:                Fri, 07 Jan 2022   Prob (F-statistic):           0.000597\n",
      "Time:                        20:58:18   Log-Likelihood:                 18.424\n",
      "No. Observations:                  32   AIC:                            -32.85\n",
      "Df Residuals:                      30   BIC:                            -29.92\n",
      "Df Model:                           1                                         \n",
      "Covariance Type:            nonrobust                                         \n",
      "==============================================================================\n",
      "                 coef    std err          t      P>|t|      [0.025      0.975]\n",
      "------------------------------------------------------------------------------\n",
      "const          7.9583      0.118     67.376      0.000       7.717       8.200\n",
      "Unemployed    -0.0641      0.017     -3.836      0.001      -0.098      -0.030\n",
      "==============================================================================\n",
      "Omnibus:                        1.614   Durbin-Watson:                   2.396\n",
      "Prob(Omnibus):                  0.446   Jarque-Bera (JB):                1.505\n",
      "Skew:                          -0.443   Prob(JB):                        0.471\n",
      "Kurtosis:                       2.414   Cond. No.                         34.3\n",
      "==============================================================================\n",
      "\n",
      "Notes:\n",
      "[1] Standard Errors assume that the covariance matrix of the errors is correctly specified.\n"
     ]
    },
    {
     "data": {
      "image/png": "[encoded data removed]",
      "text/plain": [
       "<Figure size 432x288 with 1 Axes>"
      ]
     },
     "metadata": {
      "needs_background": "light"
     },
     "output_type": "display_data"
    },
    {
     "name": "stdout",
     "output_type": "stream",
     "text": [
      "\n",
      "\n",
      "PERFORMING REGRESSION ON:HAPPINESS\n",
      "Outliers: []\n",
      "Dropping: Employed\n",
      "                            OLS Regression Results                            \n",
      "==============================================================================\n",
      "Dep. Variable:              Happiness   R-squared:                       0.354\n",
      "Model:                            OLS   Adj. R-squared:                  0.332\n",
      "Method:                 Least Squares   F-statistic:                     16.41\n",
      "Date:                Fri, 07 Jan 2022   Prob (F-statistic):           0.000332\n",
      "Time:                        20:58:18   Log-Likelihood:                 25.548\n",
      "No. Observations:                  32   AIC:                            -47.10\n",
      "Df Residuals:                      30   BIC:                            -44.17\n",
      "Df Model:                           1                                         \n",
      "Covariance Type:            nonrobust                                         \n",
      "==============================================================================\n",
      "                 coef    std err          t      P>|t|      [0.025      0.975]\n",
      "------------------------------------------------------------------------------\n",
      "const          7.5713      0.095     80.084      0.000       7.378       7.764\n",
      "Unemployed    -0.0542      0.013     -4.051      0.000      -0.081      -0.027\n",
      "==============================================================================\n",
      "Omnibus:                        0.544   Durbin-Watson:                   2.546\n",
      "Prob(Omnibus):                  0.762   Jarque-Bera (JB):                0.166\n",
      "Skew:                           0.174   Prob(JB):                        0.921\n",
      "Kurtosis:                       3.051   Cond. No.                         34.3\n",
      "==============================================================================\n",
      "\n",
      "Notes:\n",
      "[1] Standard Errors assume that the covariance matrix of the errors is correctly specified.\n"
     ]
    },
    {
     "data": {
      "image/png": "[encoded data removed]",
      "text/plain": [
       "<Figure size 432x288 with 1 Axes>"
      ]
     },
     "metadata": {
      "needs_background": "light"
     },
     "output_type": "display_data"
    },
    {
     "name": "stdout",
     "output_type": "stream",
     "text": [
      "\n",
      "\n"
     ]
    }
   ],
   "source": [
    "# Merge data\n",
    "data = pd.merge(wellbeing, economic, on = 'Area')\n",
    "\n",
    "# Drop collinear independent variables\n",
    "print(f'CHECKING FOR COLLINEARITY')\n",
    "ind_var_data = drop_column_using_vif_(data.drop(['Area'] + wellbeing_cols, axis=1))\n",
    "ind_var = ind_var_data.columns.tolist()\n",
    "print('\\n')\n",
    "\n",
    "# Perform regression\n",
    "for cat in wellbeing_cols:\n",
    "    print(f'PERFORMING REGRESSION ON:{cat.upper()}')\n",
    "\n",
    "    # Remove outliers first\n",
    "    df = data[['Area', cat]+ ind_var]\n",
    "    data_reout, outliers_area = re_outliers_paired(df, ([cat]+ ind_var))\n",
    "    print('Outliers:', format(outliers_area))\n",
    "\n",
    "    # Perform regression\n",
    "    #reg_model = sm.OLS(endog=data_reout[cat], exog=sm.add_constant(data_reout[ind_var])).fit()\n",
    "    reg_model = back_regress(data_reout[cat], data_reout[ind_var])\n",
    "    print(reg_model.summary())\n",
    "\n",
    "    # plot residual vs. fit\n",
    "    plt.scatter(reg_model.fittedvalues, reg_model.resid)\n",
    "    plt.xlabel('Fitted Value')\n",
    "    plt.ylabel('Residual')\n",
    "    plt.title('Residual vs. Fitted Plot for ' + cat.title())\n",
    "    plt.show()\n",
    "    print('\\n')"
   ]
  },
  {
   "cell_type": "markdown",
   "id": "8c15d29d",
   "metadata": {},
   "source": [
    "### Outcome on stressor"
   ]
  },
  {
   "cell_type": "code",
   "execution_count": 21,
   "id": "308b0846",
   "metadata": {},
   "outputs": [
    {
     "name": "stdout",
     "output_type": "stream",
     "text": [
      "CHECKING FOR COLLINEARITY\n",
      "\n",
      "\n",
      "PERFORMING REGRESSION ON:LIFE SATISFACTION\n",
      "Outliers: []\n",
      "                            OLS Regression Results                            \n",
      "==============================================================================\n",
      "Dep. Variable:      Life Satisfaction   R-squared:                       0.131\n",
      "Model:                            OLS   Adj. R-squared:                  0.102\n",
      "Method:                 Least Squares   F-statistic:                     4.531\n",
      "Date:                Fri, 07 Jan 2022   Prob (F-statistic):             0.0416\n",
      "Time:                        20:58:19   Log-Likelihood:                 15.789\n",
      "No. Observations:                  32   AIC:                            -27.58\n",
      "Df Residuals:                      30   BIC:                            -24.65\n",
      "Df Model:                           1                                         \n",
      "Covariance Type:            nonrobust                                         \n",
      "=================================================================================\n",
      "                    coef    std err          t      P>|t|      [0.025      0.975]\n",
      "---------------------------------------------------------------------------------\n",
      "const             7.0208      0.115     61.196      0.000       6.786       7.255\n",
      "percent_green     0.0053      0.002      2.129      0.042       0.000       0.010\n",
      "==============================================================================\n",
      "Omnibus:                        1.292   Durbin-Watson:                   1.976\n",
      "Prob(Omnibus):                  0.524   Jarque-Bera (JB):                1.010\n",
      "Skew:                           0.425   Prob(JB):                        0.604\n",
      "Kurtosis:                       2.813   Cond. No.                         196.\n",
      "==============================================================================\n",
      "\n",
      "Notes:\n",
      "[1] Standard Errors assume that the covariance matrix of the errors is correctly specified.\n"
     ]
    },
    {
     "data": {
      "image/png": "[encoded data removed]",
      "text/plain": [
       "<Figure size 432x288 with 1 Axes>"
      ]
     },
     "metadata": {
      "needs_background": "light"
     },
     "output_type": "display_data"
    },
    {
     "name": "stdout",
     "output_type": "stream",
     "text": [
      "\n",
      "\n",
      "PERFORMING REGRESSION ON:WORTHWHILE\n",
      "Outliers: []\n",
      "                            OLS Regression Results                            \n",
      "==============================================================================\n",
      "Dep. Variable:             Worthwhile   R-squared:                       0.306\n",
      "Model:                            OLS   Adj. R-squared:                  0.283\n",
      "Method:                 Least Squares   F-statistic:                     13.24\n",
      "Date:                Fri, 07 Jan 2022   Prob (F-statistic):            0.00102\n",
      "Time:                        20:58:19   Log-Likelihood:                 17.885\n",
      "No. Observations:                  32   AIC:                            -31.77\n",
      "Df Residuals:                      30   BIC:                            -28.84\n",
      "Df Model:                           1                                         \n",
      "Covariance Type:            nonrobust                                         \n",
      "=================================================================================\n",
      "                    coef    std err          t      P>|t|      [0.025      0.975]\n",
      "---------------------------------------------------------------------------------\n",
      "const             7.1353      0.107     66.405      0.000       6.916       7.355\n",
      "percent_green     0.0085      0.002      3.638      0.001       0.004       0.013\n",
      "==============================================================================\n",
      "Omnibus:                        0.294   Durbin-Watson:                   2.096\n",
      "Prob(Omnibus):                  0.863   Jarque-Bera (JB):                0.478\n",
      "Skew:                          -0.105   Prob(JB):                        0.787\n",
      "Kurtosis:                       2.439   Cond. No.                         196.\n",
      "==============================================================================\n",
      "\n",
      "Notes:\n",
      "[1] Standard Errors assume that the covariance matrix of the errors is correctly specified.\n"
     ]
    },
    {
     "data": {
      "image/png": "[encoded data removed]",
      "text/plain": [
       "<Figure size 432x288 with 1 Axes>"
      ]
     },
     "metadata": {
      "needs_background": "light"
     },
     "output_type": "display_data"
    },
    {
     "name": "stdout",
     "output_type": "stream",
     "text": [
      "\n",
      "\n",
      "PERFORMING REGRESSION ON:HAPPINESS\n",
      "Outliers: []\n",
      "Dropping: percent_green\n",
      "                            OLS Regression Results                            \n",
      "==============================================================================\n",
      "Dep. Variable:              Happiness   R-squared:                       0.000\n",
      "Model:                            OLS   Adj. R-squared:                  0.000\n",
      "Method:                 Least Squares   F-statistic:                       nan\n",
      "Date:                Fri, 07 Jan 2022   Prob (F-statistic):                nan\n",
      "Time:                        20:58:19   Log-Likelihood:                 18.567\n",
      "No. Observations:                  32   AIC:                            -35.13\n",
      "Df Residuals:                      31   BIC:                            -33.67\n",
      "Df Model:                           0                                         \n",
      "Covariance Type:            nonrobust                                         \n",
      "==============================================================================\n",
      "                 coef    std err          t      P>|t|      [0.025      0.975]\n",
      "------------------------------------------------------------------------------\n",
      "const          7.1969      0.024    295.834      0.000       7.147       7.246\n",
      "==============================================================================\n",
      "Omnibus:                        0.298   Durbin-Watson:                   1.732\n",
      "Prob(Omnibus):                  0.862   Jarque-Bera (JB):                0.416\n",
      "Skew:                           0.198   Prob(JB):                        0.812\n",
      "Kurtosis:                       2.606   Cond. No.                         1.00\n",
      "==============================================================================\n",
      "\n",
      "Notes:\n",
      "[1] Standard Errors assume that the covariance matrix of the errors is correctly specified.\n"
     ]
    },
    {
     "data": {
      "image/png": "[encoded data removed]",
      "text/plain": [
       "<Figure size 432x288 with 1 Axes>"
      ]
     },
     "metadata": {
      "needs_background": "light"
     },
     "output_type": "display_data"
    },
    {
     "name": "stdout",
     "output_type": "stream",
     "text": [
      "\n",
      "\n"
     ]
    }
   ],
   "source": [
    "# Merge data\n",
    "data = pd.merge(wellbeing, ndvi, on = 'Area')\n",
    "\n",
    "# Drop collinear independent variables\n",
    "print(f'CHECKING FOR COLLINEARITY')\n",
    "ind_var_data = drop_column_using_vif_(data.drop(['Area'] + wellbeing_cols, axis=1))\n",
    "ind_var = ind_var_data.columns.tolist()\n",
    "print('\\n')\n",
    "\n",
    "# Perform regression\n",
    "for cat in wellbeing_cols:\n",
    "    print(f'PERFORMING REGRESSION ON:{cat.upper()}')\n",
    "\n",
    "    # Remove outliers first\n",
    "    df = data[['Area', cat]+ ind_var]\n",
    "    data_reout, outliers_area = re_outliers_paired(df, ([cat]+ ind_var))\n",
    "    print('Outliers:', format(outliers_area))\n",
    "\n",
    "    # Perform regression\n",
    "    #reg_model = sm.OLS(endog=data_reout[cat], exog=sm.add_constant(data_reout[ind_var])).fit()\n",
    "    reg_model = back_regress(data_reout[cat], data_reout[ind_var])\n",
    "    print(reg_model.summary())\n",
    "\n",
    "    # plot residual vs. fit\n",
    "    plt.scatter(reg_model.fittedvalues, reg_model.resid)\n",
    "    plt.xlabel('Fitted Value')\n",
    "    plt.ylabel('Residual')\n",
    "    plt.title('Residual vs. Fitted Plot for ' + cat.title())\n",
    "    plt.show()\n",
    "    print('\\n')"
   ]
  },
  {
   "cell_type": "markdown",
   "id": "e204e6b3",
   "metadata": {},
   "source": [
    "### Outcome on Control x Stressor"
   ]
  },
  {
   "cell_type": "markdown",
   "id": "6c91f6d6",
   "metadata": {},
   "source": [
    "#### Outcome on CS1: Greenery x Age"
   ]
  },
  {
   "cell_type": "code",
   "execution_count": 22,
   "id": "880235dd",
   "metadata": {},
   "outputs": [
    {
     "name": "stdout",
     "output_type": "stream",
     "text": [
      "CHECKING FOR COLLINEARITY\n",
      "Dropping: green_x_Age_45-64\n",
      "\n",
      "\n",
      "PERFORMING REGRESSION ON:LIFE SATISFACTION\n",
      "Outliers: ['Richmond upon Thames']\n",
      "Dropping: green_x_Age_15-29\n",
      "Dropping: green_x_Age_30-44\n",
      "                            OLS Regression Results                            \n",
      "==============================================================================\n",
      "Dep. Variable:      Life Satisfaction   R-squared:                       0.444\n",
      "Model:                            OLS   Adj. R-squared:                  0.404\n",
      "Method:                 Least Squares   F-statistic:                     11.16\n",
      "Date:                Fri, 07 Jan 2022   Prob (F-statistic):           0.000272\n",
      "Time:                        20:58:19   Log-Likelihood:                 23.140\n",
      "No. Observations:                  31   AIC:                            -40.28\n",
      "Df Residuals:                      28   BIC:                            -35.98\n",
      "Df Model:                           2                                         \n",
      "Covariance Type:            nonrobust                                         \n",
      "====================================================================================\n",
      "                       coef    std err          t      P>|t|      [0.025      0.975]\n",
      "------------------------------------------------------------------------------------\n",
      "const                7.3322      0.085     86.545      0.000       7.159       7.506\n",
      "green_x_Age_0-15    -0.0005      0.000     -3.410      0.002      -0.001      -0.000\n",
      "green_x_Age_65+      0.0007      0.000      4.655      0.000       0.000       0.001\n",
      "==============================================================================\n",
      "Omnibus:                        1.124   Durbin-Watson:                   2.129\n",
      "Prob(Omnibus):                  0.570   Jarque-Bera (JB):                0.927\n",
      "Skew:                           0.157   Prob(JB):                        0.629\n",
      "Kurtosis:                       2.213   Cond. No.                     4.18e+03\n",
      "==============================================================================\n",
      "\n",
      "Notes:\n",
      "[1] Standard Errors assume that the covariance matrix of the errors is correctly specified.\n",
      "[2] The condition number is large, 4.18e+03. This might indicate that there are\n",
      "strong multicollinearity or other numerical problems.\n"
     ]
    },
    {
     "data": {
      "image/png": "[encoded data removed]",
      "text/plain": [
       "<Figure size 432x288 with 1 Axes>"
      ]
     },
     "metadata": {
      "needs_background": "light"
     },
     "output_type": "display_data"
    },
    {
     "name": "stdout",
     "output_type": "stream",
     "text": [
      "\n",
      "\n",
      "PERFORMING REGRESSION ON:WORTHWHILE\n",
      "Outliers: ['Richmond upon Thames']\n",
      "Dropping: green_x_Age_0-15\n",
      "                            OLS Regression Results                            \n",
      "==============================================================================\n",
      "Dep. Variable:             Worthwhile   R-squared:                       0.555\n",
      "Model:                            OLS   Adj. R-squared:                  0.505\n",
      "Method:                 Least Squares   F-statistic:                     11.21\n",
      "Date:                Fri, 07 Jan 2022   Prob (F-statistic):           5.88e-05\n",
      "Time:                        20:58:19   Log-Likelihood:                 24.487\n",
      "No. Observations:                  31   AIC:                            -40.97\n",
      "Df Residuals:                      27   BIC:                            -35.24\n",
      "Df Model:                           3                                         \n",
      "Covariance Type:            nonrobust                                         \n",
      "=====================================================================================\n",
      "                        coef    std err          t      P>|t|      [0.025      0.975]\n",
      "-------------------------------------------------------------------------------------\n",
      "const                 7.5376      0.165     45.767      0.000       7.200       7.876\n",
      "green_x_Age_15-29    -0.0008      0.000     -3.187      0.004      -0.001      -0.000\n",
      "green_x_Age_30-44     0.0005      0.000      2.178      0.038    2.96e-05       0.001\n",
      "green_x_Age_65+       0.0004      0.000      2.815      0.009    9.99e-05       0.001\n",
      "==============================================================================\n",
      "Omnibus:                        2.051   Durbin-Watson:                   1.628\n",
      "Prob(Omnibus):                  0.359   Jarque-Bera (JB):                1.868\n",
      "Skew:                          -0.538   Prob(JB):                        0.393\n",
      "Kurtosis:                       2.462   Cond. No.                     1.23e+04\n",
      "==============================================================================\n",
      "\n",
      "Notes:\n",
      "[1] Standard Errors assume that the covariance matrix of the errors is correctly specified.\n",
      "[2] The condition number is large, 1.23e+04. This might indicate that there are\n",
      "strong multicollinearity or other numerical problems.\n"
     ]
    },
    {
     "data": {
      "image/png": "[encoded data removed]",
      "text/plain": [
       "<Figure size 432x288 with 1 Axes>"
      ]
     },
     "metadata": {
      "needs_background": "light"
     },
     "output_type": "display_data"
    },
    {
     "name": "stdout",
     "output_type": "stream",
     "text": [
      "\n",
      "\n",
      "PERFORMING REGRESSION ON:HAPPINESS\n",
      "Outliers: ['Richmond upon Thames']\n",
      "Dropping: green_x_Age_15-29\n",
      "Dropping: green_x_Age_30-44\n",
      "Dropping: green_x_Age_0-15\n",
      "                            OLS Regression Results                            \n",
      "==============================================================================\n",
      "Dep. Variable:              Happiness   R-squared:                       0.166\n",
      "Model:                            OLS   Adj. R-squared:                  0.138\n",
      "Method:                 Least Squares   F-statistic:                     5.790\n",
      "Date:                Fri, 07 Jan 2022   Prob (F-statistic):             0.0227\n",
      "Time:                        20:58:19   Log-Likelihood:                 20.321\n",
      "No. Observations:                  31   AIC:                            -36.64\n",
      "Df Residuals:                      29   BIC:                            -33.77\n",
      "Df Model:                           1                                         \n",
      "Covariance Type:            nonrobust                                         \n",
      "===================================================================================\n",
      "                      coef    std err          t      P>|t|      [0.025      0.975]\n",
      "-----------------------------------------------------------------------------------\n",
      "const               7.0782      0.054    130.156      0.000       6.967       7.189\n",
      "green_x_Age_65+     0.0002   9.58e-05      2.406      0.023    3.46e-05       0.000\n",
      "==============================================================================\n",
      "Omnibus:                        1.544   Durbin-Watson:                   1.537\n",
      "Prob(Omnibus):                  0.462   Jarque-Bera (JB):                0.786\n",
      "Skew:                           0.378   Prob(JB):                        0.675\n",
      "Kurtosis:                       3.194   Cond. No.                     1.32e+03\n",
      "==============================================================================\n",
      "\n",
      "Notes:\n",
      "[1] Standard Errors assume that the covariance matrix of the errors is correctly specified.\n",
      "[2] The condition number is large, 1.32e+03. This might indicate that there are\n",
      "strong multicollinearity or other numerical problems.\n"
     ]
    },
    {
     "data": {
      "image/png": "[encoded data removed]",
      "text/plain": [
       "<Figure size 432x288 with 1 Axes>"
      ]
     },
     "metadata": {
      "needs_background": "light"
     },
     "output_type": "display_data"
    },
    {
     "name": "stdout",
     "output_type": "stream",
     "text": [
      "\n",
      "\n"
     ]
    }
   ],
   "source": [
    "# Merge data\n",
    "data = pd.merge(wellbeing, ndvi_age, on = 'Area')\n",
    "\n",
    "# Drop collinear independent variables\n",
    "print(f'CHECKING FOR COLLINEARITY')\n",
    "ind_var_data = drop_column_using_vif_(data.drop(['Area'] + wellbeing_cols, axis=1))\n",
    "ind_var = ind_var_data.columns.tolist()\n",
    "print('\\n')\n",
    "\n",
    "# Perform regression\n",
    "for cat in wellbeing_cols:\n",
    "    print(f'PERFORMING REGRESSION ON:{cat.upper()}')\n",
    "\n",
    "    # Remove outliers first\n",
    "    df = data[['Area', cat]+ ind_var]\n",
    "    data_reout, outliers_area = re_outliers_paired(df, ([cat]+ ind_var))\n",
    "    print('Outliers:', format(outliers_area))\n",
    "\n",
    "    # Perform regression\n",
    "    #reg_model = sm.OLS(endog=data_reout[cat], exog=sm.add_constant(data_reout[ind_var])).fit()\n",
    "    reg_model = back_regress(data_reout[cat], data_reout[ind_var])\n",
    "    print(reg_model.summary())\n",
    "\n",
    "    # plot residual vs. fit\n",
    "    plt.scatter(reg_model.fittedvalues, reg_model.resid)\n",
    "    plt.xlabel('Fitted Value')\n",
    "    plt.ylabel('Residual')\n",
    "    plt.title('Residual vs. Fitted Plot for ' + cat.title())\n",
    "    plt.show()\n",
    "    print('\\n')"
   ]
  },
  {
   "cell_type": "markdown",
   "id": "6b30df4e",
   "metadata": {},
   "source": [
    "#### Outcome on CS2: Greenery x Health "
   ]
  },
  {
   "cell_type": "code",
   "execution_count": 23,
   "id": "8d450308",
   "metadata": {},
   "outputs": [
    {
     "name": "stdout",
     "output_type": "stream",
     "text": [
      "CHECKING FOR COLLINEARITY\n",
      "Dropping: green_x_Fair\n",
      "Dropping: green_x_Bad\n",
      "Dropping: green_x_Good\n",
      "\n",
      "\n",
      "PERFORMING REGRESSION ON:LIFE SATISFACTION\n",
      "Outliers: []\n",
      "                            OLS Regression Results                            \n",
      "==============================================================================\n",
      "Dep. Variable:      Life Satisfaction   R-squared:                       0.434\n",
      "Model:                            OLS   Adj. R-squared:                  0.395\n",
      "Method:                 Least Squares   F-statistic:                     11.10\n",
      "Date:                Fri, 07 Jan 2022   Prob (F-statistic):           0.000263\n",
      "Time:                        20:58:20   Log-Likelihood:                 22.636\n",
      "No. Observations:                  32   AIC:                            -39.27\n",
      "Df Residuals:                      29   BIC:                            -34.87\n",
      "Df Model:                           2                                         \n",
      "Covariance Type:            nonrobust                                         \n",
      "=====================================================================================\n",
      "                        coef    std err          t      P>|t|      [0.025      0.975]\n",
      "-------------------------------------------------------------------------------------\n",
      "const                 7.1852      0.126     57.156      0.000       6.928       7.442\n",
      "green_x_Very_good     0.0002   4.67e-05      4.488      0.000       0.000       0.000\n",
      "green_x_Very_bad     -0.0076      0.002     -3.228      0.003      -0.012      -0.003\n",
      "==============================================================================\n",
      "Omnibus:                        0.171   Durbin-Watson:                   1.846\n",
      "Prob(Omnibus):                  0.918   Jarque-Bera (JB):                0.041\n",
      "Skew:                          -0.074   Prob(JB):                        0.980\n",
      "Kurtosis:                       2.904   Cond. No.                     1.32e+04\n",
      "==============================================================================\n",
      "\n",
      "Notes:\n",
      "[1] Standard Errors assume that the covariance matrix of the errors is correctly specified.\n",
      "[2] The condition number is large, 1.32e+04. This might indicate that there are\n",
      "strong multicollinearity or other numerical problems.\n"
     ]
    },
    {
     "data": {
      "image/png": "[encoded data removed]",
      "text/plain": [
       "<Figure size 432x288 with 1 Axes>"
      ]
     },
     "metadata": {
      "needs_background": "light"
     },
     "output_type": "display_data"
    },
    {
     "name": "stdout",
     "output_type": "stream",
     "text": [
      "\n",
      "\n",
      "PERFORMING REGRESSION ON:WORTHWHILE\n",
      "Outliers: []\n",
      "                            OLS Regression Results                            \n",
      "==============================================================================\n",
      "Dep. Variable:             Worthwhile   R-squared:                       0.488\n",
      "Model:                            OLS   Adj. R-squared:                  0.453\n",
      "Method:                 Least Squares   F-statistic:                     13.84\n",
      "Date:                Fri, 07 Jan 2022   Prob (F-statistic):           6.02e-05\n",
      "Time:                        20:58:20   Log-Likelihood:                 22.759\n",
      "No. Observations:                  32   AIC:                            -39.52\n",
      "Df Residuals:                      29   BIC:                            -35.12\n",
      "Df Model:                           2                                         \n",
      "Covariance Type:            nonrobust                                         \n",
      "=====================================================================================\n",
      "                        coef    std err          t      P>|t|      [0.025      0.975]\n",
      "-------------------------------------------------------------------------------------\n",
      "const                 7.2648      0.125     58.013      0.000       7.009       7.521\n",
      "green_x_Very_good     0.0002   4.65e-05      5.257      0.000       0.000       0.000\n",
      "green_x_Very_bad     -0.0057      0.002     -2.445      0.021      -0.010      -0.001\n",
      "==============================================================================\n",
      "Omnibus:                        1.622   Durbin-Watson:                   2.349\n",
      "Prob(Omnibus):                  0.444   Jarque-Bera (JB):                1.138\n",
      "Skew:                          -0.181   Prob(JB):                        0.566\n",
      "Kurtosis:                       2.150   Cond. No.                     1.32e+04\n",
      "==============================================================================\n",
      "\n",
      "Notes:\n",
      "[1] Standard Errors assume that the covariance matrix of the errors is correctly specified.\n",
      "[2] The condition number is large, 1.32e+04. This might indicate that there are\n",
      "strong multicollinearity or other numerical problems.\n"
     ]
    },
    {
     "data": {
      "image/png": "[encoded data removed]",
      "text/plain": [
       "<Figure size 432x288 with 1 Axes>"
      ]
     },
     "metadata": {
      "needs_background": "light"
     },
     "output_type": "display_data"
    },
    {
     "name": "stdout",
     "output_type": "stream",
     "text": [
      "\n",
      "\n",
      "PERFORMING REGRESSION ON:HAPPINESS\n",
      "Outliers: []\n",
      "Dropping: green_x_Very_bad\n",
      "                            OLS Regression Results                            \n",
      "==============================================================================\n",
      "Dep. Variable:              Happiness   R-squared:                       0.158\n",
      "Model:                            OLS   Adj. R-squared:                  0.130\n",
      "Method:                 Least Squares   F-statistic:                     5.633\n",
      "Date:                Fri, 07 Jan 2022   Prob (F-statistic):             0.0242\n",
      "Time:                        20:58:20   Log-Likelihood:                 21.320\n",
      "No. Observations:                  32   AIC:                            -38.64\n",
      "Df Residuals:                      30   BIC:                            -35.71\n",
      "Df Model:                           1                                         \n",
      "Covariance Type:            nonrobust                                         \n",
      "=====================================================================================\n",
      "                        coef    std err          t      P>|t|      [0.025      0.975]\n",
      "-------------------------------------------------------------------------------------\n",
      "const                 6.9650      0.100     69.442      0.000       6.760       7.170\n",
      "green_x_Very_good     0.0001   4.32e-05      2.373      0.024    1.43e-05       0.000\n",
      "==============================================================================\n",
      "Omnibus:                        2.475   Durbin-Watson:                   1.796\n",
      "Prob(Omnibus):                  0.290   Jarque-Bera (JB):                1.350\n",
      "Skew:                           0.454   Prob(JB):                        0.509\n",
      "Kurtosis:                       3.435   Cond. No.                     1.03e+04\n",
      "==============================================================================\n",
      "\n",
      "Notes:\n",
      "[1] Standard Errors assume that the covariance matrix of the errors is correctly specified.\n",
      "[2] The condition number is large, 1.03e+04. This might indicate that there are\n",
      "strong multicollinearity or other numerical problems.\n"
     ]
    },
    {
     "data": {
      "image/png": "[encoded data removed]",
      "text/plain": [
       "<Figure size 432x288 with 1 Axes>"
      ]
     },
     "metadata": {
      "needs_background": "light"
     },
     "output_type": "display_data"
    },
    {
     "name": "stdout",
     "output_type": "stream",
     "text": [
      "\n",
      "\n"
     ]
    }
   ],
   "source": [
    "# Merge data\n",
    "data = pd.merge(wellbeing, ndvi_health, on = 'Area')\n",
    "\n",
    "# Drop collinear independent variables\n",
    "print(f'CHECKING FOR COLLINEARITY')\n",
    "ind_var_data = drop_column_using_vif_(data.drop(['Area'] + wellbeing_cols, axis=1))\n",
    "ind_var = ind_var_data.columns.tolist()\n",
    "print('\\n')\n",
    "\n",
    "# Perform regression\n",
    "for cat in wellbeing_cols:\n",
    "    print(f'PERFORMING REGRESSION ON:{cat.upper()}')\n",
    "\n",
    "    # Remove outliers first\n",
    "    df = data[['Area', cat]+ ind_var]\n",
    "    data_reout, outliers_area = re_outliers_paired(df, ([cat]+ ind_var))\n",
    "    print('Outliers:', format(outliers_area))\n",
    "\n",
    "    # Perform regression\n",
    "    #reg_model = sm.OLS(endog=data_reout[cat], exog=sm.add_constant(data_reout[ind_var])).fit()\n",
    "    reg_model = back_regress(data_reout[cat], data_reout[ind_var])\n",
    "    print(reg_model.summary())\n",
    "\n",
    "    # plot residual vs. fit\n",
    "    plt.scatter(reg_model.fittedvalues, reg_model.resid)\n",
    "    plt.xlabel('Fitted Value')\n",
    "    plt.ylabel('Residual')\n",
    "    plt.title('Residual vs. Fitted Plot for ' + cat.title())\n",
    "    plt.show()\n",
    "    print('\\n')"
   ]
  },
  {
   "cell_type": "markdown",
   "id": "bb15574f",
   "metadata": {},
   "source": [
    "#### Outcome on CS3: Greenery x Economic Activity"
   ]
  },
  {
   "cell_type": "code",
   "execution_count": 24,
   "id": "6abf9232",
   "metadata": {},
   "outputs": [
    {
     "name": "stdout",
     "output_type": "stream",
     "text": [
      "CHECKING FOR COLLINEARITY\n",
      "\n",
      "\n",
      "PERFORMING REGRESSION ON:LIFE SATISFACTION\n",
      "Outliers: []\n",
      "Dropping: green_x_Econ_inactive\n",
      "                            OLS Regression Results                            \n",
      "==============================================================================\n",
      "Dep. Variable:      Life Satisfaction   R-squared:                       0.523\n",
      "Model:                            OLS   Adj. R-squared:                  0.490\n",
      "Method:                 Least Squares   F-statistic:                     15.91\n",
      "Date:                Fri, 07 Jan 2022   Prob (F-statistic):           2.17e-05\n",
      "Time:                        20:58:20   Log-Likelihood:                 25.388\n",
      "No. Observations:                  32   AIC:                            -44.78\n",
      "Df Residuals:                      29   BIC:                            -40.38\n",
      "Df Model:                           2                                         \n",
      "Covariance Type:            nonrobust                                         \n",
      "======================================================================================\n",
      "                         coef    std err          t      P>|t|      [0.025      0.975]\n",
      "--------------------------------------------------------------------------------------\n",
      "const                  7.2592      0.089     81.441      0.000       7.077       7.442\n",
      "green_x_Unemployed    -0.0014      0.000     -4.619      0.000      -0.002      -0.001\n",
      "green_x_Employed       0.0001    2.7e-05      5.137      0.000    8.35e-05       0.000\n",
      "==============================================================================\n",
      "Omnibus:                        0.562   Durbin-Watson:                   2.256\n",
      "Prob(Omnibus):                  0.755   Jarque-Bera (JB):                0.623\n",
      "Skew:                           0.277   Prob(JB):                        0.732\n",
      "Kurtosis:                       2.599   Cond. No.                     1.40e+04\n",
      "==============================================================================\n",
      "\n",
      "Notes:\n",
      "[1] Standard Errors assume that the covariance matrix of the errors is correctly specified.\n",
      "[2] The condition number is large, 1.4e+04. This might indicate that there are\n",
      "strong multicollinearity or other numerical problems.\n"
     ]
    },
    {
     "data": {
      "image/png": "[encoded data removed]",
      "text/plain": [
       "<Figure size 432x288 with 1 Axes>"
      ]
     },
     "metadata": {
      "needs_background": "light"
     },
     "output_type": "display_data"
    },
    {
     "name": "stdout",
     "output_type": "stream",
     "text": [
      "\n",
      "\n",
      "PERFORMING REGRESSION ON:WORTHWHILE\n",
      "Outliers: []\n",
      "Dropping: green_x_Econ_inactive\n",
      "Dropping: green_x_Unemployed\n",
      "                            OLS Regression Results                            \n",
      "==============================================================================\n",
      "Dep. Variable:             Worthwhile   R-squared:                       0.341\n",
      "Model:                            OLS   Adj. R-squared:                  0.319\n",
      "Method:                 Least Squares   F-statistic:                     15.52\n",
      "Date:                Fri, 07 Jan 2022   Prob (F-statistic):           0.000451\n",
      "Time:                        20:58:20   Log-Likelihood:                 18.707\n",
      "No. Observations:                  32   AIC:                            -33.41\n",
      "Df Residuals:                      30   BIC:                            -30.48\n",
      "Df Model:                           1                                         \n",
      "Covariance Type:            nonrobust                                         \n",
      "====================================================================================\n",
      "                       coef    std err          t      P>|t|      [0.025      0.975]\n",
      "------------------------------------------------------------------------------------\n",
      "const                7.1767      0.089     80.253      0.000       6.994       7.359\n",
      "green_x_Employed     0.0001   2.82e-05      3.939      0.000    5.34e-05       0.000\n",
      "==============================================================================\n",
      "Omnibus:                        0.115   Durbin-Watson:                   1.989\n",
      "Prob(Omnibus):                  0.944   Jarque-Bera (JB):                0.258\n",
      "Skew:                          -0.123   Prob(JB):                        0.879\n",
      "Kurtosis:                       2.635   Cond. No.                     1.15e+04\n",
      "==============================================================================\n",
      "\n",
      "Notes:\n",
      "[1] Standard Errors assume that the covariance matrix of the errors is correctly specified.\n",
      "[2] The condition number is large, 1.15e+04. This might indicate that there are\n",
      "strong multicollinearity or other numerical problems.\n"
     ]
    },
    {
     "data": {
      "image/png": "[encoded data removed]",
      "text/plain": [
       "<Figure size 432x288 with 1 Axes>"
      ]
     },
     "metadata": {
      "needs_background": "light"
     },
     "output_type": "display_data"
    },
    {
     "name": "stdout",
     "output_type": "stream",
     "text": [
      "\n",
      "\n",
      "PERFORMING REGRESSION ON:HAPPINESS\n",
      "Outliers: []\n",
      "Dropping: green_x_Econ_inactive\n",
      "                            OLS Regression Results                            \n",
      "==============================================================================\n",
      "Dep. Variable:              Happiness   R-squared:                       0.255\n",
      "Model:                            OLS   Adj. R-squared:                  0.204\n",
      "Method:                 Least Squares   F-statistic:                     4.975\n",
      "Date:                Fri, 07 Jan 2022   Prob (F-statistic):             0.0139\n",
      "Time:                        20:58:20   Log-Likelihood:                 23.286\n",
      "No. Observations:                  32   AIC:                            -40.57\n",
      "Df Residuals:                      29   BIC:                            -36.18\n",
      "Df Model:                           2                                         \n",
      "Covariance Type:            nonrobust                                         \n",
      "======================================================================================\n",
      "                         coef    std err          t      P>|t|      [0.025      0.975]\n",
      "--------------------------------------------------------------------------------------\n",
      "const                  7.1544      0.095     75.163      0.000       6.960       7.349\n",
      "green_x_Unemployed    -0.0007      0.000     -2.288      0.030      -0.001   -7.84e-05\n",
      "green_x_Employed    8.749e-05   2.88e-05      3.033      0.005    2.85e-05       0.000\n",
      "==============================================================================\n",
      "Omnibus:                        1.936   Durbin-Watson:                   2.335\n",
      "Prob(Omnibus):                  0.380   Jarque-Bera (JB):                0.917\n",
      "Skew:                           0.354   Prob(JB):                        0.632\n",
      "Kurtosis:                       3.433   Cond. No.                     1.40e+04\n",
      "==============================================================================\n",
      "\n",
      "Notes:\n",
      "[1] Standard Errors assume that the covariance matrix of the errors is correctly specified.\n",
      "[2] The condition number is large, 1.4e+04. This might indicate that there are\n",
      "strong multicollinearity or other numerical problems.\n"
     ]
    },
    {
     "data": {
      "image/png": "[encoded data removed]",
      "text/plain": [
       "<Figure size 432x288 with 1 Axes>"
      ]
     },
     "metadata": {
      "needs_background": "light"
     },
     "output_type": "display_data"
    },
    {
     "name": "stdout",
     "output_type": "stream",
     "text": [
      "\n",
      "\n"
     ]
    }
   ],
   "source": [
    "# Merge data\n",
    "data = pd.merge(wellbeing, ndvi_economic, on = 'Area')\n",
    "\n",
    "# Drop collinear independent variables\n",
    "print(f'CHECKING FOR COLLINEARITY')\n",
    "ind_var_data = drop_column_using_vif_(data.drop(['Area'] + wellbeing_cols, axis=1))\n",
    "ind_var = ind_var_data.columns.tolist()\n",
    "print('\\n')\n",
    "\n",
    "# Perform regression\n",
    "for cat in wellbeing_cols:\n",
    "    print(f'PERFORMING REGRESSION ON:{cat.upper()}')\n",
    "\n",
    "    # Remove outliers first\n",
    "    df = data[['Area', cat]+ ind_var]\n",
    "    data_reout, outliers_area = re_outliers_paired(df, ([cat]+ ind_var))\n",
    "    print('Outliers:', format(outliers_area))\n",
    "\n",
    "    # Perform regression\n",
    "    #reg_model = sm.OLS(endog=data_reout[cat], exog=sm.add_constant(data_reout[ind_var])).fit()\n",
    "    reg_model = back_regress(data_reout[cat], data_reout[ind_var])\n",
    "    print(reg_model.summary())\n",
    "\n",
    "    # plot residual vs. fit\n",
    "    plt.scatter(reg_model.fittedvalues, reg_model.resid)\n",
    "    plt.xlabel('Fitted Value')\n",
    "    plt.ylabel('Residual')\n",
    "    plt.title('Residual vs. Fitted Plot for ' + cat.title())\n",
    "    plt.show()\n",
    "    print('\\n')"
   ]
  },
  {
   "cell_type": "markdown",
   "id": "327a1e4d",
   "metadata": {},
   "source": [
    "## Step 2: Regression with Perceived Control"
   ]
  },
  {
   "cell_type": "markdown",
   "id": "2e5e7e65",
   "metadata": {},
   "source": [
    "### P on C, S and CS"
   ]
  },
  {
   "cell_type": "markdown",
   "id": "9bc12874",
   "metadata": {},
   "source": [
    "#### P1: Exercise on C1: Age"
   ]
  },
  {
   "cell_type": "code",
   "execution_count": 25,
   "id": "93c0fdcd",
   "metadata": {},
   "outputs": [
    {
     "data": {
      "text/html": [
       "<div>\n",
       "<style scoped>\n",
       "    .dataframe tbody tr th:only-of-type {\n",
       "        vertical-align: middle;\n",
       "    }\n",
       "\n",
       "    .dataframe tbody tr th {\n",
       "        vertical-align: top;\n",
       "    }\n",
       "\n",
       "    .dataframe thead th {\n",
       "        text-align: right;\n",
       "    }\n",
       "</style>\n",
       "<table border=\"1\" class=\"dataframe\">\n",
       "  <thead>\n",
       "    <tr style=\"text-align: right;\">\n",
       "      <th></th>\n",
       "      <th>Area</th>\n",
       "      <th>Happiness</th>\n",
       "      <th>green_x_Econ_inactive</th>\n",
       "      <th>green_x_Unemployed</th>\n",
       "      <th>green_x_Employed</th>\n",
       "    </tr>\n",
       "  </thead>\n",
       "  <tbody>\n",
       "    <tr>\n",
       "      <th>0</th>\n",
       "      <td>Barking and Dagenham</td>\n",
       "      <td>6.91</td>\n",
       "      <td>1121.153417</td>\n",
       "      <td>363.865245</td>\n",
       "      <td>2435.098180</td>\n",
       "    </tr>\n",
       "    <tr>\n",
       "      <th>1</th>\n",
       "      <td>Barnet</td>\n",
       "      <td>7.26</td>\n",
       "      <td>1432.459189</td>\n",
       "      <td>349.357658</td>\n",
       "      <td>4017.613069</td>\n",
       "    </tr>\n",
       "    <tr>\n",
       "      <th>2</th>\n",
       "      <td>Bexley</td>\n",
       "      <td>7.22</td>\n",
       "      <td>995.705344</td>\n",
       "      <td>263.690243</td>\n",
       "      <td>3032.437792</td>\n",
       "    </tr>\n",
       "  </tbody>\n",
       "</table>\n",
       "</div>"
      ],
      "text/plain": [
       "                   Area  Happiness  green_x_Econ_inactive  green_x_Unemployed  \\\n",
       "0  Barking and Dagenham       6.91            1121.153417          363.865245   \n",
       "1                Barnet       7.26            1432.459189          349.357658   \n",
       "2                Bexley       7.22             995.705344          263.690243   \n",
       "\n",
       "   green_x_Employed  \n",
       "0       2435.098180  \n",
       "1       4017.613069  \n",
       "2       3032.437792  "
      ]
     },
     "execution_count": 25,
     "metadata": {},
     "output_type": "execute_result"
    }
   ],
   "source": [
    "data_reout.head(3)"
   ]
  },
  {
   "cell_type": "code",
   "execution_count": 26,
   "id": "f4ba2f91",
   "metadata": {},
   "outputs": [
    {
     "name": "stdout",
     "output_type": "stream",
     "text": [
      "CHECKING FOR COLLINEARITY\n",
      "Dropping: Age_0-15\n",
      "Dropping: Age_45-64\n",
      "Dropping: Age_65+\n",
      "\n",
      "\n",
      "Outliers: []\n",
      "                            OLS Regression Results                            \n",
      "==============================================================================\n",
      "Dep. Variable:                 Active   R-squared:                       0.363\n",
      "Model:                            OLS   Adj. R-squared:                  0.319\n",
      "Method:                 Least Squares   F-statistic:                     8.273\n",
      "Date:                Fri, 07 Jan 2022   Prob (F-statistic):            0.00144\n",
      "Time:                        20:58:21   Log-Likelihood:                -87.758\n",
      "No. Observations:                  32   AIC:                             181.5\n",
      "Df Residuals:                      29   BIC:                             185.9\n",
      "Df Model:                           2                                         \n",
      "Covariance Type:            nonrobust                                         \n",
      "==============================================================================\n",
      "                 coef    std err          t      P>|t|      [0.025      0.975]\n",
      "------------------------------------------------------------------------------\n",
      "const         35.5099      6.520      5.446      0.000      22.175      48.845\n",
      "Age_15-29     -0.6144      0.231     -2.659      0.013      -1.087      -0.142\n",
      "Age_30-44      1.3739      0.338      4.068      0.000       0.683       2.065\n",
      "==============================================================================\n",
      "Omnibus:                        3.851   Durbin-Watson:                   2.117\n",
      "Prob(Omnibus):                  0.146   Jarque-Bera (JB):                1.777\n",
      "Skew:                          -0.227   Prob(JB):                        0.411\n",
      "Kurtosis:                       1.938   Cond. No.                         320.\n",
      "==============================================================================\n",
      "\n",
      "Notes:\n",
      "[1] Standard Errors assume that the covariance matrix of the errors is correctly specified.\n"
     ]
    },
    {
     "name": "stderr",
     "output_type": "stream",
     "text": [
      "/opt/conda/envs/sds2021/lib/python3.9/site-packages/statsmodels/regression/linear_model.py:1738: RuntimeWarning: divide by zero encountered in double_scalars\n",
      "  return 1 - self.ssr/self.centered_tss\n",
      "/opt/conda/envs/sds2021/lib/python3.9/site-packages/statsmodels/stats/outliers_influence.py:195: RuntimeWarning: divide by zero encountered in double_scalars\n",
      "  vif = 1. / (1. - r_squared_i)\n"
     ]
    },
    {
     "data": {
      "image/png": "[encoded data removed]",
      "text/plain": [
       "<Figure size 432x288 with 1 Axes>"
      ]
     },
     "metadata": {
      "needs_background": "light"
     },
     "output_type": "display_data"
    },
    {
     "name": "stdout",
     "output_type": "stream",
     "text": [
      "\n",
      "\n"
     ]
    }
   ],
   "source": [
    "# Merge data\n",
    "data = pd.merge(exercise, age, on = 'Area')\n",
    "dep_var = exercise.columns.tolist()[1:]\n",
    "var = age.columns.tolist()[1:]\n",
    "\n",
    "# Drop collinear independent variables\n",
    "print(f'CHECKING FOR COLLINEARITY')\n",
    "ind_var_data = drop_column_using_vif_(data[var])\n",
    "print('\\n')\n",
    "\n",
    "# Remove outliers first\n",
    "ind_var = ind_var_data.columns.tolist()\n",
    "df = data[(['Area']+dep_var+ind_var)]\n",
    "data_reout, outliers_area = re_outliers_paired(df, (dep_var+ind_var))\n",
    "print('Outliers:', format(outliers_area))\n",
    "\n",
    "# Perform regression\n",
    "#reg_model = sm.OLS(endog=data_reout[dep_var], exog=sm.add_constant(data_reout[ind_var])).fit()\n",
    "reg_model = back_regress(data_reout[dep_var], data_reout[ind_var])\n",
    "print(reg_model.summary())\n",
    "\n",
    "# plot residual vs. fit\n",
    "plt.scatter(reg_model.fittedvalues, reg_model.resid)\n",
    "plt.xlabel('Fitted Value')\n",
    "plt.ylabel('Residual')\n",
    "plt.title('Residual vs. Fitted Plot for ' + cat.title())\n",
    "plt.show()\n",
    "print('\\n')"
   ]
  },
  {
   "cell_type": "markdown",
   "id": "dd3ee5cc",
   "metadata": {},
   "source": [
    "#### P1: Exercise on C2: Health"
   ]
  },
  {
   "cell_type": "code",
   "execution_count": 27,
   "id": "7105977c",
   "metadata": {},
   "outputs": [
    {
     "name": "stdout",
     "output_type": "stream",
     "text": [
      "CHECKING FOR COLLINEARITY\n",
      "Dropping: Very_good\n",
      "Dropping: Bad\n",
      "\n",
      "\n",
      "Outliers: []\n",
      "Dropping: Fair\n",
      "                            OLS Regression Results                            \n",
      "==============================================================================\n",
      "Dep. Variable:                 Active   R-squared:                       0.465\n",
      "Model:                            OLS   Adj. R-squared:                  0.428\n",
      "Method:                 Least Squares   F-statistic:                     12.62\n",
      "Date:                Fri, 07 Jan 2022   Prob (F-statistic):           0.000114\n",
      "Time:                        20:58:21   Log-Likelihood:                -84.963\n",
      "No. Observations:                  32   AIC:                             175.9\n",
      "Df Residuals:                      29   BIC:                             180.3\n",
      "Df Model:                           2                                         \n",
      "Covariance Type:            nonrobust                                         \n",
      "==============================================================================\n",
      "                 coef    std err          t      P>|t|      [0.025      0.975]\n",
      "------------------------------------------------------------------------------\n",
      "const        113.6735     11.421      9.953      0.000      90.315     137.032\n",
      "Good          -1.4405      0.308     -4.670      0.000      -2.071      -0.810\n",
      "Very_bad      -7.5517      2.658     -2.841      0.008     -12.988      -2.115\n",
      "==============================================================================\n",
      "Omnibus:                        3.050   Durbin-Watson:                   2.042\n",
      "Prob(Omnibus):                  0.218   Jarque-Bera (JB):                1.479\n",
      "Skew:                           0.136   Prob(JB):                        0.477\n",
      "Kurtosis:                       1.982   Cond. No.                         599.\n",
      "==============================================================================\n",
      "\n",
      "Notes:\n",
      "[1] Standard Errors assume that the covariance matrix of the errors is correctly specified.\n"
     ]
    },
    {
     "name": "stderr",
     "output_type": "stream",
     "text": [
      "/opt/conda/envs/sds2021/lib/python3.9/site-packages/statsmodels/regression/linear_model.py:1738: RuntimeWarning: divide by zero encountered in double_scalars\n",
      "  return 1 - self.ssr/self.centered_tss\n",
      "/opt/conda/envs/sds2021/lib/python3.9/site-packages/statsmodels/stats/outliers_influence.py:195: RuntimeWarning: divide by zero encountered in double_scalars\n",
      "  vif = 1. / (1. - r_squared_i)\n"
     ]
    },
    {
     "data": {
      "image/png": "[encoded data removed]",
      "text/plain": [
       "<Figure size 432x288 with 1 Axes>"
      ]
     },
     "metadata": {
      "needs_background": "light"
     },
     "output_type": "display_data"
    },
    {
     "name": "stdout",
     "output_type": "stream",
     "text": [
      "\n",
      "\n"
     ]
    }
   ],
   "source": [
    "# Merge data\n",
    "data = pd.merge(exercise, health, on = 'Area')\n",
    "dep_var = exercise.columns.tolist()[1:]\n",
    "var = health.columns.tolist()[1:]\n",
    "\n",
    "# Drop collinear independent variables\n",
    "print(f'CHECKING FOR COLLINEARITY')\n",
    "ind_var_data = drop_column_using_vif_(data[var])\n",
    "print('\\n')\n",
    "\n",
    "# Remove outliers first\n",
    "ind_var = ind_var_data.columns.tolist()\n",
    "df = data[(['Area']+dep_var+ind_var)]\n",
    "data_reout, outliers_area = re_outliers_paired(df, (dep_var+ind_var))\n",
    "print('Outliers:', format(outliers_area))\n",
    "\n",
    "# Perform regression\n",
    "#reg_model = sm.OLS(endog=data_reout[dep_var], exog=sm.add_constant(data_reout[ind_var])).fit()\n",
    "reg_model = back_regress(data_reout[dep_var], data_reout[ind_var])\n",
    "print(reg_model.summary())\n",
    "\n",
    "# plot residual vs. fit\n",
    "plt.scatter(reg_model.fittedvalues, reg_model.resid)\n",
    "plt.xlabel('Fitted Value')\n",
    "plt.ylabel('Residual')\n",
    "plt.title('Residual vs. Fitted Plot for ' + cat.title())\n",
    "plt.show()\n",
    "print('\\n')"
   ]
  },
  {
   "cell_type": "markdown",
   "id": "d4727253",
   "metadata": {},
   "source": [
    "#### P1: Exercise on C3: Economic Activity"
   ]
  },
  {
   "cell_type": "code",
   "execution_count": 28,
   "id": "acd7f13c",
   "metadata": {},
   "outputs": [
    {
     "name": "stdout",
     "output_type": "stream",
     "text": [
      "CHECKING FOR COLLINEARITY\n"
     ]
    },
    {
     "name": "stderr",
     "output_type": "stream",
     "text": [
      "/opt/conda/envs/sds2021/lib/python3.9/site-packages/statsmodels/regression/linear_model.py:1738: RuntimeWarning: divide by zero encountered in double_scalars\n",
      "  return 1 - self.ssr/self.centered_tss\n",
      "/opt/conda/envs/sds2021/lib/python3.9/site-packages/statsmodels/stats/outliers_influence.py:195: RuntimeWarning: divide by zero encountered in double_scalars\n",
      "  vif = 1. / (1. - r_squared_i)\n"
     ]
    },
    {
     "name": "stdout",
     "output_type": "stream",
     "text": [
      "Dropping: Econ_inactive\n",
      "\n",
      "\n",
      "Outliers: []\n",
      "Dropping: Employed\n",
      "                            OLS Regression Results                            \n",
      "==============================================================================\n",
      "Dep. Variable:                 Active   R-squared:                       0.179\n",
      "Model:                            OLS   Adj. R-squared:                  0.151\n",
      "Method:                 Least Squares   F-statistic:                     6.531\n",
      "Date:                Fri, 07 Jan 2022   Prob (F-statistic):             0.0159\n",
      "Time:                        20:58:21   Log-Likelihood:                -91.830\n",
      "No. Observations:                  32   AIC:                             187.7\n",
      "Df Residuals:                      30   BIC:                             190.6\n",
      "Df Model:                           1                                         \n",
      "Covariance Type:            nonrobust                                         \n",
      "==============================================================================\n",
      "                 coef    std err          t      P>|t|      [0.025      0.975]\n",
      "------------------------------------------------------------------------------\n",
      "const         65.9002      3.704     17.793      0.000      58.336      73.464\n",
      "Unemployed    -1.3386      0.524     -2.555      0.016      -2.408      -0.269\n",
      "==============================================================================\n",
      "Omnibus:                        4.458   Durbin-Watson:                   1.856\n",
      "Prob(Omnibus):                  0.108   Jarque-Bera (JB):                2.119\n",
      "Skew:                           0.327   Prob(JB):                        0.347\n",
      "Kurtosis:                       1.923   Cond. No.                         34.3\n",
      "==============================================================================\n",
      "\n",
      "Notes:\n",
      "[1] Standard Errors assume that the covariance matrix of the errors is correctly specified.\n"
     ]
    },
    {
     "data": {
      "image/png": "[encoded data removed]",
      "text/plain": [
       "<Figure size 432x288 with 1 Axes>"
      ]
     },
     "metadata": {
      "needs_background": "light"
     },
     "output_type": "display_data"
    },
    {
     "name": "stdout",
     "output_type": "stream",
     "text": [
      "\n",
      "\n"
     ]
    }
   ],
   "source": [
    "# Merge data\n",
    "data = pd.merge(exercise, economic, on = 'Area')\n",
    "dep_var = exercise.columns.tolist()[1:]\n",
    "var = economic.columns.tolist()[1:]\n",
    "\n",
    "# Drop collinear independent variables\n",
    "print(f'CHECKING FOR COLLINEARITY')\n",
    "ind_var_data = drop_column_using_vif_(data[var])\n",
    "print('\\n')\n",
    "\n",
    "# Remove outliers first\n",
    "ind_var = ind_var_data.columns.tolist()\n",
    "df = data[(['Area']+dep_var+ind_var)]\n",
    "data_reout, outliers_area = re_outliers_paired(df, (dep_var+ind_var))\n",
    "print('Outliers:', format(outliers_area))\n",
    "\n",
    "# Perform regression\n",
    "#reg_model = sm.OLS(endog=data_reout[dep_var], exog=sm.add_constant(data_reout[ind_var])).fit()\n",
    "reg_model = back_regress(data_reout[dep_var], data_reout[ind_var])\n",
    "print(reg_model.summary())\n",
    "\n",
    "# plot residual vs. fit\n",
    "plt.scatter(reg_model.fittedvalues, reg_model.resid)\n",
    "plt.xlabel('Fitted Value')\n",
    "plt.ylabel('Residual')\n",
    "plt.title('Residual vs. Fitted Plot for ' + cat.title())\n",
    "plt.show()\n",
    "print('\\n')"
   ]
  },
  {
   "cell_type": "markdown",
   "id": "89a772ed",
   "metadata": {},
   "source": [
    "#### P1: Exercise on S: Green Cover"
   ]
  },
  {
   "cell_type": "code",
   "execution_count": 29,
   "id": "596d9050",
   "metadata": {},
   "outputs": [
    {
     "name": "stdout",
     "output_type": "stream",
     "text": [
      "CHECKING FOR COLLINEARITY\n",
      "\n",
      "\n",
      "Outliers: []\n",
      "Dropping: percent_green\n",
      "                            OLS Regression Results                            \n",
      "==============================================================================\n",
      "Dep. Variable:                 Active   R-squared:                       0.000\n",
      "Model:                            OLS   Adj. R-squared:                  0.000\n",
      "Method:                 Least Squares   F-statistic:                       nan\n",
      "Date:                Fri, 07 Jan 2022   Prob (F-statistic):                nan\n",
      "Time:                        20:58:21   Log-Likelihood:                -94.981\n",
      "No. Observations:                  32   AIC:                             192.0\n",
      "Df Residuals:                      31   BIC:                             193.4\n",
      "Df Model:                           0                                         \n",
      "Covariance Type:            nonrobust                                         \n",
      "==============================================================================\n",
      "                 coef    std err          t      P>|t|      [0.025      0.975]\n",
      "------------------------------------------------------------------------------\n",
      "const         56.6469      0.846     66.995      0.000      54.922      58.371\n",
      "==============================================================================\n",
      "Omnibus:                        1.764   Durbin-Watson:                   1.831\n",
      "Prob(Omnibus):                  0.414   Jarque-Bera (JB):                1.627\n",
      "Skew:                           0.499   Prob(JB):                        0.443\n",
      "Kurtosis:                       2.525   Cond. No.                         1.00\n",
      "==============================================================================\n",
      "\n",
      "Notes:\n",
      "[1] Standard Errors assume that the covariance matrix of the errors is correctly specified.\n"
     ]
    },
    {
     "data": {
      "image/png": "[encoded data removed]",
      "text/plain": [
       "<Figure size 432x288 with 1 Axes>"
      ]
     },
     "metadata": {
      "needs_background": "light"
     },
     "output_type": "display_data"
    },
    {
     "name": "stdout",
     "output_type": "stream",
     "text": [
      "\n",
      "\n"
     ]
    }
   ],
   "source": [
    "# Merge data\n",
    "data = pd.merge(exercise, ndvi, on = 'Area')\n",
    "dep_var = exercise.columns.tolist()[1:]\n",
    "var = ndvi.columns.tolist()[1:]\n",
    "\n",
    "# Drop collinear independent variables\n",
    "print(f'CHECKING FOR COLLINEARITY')\n",
    "ind_var_data = drop_column_using_vif_(data[var])\n",
    "print('\\n')\n",
    "\n",
    "# Remove outliers first\n",
    "ind_var = ind_var_data.columns.tolist()\n",
    "df = data[(['Area']+dep_var+ind_var)]\n",
    "data_reout, outliers_area = re_outliers_paired(df, (dep_var+ind_var))\n",
    "print('Outliers:', format(outliers_area))\n",
    "\n",
    "# Perform regression\n",
    "#reg_model = sm.OLS(endog=data_reout[dep_var], exog=sm.add_constant(data_reout[ind_var])).fit()\n",
    "reg_model = back_regress(data_reout[dep_var], data_reout[ind_var])\n",
    "print(reg_model.summary())\n",
    "\n",
    "# plot residual vs. fit\n",
    "plt.scatter(reg_model.fittedvalues, reg_model.resid)\n",
    "plt.xlabel('Fitted Value')\n",
    "plt.ylabel('Residual')\n",
    "plt.title('Residual vs. Fitted Plot for ' + cat.title())\n",
    "plt.show()\n",
    "print('\\n')"
   ]
  },
  {
   "cell_type": "markdown",
   "id": "ddaf3c6c",
   "metadata": {},
   "source": [
    "#### P1: Exercise on CS1: Greenery x Age"
   ]
  },
  {
   "cell_type": "code",
   "execution_count": 30,
   "id": "2976a79a",
   "metadata": {},
   "outputs": [
    {
     "name": "stdout",
     "output_type": "stream",
     "text": [
      "CHECKING FOR COLLINEARITY\n",
      "Dropping: green_x_Age_45-64\n",
      "\n",
      "\n",
      "Outliers: ['Richmond upon Thames']\n",
      "Dropping: green_x_Age_15-29\n",
      "Dropping: green_x_Age_65+\n",
      "                            OLS Regression Results                            \n",
      "==============================================================================\n",
      "Dep. Variable:                 Active   R-squared:                       0.353\n",
      "Model:                            OLS   Adj. R-squared:                  0.307\n",
      "Method:                 Least Squares   F-statistic:                     7.654\n",
      "Date:                Fri, 07 Jan 2022   Prob (F-statistic):            0.00223\n",
      "Time:                        20:58:21   Log-Likelihood:                -82.889\n",
      "No. Observations:                  31   AIC:                             171.8\n",
      "Df Residuals:                      28   BIC:                             176.1\n",
      "Df Model:                           2                                         \n",
      "Covariance Type:            nonrobust                                         \n",
      "=====================================================================================\n",
      "                        coef    std err          t      P>|t|      [0.025      0.975]\n",
      "-------------------------------------------------------------------------------------\n",
      "const                50.0002      4.183     11.954      0.000      41.432      58.568\n",
      "green_x_Age_0-15     -0.0167      0.004     -3.897      0.001      -0.025      -0.008\n",
      "green_x_Age_30-44     0.0190      0.006      3.285      0.003       0.007       0.031\n",
      "==============================================================================\n",
      "Omnibus:                        3.341   Durbin-Watson:                   2.497\n",
      "Prob(Omnibus):                  0.188   Jarque-Bera (JB):                1.907\n",
      "Skew:                           0.350   Prob(JB):                        0.385\n",
      "Kurtosis:                       2.007   Cond. No.                     9.08e+03\n",
      "==============================================================================\n",
      "\n",
      "Notes:\n",
      "[1] Standard Errors assume that the covariance matrix of the errors is correctly specified.\n",
      "[2] The condition number is large, 9.08e+03. This might indicate that there are\n",
      "strong multicollinearity or other numerical problems.\n"
     ]
    },
    {
     "data": {
      "image/png": "[encoded data removed]",
      "text/plain": [
       "<Figure size 432x288 with 1 Axes>"
      ]
     },
     "metadata": {
      "needs_background": "light"
     },
     "output_type": "display_data"
    },
    {
     "name": "stdout",
     "output_type": "stream",
     "text": [
      "\n",
      "\n"
     ]
    }
   ],
   "source": [
    "# Merge data\n",
    "data = pd.merge(exercise, ndvi_age, on = 'Area')\n",
    "dep_var = exercise.columns.tolist()[1:]\n",
    "var = ndvi_age.columns.tolist()[1:]\n",
    "\n",
    "# Drop collinear independent variables\n",
    "print(f'CHECKING FOR COLLINEARITY')\n",
    "ind_var_data = drop_column_using_vif_(data[var])\n",
    "print('\\n')\n",
    "\n",
    "# Remove outliers first\n",
    "ind_var = ind_var_data.columns.tolist()\n",
    "df = data[(['Area']+dep_var+ind_var)]\n",
    "data_reout, outliers_area = re_outliers_paired(df, (dep_var+ind_var))\n",
    "print('Outliers:', format(outliers_area))\n",
    "\n",
    "# Perform regression\n",
    "#reg_model = sm.OLS(endog=data_reout[dep_var], exog=sm.add_constant(data_reout[ind_var])).fit()\n",
    "reg_model = back_regress(data_reout[dep_var], data_reout[ind_var])\n",
    "print(reg_model.summary())\n",
    "\n",
    "# plot residual vs. fit\n",
    "plt.scatter(reg_model.fittedvalues, reg_model.resid)\n",
    "plt.xlabel('Fitted Value')\n",
    "plt.ylabel('Residual')\n",
    "plt.title('Residual vs. Fitted Plot for ' + cat.title())\n",
    "plt.show()\n",
    "print('\\n')"
   ]
  },
  {
   "cell_type": "markdown",
   "id": "c62290dc",
   "metadata": {},
   "source": [
    "#### P1: Exercise on CS2: Greenery x Health"
   ]
  },
  {
   "cell_type": "code",
   "execution_count": 31,
   "id": "02a3442e",
   "metadata": {},
   "outputs": [
    {
     "name": "stdout",
     "output_type": "stream",
     "text": [
      "CHECKING FOR COLLINEARITY\n",
      "Dropping: green_x_Fair\n",
      "Dropping: green_x_Bad\n",
      "Dropping: green_x_Good\n",
      "\n",
      "\n",
      "Outliers: []\n",
      "Dropping: green_x_Very_good\n",
      "Dropping: green_x_Very_bad\n",
      "                            OLS Regression Results                            \n",
      "==============================================================================\n",
      "Dep. Variable:                 Active   R-squared:                       0.000\n",
      "Model:                            OLS   Adj. R-squared:                  0.000\n",
      "Method:                 Least Squares   F-statistic:                       nan\n",
      "Date:                Fri, 07 Jan 2022   Prob (F-statistic):                nan\n",
      "Time:                        20:58:22   Log-Likelihood:                -94.981\n",
      "No. Observations:                  32   AIC:                             192.0\n",
      "Df Residuals:                      31   BIC:                             193.4\n",
      "Df Model:                           0                                         \n",
      "Covariance Type:            nonrobust                                         \n",
      "==============================================================================\n",
      "                 coef    std err          t      P>|t|      [0.025      0.975]\n",
      "------------------------------------------------------------------------------\n",
      "const         56.6469      0.846     66.995      0.000      54.922      58.371\n",
      "==============================================================================\n",
      "Omnibus:                        1.764   Durbin-Watson:                   1.831\n",
      "Prob(Omnibus):                  0.414   Jarque-Bera (JB):                1.627\n",
      "Skew:                           0.499   Prob(JB):                        0.443\n",
      "Kurtosis:                       2.525   Cond. No.                         1.00\n",
      "==============================================================================\n",
      "\n",
      "Notes:\n",
      "[1] Standard Errors assume that the covariance matrix of the errors is correctly specified.\n"
     ]
    },
    {
     "data": {
      "image/png": "[encoded data removed]",
      "text/plain": [
       "<Figure size 432x288 with 1 Axes>"
      ]
     },
     "metadata": {
      "needs_background": "light"
     },
     "output_type": "display_data"
    },
    {
     "name": "stdout",
     "output_type": "stream",
     "text": [
      "\n",
      "\n"
     ]
    }
   ],
   "source": [
    "# Merge data\n",
    "data = pd.merge(exercise, ndvi_health, on = 'Area')\n",
    "dep_var = exercise.columns.tolist()[1:]\n",
    "var = ndvi_health.columns.tolist()[1:]\n",
    "\n",
    "# Drop collinear independent variables\n",
    "print(f'CHECKING FOR COLLINEARITY')\n",
    "ind_var_data = drop_column_using_vif_(data[var])\n",
    "print('\\n')\n",
    "\n",
    "# Remove outliers first\n",
    "ind_var = ind_var_data.columns.tolist()\n",
    "df = data[(['Area']+dep_var+ind_var)]\n",
    "data_reout, outliers_area = re_outliers_paired(df, (dep_var+ind_var))\n",
    "print('Outliers:', format(outliers_area))\n",
    "\n",
    "# Perform regression\n",
    "#reg_model = sm.OLS(endog=data_reout[dep_var], exog=sm.add_constant(data_reout[ind_var])).fit()\n",
    "reg_model = back_regress(data_reout[dep_var], data_reout[ind_var])\n",
    "print(reg_model.summary())\n",
    "\n",
    "# plot residual vs. fit\n",
    "plt.scatter(reg_model.fittedvalues, reg_model.resid)\n",
    "plt.xlabel('Fitted Value')\n",
    "plt.ylabel('Residual')\n",
    "plt.title('Residual vs. Fitted Plot for ' + cat.title())\n",
    "plt.show()\n",
    "print('\\n')"
   ]
  },
  {
   "cell_type": "markdown",
   "id": "4bdf01cb",
   "metadata": {},
   "source": [
    "#### P1: Exercise on CS3: Greenery x Economic Activity"
   ]
  },
  {
   "cell_type": "code",
   "execution_count": 32,
   "id": "5043d195",
   "metadata": {},
   "outputs": [
    {
     "name": "stdout",
     "output_type": "stream",
     "text": [
      "CHECKING FOR COLLINEARITY\n",
      "\n",
      "\n",
      "Outliers: []\n",
      "Dropping: green_x_Econ_inactive\n",
      "Dropping: green_x_Employed\n",
      "                            OLS Regression Results                            \n",
      "==============================================================================\n",
      "Dep. Variable:                 Active   R-squared:                       0.131\n",
      "Model:                            OLS   Adj. R-squared:                  0.102\n",
      "Method:                 Least Squares   F-statistic:                     4.506\n",
      "Date:                Fri, 07 Jan 2022   Prob (F-statistic):             0.0421\n",
      "Time:                        20:58:22   Log-Likelihood:                -92.742\n",
      "No. Observations:                  32   AIC:                             189.5\n",
      "Df Residuals:                      30   BIC:                             192.4\n",
      "Df Model:                           1                                         \n",
      "Covariance Type:            nonrobust                                         \n",
      "======================================================================================\n",
      "                         coef    std err          t      P>|t|      [0.025      0.975]\n",
      "--------------------------------------------------------------------------------------\n",
      "const                 63.2701      3.221     19.641      0.000      56.691      69.849\n",
      "green_x_Unemployed    -0.0218      0.010     -2.123      0.042      -0.043      -0.001\n",
      "==============================================================================\n",
      "Omnibus:                        2.506   Durbin-Watson:                   2.159\n",
      "Prob(Omnibus):                  0.286   Jarque-Bera (JB):                1.348\n",
      "Skew:                           0.135   Prob(JB):                        0.510\n",
      "Kurtosis:                       2.032   Cond. No.                     1.26e+03\n",
      "==============================================================================\n",
      "\n",
      "Notes:\n",
      "[1] Standard Errors assume that the covariance matrix of the errors is correctly specified.\n",
      "[2] The condition number is large, 1.26e+03. This might indicate that there are\n",
      "strong multicollinearity or other numerical problems.\n"
     ]
    },
    {
     "data": {
      "image/png": "[encoded data removed]",
      "text/plain": [
       "<Figure size 432x288 with 1 Axes>"
      ]
     },
     "metadata": {
      "needs_background": "light"
     },
     "output_type": "display_data"
    },
    {
     "name": "stdout",
     "output_type": "stream",
     "text": [
      "\n",
      "\n"
     ]
    }
   ],
   "source": [
    "# Merge data\n",
    "data = pd.merge(exercise, ndvi_economic, on = 'Area')\n",
    "dep_var = exercise.columns.tolist()[1:]\n",
    "var = ndvi_economic.columns.tolist()[1:]\n",
    "\n",
    "# Drop collinear independent variables\n",
    "print(f'CHECKING FOR COLLINEARITY')\n",
    "ind_var_data = drop_column_using_vif_(data[var])\n",
    "print('\\n')\n",
    "\n",
    "# Remove outliers first\n",
    "ind_var = ind_var_data.columns.tolist()\n",
    "df = data[(['Area']+dep_var+ind_var)]\n",
    "data_reout, outliers_area = re_outliers_paired(df, (dep_var+ind_var))\n",
    "print('Outliers:', format(outliers_area))\n",
    "\n",
    "# Perform regression\n",
    "#reg_model = sm.OLS(endog=data_reout[dep_var], exog=sm.add_constant(data_reout[ind_var])).fit()\n",
    "reg_model = back_regress(data_reout[dep_var], data_reout[ind_var])\n",
    "print(reg_model.summary())\n",
    "\n",
    "# plot residual vs. fit\n",
    "plt.scatter(reg_model.fittedvalues, reg_model.resid)\n",
    "plt.xlabel('Fitted Value')\n",
    "plt.ylabel('Residual')\n",
    "plt.title('Residual vs. Fitted Plot for ' + cat.title())\n",
    "plt.show()\n",
    "print('\\n')"
   ]
  },
  {
   "cell_type": "markdown",
   "id": "5242bdd6",
   "metadata": {},
   "source": [
    "#### P2: Air Quality on C1: Age"
   ]
  },
  {
   "cell_type": "code",
   "execution_count": 33,
   "id": "146d9025",
   "metadata": {},
   "outputs": [
    {
     "name": "stdout",
     "output_type": "stream",
     "text": [
      "CHECKING FOR COLLINEARITY\n",
      "Dropping: Age_0-15\n",
      "Dropping: Age_45-64\n",
      "Dropping: Age_65+\n",
      "\n",
      "\n",
      "Outliers: []\n",
      "Dropping: Age_15-29\n",
      "                            OLS Regression Results                            \n",
      "==============================================================================\n",
      "Dep. Variable:        log_PopExc2013%   R-squared:                       0.546\n",
      "Model:                            OLS   Adj. R-squared:                  0.531\n",
      "Method:                 Least Squares   F-statistic:                     36.11\n",
      "Date:                Fri, 07 Jan 2022   Prob (F-statistic):           1.36e-06\n",
      "Time:                        20:58:22   Log-Likelihood:                -43.245\n",
      "No. Observations:                  32   AIC:                             90.49\n",
      "Df Residuals:                      30   BIC:                             93.42\n",
      "Df Model:                           1                                         \n",
      "Covariance Type:            nonrobust                                         \n",
      "==============================================================================\n",
      "                 coef    std err          t      P>|t|      [0.025      0.975]\n",
      "------------------------------------------------------------------------------\n",
      "const         -7.4154      1.591     -4.661      0.000     -10.665      -4.166\n",
      "Age_30-44      0.3737      0.062      6.009      0.000       0.247       0.501\n",
      "==============================================================================\n",
      "Omnibus:                       16.355   Durbin-Watson:                   1.962\n",
      "Prob(Omnibus):                  0.000   Jarque-Bera (JB):               19.667\n",
      "Skew:                          -1.395   Prob(JB):                     5.36e-05\n",
      "Kurtosis:                       5.639   Cond. No.                         239.\n",
      "==============================================================================\n",
      "\n",
      "Notes:\n",
      "[1] Standard Errors assume that the covariance matrix of the errors is correctly specified.\n"
     ]
    },
    {
     "name": "stderr",
     "output_type": "stream",
     "text": [
      "/opt/conda/envs/sds2021/lib/python3.9/site-packages/statsmodels/regression/linear_model.py:1738: RuntimeWarning: divide by zero encountered in double_scalars\n",
      "  return 1 - self.ssr/self.centered_tss\n",
      "/opt/conda/envs/sds2021/lib/python3.9/site-packages/statsmodels/stats/outliers_influence.py:195: RuntimeWarning: divide by zero encountered in double_scalars\n",
      "  vif = 1. / (1. - r_squared_i)\n"
     ]
    },
    {
     "data": {
      "image/png": "[encoded data removed]",
      "text/plain": [
       "<Figure size 432x288 with 1 Axes>"
      ]
     },
     "metadata": {
      "needs_background": "light"
     },
     "output_type": "display_data"
    },
    {
     "name": "stdout",
     "output_type": "stream",
     "text": [
      "\n",
      "\n"
     ]
    }
   ],
   "source": [
    "# Merge data\n",
    "data = pd.merge(air_quality, age, on = 'Area')\n",
    "dep_var = air_quality.columns.tolist()[1:]\n",
    "var = age.columns.tolist()[1:]\n",
    "\n",
    "# Drop collinear independent variables\n",
    "print(f'CHECKING FOR COLLINEARITY')\n",
    "ind_var_data = drop_column_using_vif_(data[var])\n",
    "print('\\n')\n",
    "\n",
    "# Remove outliers first\n",
    "ind_var = ind_var_data.columns.tolist()\n",
    "df = data[(['Area']+dep_var+ind_var)]\n",
    "data_reout, outliers_area = re_outliers_paired(df, (dep_var+ind_var))\n",
    "print('Outliers:', format(outliers_area))\n",
    "\n",
    "# Perform regression\n",
    "#reg_model = sm.OLS(endog=data_reout[dep_var], exog=sm.add_constant(data_reout[ind_var])).fit()\n",
    "reg_model = back_regress(data_reout[dep_var], data_reout[ind_var])\n",
    "print(reg_model.summary())\n",
    "\n",
    "# plot residual vs. fit\n",
    "plt.scatter(reg_model.fittedvalues, reg_model.resid)\n",
    "plt.xlabel('Fitted Value')\n",
    "plt.ylabel('Residual')\n",
    "plt.title('Residual vs. Fitted Plot for ' + cat.title())\n",
    "plt.show()\n",
    "print('\\n')"
   ]
  },
  {
   "cell_type": "markdown",
   "id": "8ffb1ff7",
   "metadata": {},
   "source": [
    "#### P2: Air Quality on C2: Health"
   ]
  },
  {
   "cell_type": "code",
   "execution_count": 34,
   "id": "011008a0",
   "metadata": {},
   "outputs": [
    {
     "name": "stdout",
     "output_type": "stream",
     "text": [
      "CHECKING FOR COLLINEARITY\n",
      "Dropping: Very_good\n",
      "Dropping: Bad\n",
      "\n",
      "\n"
     ]
    },
    {
     "name": "stderr",
     "output_type": "stream",
     "text": [
      "/opt/conda/envs/sds2021/lib/python3.9/site-packages/statsmodels/regression/linear_model.py:1738: RuntimeWarning: divide by zero encountered in double_scalars\n",
      "  return 1 - self.ssr/self.centered_tss\n",
      "/opt/conda/envs/sds2021/lib/python3.9/site-packages/statsmodels/stats/outliers_influence.py:195: RuntimeWarning: divide by zero encountered in double_scalars\n",
      "  vif = 1. / (1. - r_squared_i)\n"
     ]
    },
    {
     "name": "stdout",
     "output_type": "stream",
     "text": [
      "Outliers: []\n",
      "Dropping: Good\n",
      "                            OLS Regression Results                            \n",
      "==============================================================================\n",
      "Dep. Variable:        log_PopExc2013%   R-squared:                       0.744\n",
      "Model:                            OLS   Adj. R-squared:                  0.726\n",
      "Method:                 Least Squares   F-statistic:                     42.11\n",
      "Date:                Fri, 07 Jan 2022   Prob (F-statistic):           2.64e-09\n",
      "Time:                        20:58:22   Log-Likelihood:                -34.092\n",
      "No. Observations:                  32   AIC:                             74.18\n",
      "Df Residuals:                      29   BIC:                             78.58\n",
      "Df Model:                           2                                         \n",
      "Covariance Type:            nonrobust                                         \n",
      "==============================================================================\n",
      "                 coef    std err          t      P>|t|      [0.025      0.975]\n",
      "------------------------------------------------------------------------------\n",
      "const          9.4279      1.408      6.695      0.000       6.548      12.308\n",
      "Fair          -0.9832      0.121     -8.120      0.000      -1.231      -0.736\n",
      "Very_bad       2.9497      0.536      5.508      0.000       1.854       4.045\n",
      "==============================================================================\n",
      "Omnibus:                       11.869   Durbin-Watson:                   1.942\n",
      "Prob(Omnibus):                  0.003   Jarque-Bera (JB):               11.531\n",
      "Skew:                          -1.151   Prob(JB):                      0.00313\n",
      "Kurtosis:                       4.829   Cond. No.                         123.\n",
      "==============================================================================\n",
      "\n",
      "Notes:\n",
      "[1] Standard Errors assume that the covariance matrix of the errors is correctly specified.\n"
     ]
    },
    {
     "data": {
      "image/png": "[encoded data removed]",
      "text/plain": [
       "<Figure size 432x288 with 1 Axes>"
      ]
     },
     "metadata": {
      "needs_background": "light"
     },
     "output_type": "display_data"
    },
    {
     "name": "stdout",
     "output_type": "stream",
     "text": [
      "\n",
      "\n"
     ]
    }
   ],
   "source": [
    "# Merge data\n",
    "data = pd.merge(air_quality, health, on = 'Area')\n",
    "dep_var = air_quality.columns.tolist()[1:]\n",
    "var = health.columns.tolist()[1:]\n",
    "\n",
    "# Drop collinear independent variables\n",
    "print(f'CHECKING FOR COLLINEARITY')\n",
    "ind_var_data = drop_column_using_vif_(data[var])\n",
    "print('\\n')\n",
    "\n",
    "# Remove outliers first\n",
    "ind_var = ind_var_data.columns.tolist()\n",
    "df = data[(['Area']+dep_var+ind_var)]\n",
    "data_reout, outliers_area = re_outliers_paired(df, (dep_var+ind_var))\n",
    "print('Outliers:', format(outliers_area))\n",
    "\n",
    "# Perform regression\n",
    "#reg_model = sm.OLS(endog=data_reout[dep_var], exog=sm.add_constant(data_reout[ind_var])).fit()\n",
    "reg_model = back_regress(data_reout[dep_var], data_reout[ind_var])\n",
    "print(reg_model.summary())\n",
    "\n",
    "# plot residual vs. fit\n",
    "plt.scatter(reg_model.fittedvalues, reg_model.resid)\n",
    "plt.xlabel('Fitted Value')\n",
    "plt.ylabel('Residual')\n",
    "plt.title('Residual vs. Fitted Plot for ' + cat.title())\n",
    "plt.show()\n",
    "print('\\n')"
   ]
  },
  {
   "cell_type": "markdown",
   "id": "0e696bf3",
   "metadata": {},
   "source": [
    "#### P2: Air Quality on C3: Economic Activity"
   ]
  },
  {
   "cell_type": "code",
   "execution_count": 35,
   "id": "d562950f",
   "metadata": {},
   "outputs": [
    {
     "name": "stdout",
     "output_type": "stream",
     "text": [
      "CHECKING FOR COLLINEARITY\n",
      "Dropping: Econ_inactive\n"
     ]
    },
    {
     "name": "stderr",
     "output_type": "stream",
     "text": [
      "/opt/conda/envs/sds2021/lib/python3.9/site-packages/statsmodels/regression/linear_model.py:1738: RuntimeWarning: divide by zero encountered in double_scalars\n",
      "  return 1 - self.ssr/self.centered_tss\n",
      "/opt/conda/envs/sds2021/lib/python3.9/site-packages/statsmodels/stats/outliers_influence.py:195: RuntimeWarning: divide by zero encountered in double_scalars\n",
      "  vif = 1. / (1. - r_squared_i)\n"
     ]
    },
    {
     "name": "stdout",
     "output_type": "stream",
     "text": [
      "\n",
      "\n",
      "Outliers: []\n",
      "Dropping: Unemployed\n",
      "                            OLS Regression Results                            \n",
      "==============================================================================\n",
      "Dep. Variable:        log_PopExc2013%   R-squared:                       0.125\n",
      "Model:                            OLS   Adj. R-squared:                  0.096\n",
      "Method:                 Least Squares   F-statistic:                     4.296\n",
      "Date:                Fri, 07 Jan 2022   Prob (F-statistic):             0.0469\n",
      "Time:                        20:58:22   Log-Likelihood:                -53.744\n",
      "No. Observations:                  32   AIC:                             111.5\n",
      "Df Residuals:                      30   BIC:                             114.4\n",
      "Df Model:                           1                                         \n",
      "Covariance Type:            nonrobust                                         \n",
      "==============================================================================\n",
      "                 coef    std err          t      P>|t|      [0.025      0.975]\n",
      "------------------------------------------------------------------------------\n",
      "const          8.8952      3.292      2.702      0.011       2.172      15.618\n",
      "Employed      -0.1009      0.049     -2.073      0.047      -0.200      -0.001\n",
      "==============================================================================\n",
      "Omnibus:                        2.002   Durbin-Watson:                   1.179\n",
      "Prob(Omnibus):                  0.368   Jarque-Bera (JB):                1.186\n",
      "Skew:                          -0.102   Prob(JB):                        0.553\n",
      "Kurtosis:                       2.080   Cond. No.                         940.\n",
      "==============================================================================\n",
      "\n",
      "Notes:\n",
      "[1] Standard Errors assume that the covariance matrix of the errors is correctly specified.\n"
     ]
    },
    {
     "data": {
      "image/png": "[encoded data removed]",
      "text/plain": [
       "<Figure size 432x288 with 1 Axes>"
      ]
     },
     "metadata": {
      "needs_background": "light"
     },
     "output_type": "display_data"
    },
    {
     "name": "stdout",
     "output_type": "stream",
     "text": [
      "\n",
      "\n"
     ]
    }
   ],
   "source": [
    "# Merge data\n",
    "data = pd.merge(air_quality, economic, on = 'Area')\n",
    "dep_var = air_quality.columns.tolist()[1:]\n",
    "var = economic.columns.tolist()[1:]\n",
    "\n",
    "# Drop collinear independent variables\n",
    "print(f'CHECKING FOR COLLINEARITY')\n",
    "ind_var_data = drop_column_using_vif_(data[var])\n",
    "print('\\n')\n",
    "\n",
    "# Remove outliers first\n",
    "ind_var = ind_var_data.columns.tolist()\n",
    "df = data[(['Area']+dep_var+ind_var)]\n",
    "data_reout, outliers_area = re_outliers_paired(df, (dep_var+ind_var))\n",
    "print('Outliers:', format(outliers_area))\n",
    "\n",
    "# Perform regression\n",
    "#reg_model = sm.OLS(endog=data_reout[dep_var], exog=sm.add_constant(data_reout[ind_var])).fit()\n",
    "reg_model = back_regress(data_reout[dep_var], data_reout[ind_var])\n",
    "print(reg_model.summary())\n",
    "\n",
    "# plot residual vs. fit\n",
    "plt.scatter(reg_model.fittedvalues, reg_model.resid)\n",
    "plt.xlabel('Fitted Value')\n",
    "plt.ylabel('Residual')\n",
    "plt.title('Residual vs. Fitted Plot for ' + cat.title())\n",
    "plt.show()\n",
    "print('\\n')"
   ]
  },
  {
   "cell_type": "markdown",
   "id": "35a074fc",
   "metadata": {},
   "source": [
    "#### P2: Air Quality on S: Green Cover"
   ]
  },
  {
   "cell_type": "code",
   "execution_count": 36,
   "id": "3bf5c539",
   "metadata": {},
   "outputs": [
    {
     "name": "stdout",
     "output_type": "stream",
     "text": [
      "CHECKING FOR COLLINEARITY\n",
      "\n",
      "\n",
      "Outliers: []\n",
      "                            OLS Regression Results                            \n",
      "==============================================================================\n",
      "Dep. Variable:        log_PopExc2013%   R-squared:                       0.370\n",
      "Model:                            OLS   Adj. R-squared:                  0.349\n",
      "Method:                 Least Squares   F-statistic:                     17.60\n",
      "Date:                Fri, 07 Jan 2022   Prob (F-statistic):           0.000223\n",
      "Time:                        20:58:23   Log-Likelihood:                -48.499\n",
      "No. Observations:                  32   AIC:                             101.0\n",
      "Df Residuals:                      30   BIC:                             103.9\n",
      "Df Model:                           1                                         \n",
      "Covariance Type:            nonrobust                                         \n",
      "=================================================================================\n",
      "                    coef    std err          t      P>|t|      [0.025      0.975]\n",
      "---------------------------------------------------------------------------------\n",
      "const             5.5777      0.855      6.521      0.000       3.831       7.325\n",
      "percent_green    -0.0779      0.019     -4.195      0.000      -0.116      -0.040\n",
      "==============================================================================\n",
      "Omnibus:                        1.397   Durbin-Watson:                   1.453\n",
      "Prob(Omnibus):                  0.497   Jarque-Bera (JB):                1.239\n",
      "Skew:                          -0.452   Prob(JB):                        0.538\n",
      "Kurtosis:                       2.664   Cond. No.                         196.\n",
      "==============================================================================\n",
      "\n",
      "Notes:\n",
      "[1] Standard Errors assume that the covariance matrix of the errors is correctly specified.\n"
     ]
    },
    {
     "data": {
      "image/png": "[encoded data removed]",
      "text/plain": [
       "<Figure size 432x288 with 1 Axes>"
      ]
     },
     "metadata": {
      "needs_background": "light"
     },
     "output_type": "display_data"
    },
    {
     "name": "stdout",
     "output_type": "stream",
     "text": [
      "\n",
      "\n"
     ]
    }
   ],
   "source": [
    "# Merge data\n",
    "data = pd.merge(air_quality, ndvi, on = 'Area')\n",
    "dep_var = air_quality.columns.tolist()[1:]\n",
    "var = ndvi.columns.tolist()[1:]\n",
    "\n",
    "# Drop collinear independent variables\n",
    "print(f'CHECKING FOR COLLINEARITY')\n",
    "ind_var_data = drop_column_using_vif_(data[var])\n",
    "print('\\n')\n",
    "\n",
    "# Remove outliers first\n",
    "ind_var = ind_var_data.columns.tolist()\n",
    "df = data[(['Area']+dep_var+ind_var)]\n",
    "data_reout, outliers_area = re_outliers_paired(df, (dep_var+ind_var))\n",
    "print('Outliers:', format(outliers_area))\n",
    "\n",
    "# Perform regression\n",
    "#reg_model = sm.OLS(endog=data_reout[dep_var], exog=sm.add_constant(data_reout[ind_var])).fit()\n",
    "reg_model = back_regress(data_reout[dep_var], data_reout[ind_var])\n",
    "print(reg_model.summary())\n",
    "\n",
    "# plot residual vs. fit\n",
    "plt.scatter(reg_model.fittedvalues, reg_model.resid)\n",
    "plt.xlabel('Fitted Value')\n",
    "plt.ylabel('Residual')\n",
    "plt.title('Residual vs. Fitted Plot for ' + cat.title())\n",
    "plt.show()\n",
    "print('\\n')"
   ]
  },
  {
   "cell_type": "markdown",
   "id": "7be4fd31",
   "metadata": {},
   "source": [
    "#### P2: Air Quality on CS1: Greenery x Age"
   ]
  },
  {
   "cell_type": "code",
   "execution_count": 37,
   "id": "9e37d0c0",
   "metadata": {},
   "outputs": [
    {
     "name": "stdout",
     "output_type": "stream",
     "text": [
      "CHECKING FOR COLLINEARITY\n",
      "Dropping: green_x_Age_45-64\n",
      "\n",
      "\n",
      "Outliers: ['Richmond upon Thames']\n",
      "Dropping: green_x_Age_65+\n",
      "Dropping: green_x_Age_30-44\n",
      "                            OLS Regression Results                            \n",
      "==============================================================================\n",
      "Dep. Variable:        log_PopExc2013%   R-squared:                       0.635\n",
      "Model:                            OLS   Adj. R-squared:                  0.609\n",
      "Method:                 Least Squares   F-statistic:                     24.34\n",
      "Date:                Fri, 07 Jan 2022   Prob (F-statistic):           7.51e-07\n",
      "Time:                        20:58:23   Log-Likelihood:                -38.958\n",
      "No. Observations:                  31   AIC:                             83.92\n",
      "Df Residuals:                      28   BIC:                             88.22\n",
      "Df Model:                           2                                         \n",
      "Covariance Type:            nonrobust                                         \n",
      "=====================================================================================\n",
      "                        coef    std err          t      P>|t|      [0.025      0.975]\n",
      "-------------------------------------------------------------------------------------\n",
      "const                 3.5748      1.185      3.017      0.005       1.148       6.002\n",
      "green_x_Age_0-15     -0.0054      0.001     -6.414      0.000      -0.007      -0.004\n",
      "green_x_Age_15-29     0.0034      0.002      2.162      0.039       0.000       0.007\n",
      "==============================================================================\n",
      "Omnibus:                        5.443   Durbin-Watson:                   2.223\n",
      "Prob(Omnibus):                  0.066   Jarque-Bera (JB):                3.770\n",
      "Skew:                          -0.694   Prob(JB):                        0.152\n",
      "Kurtosis:                       3.996   Cond. No.                     9.85e+03\n",
      "==============================================================================\n",
      "\n",
      "Notes:\n",
      "[1] Standard Errors assume that the covariance matrix of the errors is correctly specified.\n",
      "[2] The condition number is large, 9.85e+03. This might indicate that there are\n",
      "strong multicollinearity or other numerical problems.\n"
     ]
    },
    {
     "data": {
      "image/png": "[encoded data removed]",
      "text/plain": [
       "<Figure size 432x288 with 1 Axes>"
      ]
     },
     "metadata": {
      "needs_background": "light"
     },
     "output_type": "display_data"
    },
    {
     "name": "stdout",
     "output_type": "stream",
     "text": [
      "\n",
      "\n"
     ]
    }
   ],
   "source": [
    "# Merge data\n",
    "data = pd.merge(air_quality, ndvi_age, on = 'Area')\n",
    "dep_var = air_quality.columns.tolist()[1:]\n",
    "var = ndvi_age.columns.tolist()[1:]\n",
    "\n",
    "# Drop collinear independent variables\n",
    "print(f'CHECKING FOR COLLINEARITY')\n",
    "ind_var_data = drop_column_using_vif_(data[var])\n",
    "print('\\n')\n",
    "\n",
    "# Remove outliers first\n",
    "ind_var = ind_var_data.columns.tolist()\n",
    "df = data[(['Area']+dep_var+ind_var)]\n",
    "data_reout, outliers_area = re_outliers_paired(df, (dep_var+ind_var))\n",
    "print('Outliers:', format(outliers_area))\n",
    "\n",
    "# Perform regression\n",
    "#reg_model = sm.OLS(endog=data_reout[dep_var], exog=sm.add_constant(data_reout[ind_var])).fit()\n",
    "reg_model = back_regress(data_reout[dep_var], data_reout[ind_var])\n",
    "print(reg_model.summary())\n",
    "\n",
    "# plot residual vs. fit\n",
    "plt.scatter(reg_model.fittedvalues, reg_model.resid)\n",
    "plt.xlabel('Fitted Value')\n",
    "plt.ylabel('Residual')\n",
    "plt.title('Residual vs. Fitted Plot for ' + cat.title())\n",
    "plt.show()\n",
    "print('\\n')"
   ]
  },
  {
   "cell_type": "markdown",
   "id": "1b6d1efe",
   "metadata": {},
   "source": [
    "#### P2: Air Quality on CS2: Greenery x Health"
   ]
  },
  {
   "cell_type": "code",
   "execution_count": 38,
   "id": "45d8b41c",
   "metadata": {},
   "outputs": [
    {
     "name": "stdout",
     "output_type": "stream",
     "text": [
      "CHECKING FOR COLLINEARITY\n",
      "Dropping: green_x_Fair\n",
      "Dropping: green_x_Bad\n",
      "Dropping: green_x_Good\n",
      "\n",
      "\n",
      "Outliers: []\n",
      "Dropping: green_x_Very_bad\n",
      "                            OLS Regression Results                            \n",
      "==============================================================================\n",
      "Dep. Variable:        log_PopExc2013%   R-squared:                       0.209\n",
      "Model:                            OLS   Adj. R-squared:                  0.183\n",
      "Method:                 Least Squares   F-statistic:                     7.940\n",
      "Date:                Fri, 07 Jan 2022   Prob (F-statistic):            0.00848\n",
      "Time:                        20:58:23   Log-Likelihood:                -52.129\n",
      "No. Observations:                  32   AIC:                             108.3\n",
      "Df Residuals:                      30   BIC:                             111.2\n",
      "Df Model:                           1                                         \n",
      "Covariance Type:            nonrobust                                         \n",
      "=====================================================================================\n",
      "                        coef    std err          t      P>|t|      [0.025      0.975]\n",
      "-------------------------------------------------------------------------------------\n",
      "const                 4.8226      0.996      4.843      0.000       2.789       6.856\n",
      "green_x_Very_good    -0.0012      0.000     -2.818      0.008      -0.002      -0.000\n",
      "==============================================================================\n",
      "Omnibus:                        1.208   Durbin-Watson:                   1.372\n",
      "Prob(Omnibus):                  0.547   Jarque-Bera (JB):                1.081\n",
      "Skew:                          -0.271   Prob(JB):                        0.582\n",
      "Kurtosis:                       2.280   Cond. No.                     1.03e+04\n",
      "==============================================================================\n",
      "\n",
      "Notes:\n",
      "[1] Standard Errors assume that the covariance matrix of the errors is correctly specified.\n",
      "[2] The condition number is large, 1.03e+04. This might indicate that there are\n",
      "strong multicollinearity or other numerical problems.\n"
     ]
    },
    {
     "data": {
      "image/png": "[encoded data removed]",
      "text/plain": [
       "<Figure size 432x288 with 1 Axes>"
      ]
     },
     "metadata": {
      "needs_background": "light"
     },
     "output_type": "display_data"
    },
    {
     "name": "stdout",
     "output_type": "stream",
     "text": [
      "\n",
      "\n"
     ]
    }
   ],
   "source": [
    "# Merge data\n",
    "data = pd.merge(air_quality, ndvi_health, on = 'Area')\n",
    "dep_var = air_quality.columns.tolist()[1:]\n",
    "var = ndvi_health.columns.tolist()[1:]\n",
    "\n",
    "# Drop collinear independent variables\n",
    "print(f'CHECKING FOR COLLINEARITY')\n",
    "ind_var_data = drop_column_using_vif_(data[var])\n",
    "print('\\n')\n",
    "\n",
    "# Remove outliers first\n",
    "ind_var = ind_var_data.columns.tolist()\n",
    "df = data[(['Area']+dep_var+ind_var)]\n",
    "data_reout, outliers_area = re_outliers_paired(df, (dep_var+ind_var))\n",
    "print('Outliers:', format(outliers_area))\n",
    "\n",
    "# Perform regression\n",
    "#reg_model = sm.OLS(endog=data_reout[dep_var], exog=sm.add_constant(data_reout[ind_var])).fit()\n",
    "reg_model = back_regress(data_reout[dep_var], data_reout[ind_var])\n",
    "print(reg_model.summary())\n",
    "\n",
    "# plot residual vs. fit\n",
    "plt.scatter(reg_model.fittedvalues, reg_model.resid)\n",
    "plt.xlabel('Fitted Value')\n",
    "plt.ylabel('Residual')\n",
    "plt.title('Residual vs. Fitted Plot for ' + cat.title())\n",
    "plt.show()\n",
    "print('\\n')"
   ]
  },
  {
   "cell_type": "markdown",
   "id": "0f343ba8",
   "metadata": {},
   "source": [
    "#### P2: Air Quality on CS3: Greenery x Economic Activity"
   ]
  },
  {
   "cell_type": "code",
   "execution_count": 39,
   "id": "1bfb1a9a",
   "metadata": {},
   "outputs": [
    {
     "name": "stdout",
     "output_type": "stream",
     "text": [
      "CHECKING FOR COLLINEARITY\n",
      "\n",
      "\n",
      "Outliers: []\n",
      "Dropping: green_x_Econ_inactive\n",
      "                            OLS Regression Results                            \n",
      "==============================================================================\n",
      "Dep. Variable:        log_PopExc2013%   R-squared:                       0.513\n",
      "Model:                            OLS   Adj. R-squared:                  0.479\n",
      "Method:                 Least Squares   F-statistic:                     15.27\n",
      "Date:                Fri, 07 Jan 2022   Prob (F-statistic):           2.95e-05\n",
      "Time:                        20:58:23   Log-Likelihood:                -44.374\n",
      "No. Observations:                  32   AIC:                             94.75\n",
      "Df Residuals:                      29   BIC:                             99.15\n",
      "Df Model:                           2                                         \n",
      "Covariance Type:            nonrobust                                         \n",
      "======================================================================================\n",
      "                         coef    std err          t      P>|t|      [0.025      0.975]\n",
      "--------------------------------------------------------------------------------------\n",
      "const                  6.3317      0.789      8.029      0.000       4.719       7.945\n",
      "green_x_Unemployed    -0.0082      0.003     -3.065      0.005      -0.014      -0.003\n",
      "green_x_Employed      -0.0006      0.000     -2.399      0.023      -0.001   -8.46e-05\n",
      "==============================================================================\n",
      "Omnibus:                        4.322   Durbin-Watson:                   1.915\n",
      "Prob(Omnibus):                  0.115   Jarque-Bera (JB):                3.416\n",
      "Skew:                          -0.800   Prob(JB):                        0.181\n",
      "Kurtosis:                       3.067   Cond. No.                     1.40e+04\n",
      "==============================================================================\n",
      "\n",
      "Notes:\n",
      "[1] Standard Errors assume that the covariance matrix of the errors is correctly specified.\n",
      "[2] The condition number is large, 1.4e+04. This might indicate that there are\n",
      "strong multicollinearity or other numerical problems.\n"
     ]
    },
    {
     "data": {
      "image/png": "[encoded data removed]",
      "text/plain": [
       "<Figure size 432x288 with 1 Axes>"
      ]
     },
     "metadata": {
      "needs_background": "light"
     },
     "output_type": "display_data"
    },
    {
     "name": "stdout",
     "output_type": "stream",
     "text": [
      "\n",
      "\n"
     ]
    }
   ],
   "source": [
    "# Merge data\n",
    "data = pd.merge(air_quality, ndvi_economic, on = 'Area')\n",
    "dep_var = air_quality.columns.tolist()[1:]\n",
    "var = ndvi_economic.columns.tolist()[1:]\n",
    "\n",
    "# Drop collinear independent variables\n",
    "print(f'CHECKING FOR COLLINEARITY')\n",
    "ind_var_data = drop_column_using_vif_(data[var])\n",
    "print('\\n')\n",
    "\n",
    "# Remove outliers first\n",
    "ind_var = ind_var_data.columns.tolist()\n",
    "df = data[(['Area']+dep_var+ind_var)]\n",
    "data_reout, outliers_area = re_outliers_paired(df, (dep_var+ind_var))\n",
    "print('Outliers:', format(outliers_area))\n",
    "\n",
    "# Perform regression\n",
    "#reg_model = sm.OLS(endog=data_reout[dep_var], exog=sm.add_constant(data_reout[ind_var])).fit()\n",
    "reg_model = back_regress(data_reout[dep_var], data_reout[ind_var])\n",
    "print(reg_model.summary())\n",
    "\n",
    "# plot residual vs. fit\n",
    "plt.scatter(reg_model.fittedvalues, reg_model.resid)\n",
    "plt.xlabel('Fitted Value')\n",
    "plt.ylabel('Residual')\n",
    "plt.title('Residual vs. Fitted Plot for ' + cat.title())\n",
    "plt.show()\n",
    "print('\\n')"
   ]
  },
  {
   "cell_type": "markdown",
   "id": "a0dedba0",
   "metadata": {},
   "source": [
    "#### P3: Anxiety on C1: Age"
   ]
  },
  {
   "cell_type": "code",
   "execution_count": 40,
   "id": "fbbab65e",
   "metadata": {},
   "outputs": [
    {
     "name": "stdout",
     "output_type": "stream",
     "text": [
      "CHECKING FOR COLLINEARITY\n",
      "Dropping: Age_0-15\n",
      "Dropping: Age_45-64\n",
      "Dropping: Age_65+\n",
      "\n",
      "\n",
      "Outliers: ['Brent', 'Hammersmith and Fulham', 'Harrow']\n",
      "Dropping: Age_30-44\n",
      "                            OLS Regression Results                            \n",
      "==============================================================================\n",
      "Dep. Variable:                Anxiety   R-squared:                       0.354\n",
      "Model:                            OLS   Adj. R-squared:                  0.330\n",
      "Method:                 Least Squares   F-statistic:                     14.81\n",
      "Date:                Fri, 07 Jan 2022   Prob (F-statistic):           0.000661\n",
      "Time:                        20:58:24   Log-Likelihood:                 9.3633\n",
      "No. Observations:                  29   AIC:                            -14.73\n",
      "Df Residuals:                      27   BIC:                            -11.99\n",
      "Df Model:                           1                                         \n",
      "Covariance Type:            nonrobust                                         \n",
      "==============================================================================\n",
      "                 coef    std err          t      P>|t|      [0.025      0.975]\n",
      "------------------------------------------------------------------------------\n",
      "const          2.7642      0.188     14.723      0.000       2.379       3.149\n",
      "Age_15-29      0.0318      0.008      3.848      0.001       0.015       0.049\n",
      "==============================================================================\n",
      "Omnibus:                        1.255   Durbin-Watson:                   2.049\n",
      "Prob(Omnibus):                  0.534   Jarque-Bera (JB):                0.985\n",
      "Skew:                           0.437   Prob(JB):                        0.611\n",
      "Kurtosis:                       2.775   Cond. No.                         127.\n",
      "==============================================================================\n",
      "\n",
      "Notes:\n",
      "[1] Standard Errors assume that the covariance matrix of the errors is correctly specified.\n"
     ]
    },
    {
     "name": "stderr",
     "output_type": "stream",
     "text": [
      "/opt/conda/envs/sds2021/lib/python3.9/site-packages/statsmodels/regression/linear_model.py:1738: RuntimeWarning: divide by zero encountered in double_scalars\n",
      "  return 1 - self.ssr/self.centered_tss\n",
      "/opt/conda/envs/sds2021/lib/python3.9/site-packages/statsmodels/stats/outliers_influence.py:195: RuntimeWarning: divide by zero encountered in double_scalars\n",
      "  vif = 1. / (1. - r_squared_i)\n"
     ]
    },
    {
     "data": {
      "image/png": "[encoded data removed]",
      "text/plain": [
       "<Figure size 432x288 with 1 Axes>"
      ]
     },
     "metadata": {
      "needs_background": "light"
     },
     "output_type": "display_data"
    },
    {
     "name": "stdout",
     "output_type": "stream",
     "text": [
      "\n",
      "\n"
     ]
    }
   ],
   "source": [
    "# Merge data\n",
    "data = pd.merge(anxiety, age, on = 'Area')\n",
    "dep_var = anxiety.columns.tolist()[1:]\n",
    "var = age.columns.tolist()[1:]\n",
    "\n",
    "# Drop collinear independent variables\n",
    "print(f'CHECKING FOR COLLINEARITY')\n",
    "ind_var_data = drop_column_using_vif_(data[var])\n",
    "print('\\n')\n",
    "\n",
    "# Remove outliers first\n",
    "ind_var = ind_var_data.columns.tolist()\n",
    "df = data[(['Area']+dep_var+ind_var)]\n",
    "data_reout, outliers_area = re_outliers_paired(df, (dep_var+ind_var))\n",
    "print('Outliers:', format(outliers_area))\n",
    "\n",
    "# Perform regression\n",
    "#reg_model = sm.OLS(endog=data_reout[dep_var], exog=sm.add_constant(data_reout[ind_var])).fit()\n",
    "reg_model = back_regress(data_reout[dep_var], data_reout[ind_var])\n",
    "print(reg_model.summary())\n",
    "\n",
    "# plot residual vs. fit\n",
    "plt.scatter(reg_model.fittedvalues, reg_model.resid)\n",
    "plt.xlabel('Fitted Value')\n",
    "plt.ylabel('Residual')\n",
    "plt.title('Residual vs. Fitted Plot for ' + cat.title())\n",
    "plt.show()\n",
    "print('\\n')"
   ]
  },
  {
   "cell_type": "markdown",
   "id": "6ff3847b",
   "metadata": {},
   "source": [
    "#### P3: Anxiety on C2: Health"
   ]
  },
  {
   "cell_type": "code",
   "execution_count": 41,
   "id": "d496abc9",
   "metadata": {},
   "outputs": [
    {
     "name": "stdout",
     "output_type": "stream",
     "text": [
      "CHECKING FOR COLLINEARITY\n",
      "Dropping: Very_good\n"
     ]
    },
    {
     "name": "stderr",
     "output_type": "stream",
     "text": [
      "/opt/conda/envs/sds2021/lib/python3.9/site-packages/statsmodels/regression/linear_model.py:1738: RuntimeWarning: divide by zero encountered in double_scalars\n",
      "  return 1 - self.ssr/self.centered_tss\n",
      "/opt/conda/envs/sds2021/lib/python3.9/site-packages/statsmodels/stats/outliers_influence.py:195: RuntimeWarning: divide by zero encountered in double_scalars\n",
      "  vif = 1. / (1. - r_squared_i)\n"
     ]
    },
    {
     "name": "stdout",
     "output_type": "stream",
     "text": [
      "Dropping: Bad\n",
      "\n",
      "\n",
      "Outliers: ['Brent', 'Hammersmith and Fulham', 'Harrow']\n",
      "Dropping: Good\n",
      "Dropping: Fair\n",
      "Dropping: Very_bad\n",
      "                            OLS Regression Results                            \n",
      "==============================================================================\n",
      "Dep. Variable:                Anxiety   R-squared:                       0.000\n",
      "Model:                            OLS   Adj. R-squared:                  0.000\n",
      "Method:                 Least Squares   F-statistic:                       nan\n",
      "Date:                Fri, 07 Jan 2022   Prob (F-statistic):                nan\n",
      "Time:                        20:58:24   Log-Likelihood:                 3.0240\n",
      "No. Observations:                  29   AIC:                            -4.048\n",
      "Df Residuals:                      28   BIC:                            -2.681\n",
      "Df Model:                           0                                         \n",
      "Covariance Type:            nonrobust                                         \n",
      "==============================================================================\n",
      "                 coef    std err          t      P>|t|      [0.025      0.975]\n",
      "------------------------------------------------------------------------------\n",
      "const          3.4748      0.041     84.340      0.000       3.390       3.559\n",
      "==============================================================================\n",
      "Omnibus:                        0.952   Durbin-Watson:                   2.132\n",
      "Prob(Omnibus):                  0.621   Jarque-Bera (JB):                0.966\n",
      "Skew:                           0.329   Prob(JB):                        0.617\n",
      "Kurtosis:                       2.394   Cond. No.                         1.00\n",
      "==============================================================================\n",
      "\n",
      "Notes:\n",
      "[1] Standard Errors assume that the covariance matrix of the errors is correctly specified.\n"
     ]
    },
    {
     "data": {
      "image/png": "[encoded data removed]",
      "text/plain": [
       "<Figure size 432x288 with 1 Axes>"
      ]
     },
     "metadata": {
      "needs_background": "light"
     },
     "output_type": "display_data"
    },
    {
     "name": "stdout",
     "output_type": "stream",
     "text": [
      "\n",
      "\n"
     ]
    }
   ],
   "source": [
    "# Merge data\n",
    "data = pd.merge(anxiety, health, on = 'Area')\n",
    "dep_var = anxiety.columns.tolist()[1:]\n",
    "var = health.columns.tolist()[1:]\n",
    "\n",
    "# Drop collinear independent variables\n",
    "print(f'CHECKING FOR COLLINEARITY')\n",
    "ind_var_data = drop_column_using_vif_(data[var])\n",
    "print('\\n')\n",
    "\n",
    "# Remove outliers first\n",
    "ind_var = ind_var_data.columns.tolist()\n",
    "df = data[(['Area']+dep_var+ind_var)]\n",
    "data_reout, outliers_area = re_outliers_paired(df, (dep_var+ind_var))\n",
    "print('Outliers:', format(outliers_area))\n",
    "\n",
    "# Perform regression\n",
    "#reg_model = sm.OLS(endog=data_reout[dep_var], exog=sm.add_constant(data_reout[ind_var])).fit()\n",
    "reg_model = back_regress(data_reout[dep_var], data_reout[ind_var])\n",
    "print(reg_model.summary())\n",
    "\n",
    "# plot residual vs. fit\n",
    "plt.scatter(reg_model.fittedvalues, reg_model.resid)\n",
    "plt.xlabel('Fitted Value')\n",
    "plt.ylabel('Residual')\n",
    "plt.title('Residual vs. Fitted Plot for ' + cat.title())\n",
    "plt.show()\n",
    "print('\\n')"
   ]
  },
  {
   "cell_type": "markdown",
   "id": "6d18b393",
   "metadata": {},
   "source": [
    "#### P3: Anxiety on C3: Economic Activity"
   ]
  },
  {
   "cell_type": "code",
   "execution_count": 42,
   "id": "c70a382b",
   "metadata": {},
   "outputs": [
    {
     "name": "stdout",
     "output_type": "stream",
     "text": [
      "CHECKING FOR COLLINEARITY\n",
      "Dropping: Econ_inactive\n",
      "\n",
      "\n"
     ]
    },
    {
     "name": "stderr",
     "output_type": "stream",
     "text": [
      "/opt/conda/envs/sds2021/lib/python3.9/site-packages/statsmodels/regression/linear_model.py:1738: RuntimeWarning: divide by zero encountered in double_scalars\n",
      "  return 1 - self.ssr/self.centered_tss\n",
      "/opt/conda/envs/sds2021/lib/python3.9/site-packages/statsmodels/stats/outliers_influence.py:195: RuntimeWarning: divide by zero encountered in double_scalars\n",
      "  vif = 1. / (1. - r_squared_i)\n"
     ]
    },
    {
     "name": "stdout",
     "output_type": "stream",
     "text": [
      "Outliers: ['Brent', 'Hammersmith and Fulham', 'Harrow']\n",
      "Dropping: Unemployed\n",
      "Dropping: Employed\n",
      "                            OLS Regression Results                            \n",
      "==============================================================================\n",
      "Dep. Variable:                Anxiety   R-squared:                       0.000\n",
      "Model:                            OLS   Adj. R-squared:                  0.000\n",
      "Method:                 Least Squares   F-statistic:                       nan\n",
      "Date:                Fri, 07 Jan 2022   Prob (F-statistic):                nan\n",
      "Time:                        20:58:24   Log-Likelihood:                 3.0240\n",
      "No. Observations:                  29   AIC:                            -4.048\n",
      "Df Residuals:                      28   BIC:                            -2.681\n",
      "Df Model:                           0                                         \n",
      "Covariance Type:            nonrobust                                         \n",
      "==============================================================================\n",
      "                 coef    std err          t      P>|t|      [0.025      0.975]\n",
      "------------------------------------------------------------------------------\n",
      "const          3.4748      0.041     84.340      0.000       3.390       3.559\n",
      "==============================================================================\n",
      "Omnibus:                        0.952   Durbin-Watson:                   2.132\n",
      "Prob(Omnibus):                  0.621   Jarque-Bera (JB):                0.966\n",
      "Skew:                           0.329   Prob(JB):                        0.617\n",
      "Kurtosis:                       2.394   Cond. No.                         1.00\n",
      "==============================================================================\n",
      "\n",
      "Notes:\n",
      "[1] Standard Errors assume that the covariance matrix of the errors is correctly specified.\n"
     ]
    },
    {
     "data": {
      "image/png": "[encoded data removed]",
      "text/plain": [
       "<Figure size 432x288 with 1 Axes>"
      ]
     },
     "metadata": {
      "needs_background": "light"
     },
     "output_type": "display_data"
    },
    {
     "name": "stdout",
     "output_type": "stream",
     "text": [
      "\n",
      "\n"
     ]
    }
   ],
   "source": [
    "# Merge data\n",
    "data = pd.merge(anxiety, economic, on = 'Area')\n",
    "dep_var = anxiety.columns.tolist()[1:]\n",
    "var = economic.columns.tolist()[1:]\n",
    "\n",
    "# Drop collinear independent variables\n",
    "print(f'CHECKING FOR COLLINEARITY')\n",
    "ind_var_data = drop_column_using_vif_(data[var])\n",
    "print('\\n')\n",
    "\n",
    "# Remove outliers first\n",
    "ind_var = ind_var_data.columns.tolist()\n",
    "df = data[(['Area']+dep_var+ind_var)]\n",
    "data_reout, outliers_area = re_outliers_paired(df, (dep_var+ind_var))\n",
    "print('Outliers:', format(outliers_area))\n",
    "\n",
    "# Perform regression\n",
    "#reg_model = sm.OLS(endog=data_reout[dep_var], exog=sm.add_constant(data_reout[ind_var])).fit()\n",
    "reg_model = back_regress(data_reout[dep_var], data_reout[ind_var])\n",
    "print(reg_model.summary())\n",
    "\n",
    "# plot residual vs. fit\n",
    "plt.scatter(reg_model.fittedvalues, reg_model.resid)\n",
    "plt.xlabel('Fitted Value')\n",
    "plt.ylabel('Residual')\n",
    "plt.title('Residual vs. Fitted Plot for ' + cat.title())\n",
    "plt.show()\n",
    "print('\\n')"
   ]
  },
  {
   "cell_type": "markdown",
   "id": "e72b3e26",
   "metadata": {},
   "source": [
    "#### P3: Anxiety on S: Green Cover"
   ]
  },
  {
   "cell_type": "code",
   "execution_count": 43,
   "id": "6def0da2",
   "metadata": {},
   "outputs": [
    {
     "name": "stdout",
     "output_type": "stream",
     "text": [
      "CHECKING FOR COLLINEARITY\n",
      "\n",
      "\n",
      "Outliers: ['Brent', 'Hammersmith and Fulham', 'Harrow']\n",
      "Dropping: percent_green\n",
      "                            OLS Regression Results                            \n",
      "==============================================================================\n",
      "Dep. Variable:                Anxiety   R-squared:                       0.000\n",
      "Model:                            OLS   Adj. R-squared:                  0.000\n",
      "Method:                 Least Squares   F-statistic:                       nan\n",
      "Date:                Fri, 07 Jan 2022   Prob (F-statistic):                nan\n",
      "Time:                        20:58:24   Log-Likelihood:                 3.0240\n",
      "No. Observations:                  29   AIC:                            -4.048\n",
      "Df Residuals:                      28   BIC:                            -2.681\n",
      "Df Model:                           0                                         \n",
      "Covariance Type:            nonrobust                                         \n",
      "==============================================================================\n",
      "                 coef    std err          t      P>|t|      [0.025      0.975]\n",
      "------------------------------------------------------------------------------\n",
      "const          3.4748      0.041     84.340      0.000       3.390       3.559\n",
      "==============================================================================\n",
      "Omnibus:                        0.952   Durbin-Watson:                   2.132\n",
      "Prob(Omnibus):                  0.621   Jarque-Bera (JB):                0.966\n",
      "Skew:                           0.329   Prob(JB):                        0.617\n",
      "Kurtosis:                       2.394   Cond. No.                         1.00\n",
      "==============================================================================\n",
      "\n",
      "Notes:\n",
      "[1] Standard Errors assume that the covariance matrix of the errors is correctly specified.\n"
     ]
    },
    {
     "data": {
      "image/png": "[encoded data removed]",
      "text/plain": [
       "<Figure size 432x288 with 1 Axes>"
      ]
     },
     "metadata": {
      "needs_background": "light"
     },
     "output_type": "display_data"
    },
    {
     "name": "stdout",
     "output_type": "stream",
     "text": [
      "\n",
      "\n"
     ]
    }
   ],
   "source": [
    "# Merge data\n",
    "data = pd.merge(anxiety, ndvi, on = 'Area')\n",
    "dep_var = anxiety.columns.tolist()[1:]\n",
    "var = ndvi.columns.tolist()[1:]\n",
    "\n",
    "# Drop collinear independent variables\n",
    "print(f'CHECKING FOR COLLINEARITY')\n",
    "ind_var_data = drop_column_using_vif_(data[var])\n",
    "print('\\n')\n",
    "\n",
    "# Remove outliers first\n",
    "ind_var = ind_var_data.columns.tolist()\n",
    "df = data[(['Area']+dep_var+ind_var)]\n",
    "data_reout, outliers_area = re_outliers_paired(df, (dep_var+ind_var))\n",
    "print('Outliers:', format(outliers_area))\n",
    "\n",
    "# Perform regression\n",
    "#reg_model = sm.OLS(endog=data_reout[dep_var], exog=sm.add_constant(data_reout[ind_var])).fit()\n",
    "reg_model = back_regress(data_reout[dep_var], data_reout[ind_var])\n",
    "print(reg_model.summary())\n",
    "\n",
    "# plot residual vs. fit\n",
    "plt.scatter(reg_model.fittedvalues, reg_model.resid)\n",
    "plt.xlabel('Fitted Value')\n",
    "plt.ylabel('Residual')\n",
    "plt.title('Residual vs. Fitted Plot for ' + cat.title())\n",
    "plt.show()\n",
    "print('\\n')"
   ]
  },
  {
   "cell_type": "markdown",
   "id": "304cfaa0",
   "metadata": {},
   "source": [
    "#### P3: Anxiety on CS1: Greenery x Age"
   ]
  },
  {
   "cell_type": "code",
   "execution_count": 44,
   "id": "d88f1b07",
   "metadata": {},
   "outputs": [
    {
     "name": "stdout",
     "output_type": "stream",
     "text": [
      "CHECKING FOR COLLINEARITY\n",
      "Dropping: green_x_Age_45-64\n",
      "\n",
      "\n",
      "Outliers: ['Brent', 'Hammersmith and Fulham', 'Harrow', 'Richmond upon Thames']\n",
      "Dropping: green_x_Age_30-44\n",
      "Dropping: green_x_Age_65+\n",
      "                            OLS Regression Results                            \n",
      "==============================================================================\n",
      "Dep. Variable:                Anxiety   R-squared:                       0.441\n",
      "Model:                            OLS   Adj. R-squared:                  0.397\n",
      "Method:                 Least Squares   F-statistic:                     9.880\n",
      "Date:                Fri, 07 Jan 2022   Prob (F-statistic):           0.000689\n",
      "Time:                        20:58:24   Log-Likelihood:                 10.837\n",
      "No. Observations:                  28   AIC:                            -15.67\n",
      "Df Residuals:                      25   BIC:                            -11.68\n",
      "Df Model:                           2                                         \n",
      "Covariance Type:            nonrobust                                         \n",
      "=====================================================================================\n",
      "                        coef    std err          t      P>|t|      [0.025      0.975]\n",
      "-------------------------------------------------------------------------------------\n",
      "const                 2.9608      0.242     12.212      0.000       2.461       3.460\n",
      "green_x_Age_0-15     -0.0007      0.000     -4.154      0.000      -0.001      -0.000\n",
      "green_x_Age_15-29     0.0012      0.000      3.795      0.001       0.001       0.002\n",
      "==============================================================================\n",
      "Omnibus:                        7.929   Durbin-Watson:                   1.780\n",
      "Prob(Omnibus):                  0.019   Jarque-Bera (JB):                6.452\n",
      "Skew:                           1.143   Prob(JB):                       0.0397\n",
      "Kurtosis:                       3.551   Cond. No.                     9.91e+03\n",
      "==============================================================================\n",
      "\n",
      "Notes:\n",
      "[1] Standard Errors assume that the covariance matrix of the errors is correctly specified.\n",
      "[2] The condition number is large, 9.91e+03. This might indicate that there are\n",
      "strong multicollinearity or other numerical problems.\n"
     ]
    },
    {
     "data": {
      "image/png": "[encoded data removed]",
      "text/plain": [
       "<Figure size 432x288 with 1 Axes>"
      ]
     },
     "metadata": {
      "needs_background": "light"
     },
     "output_type": "display_data"
    },
    {
     "name": "stdout",
     "output_type": "stream",
     "text": [
      "\n",
      "\n"
     ]
    }
   ],
   "source": [
    "# Merge data\n",
    "data = pd.merge(anxiety, ndvi_age, on = 'Area')\n",
    "dep_var = anxiety.columns.tolist()[1:]\n",
    "var = ndvi_age.columns.tolist()[1:]\n",
    "\n",
    "# Drop collinear independent variables\n",
    "print(f'CHECKING FOR COLLINEARITY')\n",
    "ind_var_data = drop_column_using_vif_(data[var])\n",
    "print('\\n')\n",
    "\n",
    "# Remove outliers first\n",
    "ind_var = ind_var_data.columns.tolist()\n",
    "df = data[(['Area']+dep_var+ind_var)]\n",
    "data_reout, outliers_area = re_outliers_paired(df, (dep_var+ind_var))\n",
    "print('Outliers:', format(outliers_area))\n",
    "\n",
    "# Perform regression\n",
    "#reg_model = sm.OLS(endog=data_reout[dep_var], exog=sm.add_constant(data_reout[ind_var])).fit()\n",
    "reg_model = back_regress(data_reout[dep_var], data_reout[ind_var])\n",
    "print(reg_model.summary())\n",
    "\n",
    "# plot residual vs. fit\n",
    "plt.scatter(reg_model.fittedvalues, reg_model.resid)\n",
    "plt.xlabel('Fitted Value')\n",
    "plt.ylabel('Residual')\n",
    "plt.title('Residual vs. Fitted Plot for ' + cat.title())\n",
    "plt.show()\n",
    "print('\\n')"
   ]
  },
  {
   "cell_type": "markdown",
   "id": "2b5bb82a",
   "metadata": {},
   "source": [
    "#### P3: Anxiety on CS2: Greenery x Health"
   ]
  },
  {
   "cell_type": "code",
   "execution_count": 45,
   "id": "a5b94e17",
   "metadata": {},
   "outputs": [
    {
     "name": "stdout",
     "output_type": "stream",
     "text": [
      "CHECKING FOR COLLINEARITY\n",
      "Dropping: green_x_Fair\n",
      "Dropping: green_x_Bad\n",
      "Dropping: green_x_Good\n",
      "\n",
      "\n",
      "Outliers: ['Brent', 'Hammersmith and Fulham', 'Harrow']\n",
      "Dropping: green_x_Very_bad\n",
      "Dropping: green_x_Very_good\n",
      "                            OLS Regression Results                            \n",
      "==============================================================================\n",
      "Dep. Variable:                Anxiety   R-squared:                       0.000\n",
      "Model:                            OLS   Adj. R-squared:                  0.000\n",
      "Method:                 Least Squares   F-statistic:                       nan\n",
      "Date:                Fri, 07 Jan 2022   Prob (F-statistic):                nan\n",
      "Time:                        20:58:25   Log-Likelihood:                 3.0240\n",
      "No. Observations:                  29   AIC:                            -4.048\n",
      "Df Residuals:                      28   BIC:                            -2.681\n",
      "Df Model:                           0                                         \n",
      "Covariance Type:            nonrobust                                         \n",
      "==============================================================================\n",
      "                 coef    std err          t      P>|t|      [0.025      0.975]\n",
      "------------------------------------------------------------------------------\n",
      "const          3.4748      0.041     84.340      0.000       3.390       3.559\n",
      "==============================================================================\n",
      "Omnibus:                        0.952   Durbin-Watson:                   2.132\n",
      "Prob(Omnibus):                  0.621   Jarque-Bera (JB):                0.966\n",
      "Skew:                           0.329   Prob(JB):                        0.617\n",
      "Kurtosis:                       2.394   Cond. No.                         1.00\n",
      "==============================================================================\n",
      "\n",
      "Notes:\n",
      "[1] Standard Errors assume that the covariance matrix of the errors is correctly specified.\n"
     ]
    },
    {
     "data": {
      "image/png": "[encoded data removed]",
      "text/plain": [
       "<Figure size 432x288 with 1 Axes>"
      ]
     },
     "metadata": {
      "needs_background": "light"
     },
     "output_type": "display_data"
    },
    {
     "name": "stdout",
     "output_type": "stream",
     "text": [
      "\n",
      "\n"
     ]
    }
   ],
   "source": [
    "# Merge data\n",
    "data = pd.merge(anxiety, ndvi_health, on = 'Area')\n",
    "dep_var = anxiety.columns.tolist()[1:]\n",
    "var = ndvi_health.columns.tolist()[1:]\n",
    "\n",
    "# Drop collinear independent variables\n",
    "print(f'CHECKING FOR COLLINEARITY')\n",
    "ind_var_data = drop_column_using_vif_(data[var])\n",
    "print('\\n')\n",
    "\n",
    "# Remove outliers first\n",
    "ind_var = ind_var_data.columns.tolist()\n",
    "df = data[(['Area']+dep_var+ind_var)]\n",
    "data_reout, outliers_area = re_outliers_paired(df, (dep_var+ind_var))\n",
    "print('Outliers:', format(outliers_area))\n",
    "\n",
    "# Perform regression\n",
    "#reg_model = sm.OLS(endog=data_reout[dep_var], exog=sm.add_constant(data_reout[ind_var])).fit()\n",
    "reg_model = back_regress(data_reout[dep_var], data_reout[ind_var])\n",
    "print(reg_model.summary())\n",
    "\n",
    "# plot residual vs. fit\n",
    "plt.scatter(reg_model.fittedvalues, reg_model.resid)\n",
    "plt.xlabel('Fitted Value')\n",
    "plt.ylabel('Residual')\n",
    "plt.title('Residual vs. Fitted Plot for ' + cat.title())\n",
    "plt.show()\n",
    "print('\\n')"
   ]
  },
  {
   "cell_type": "markdown",
   "id": "197d2e0d",
   "metadata": {},
   "source": [
    "#### P3: Anxiety on CS3: Greenery x Economic Activity"
   ]
  },
  {
   "cell_type": "code",
   "execution_count": 46,
   "id": "f1704e7c",
   "metadata": {},
   "outputs": [
    {
     "name": "stdout",
     "output_type": "stream",
     "text": [
      "CHECKING FOR COLLINEARITY\n",
      "\n",
      "\n",
      "Outliers: ['Brent', 'Hammersmith and Fulham', 'Harrow']\n",
      "Dropping: green_x_Econ_inactive\n",
      "Dropping: green_x_Unemployed\n",
      "Dropping: green_x_Employed\n",
      "                            OLS Regression Results                            \n",
      "==============================================================================\n",
      "Dep. Variable:                Anxiety   R-squared:                       0.000\n",
      "Model:                            OLS   Adj. R-squared:                  0.000\n",
      "Method:                 Least Squares   F-statistic:                       nan\n",
      "Date:                Fri, 07 Jan 2022   Prob (F-statistic):                nan\n",
      "Time:                        20:58:25   Log-Likelihood:                 3.0240\n",
      "No. Observations:                  29   AIC:                            -4.048\n",
      "Df Residuals:                      28   BIC:                            -2.681\n",
      "Df Model:                           0                                         \n",
      "Covariance Type:            nonrobust                                         \n",
      "==============================================================================\n",
      "                 coef    std err          t      P>|t|      [0.025      0.975]\n",
      "------------------------------------------------------------------------------\n",
      "const          3.4748      0.041     84.340      0.000       3.390       3.559\n",
      "==============================================================================\n",
      "Omnibus:                        0.952   Durbin-Watson:                   2.132\n",
      "Prob(Omnibus):                  0.621   Jarque-Bera (JB):                0.966\n",
      "Skew:                           0.329   Prob(JB):                        0.617\n",
      "Kurtosis:                       2.394   Cond. No.                         1.00\n",
      "==============================================================================\n",
      "\n",
      "Notes:\n",
      "[1] Standard Errors assume that the covariance matrix of the errors is correctly specified.\n"
     ]
    },
    {
     "data": {
      "image/png": "[encoded data removed]",
      "text/plain": [
       "<Figure size 432x288 with 1 Axes>"
      ]
     },
     "metadata": {
      "needs_background": "light"
     },
     "output_type": "display_data"
    },
    {
     "name": "stdout",
     "output_type": "stream",
     "text": [
      "\n",
      "\n"
     ]
    }
   ],
   "source": [
    "# Merge data\n",
    "data = pd.merge(anxiety, ndvi_economic, on = 'Area')\n",
    "dep_var = anxiety.columns.tolist()[1:]\n",
    "var = ndvi_economic.columns.tolist()[1:]\n",
    "\n",
    "# Drop collinear independent variables\n",
    "print(f'CHECKING FOR COLLINEARITY')\n",
    "ind_var_data = drop_column_using_vif_(data[var])\n",
    "print('\\n')\n",
    "\n",
    "# Remove outliers first\n",
    "ind_var = ind_var_data.columns.tolist()\n",
    "df = data[(['Area']+dep_var+ind_var)]\n",
    "data_reout, outliers_area = re_outliers_paired(df, (dep_var+ind_var))\n",
    "print('Outliers:', format(outliers_area))\n",
    "\n",
    "# Perform regression\n",
    "#reg_model = sm.OLS(endog=data_reout[dep_var], exog=sm.add_constant(data_reout[ind_var])).fit()\n",
    "reg_model = back_regress(data_reout[dep_var], data_reout[ind_var])\n",
    "print(reg_model.summary())\n",
    "\n",
    "# plot residual vs. fit\n",
    "plt.scatter(reg_model.fittedvalues, reg_model.resid)\n",
    "plt.xlabel('Fitted Value')\n",
    "plt.ylabel('Residual')\n",
    "plt.title('Residual vs. Fitted Plot for ' + cat.title())\n",
    "plt.show()\n",
    "print('\\n')"
   ]
  },
  {
   "cell_type": "markdown",
   "id": "b8a5b92b",
   "metadata": {},
   "source": [
    "### Outcome on C, S, P and CS"
   ]
  },
  {
   "cell_type": "code",
   "execution_count": 47,
   "id": "f801084b",
   "metadata": {},
   "outputs": [
    {
     "name": "stdout",
     "output_type": "stream",
     "text": [
      "CHECKING FOR COLLINEARITY\n",
      "Dropping: percent_green\n",
      "Dropping: Age_0-15\n",
      "Dropping: Very_good\n",
      "Dropping: Econ_inactive\n",
      "Dropping: green_x_Age_0-15\n",
      "Dropping: green_x_Very_good\n"
     ]
    },
    {
     "name": "stderr",
     "output_type": "stream",
     "text": [
      "/opt/conda/envs/sds2021/lib/python3.9/site-packages/statsmodels/regression/linear_model.py:1738: RuntimeWarning: divide by zero encountered in double_scalars\n",
      "  return 1 - self.ssr/self.centered_tss\n",
      "/opt/conda/envs/sds2021/lib/python3.9/site-packages/statsmodels/stats/outliers_influence.py:195: RuntimeWarning: divide by zero encountered in double_scalars\n",
      "  vif = 1. / (1. - r_squared_i)\n"
     ]
    },
    {
     "name": "stdout",
     "output_type": "stream",
     "text": [
      "Dropping: green_x_Fair\n",
      "Dropping: green_x_Employed\n",
      "Dropping: green_x_Bad\n",
      "Dropping: green_x_Age_45-64\n",
      "Dropping: green_x_Good\n",
      "Dropping: Very_bad\n",
      "Dropping: green_x_Age_30-44\n",
      "Dropping: green_x_Unemployed\n",
      "Dropping: Age_15-29\n",
      "Dropping: Age_65+\n",
      "Dropping: Fair\n",
      "Dropping: green_x_Very_bad\n",
      "Dropping: green_x_Age_65+\n",
      "Dropping: green_x_Econ_inactive\n",
      "Dropping: Age_30-44\n",
      "\n",
      "\n",
      "PERFORMING REGRESSION ON:LIFE SATISFACTION\n",
      "Outliers: ['Brent', 'Hammersmith and Fulham', 'Harrow', 'Tower Hamlets']\n",
      "Dropping: Age_45-64\n",
      "Dropping: Active\n",
      "Dropping: log_PopExc2013%\n",
      "Dropping: Good\n",
      "Dropping: green_x_Age_15-29\n",
      "Dropping: Employed\n",
      "Dropping: Bad\n",
      "                            OLS Regression Results                            \n",
      "==============================================================================\n",
      "Dep. Variable:      Life Satisfaction   R-squared:                       0.688\n",
      "Model:                            OLS   Adj. R-squared:                  0.664\n",
      "Method:                 Least Squares   F-statistic:                     27.63\n",
      "Date:                Fri, 07 Jan 2022   Prob (F-statistic):           4.66e-07\n",
      "Time:                        20:58:25   Log-Likelihood:                 28.122\n",
      "No. Observations:                  28   AIC:                            -50.24\n",
      "Df Residuals:                      25   BIC:                            -46.25\n",
      "Df Model:                           2                                         \n",
      "Covariance Type:            nonrobust                                         \n",
      "==============================================================================\n",
      "                 coef    std err          t      P>|t|      [0.025      0.975]\n",
      "------------------------------------------------------------------------------\n",
      "const          8.6606      0.283     30.590      0.000       8.078       9.244\n",
      "Unemployed    -0.0758      0.012     -6.368      0.000      -0.100      -0.051\n",
      "Anxiety       -0.2509      0.080     -3.119      0.005      -0.417      -0.085\n",
      "==============================================================================\n",
      "Omnibus:                        1.007   Durbin-Watson:                   2.213\n",
      "Prob(Omnibus):                  0.604   Jarque-Bera (JB):                0.925\n",
      "Skew:                           0.401   Prob(JB):                        0.630\n",
      "Kurtosis:                       2.612   Cond. No.                         131.\n",
      "==============================================================================\n",
      "\n",
      "Notes:\n",
      "[1] Standard Errors assume that the covariance matrix of the errors is correctly specified.\n"
     ]
    },
    {
     "data": {
      "image/png": "[encoded data removed]",
      "text/plain": [
       "<Figure size 432x288 with 1 Axes>"
      ]
     },
     "metadata": {
      "needs_background": "light"
     },
     "output_type": "display_data"
    },
    {
     "name": "stdout",
     "output_type": "stream",
     "text": [
      "\n",
      "\n",
      "PERFORMING REGRESSION ON:WORTHWHILE\n",
      "Outliers: ['Brent', 'Hammersmith and Fulham', 'Harrow', 'Tower Hamlets']\n",
      "Dropping: green_x_Age_15-29\n",
      "Dropping: Employed\n",
      "Dropping: log_PopExc2013%\n",
      "Dropping: Unemployed\n",
      "Dropping: Anxiety\n",
      "Dropping: Active\n",
      "Dropping: Good\n",
      "                            OLS Regression Results                            \n",
      "==============================================================================\n",
      "Dep. Variable:             Worthwhile   R-squared:                       0.706\n",
      "Model:                            OLS   Adj. R-squared:                  0.682\n",
      "Method:                 Least Squares   F-statistic:                     29.96\n",
      "Date:                Fri, 07 Jan 2022   Prob (F-statistic):           2.30e-07\n",
      "Time:                        20:58:26   Log-Likelihood:                 31.625\n",
      "No. Observations:                  28   AIC:                            -57.25\n",
      "Df Residuals:                      25   BIC:                            -53.25\n",
      "Df Model:                           2                                         \n",
      "Covariance Type:            nonrobust                                         \n",
      "==============================================================================\n",
      "                 coef    std err          t      P>|t|      [0.025      0.975]\n",
      "------------------------------------------------------------------------------\n",
      "const          7.1442      0.229     31.161      0.000       6.672       7.616\n",
      "Age_45-64      0.0346      0.007      5.012      0.000       0.020       0.049\n",
      "Bad           -0.0921      0.032     -2.891      0.008      -0.158      -0.026\n",
      "==============================================================================\n",
      "Omnibus:                        4.842   Durbin-Watson:                   1.940\n",
      "Prob(Omnibus):                  0.089   Jarque-Bera (JB):                1.701\n",
      "Skew:                          -0.070   Prob(JB):                        0.427\n",
      "Kurtosis:                       1.801   Cond. No.                         324.\n",
      "==============================================================================\n",
      "\n",
      "Notes:\n",
      "[1] Standard Errors assume that the covariance matrix of the errors is correctly specified.\n"
     ]
    },
    {
     "data": {
      "image/png": "[encoded data removed]",
      "text/plain": [
       "<Figure size 432x288 with 1 Axes>"
      ]
     },
     "metadata": {
      "needs_background": "light"
     },
     "output_type": "display_data"
    },
    {
     "name": "stdout",
     "output_type": "stream",
     "text": [
      "\n",
      "\n",
      "PERFORMING REGRESSION ON:HAPPINESS\n",
      "Outliers: ['Brent', 'Hammersmith and Fulham', 'Harrow', 'Tower Hamlets']\n",
      "Dropping: Employed\n",
      "Dropping: Good\n",
      "Dropping: Unemployed\n",
      "Dropping: Active\n",
      "Dropping: Anxiety\n",
      "Dropping: Bad\n",
      "Dropping: green_x_Age_15-29\n",
      "                            OLS Regression Results                            \n",
      "==============================================================================\n",
      "Dep. Variable:              Happiness   R-squared:                       0.487\n",
      "Model:                            OLS   Adj. R-squared:                  0.446\n",
      "Method:                 Least Squares   F-statistic:                     11.86\n",
      "Date:                Fri, 07 Jan 2022   Prob (F-statistic):           0.000238\n",
      "Time:                        20:58:26   Log-Likelihood:                 25.236\n",
      "No. Observations:                  28   AIC:                            -44.47\n",
      "Df Residuals:                      25   BIC:                            -40.48\n",
      "Df Model:                           2                                         \n",
      "Covariance Type:            nonrobust                                         \n",
      "===================================================================================\n",
      "                      coef    std err          t      P>|t|      [0.025      0.975]\n",
      "-----------------------------------------------------------------------------------\n",
      "const               6.2704      0.208     30.197      0.000       5.843       6.698\n",
      "Age_45-64           0.0370      0.009      4.216      0.000       0.019       0.055\n",
      "log_PopExc2013%     0.0672      0.016      4.181      0.000       0.034       0.100\n",
      "==============================================================================\n",
      "Omnibus:                        5.904   Durbin-Watson:                   2.343\n",
      "Prob(Omnibus):                  0.052   Jarque-Bera (JB):                4.245\n",
      "Skew:                           0.909   Prob(JB):                        0.120\n",
      "Kurtosis:                       3.576   Cond. No.                         230.\n",
      "==============================================================================\n",
      "\n",
      "Notes:\n",
      "[1] Standard Errors assume that the covariance matrix of the errors is correctly specified.\n"
     ]
    },
    {
     "data": {
      "image/png": "[encoded data removed]",
      "text/plain": [
       "<Figure size 432x288 with 1 Axes>"
      ]
     },
     "metadata": {
      "needs_background": "light"
     },
     "output_type": "display_data"
    },
    {
     "name": "stdout",
     "output_type": "stream",
     "text": [
      "\n",
      "\n"
     ]
    }
   ],
   "source": [
    "# Merge data\n",
    "data = pd.merge(wellbeing, ndvi, on = 'Area')\n",
    "data = data.merge(age, on = 'Area')\n",
    "data = data.merge(health, on = 'Area')\n",
    "data = data.merge(economic, on = 'Area')\n",
    "data = data.merge(exercise, on = 'Area')\n",
    "data = data.merge(air_quality, on = 'Area')\n",
    "data = data.merge(anxiety, on = 'Area')\n",
    "data = data.merge(ndvi_age, on = 'Area')\n",
    "data = data.merge(ndvi_health, on = 'Area')\n",
    "data = data.merge(ndvi_economic, on = 'Area')\n",
    "\n",
    "# Drop collinear independent variables\n",
    "print(f'CHECKING FOR COLLINEARITY')\n",
    "ind_var_data = drop_column_using_vif_(data.drop(['Area'] + wellbeing_cols, axis=1))\n",
    "ind_var = ind_var_data.columns.tolist()\n",
    "print('\\n')\n",
    "\n",
    "# Perform regression\n",
    "for cat in wellbeing_cols:\n",
    "    print(f'PERFORMING REGRESSION ON:{cat.upper()}')\n",
    "\n",
    "    # Remove outliers first\n",
    "    df = data[['Area', cat]+ ind_var]\n",
    "    data_reout, outliers_area = re_outliers_paired(df, ([cat]+ ind_var))\n",
    "    print('Outliers:', format(outliers_area))\n",
    "\n",
    "    # Perform regression\n",
    "    #reg_model = sm.OLS(endog=data_reout[cat], exog=sm.add_constant(data_reout[ind_var])).fit()\n",
    "    reg_model = back_regress(data_reout[cat], data_reout[ind_var])\n",
    "    print(reg_model.summary())\n",
    "\n",
    "    # plot residual vs. fit\n",
    "    plt.scatter(reg_model.fittedvalues, reg_model.resid)\n",
    "    plt.xlabel('Fitted Value')\n",
    "    plt.ylabel('Residual')\n",
    "    plt.title('Residual vs. Fitted Plot for ' + cat.title())\n",
    "    plt.show()\n",
    "    print('\\n')"
   ]
  },
  {
   "cell_type": "markdown",
   "id": "d45a5caf",
   "metadata": {},
   "source": [
    "## Step 3: Regression of Outcome on C, S, P, CS and PS"
   ]
  },
  {
   "cell_type": "markdown",
   "id": "4f437b00",
   "metadata": {},
   "source": [
    "### Prep PS term"
   ]
  },
  {
   "cell_type": "markdown",
   "id": "170aa250",
   "metadata": {},
   "source": [
    "#### PS1: Exercise x Stressor"
   ]
  },
  {
   "cell_type": "code",
   "execution_count": 48,
   "id": "30a855cd",
   "metadata": {},
   "outputs": [],
   "source": [
    "# Merge dataframe\n",
    "ndvi_exercise = pd.merge(ndvi, exercise, on = 'Area')\n",
    "\n",
    "# Mulitply the columns\n",
    "for i in exercise.columns.tolist()[1:]:\n",
    "    ndvi_exercise[i] = ndvi_exercise['percent_green'] * ndvi_exercise[i]\n",
    "    ndvi_exercise.rename({i: ('green_x_'+i)}, axis = 1, inplace = True)\n",
    "\n",
    "ndvi_exercise.drop('percent_green', axis = 1, inplace = True)"
   ]
  },
  {
   "cell_type": "markdown",
   "id": "f0f39201",
   "metadata": {},
   "source": [
    "#### PS2: Air Quality x Stressor"
   ]
  },
  {
   "cell_type": "code",
   "execution_count": 49,
   "id": "3b26356a",
   "metadata": {},
   "outputs": [],
   "source": [
    "# Merge dataframe\n",
    "ndvi_air_quality = pd.merge(ndvi, air_quality, on = 'Area')\n",
    "\n",
    "# Mulitply the columns\n",
    "for i in air_quality.columns.tolist()[1:]:\n",
    "    ndvi_air_quality[i] = ndvi_air_quality['percent_green'] * ndvi_air_quality[i]\n",
    "    ndvi_air_quality.rename({i: ('green_x_'+i)}, axis = 1, inplace = True)\n",
    "\n",
    "ndvi_air_quality.drop('percent_green', axis = 1, inplace = True)"
   ]
  },
  {
   "cell_type": "markdown",
   "id": "3b4390cc",
   "metadata": {},
   "source": [
    "#### PS3: Anxiety x Stressor"
   ]
  },
  {
   "cell_type": "code",
   "execution_count": 50,
   "id": "9ac95a58",
   "metadata": {},
   "outputs": [],
   "source": [
    "# Merge dataframe\n",
    "ndvi_anxiety = pd.merge(ndvi, anxiety, on = 'Area')\n",
    "\n",
    "# Mulitply the columns\n",
    "for i in anxiety.columns.tolist()[1:]:\n",
    "    ndvi_anxiety[i] = ndvi_anxiety['percent_green'] * ndvi_anxiety[i]\n",
    "    ndvi_anxiety.rename({i: ('green_x_'+i)}, axis = 1, inplace = True)\n",
    "\n",
    "ndvi_anxiety.drop('percent_green', axis = 1, inplace = True)"
   ]
  },
  {
   "cell_type": "markdown",
   "id": "ac325852",
   "metadata": {},
   "source": [
    "### Regress Outcome on C, S, P, CS and PS"
   ]
  },
  {
   "cell_type": "code",
   "execution_count": 51,
   "id": "1f0ceba8",
   "metadata": {},
   "outputs": [
    {
     "data": {
      "text/plain": [
       "Index(['Area', 'Life Satisfaction', 'Worthwhile', 'Happiness', 'percent_green',\n",
       "       'Age_0-15', 'Age_15-29', 'Age_30-44', 'Age_45-64', 'Age_65+',\n",
       "       'Very_good', 'Good', 'Fair', 'Bad', 'Very_bad', 'Econ_inactive',\n",
       "       'Unemployed', 'Employed', 'Active', 'log_PopExc2013%', 'Anxiety',\n",
       "       'green_x_Age_0-15', 'green_x_Age_15-29', 'green_x_Age_30-44',\n",
       "       'green_x_Age_45-64', 'green_x_Age_65+', 'green_x_Very_good',\n",
       "       'green_x_Good', 'green_x_Fair', 'green_x_Bad', 'green_x_Very_bad',\n",
       "       'green_x_Econ_inactive', 'green_x_Unemployed', 'green_x_Employed'],\n",
       "      dtype='object')"
      ]
     },
     "execution_count": 51,
     "metadata": {},
     "output_type": "execute_result"
    }
   ],
   "source": [
    "data.columns"
   ]
  },
  {
   "cell_type": "code",
   "execution_count": 52,
   "id": "fa3f1c22",
   "metadata": {},
   "outputs": [
    {
     "name": "stdout",
     "output_type": "stream",
     "text": [
      "CHECKING FOR COLLINEARITY\n",
      "Dropping: percent_green\n",
      "Dropping: Age_0-15\n",
      "Dropping: Very_good\n",
      "Dropping: Econ_inactive\n",
      "Dropping: green_x_Age_0-15\n",
      "Dropping: green_x_Very_good\n",
      "Dropping: green_x_Employed\n",
      "Dropping: green_x_Fair\n"
     ]
    },
    {
     "name": "stderr",
     "output_type": "stream",
     "text": [
      "/opt/conda/envs/sds2021/lib/python3.9/site-packages/statsmodels/regression/linear_model.py:1738: RuntimeWarning: divide by zero encountered in double_scalars\n",
      "  return 1 - self.ssr/self.centered_tss\n",
      "/opt/conda/envs/sds2021/lib/python3.9/site-packages/statsmodels/stats/outliers_influence.py:195: RuntimeWarning: divide by zero encountered in double_scalars\n",
      "  vif = 1. / (1. - r_squared_i)\n"
     ]
    },
    {
     "name": "stdout",
     "output_type": "stream",
     "text": [
      "Dropping: green_x_Bad\n",
      "Dropping: green_x_Age_45-64\n",
      "Dropping: green_x_Good\n",
      "Dropping: green_x_Active\n",
      "Dropping: green_x_Anxiety\n",
      "Dropping: green_x_Age_30-44\n",
      "Dropping: Very_bad\n",
      "Dropping: log_PopExc2013%\n",
      "Dropping: green_x_Unemployed\n",
      "Dropping: green_x_Econ_inactive\n",
      "Dropping: Age_65+\n",
      "Dropping: Fair\n",
      "Dropping: green_x_Very_bad\n",
      "Dropping: green_x_Age_65+\n",
      "Dropping: Age_45-64\n",
      "Dropping: Good\n",
      "\n",
      "\n",
      "PERFORMING REGRESSION ON:LIFE SATISFACTION\n",
      "Outliers: ['Brent', 'Hammersmith and Fulham', 'Harrow', 'Havering', 'Merton']\n",
      "Dropping: Age_30-44\n",
      "Dropping: Active\n",
      "Dropping: green_x_Age_15-29\n",
      "Dropping: green_x_log_PopExc2013%\n",
      "Dropping: Age_15-29\n",
      "Dropping: Employed\n",
      "Dropping: Bad\n",
      "                            OLS Regression Results                            \n",
      "==============================================================================\n",
      "Dep. Variable:      Life Satisfaction   R-squared:                       0.718\n",
      "Model:                            OLS   Adj. R-squared:                  0.695\n",
      "Method:                 Least Squares   F-statistic:                     30.62\n",
      "Date:                Fri, 07 Jan 2022   Prob (F-statistic):           2.48e-07\n",
      "Time:                        20:58:27   Log-Likelihood:                 27.321\n",
      "No. Observations:                  27   AIC:                            -48.64\n",
      "Df Residuals:                      24   BIC:                            -44.75\n",
      "Df Model:                           2                                         \n",
      "Covariance Type:            nonrobust                                         \n",
      "==============================================================================\n",
      "                 coef    std err          t      P>|t|      [0.025      0.975]\n",
      "------------------------------------------------------------------------------\n",
      "const          8.5840      0.289     29.684      0.000       7.987       9.181\n",
      "Unemployed    -0.0799      0.012     -6.885      0.000      -0.104      -0.056\n",
      "Anxiety       -0.2205      0.083     -2.641      0.014      -0.393      -0.048\n",
      "==============================================================================\n",
      "Omnibus:                        1.335   Durbin-Watson:                   2.399\n",
      "Prob(Omnibus):                  0.513   Jarque-Bera (JB):                1.067\n",
      "Skew:                           0.468   Prob(JB):                        0.587\n",
      "Kurtosis:                       2.730   Cond. No.                         134.\n",
      "==============================================================================\n",
      "\n",
      "Notes:\n",
      "[1] Standard Errors assume that the covariance matrix of the errors is correctly specified.\n"
     ]
    },
    {
     "data": {
      "image/png": "[encoded data removed]",
      "text/plain": [
       "<Figure size 432x288 with 1 Axes>"
      ]
     },
     "metadata": {
      "needs_background": "light"
     },
     "output_type": "display_data"
    },
    {
     "name": "stdout",
     "output_type": "stream",
     "text": [
      "\n",
      "\n",
      "PERFORMING REGRESSION ON:WORTHWHILE\n",
      "Outliers: ['Brent', 'Hammersmith and Fulham', 'Harrow', 'Havering', 'Merton']\n",
      "Dropping: Anxiety\n",
      "Dropping: green_x_Age_15-29\n",
      "Dropping: Age_30-44\n",
      "Dropping: Active\n",
      "Dropping: Employed\n",
      "Dropping: green_x_log_PopExc2013%\n",
      "Dropping: Bad\n",
      "                            OLS Regression Results                            \n",
      "==============================================================================\n",
      "Dep. Variable:             Worthwhile   R-squared:                       0.753\n",
      "Model:                            OLS   Adj. R-squared:                  0.732\n",
      "Method:                 Least Squares   F-statistic:                     36.53\n",
      "Date:                Fri, 07 Jan 2022   Prob (F-statistic):           5.22e-08\n",
      "Time:                        20:58:27   Log-Likelihood:                 29.580\n",
      "No. Observations:                  27   AIC:                            -53.16\n",
      "Df Residuals:                      24   BIC:                            -49.27\n",
      "Df Model:                           2                                         \n",
      "Covariance Type:            nonrobust                                         \n",
      "==============================================================================\n",
      "                 coef    std err          t      P>|t|      [0.025      0.975]\n",
      "------------------------------------------------------------------------------\n",
      "const          8.3671      0.100     83.940      0.000       8.161       8.573\n",
      "Age_15-29     -0.0246      0.004     -5.467      0.000      -0.034      -0.015\n",
      "Unemployed    -0.0404      0.012     -3.421      0.002      -0.065      -0.016\n",
      "==============================================================================\n",
      "Omnibus:                        0.625   Durbin-Watson:                   2.497\n",
      "Prob(Omnibus):                  0.731   Jarque-Bera (JB):                0.653\n",
      "Skew:                          -0.064   Prob(JB):                        0.721\n",
      "Kurtosis:                       2.249   Cond. No.                         145.\n",
      "==============================================================================\n",
      "\n",
      "Notes:\n",
      "[1] Standard Errors assume that the covariance matrix of the errors is correctly specified.\n"
     ]
    },
    {
     "data": {
      "image/png": "[encoded data removed]",
      "text/plain": [
       "<Figure size 432x288 with 1 Axes>"
      ]
     },
     "metadata": {
      "needs_background": "light"
     },
     "output_type": "display_data"
    },
    {
     "name": "stdout",
     "output_type": "stream",
     "text": [
      "\n",
      "\n",
      "PERFORMING REGRESSION ON:HAPPINESS\n",
      "Outliers: ['Brent', 'Hammersmith and Fulham', 'Harrow', 'Havering', 'Merton']\n",
      "Dropping: Age_30-44\n",
      "Dropping: Active\n",
      "Dropping: Age_15-29\n",
      "Dropping: Bad\n",
      "Dropping: Employed\n",
      "Dropping: green_x_Age_15-29\n",
      "Dropping: Anxiety\n",
      "Dropping: green_x_log_PopExc2013%\n",
      "                            OLS Regression Results                            \n",
      "==============================================================================\n",
      "Dep. Variable:              Happiness   R-squared:                       0.416\n",
      "Model:                            OLS   Adj. R-squared:                  0.393\n",
      "Method:                 Least Squares   F-statistic:                     17.84\n",
      "Date:                Fri, 07 Jan 2022   Prob (F-statistic):           0.000279\n",
      "Time:                        20:58:27   Log-Likelihood:                 22.455\n",
      "No. Observations:                  27   AIC:                            -40.91\n",
      "Df Residuals:                      25   BIC:                            -38.32\n",
      "Df Model:                           1                                         \n",
      "Covariance Type:            nonrobust                                         \n",
      "==============================================================================\n",
      "                 coef    std err          t      P>|t|      [0.025      0.975]\n",
      "------------------------------------------------------------------------------\n",
      "const          7.6021      0.097     78.443      0.000       7.402       7.802\n",
      "Unemployed    -0.0568      0.013     -4.223      0.000      -0.085      -0.029\n",
      "==============================================================================\n",
      "Omnibus:                        0.812   Durbin-Watson:                   2.863\n",
      "Prob(Omnibus):                  0.666   Jarque-Bera (JB):                0.569\n",
      "Skew:                           0.344   Prob(JB):                        0.752\n",
      "Kurtosis:                       2.823   Cond. No.                         33.7\n",
      "==============================================================================\n",
      "\n",
      "Notes:\n",
      "[1] Standard Errors assume that the covariance matrix of the errors is correctly specified.\n"
     ]
    },
    {
     "data": {
      "image/png": "[encoded data removed]",
      "text/plain": [
       "<Figure size 432x288 with 1 Axes>"
      ]
     },
     "metadata": {
      "needs_background": "light"
     },
     "output_type": "display_data"
    },
    {
     "name": "stdout",
     "output_type": "stream",
     "text": [
      "\n",
      "\n"
     ]
    }
   ],
   "source": [
    "# Merge data\n",
    "data = data.merge(ndvi_exercise, on = 'Area')\n",
    "data = data.merge(ndvi_air_quality, on = 'Area')\n",
    "data = data.merge(ndvi_anxiety, on = 'Area')\n",
    "\n",
    "# Drop collinear independent variables\n",
    "print(f'CHECKING FOR COLLINEARITY')\n",
    "ind_var_data = drop_column_using_vif_(data.drop(['Area'] + wellbeing_cols, axis=1))\n",
    "ind_var = ind_var_data.columns.tolist()\n",
    "print('\\n')\n",
    "\n",
    "# Perform regression\n",
    "for cat in wellbeing_cols:\n",
    "    print(f'PERFORMING REGRESSION ON:{cat.upper()}')\n",
    "\n",
    "    # Remove outliers first\n",
    "    df = data[['Area', cat]+ ind_var]\n",
    "    data_reout, outliers_area = re_outliers_paired(df, ([cat]+ ind_var))\n",
    "    print('Outliers:', format(outliers_area))\n",
    "\n",
    "    # Perform regression\n",
    "    #reg_model = sm.OLS(endog=data_reout[cat], exog=sm.add_constant(data_reout[ind_var])).fit()\n",
    "    reg_model = back_regress(data_reout[cat], data_reout[ind_var])\n",
    "    print(reg_model.summary())\n",
    "\n",
    "    # plot residual vs. fit\n",
    "    plt.scatter(reg_model.fittedvalues, reg_model.resid)\n",
    "    plt.xlabel('Fitted Value')\n",
    "    plt.ylabel('Residual')\n",
    "    plt.title('Residual vs. Fitted Plot for ' + cat.title())\n",
    "    plt.show()\n",
    "    print('\\n')"
   ]
  }
 ],
 "metadata": {
  "kernelspec": {
   "display_name": "Python 3 (ipykernel)",
   "language": "python",
   "name": "python3"
  },
  "language_info": {
   "codemirror_mode": {
    "name": "ipython",
    "version": 3
   },
   "file_extension": ".py",
   "mimetype": "text/x-python",
   "name": "python",
   "nbconvert_exporter": "python",
   "pygments_lexer": "ipython3",
   "version": "3.9.6"
  }
 },
 "nbformat": 4,
 "nbformat_minor": 5
}
