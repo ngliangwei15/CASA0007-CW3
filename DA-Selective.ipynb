{
 "cells": [
  {
   "cell_type": "markdown",
   "id": "ed8acafa",
   "metadata": {},
   "source": [
    "# Selective DA\n",
    "\n",
    "In this version, we choose the variables carefully."
   ]
  },
  {
   "cell_type": "code",
   "execution_count": 1,
   "id": "35cae18a",
   "metadata": {},
   "outputs": [],
   "source": [
    "# Import library\n",
    "\n",
    "import numpy as np\n",
    "import pandas as pd\n",
    "import os\n",
    "import re\n",
    "import numpy as np\n",
    "import matplotlib.pyplot as plt\n",
    "from statsmodels.stats.outliers_influence import variance_inflation_factor \n",
    "from statsmodels.tools.tools import add_constant\n",
    "import statsmodels.api as sm\n",
    "from sklearn.linear_model import LinearRegression\n",
    "from math import log"
   ]
  },
  {
   "cell_type": "markdown",
   "id": "14ae28d6",
   "metadata": {},
   "source": [
    "## Regression 1: Wellbeing against NDVI"
   ]
  },
  {
   "cell_type": "markdown",
   "id": "27087c0c",
   "metadata": {},
   "source": [
    "### Well-being scores"
   ]
  },
  {
   "cell_type": "code",
   "execution_count": 2,
   "id": "134ab84e",
   "metadata": {},
   "outputs": [],
   "source": [
    "# Read well-being\n",
    "wellbeing = pd.read_excel(os.path.join(os.getcwd(), 'Data', 'personal-well-being-borough.xlsx'),\n",
    "                         sheet_name = 'Summary - Mean Scores', skiprows = 1)\n",
    "\n",
    "# Rename and keep useful columns\n",
    "wellbeing_cols = ['Life Satisfaction', 'Worthwhile', 'Happiness']\n",
    "year = '2011/12'\n",
    "wellbeing.rename({year: wellbeing_cols[0],\n",
    "                 year+'.1': wellbeing_cols[1],\n",
    "                 year+'.2': wellbeing_cols[2],\n",
    "                 year+'.3': 'Anxiety'},\n",
    "                axis = 1, inplace = True)\n",
    "wellbeing = wellbeing[['Code', 'Area'] + wellbeing_cols + ['Anxiety']]\n",
    "\n",
    "# Keep only data on London boroughs (Area Code starts with E09)\n",
    "wellbeing.dropna(axis = 0, inplace = True)\n",
    "wellbeing.drop(wellbeing[wellbeing.Area == \"City of London\"].index, inplace = True)\n",
    "wellbeing = wellbeing[wellbeing['Code'].str.match(r'E09')].sort_values(by = ['Code'], ascending=True)\n",
    "wellbeing = wellbeing.reset_index(drop = True)\n",
    "\n",
    "# Set data type\n",
    "wellbeing[wellbeing_cols + ['Anxiety']] = wellbeing[wellbeing_cols + ['Anxiety']].astype('float', copy = False)"
   ]
  },
  {
   "cell_type": "markdown",
   "id": "f4395782",
   "metadata": {},
   "source": [
    "### NDVI"
   ]
  },
  {
   "cell_type": "code",
   "execution_count": 3,
   "id": "a062a71b",
   "metadata": {},
   "outputs": [],
   "source": [
    "# Read NDVI\n",
    "ndvi_cols = ['lb_code', 'lb_name', 'percent_green']\n",
    "ndvi = pd.read_excel(os.path.join(os.getcwd(), 'Data', 'green_cover_borough_summary_0.05.xlsx'),\n",
    "                         sheet_name = 'borough_green_cover', usecols = ndvi_cols)\n",
    "\n",
    "# Drop City of London\n",
    "ndvi.drop(ndvi[ndvi.lb_code == 'City of London'].index, inplace = True)\n",
    "ndvi.sort_values(by = ['lb_name'], ascending=True)\n",
    "ndvi = ndvi.reset_index(drop = True)\n",
    "\n",
    "# Change name of 'City of Westminster' to Westminster\n",
    "ndvi.loc[ndvi[ndvi.lb_code == 'City of Westminster'].index, 'lb_code'] = 'Westminster'"
   ]
  },
  {
   "cell_type": "markdown",
   "id": "d3056a7b",
   "metadata": {},
   "source": [
    "### Age and health"
   ]
  },
  {
   "cell_type": "code",
   "execution_count": 4,
   "id": "a6bbeb33",
   "metadata": {},
   "outputs": [],
   "source": [
    "# Read self-reported health and age profile\n",
    "age_cols = ['Age Structure (2011 Census);0-15;',\n",
    "            'Age Structure (2011 Census);16-29;',\n",
    "            'Age Structure (2011 Census);30-44;',\n",
    "            'Age Structure (2011 Census);45-64;',\n",
    "            'Age Structure (2011 Census);65+;']\n",
    "health_cols = ['Health (2011 Census);Very good health;',\n",
    "              'Health (2011 Census);Good health;',\n",
    "              'Health (2011 Census);Fair health;',\n",
    "              'Health (2011 Census);Bad health;',\n",
    "              'Health (2011 Census);Very bad health;']\n",
    "age_health = pd.read_csv(os.path.join(os.getcwd(), 'Data', 'msoa-data.csv'),\n",
    "                         usecols = ['Middle Super Output Area', 'MSOA Name',\n",
    "                                    'Age Structure (2011 Census);All Ages;'] + age_cols + health_cols, \n",
    "                         low_memory = False, encoding = 'latin')\n",
    "\n",
    "# Drop row on average for London and City of London\n",
    "age_health.dropna(axis = 0, inplace = True)\n",
    "age_health.drop(age_health[age_health['MSOA Name'] == 'City of London 001'].index, inplace = True)\n",
    "age_health.reset_index(inplace = True)\n",
    "\n",
    "# Change data type\n",
    "age_health[age_cols] = age_health[age_cols].astype('int', copy = False)\n",
    "age_health[health_cols] = age_health[health_cols].astype('int', copy = False)\n",
    "\n",
    "# Drop numbers (last 4 characters) from MSOA name\n",
    "for i in range(0, age_health.shape[0]):\n",
    "               age_health.iloc[i,2] = age_health.iloc[i,2][:-4]\n",
    "\n",
    "# Compute total number of respondents in MSOA\n",
    "respondents = age_health.groupby('MSOA Name').agg({'Age Structure (2011 Census);All Ages;': np.sum}).reset_index()\n",
    "\n",
    "# Compute number and percentage of respondents in each age group\n",
    "age = age_health.groupby('MSOA Name').agg(dict.fromkeys(age_cols, np.sum)).reset_index()\n",
    "age[age_cols] = age[age_cols].div(respondents['Age Structure (2011 Census);All Ages;'], axis = 0) * 100\n",
    "\n",
    "# Compute number and percentage of respondents in each health category\n",
    "health = age_health.groupby('MSOA Name').agg(dict.fromkeys(health_cols, np.sum)).reset_index()\n",
    "health[health_cols] = health[health_cols].div(respondents['Age Structure (2011 Census);All Ages;'], axis = 0) * 100\n",
    "\n",
    "# Rename columns for easy reference\n",
    "age.rename({age_cols[0]: 'Age_0-15',\n",
    "           age_cols[1]: 'Age_15-29',\n",
    "           age_cols[2]: 'Age_30-44',\n",
    "           age_cols[3]: 'Age_45-64',\n",
    "           age_cols[4]: 'Age_65+'},\n",
    "          axis = 1, inplace = True)\n",
    "health.rename({health_cols[0]: 'Very_good',\n",
    "               health_cols[1]: 'Good',\n",
    "               health_cols[2]: 'Fair',\n",
    "               health_cols[3]: 'Bad',\n",
    "               health_cols[4]: 'Very_bad'},\n",
    "              axis = 1, inplace = True)"
   ]
  },
  {
   "cell_type": "markdown",
   "id": "6075a7c3",
   "metadata": {},
   "source": [
    "### Multivariate regression - Wellbeing against NDVI and control variables (age, health)"
   ]
  },
  {
   "cell_type": "code",
   "execution_count": 5,
   "id": "472c8350",
   "metadata": {},
   "outputs": [],
   "source": [
    "# Merge data\n",
    "data_uni = pd.merge(wellbeing[['Area'] + wellbeing_cols], ndvi[['lb_code','percent_green']], \n",
    "                    left_on = 'Area', right_on = 'lb_code').drop('lb_code', axis = 1)\n",
    "data = data_uni.merge(health, left_on = 'Area', right_on = 'MSOA Name').drop('MSOA Name', axis = 1)\n",
    "data = data.merge(age, left_on = 'Area', right_on = 'MSOA Name').drop('MSOA Name', axis = 1)"
   ]
  },
  {
   "cell_type": "code",
   "execution_count": 6,
   "id": "59bab5c9",
   "metadata": {},
   "outputs": [],
   "source": [
    "# Define function to drop variables using VIF\n",
    "# This function is adjusted from: https://stackoverflow.com/a/51329496/4667568\n",
    "\n",
    "def drop_column_using_vif_(df, thresh=5):\n",
    "    '''\n",
    "    Calculates VIF each feature in a pandas dataframe, and repeatedly drop the columns with the highest VIF\n",
    "    A constant must be added to variance_inflation_factor or the results will be incorrect\n",
    "\n",
    "    :param df: the pandas dataframe containing only the predictor features, not the response variable\n",
    "    :param thresh: (default 5) the threshould VIF value. If the VIF of a variable is greater than thresh, it should be removed from the dataframe\n",
    "    :return: dataframe with multicollinear features removed\n",
    "    '''\n",
    "    while True:\n",
    "        # adding a constatnt item to the data\n",
    "        df_with_const = add_constant(df)\n",
    "\n",
    "        vif_df = pd.Series([variance_inflation_factor(df_with_const.values, i) \n",
    "               for i in range(df_with_const.shape[1])], name= \"VIF\",\n",
    "              index=df_with_const.columns).to_frame()\n",
    "\n",
    "        # drop the const\n",
    "        vif_df = vif_df.drop('const')\n",
    "        \n",
    "        # if the largest VIF is above the thresh, remove a variable with the largest VIF\n",
    "        # If there are multiple variabels with VIF>thresh, only one of them is removed. This is because we want to keep as many variables as possible\n",
    "        if vif_df.VIF.max() > thresh:\n",
    "            # If there are multiple variables with the maximum VIF, choose the first one\n",
    "            index_to_drop = vif_df.index[vif_df.VIF == vif_df.VIF.max()].tolist()[0]\n",
    "            print('Dropping: {}'.format(index_to_drop))\n",
    "            df = df.drop(columns = index_to_drop)\n",
    "        else:\n",
    "            # No VIF is above threshold. Exit the loop\n",
    "            break\n",
    "\n",
    "    return df"
   ]
  },
  {
   "cell_type": "code",
   "execution_count": 7,
   "id": "d4716bf6",
   "metadata": {},
   "outputs": [
    {
     "name": "stdout",
     "output_type": "stream",
     "text": [
      "Dropping: Bad\n",
      "Dropping: Age_45-64\n",
      "Dropping: Fair\n"
     ]
    }
   ],
   "source": [
    "# Drop collinear independent variables\n",
    "data.drop(['Very_good', 'Age_65+'], axis = 1, inplace = True)\n",
    "ind_var_data = drop_column_using_vif_(data.drop(['Area'] + wellbeing_cols, axis=1))"
   ]
  },
  {
   "cell_type": "code",
   "execution_count": 8,
   "id": "20def34d",
   "metadata": {},
   "outputs": [],
   "source": [
    "# Define function to extract outliers based on Tukey fences\n",
    "\n",
    "def re_outliers(df, col_name):\n",
    "\n",
    "    '''\n",
    "    Remove the outliers from dataframe based on Tukey fences\n",
    "\n",
    "    :param df: the pandas dataframe\n",
    "    :param col_name: the column being checked for outliers\n",
    "    :return: (1) dataframe with outliers removed, and (2) outliers [area] that have been removed\n",
    "    '''\n",
    "\n",
    "    # Initialize\n",
    "    df_clean = df\n",
    "    outliers_areas = []\n",
    "    temp_areas = []\n",
    "\n",
    "    while True:\n",
    "    \n",
    "        # Compute quartiles and IQR\n",
    "        q1 = df_clean[col_name].quantile(0.25)\n",
    "        q3 = df_clean[col_name].quantile(0.75)\n",
    "        iqr = q3 - q1\n",
    "        # Compute Tukey fences\n",
    "        lo_tukey = q1 - 1.5*iqr\n",
    "        hi_tukey = q3 + 1.5*iqr\n",
    "    \n",
    "        # Locate the rows and areas that are outside the Tukey fences\n",
    "        outliers_rows = df_clean.index[(df_clean[col_name] < lo_tukey) | (df_clean[col_name] > hi_tukey)]\n",
    "        \n",
    "        if len(outliers_rows) > 0:\n",
    "            temp_areas = df_clean['Area'][outliers_rows].values.tolist()\n",
    "            outliers_areas = list(set(outliers_areas + temp_areas))\n",
    "            df_clean = df_clean.drop(index = outliers_rows)\n",
    "        else:\n",
    "            break\n",
    "    \n",
    "    # Return both cleaned df and outlier areas\n",
    "    return df_clean, sorted(outliers_areas)"
   ]
  },
  {
   "cell_type": "code",
   "execution_count": 9,
   "id": "14b7b570",
   "metadata": {},
   "outputs": [],
   "source": [
    "# Define function to remove outliers in paired samples\n",
    "\n",
    "def re_outliers_paired(df, col_name):\n",
    "\n",
    "    '''\n",
    "    Remove the outliers from dataframe based on Tukey fences in paired fashion for multiple columns\n",
    "\n",
    "    :param df: the pandas dataframe\n",
    "    :param col_name: the list of column(s) being checked for outliers\n",
    "    :return: (1) dataframe with outliers removed, and (2) outliers [local authority area] that have been removed\n",
    "    '''\n",
    "    # initialize list to hold outlier areas\n",
    "    outliers_area = []\n",
    "    \n",
    "    # For each column\n",
    "    for col in col_name:\n",
    "        # get outliers for the column\n",
    "        temp_df, temp_outliers = re_outliers(df, col)\n",
    "        # find all unique areas\n",
    "        outliers_area = list(set(outliers_area + temp_outliers))\n",
    "    \n",
    "    outliers_area = sorted(outliers_area)\n",
    "    \n",
    "    # For all outlier areas\n",
    "    df_clean = df\n",
    "    for i in outliers_area:\n",
    "        # Drop from df\n",
    "        df_clean = df_clean.drop(df.index[df['Area'] == i])\n",
    "    \n",
    "    return df_clean, outliers_area"
   ]
  },
  {
   "cell_type": "code",
   "execution_count": 10,
   "id": "33d1012d",
   "metadata": {},
   "outputs": [],
   "source": [
    "# Define function to perform backwards regression using p-value as selection criterion\n",
    "\n",
    "def back_regress(df_dep, df_ind, thresh=0.05):\n",
    "    '''\n",
    "    Performs regression with backwards selection of variables using AIC as selection criterion.\n",
    "\n",
    "    :param df_dep, df_ind: the pandas dataframe containing dependent variable and indepdendent variables respectively.\n",
    "    :return: the final regression model\n",
    "    '''    \n",
    "    \n",
    "    # Initialize index_to_drop\n",
    "    index_to_drop = []\n",
    "    \n",
    "    while True:\n",
    "        # Get variables\n",
    "        var = df_ind.columns.values.tolist()\n",
    "        \n",
    "        # Perform regressions\n",
    "        if index_to_drop == 'const':\n",
    "            reg_model = sm.OLS(endog=df_dep, exog=df_ind).fit()\n",
    "        else:\n",
    "            reg_model = sm.OLS(endog=df_dep, exog=sm.add_constant(df_ind)).fit()\n",
    "        \n",
    "        # Find p-values for all variables\n",
    "        df_pval = reg_model.pvalues\n",
    "        #df_pval = pd.Series([reg_model.pvalues[i] for i in var], name='pvalue', index = var).to_frame()\n",
    "        \n",
    "        # If best (lowest) new AIC is lower than the current best, remove variable that improves AIC the most\n",
    "        if df_pval.max() > thresh:\n",
    "            # If there are multiple variables with best new AIC, choose the first one\n",
    "            index_to_drop = df_pval.index[df_pval == df_pval.max()].tolist()[0]\n",
    "            print('Dropping: {}'.format(index_to_drop))\n",
    "            # Drop variable from df_ind\n",
    "            if index_to_drop != 'const':\n",
    "                df_ind = df_ind.drop(columns = index_to_drop)\n",
    "        else:\n",
    "            break\n",
    "            \n",
    "    # Perform regression with final set of variables\n",
    "    if index_to_drop == 'const':\n",
    "        reg_model = sm.OLS(endog=df_dep, exog=df_ind).fit()\n",
    "    else:\n",
    "        reg_model = sm.OLS(endog=df_dep, exog=sm.add_constant(df_ind)).fit()\n",
    "    \n",
    "    return reg_model"
   ]
  },
  {
   "cell_type": "code",
   "execution_count": 13,
   "id": "0d1b3d71",
   "metadata": {},
   "outputs": [
    {
     "name": "stdout",
     "output_type": "stream",
     "text": [
      "PERFORMING REGRESSION ON:LIFE SATISFACTION\n",
      "Dropping: percent_green\n",
      "Dropping: Age_15-29\n",
      "                            OLS Regression Results                            \n",
      "==============================================================================\n",
      "Dep. Variable:      Life Satisfaction   R-squared:                       0.709\n",
      "Model:                            OLS   Adj. R-squared:                  0.665\n",
      "Method:                 Least Squares   F-statistic:                     16.42\n",
      "Date:                Thu, 06 Jan 2022   Prob (F-statistic):           6.23e-07\n",
      "Time:                        22:39:04   Log-Likelihood:                 33.268\n",
      "No. Observations:                  32   AIC:                            -56.54\n",
      "Df Residuals:                      27   BIC:                            -49.21\n",
      "Df Model:                           4                                         \n",
      "Covariance Type:            nonrobust                                         \n",
      "==============================================================================\n",
      "                 coef    std err          t      P>|t|      [0.025      0.975]\n",
      "------------------------------------------------------------------------------\n",
      "const         10.6006      0.625     16.962      0.000       9.318      11.883\n",
      "Good          -0.0462      0.014     -3.223      0.003      -0.076      -0.017\n",
      "Very_bad      -0.3592      0.072     -4.985      0.000      -0.507      -0.211\n",
      "Age_0-15      -0.0221      0.010     -2.249      0.033      -0.042      -0.002\n",
      "Age_30-44     -0.0367      0.010     -3.674      0.001      -0.057      -0.016\n",
      "==============================================================================\n",
      "Omnibus:                        3.742   Durbin-Watson:                   1.874\n",
      "Prob(Omnibus):                  0.154   Jarque-Bera (JB):                3.307\n",
      "Skew:                          -0.773   Prob(JB):                        0.191\n",
      "Kurtosis:                       2.697   Cond. No.                     1.76e+03\n",
      "==============================================================================\n",
      "\n",
      "Notes:\n",
      "[1] Standard Errors assume that the covariance matrix of the errors is correctly specified.\n",
      "[2] The condition number is large, 1.76e+03. This might indicate that there are\n",
      "strong multicollinearity or other numerical problems.\n"
     ]
    },
    {
     "data": {
      "image/png": "[encoded data removed]",
      "text/plain": [
       "<Figure size 432x288 with 1 Axes>"
      ]
     },
     "metadata": {
      "needs_background": "light"
     },
     "output_type": "display_data"
    },
    {
     "name": "stdout",
     "output_type": "stream",
     "text": [
      "\n",
      "\n",
      "PERFORMING REGRESSION ON:WORTHWHILE\n",
      "Dropping: percent_green\n",
      "Dropping: Age_0-15\n",
      "Dropping: Age_30-44\n",
      "                            OLS Regression Results                            \n",
      "==============================================================================\n",
      "Dep. Variable:             Worthwhile   R-squared:                       0.673\n",
      "Model:                            OLS   Adj. R-squared:                  0.638\n",
      "Method:                 Least Squares   F-statistic:                     19.22\n",
      "Date:                Thu, 06 Jan 2022   Prob (F-statistic):           5.74e-07\n",
      "Time:                        22:39:04   Log-Likelihood:                 29.928\n",
      "No. Observations:                  32   AIC:                            -51.86\n",
      "Df Residuals:                      28   BIC:                            -45.99\n",
      "Df Model:                           3                                         \n",
      "Covariance Type:            nonrobust                                         \n",
      "==============================================================================\n",
      "                 coef    std err          t      P>|t|      [0.025      0.975]\n",
      "------------------------------------------------------------------------------\n",
      "const          9.2915      0.373     24.881      0.000       8.527      10.056\n",
      "Good          -0.0276      0.009     -2.932      0.007      -0.047      -0.008\n",
      "Very_bad      -0.2289      0.100     -2.284      0.030      -0.434      -0.024\n",
      "Age_15-29     -0.0258      0.007     -3.870      0.001      -0.039      -0.012\n",
      "==============================================================================\n",
      "Omnibus:                        3.275   Durbin-Watson:                   2.356\n",
      "Prob(Omnibus):                  0.194   Jarque-Bera (JB):                2.968\n",
      "Skew:                          -0.701   Prob(JB):                        0.227\n",
      "Kurtosis:                       2.487   Cond. No.                         836.\n",
      "==============================================================================\n",
      "\n",
      "Notes:\n",
      "[1] Standard Errors assume that the covariance matrix of the errors is correctly specified.\n"
     ]
    },
    {
     "data": {
      "image/png": "[encoded data removed]",
      "text/plain": [
       "<Figure size 432x288 with 1 Axes>"
      ]
     },
     "metadata": {
      "needs_background": "light"
     },
     "output_type": "display_data"
    },
    {
     "name": "stdout",
     "output_type": "stream",
     "text": [
      "\n",
      "\n",
      "PERFORMING REGRESSION ON:HAPPINESS\n",
      "Dropping: Age_15-29\n",
      "Dropping: Good\n",
      "Dropping: Age_30-44\n",
      "Dropping: Very_bad\n",
      "                            OLS Regression Results                            \n",
      "==============================================================================\n",
      "Dep. Variable:              Happiness   R-squared:                       0.394\n",
      "Model:                            OLS   Adj. R-squared:                  0.352\n",
      "Method:                 Least Squares   F-statistic:                     9.437\n",
      "Date:                Thu, 06 Jan 2022   Prob (F-statistic):           0.000697\n",
      "Time:                        22:39:04   Log-Likelihood:                 26.587\n",
      "No. Observations:                  32   AIC:                            -47.17\n",
      "Df Residuals:                      29   BIC:                            -42.78\n",
      "Df Model:                           2                                         \n",
      "Covariance Type:            nonrobust                                         \n",
      "=================================================================================\n",
      "                    coef    std err          t      P>|t|      [0.025      0.975]\n",
      "---------------------------------------------------------------------------------\n",
      "const             7.5432      0.168     44.953      0.000       7.200       7.886\n",
      "percent_green     0.0063      0.002      3.335      0.002       0.002       0.010\n",
      "Age_0-15         -0.0319      0.009     -3.669      0.001      -0.050      -0.014\n",
      "==============================================================================\n",
      "Omnibus:                        4.678   Durbin-Watson:                   2.538\n",
      "Prob(Omnibus):                  0.096   Jarque-Bera (JB):                3.099\n",
      "Skew:                           0.628   Prob(JB):                        0.212\n",
      "Kurtosis:                       3.865   Cond. No.                         429.\n",
      "==============================================================================\n",
      "\n",
      "Notes:\n",
      "[1] Standard Errors assume that the covariance matrix of the errors is correctly specified.\n"
     ]
    },
    {
     "data": {
      "image/png": "[encoded data removed]",
      "text/plain": [
       "<Figure size 432x288 with 1 Axes>"
      ]
     },
     "metadata": {
      "needs_background": "light"
     },
     "output_type": "display_data"
    },
    {
     "name": "stdout",
     "output_type": "stream",
     "text": [
      "\n",
      "\n"
     ]
    }
   ],
   "source": [
    "# Perform regression without removing outliers\n",
    "\n",
    "for cat in wellbeing_cols:\n",
    "    print(f'PERFORMING REGRESSION ON:{cat.upper()}')\n",
    "\n",
    "    # Perform regression\n",
    "    reg_model = back_regress(data[cat], ind_var_data)\n",
    "    #reg_model = sm.OLS(endog=data[cat], exog=sm.add_constant(ind_var_data)).fit()\n",
    "    print(reg_model.summary())\n",
    "\n",
    "    # plot residual vs. fit\n",
    "    plt.scatter(reg_model.fittedvalues, reg_model.resid)\n",
    "    plt.xlabel('Fitted Value')\n",
    "    plt.ylabel('Residual')\n",
    "    plt.title('Residual vs. Fitted Plot for ' + cat.title())\n",
    "    plt.show()\n",
    "    print('\\n')"
   ]
  },
  {
   "cell_type": "code",
   "execution_count": 11,
   "id": "e1da2f46",
   "metadata": {},
   "outputs": [
    {
     "name": "stdout",
     "output_type": "stream",
     "text": [
      "PERFORMING REGRESSION ON:LIFE SATISFACTION\n",
      "Outliers: ['Barking and Dagenham', 'Camden', 'Enfield', 'Hammersmith and Fulham', 'Islington', 'Kensington and Chelsea', 'Lambeth', 'Newham', 'Redbridge', 'Wandsworth', 'Westminster']\n",
      "Dropping: percent_green\n",
      "Dropping: Age_15-29\n",
      "Dropping: Age_0-15\n",
      "                            OLS Regression Results                            \n",
      "==============================================================================\n",
      "Dep. Variable:      Life Satisfaction   R-squared:                       0.678\n",
      "Model:                            OLS   Adj. R-squared:                  0.622\n",
      "Method:                 Least Squares   F-statistic:                     11.96\n",
      "Date:                Thu, 06 Jan 2022   Prob (F-statistic):           0.000188\n",
      "Time:                        22:37:37   Log-Likelihood:                 20.704\n",
      "No. Observations:                  21   AIC:                            -33.41\n",
      "Df Residuals:                      17   BIC:                            -29.23\n",
      "Df Model:                           3                                         \n",
      "Covariance Type:            nonrobust                                         \n",
      "==============================================================================\n",
      "                 coef    std err          t      P>|t|      [0.025      0.975]\n",
      "------------------------------------------------------------------------------\n",
      "const         10.0998      0.839     12.040      0.000       8.330      11.870\n",
      "Good          -0.0449      0.018     -2.436      0.026      -0.084      -0.006\n",
      "Very_bad      -0.3495      0.102     -3.438      0.003      -0.564      -0.135\n",
      "Age_30-44     -0.0371      0.013     -2.888      0.010      -0.064      -0.010\n",
      "==============================================================================\n",
      "Omnibus:                        6.083   Durbin-Watson:                   2.109\n",
      "Prob(Omnibus):                  0.048   Jarque-Bera (JB):                3.951\n",
      "Skew:                          -1.012   Prob(JB):                        0.139\n",
      "Kurtosis:                       3.649   Cond. No.                     1.61e+03\n",
      "==============================================================================\n",
      "\n",
      "Notes:\n",
      "[1] Standard Errors assume that the covariance matrix of the errors is correctly specified.\n",
      "[2] The condition number is large, 1.61e+03. This might indicate that there are\n",
      "strong multicollinearity or other numerical problems.\n"
     ]
    },
    {
     "data": {
      "image/png": "[encoded data removed]",
      "text/plain": [
       "<Figure size 432x288 with 1 Axes>"
      ]
     },
     "metadata": {
      "needs_background": "light"
     },
     "output_type": "display_data"
    },
    {
     "name": "stdout",
     "output_type": "stream",
     "text": [
      "\n",
      "\n",
      "PERFORMING REGRESSION ON:WORTHWHILE\n",
      "Outliers: ['Barking and Dagenham', 'Camden', 'Enfield', 'Hammersmith and Fulham', 'Islington', 'Kensington and Chelsea', 'Lambeth', 'Newham', 'Redbridge', 'Wandsworth', 'Westminster']\n",
      "Dropping: percent_green\n",
      "Dropping: Age_0-15\n",
      "Dropping: Age_15-29\n",
      "                            OLS Regression Results                            \n",
      "==============================================================================\n",
      "Dep. Variable:             Worthwhile   R-squared:                       0.689\n",
      "Model:                            OLS   Adj. R-squared:                  0.634\n",
      "Method:                 Least Squares   F-statistic:                     12.56\n",
      "Date:                Thu, 06 Jan 2022   Prob (F-statistic):           0.000142\n",
      "Time:                        22:37:37   Log-Likelihood:                 18.000\n",
      "No. Observations:                  21   AIC:                            -28.00\n",
      "Df Residuals:                      17   BIC:                            -23.82\n",
      "Df Model:                           3                                         \n",
      "Covariance Type:            nonrobust                                         \n",
      "==============================================================================\n",
      "                 coef    std err          t      P>|t|      [0.025      0.975]\n",
      "------------------------------------------------------------------------------\n",
      "const         10.5602      0.954     11.068      0.000       8.547      12.573\n",
      "Good          -0.0471      0.021     -2.246      0.038      -0.091      -0.003\n",
      "Very_bad      -0.4501      0.116     -3.893      0.001      -0.694      -0.206\n",
      "Age_30-44     -0.0372      0.015     -2.544      0.021      -0.068      -0.006\n",
      "==============================================================================\n",
      "Omnibus:                        0.756   Durbin-Watson:                   2.783\n",
      "Prob(Omnibus):                  0.685   Jarque-Bera (JB):                0.746\n",
      "Skew:                          -0.378   Prob(JB):                        0.689\n",
      "Kurtosis:                       2.470   Cond. No.                     1.61e+03\n",
      "==============================================================================\n",
      "\n",
      "Notes:\n",
      "[1] Standard Errors assume that the covariance matrix of the errors is correctly specified.\n",
      "[2] The condition number is large, 1.61e+03. This might indicate that there are\n",
      "strong multicollinearity or other numerical problems.\n"
     ]
    },
    {
     "data": {
      "image/png": "[encoded data removed]",
      "text/plain": [
       "<Figure size 432x288 with 1 Axes>"
      ]
     },
     "metadata": {
      "needs_background": "light"
     },
     "output_type": "display_data"
    },
    {
     "name": "stdout",
     "output_type": "stream",
     "text": [
      "\n",
      "\n",
      "PERFORMING REGRESSION ON:HAPPINESS\n",
      "Outliers: ['Barking and Dagenham', 'Camden', 'Enfield', 'Hammersmith and Fulham', 'Islington', 'Kensington and Chelsea', 'Lambeth', 'Newham', 'Redbridge', 'Wandsworth', 'Westminster']\n",
      "Dropping: Age_0-15\n",
      "Dropping: Good\n",
      "Dropping: Very_bad\n",
      "Dropping: Age_30-44\n",
      "Dropping: Age_15-29\n",
      "                            OLS Regression Results                            \n",
      "==============================================================================\n",
      "Dep. Variable:              Happiness   R-squared:                       0.404\n",
      "Model:                            OLS   Adj. R-squared:                  0.373\n",
      "Method:                 Least Squares   F-statistic:                     12.90\n",
      "Date:                Thu, 06 Jan 2022   Prob (F-statistic):            0.00194\n",
      "Time:                        22:37:38   Log-Likelihood:                 20.138\n",
      "No. Observations:                  21   AIC:                            -36.28\n",
      "Df Residuals:                      19   BIC:                            -34.19\n",
      "Df Model:                           1                                         \n",
      "Covariance Type:            nonrobust                                         \n",
      "=================================================================================\n",
      "                    coef    std err          t      P>|t|      [0.025      0.975]\n",
      "---------------------------------------------------------------------------------\n",
      "const             6.8186      0.105     65.232      0.000       6.600       7.037\n",
      "percent_green     0.0076      0.002      3.592      0.002       0.003       0.012\n",
      "==============================================================================\n",
      "Omnibus:                        0.547   Durbin-Watson:                   1.871\n",
      "Prob(Omnibus):                  0.761   Jarque-Bera (JB):                0.227\n",
      "Skew:                           0.250   Prob(JB):                        0.893\n",
      "Kurtosis:                       2.903   Cond. No.                         243.\n",
      "==============================================================================\n",
      "\n",
      "Notes:\n",
      "[1] Standard Errors assume that the covariance matrix of the errors is correctly specified.\n"
     ]
    },
    {
     "data": {
      "image/png": "[encoded data removed]",
      "text/plain": [
       "<Figure size 432x288 with 1 Axes>"
      ]
     },
     "metadata": {
      "needs_background": "light"
     },
     "output_type": "display_data"
    },
    {
     "name": "stdout",
     "output_type": "stream",
     "text": [
      "\n",
      "\n"
     ]
    }
   ],
   "source": [
    "# Perform regression with outliers removed\n",
    "\n",
    "for cat in wellbeing_cols:\n",
    "    print(f'PERFORMING REGRESSION ON:{cat.upper()}')\n",
    "\n",
    "    # Remove outliers first\n",
    "    ind_var = ind_var_data.columns.tolist()\n",
    "    df = data[['Area', cat]+ ind_var]\n",
    "    data_reout, outliers_area = re_outliers_paired(df, ([cat]+ ind_var))\n",
    "    print('Outliers:', format(outliers_area))\n",
    "\n",
    "    # Perform regression\n",
    "    reg_model = back_regress(data_reout[cat], data_reout[ind_var])\n",
    "    #reg_model = sm.OLS(endog=data_reout[cat], exog=sm.add_constant(data_reout[ind_var])).fit()\n",
    "    print(reg_model.summary())\n",
    "\n",
    "    # plot residual vs. fit\n",
    "    plt.scatter(reg_model.fittedvalues, reg_model.resid)\n",
    "    plt.xlabel('Fitted Value')\n",
    "    plt.ylabel('Residual')\n",
    "    plt.title('Residual vs. Fitted Plot for ' + cat.title())\n",
    "    plt.show()\n",
    "    print('\\n')"
   ]
  },
  {
   "cell_type": "markdown",
   "id": "37a3df59",
   "metadata": {},
   "source": [
    "## Regression 2: Mediators against NDVI"
   ]
  },
  {
   "cell_type": "markdown",
   "id": "e5eee075",
   "metadata": {},
   "source": [
    "### Physical activity"
   ]
  },
  {
   "cell_type": "code",
   "execution_count": 14,
   "id": "a01e4d41",
   "metadata": {},
   "outputs": [],
   "source": [
    "# Read in physical exercise (from 2012)\n",
    "exercise = pd.read_excel(os.path.join(os.getcwd(), 'Data', 'LSD21-APS-Physical-Activity-Levels.xlsx'),\n",
    "                         sheet_name = '2012', usecols = ['GSS_Code', 'Region', 'Active'])\n",
    "\n",
    "# Keep only data on London boroughs (Area Code starts with E09)\n",
    "exercise = exercise[exercise['GSS_Code'].str.match(r'E09')].sort_values(by = ['GSS_Code'], ascending=True)\n",
    "exercise = exercise.reset_index(drop = True)\n",
    "\n",
    "# Convert 'Active' to percentage\n",
    "exercise.Active = exercise.Active*100"
   ]
  },
  {
   "cell_type": "code",
   "execution_count": 15,
   "id": "eed419ed",
   "metadata": {},
   "outputs": [
    {
     "name": "stdout",
     "output_type": "stream",
     "text": [
      "                            OLS Regression Results                            \n",
      "==============================================================================\n",
      "Dep. Variable:                 Active   R-squared:                       0.000\n",
      "Model:                            OLS   Adj. R-squared:                 -0.033\n",
      "Method:                 Least Squares   F-statistic:                 9.029e-05\n",
      "Date:                Thu, 06 Jan 2022   Prob (F-statistic):              0.992\n",
      "Time:                        22:40:52   Log-Likelihood:                -94.981\n",
      "No. Observations:                  32   AIC:                             194.0\n",
      "Df Residuals:                      30   BIC:                             196.9\n",
      "Df Model:                           1                                         \n",
      "Covariance Type:            nonrobust                                         \n",
      "=================================================================================\n",
      "                    coef    std err          t      P>|t|      [0.025      0.975]\n",
      "---------------------------------------------------------------------------------\n",
      "const            56.6806      3.656     15.504      0.000      49.214      64.147\n",
      "percent_green    -0.0008      0.079     -0.010      0.992      -0.163       0.161\n",
      "==============================================================================\n",
      "Omnibus:                        1.756   Durbin-Watson:                   1.833\n",
      "Prob(Omnibus):                  0.416   Jarque-Bera (JB):                1.619\n",
      "Skew:                           0.498   Prob(JB):                        0.445\n",
      "Kurtosis:                       2.527   Cond. No.                         196.\n",
      "==============================================================================\n",
      "\n",
      "Notes:\n",
      "[1] Standard Errors assume that the covariance matrix of the errors is correctly specified.\n"
     ]
    },
    {
     "data": {
      "image/png": "[encoded data removed]",
      "text/plain": [
       "<Figure size 432x288 with 1 Axes>"
      ]
     },
     "metadata": {
      "needs_background": "light"
     },
     "output_type": "display_data"
    }
   ],
   "source": [
    "# Merge data\n",
    "data_uni = pd.merge(exercise[['Region', 'Active']], ndvi[['lb_code','percent_green']], \n",
    "                    left_on = 'Region', right_on = 'lb_code').drop('lb_code', axis = 1)\n",
    "\n",
    "# Regress physical activity against NDVI\n",
    "\n",
    "reg_model = sm.OLS(endog=data_uni.Active, exog=sm.add_constant(data_uni.percent_green)).fit()\n",
    "print(reg_model.summary())\n",
    "plt.scatter(reg_model.fittedvalues, reg_model.resid)\n",
    "plt.xlabel('Fitted Value')\n",
    "plt.ylabel('Residual')\n",
    "plt.title('Residual vs. Fitted Plot for Physical Exercise')\n",
    "plt.show()"
   ]
  },
  {
   "cell_type": "markdown",
   "id": "58618a5c",
   "metadata": {},
   "source": [
    "### Air Quality"
   ]
  },
  {
   "cell_type": "code",
   "execution_count": 16,
   "id": "e6cd6116",
   "metadata": {},
   "outputs": [],
   "source": [
    "# Read in air quality (from 2013)\n",
    "air_quality = pd.read_excel(os.path.join(os.getcwd(), 'Data', 'NO2_AnnualMean_2013_PopulationData.xlsx'),\n",
    "                            sheet_name = 'Borough exceeding 40', skiprows = 4, \n",
    "                            usecols=['Borough Name', 'PopExc2013 %'])\n",
    "air_quality['Borough Name'] = air_quality['Borough Name'].str.replace('&', 'and')\n",
    "\n",
    "# Drop City of London\n",
    "air_quality.drop(air_quality[air_quality['Borough Name'] == 'City of London'].index, inplace = True)\n",
    "air_quality = air_quality.reset_index(drop = True)"
   ]
  },
  {
   "cell_type": "code",
   "execution_count": 17,
   "id": "cc24190c",
   "metadata": {},
   "outputs": [],
   "source": [
    "# Log\n",
    "air_quality['log_PopExc2013 %'] = air_quality['PopExc2013 %'].apply(log)"
   ]
  },
  {
   "cell_type": "code",
   "execution_count": 18,
   "id": "ec8594f6",
   "metadata": {},
   "outputs": [
    {
     "name": "stdout",
     "output_type": "stream",
     "text": [
      "                            OLS Regression Results                            \n",
      "==============================================================================\n",
      "Dep. Variable:       log_PopExc2013 %   R-squared:                       0.370\n",
      "Model:                            OLS   Adj. R-squared:                  0.349\n",
      "Method:                 Least Squares   F-statistic:                     17.60\n",
      "Date:                Thu, 06 Jan 2022   Prob (F-statistic):           0.000223\n",
      "Time:                        22:41:50   Log-Likelihood:                -48.499\n",
      "No. Observations:                  32   AIC:                             101.0\n",
      "Df Residuals:                      30   BIC:                             103.9\n",
      "Df Model:                           1                                         \n",
      "Covariance Type:            nonrobust                                         \n",
      "=================================================================================\n",
      "                    coef    std err          t      P>|t|      [0.025      0.975]\n",
      "---------------------------------------------------------------------------------\n",
      "const             5.5777      0.855      6.521      0.000       3.831       7.325\n",
      "percent_green    -0.0779      0.019     -4.195      0.000      -0.116      -0.040\n",
      "==============================================================================\n",
      "Omnibus:                        1.397   Durbin-Watson:                   1.453\n",
      "Prob(Omnibus):                  0.497   Jarque-Bera (JB):                1.239\n",
      "Skew:                          -0.452   Prob(JB):                        0.538\n",
      "Kurtosis:                       2.664   Cond. No.                         196.\n",
      "==============================================================================\n",
      "\n",
      "Notes:\n",
      "[1] Standard Errors assume that the covariance matrix of the errors is correctly specified.\n"
     ]
    },
    {
     "data": {
      "image/png": "[encoded data removed]",
      "text/plain": [
       "<Figure size 432x288 with 1 Axes>"
      ]
     },
     "metadata": {
      "needs_background": "light"
     },
     "output_type": "display_data"
    }
   ],
   "source": [
    "# Merge data\n",
    "data_uni = pd.merge(air_quality, ndvi[['lb_code','percent_green']], \n",
    "                    left_on = 'Borough Name', right_on = 'lb_code').drop('lb_code', axis = 1)\n",
    "\n",
    "# Regress air quality against NDVI without removing outliers\n",
    "\n",
    "reg_model = sm.OLS(endog=data_uni['log_PopExc2013 %'], exog=sm.add_constant(data_uni.percent_green)).fit()\n",
    "print(reg_model.summary())\n",
    "plt.scatter(reg_model.fittedvalues, reg_model.resid)\n",
    "plt.xlabel('Fitted Value')\n",
    "plt.ylabel('Residual')\n",
    "plt.title('Residual vs. Fitted Plot for Air Quality')\n",
    "plt.show()"
   ]
  },
  {
   "cell_type": "markdown",
   "id": "9d2948dd",
   "metadata": {},
   "source": [
    "### Anxiety"
   ]
  },
  {
   "cell_type": "code",
   "execution_count": 19,
   "id": "b2a7ade7",
   "metadata": {},
   "outputs": [
    {
     "name": "stdout",
     "output_type": "stream",
     "text": [
      "                            OLS Regression Results                            \n",
      "==============================================================================\n",
      "Dep. Variable:                Anxiety   R-squared:                       0.024\n",
      "Model:                            OLS   Adj. R-squared:                 -0.009\n",
      "Method:                 Least Squares   F-statistic:                    0.7343\n",
      "Date:                Thu, 06 Jan 2022   Prob (F-statistic):              0.398\n",
      "Time:                        22:42:20   Log-Likelihood:                -5.9201\n",
      "No. Observations:                  32   AIC:                             15.84\n",
      "Df Residuals:                      30   BIC:                             18.77\n",
      "Df Model:                           1                                         \n",
      "Covariance Type:            nonrobust                                         \n",
      "=================================================================================\n",
      "                    coef    std err          t      P>|t|      [0.025      0.975]\n",
      "---------------------------------------------------------------------------------\n",
      "const             3.5964      0.226     15.907      0.000       3.135       4.058\n",
      "percent_green    -0.0042      0.005     -0.857      0.398      -0.014       0.006\n",
      "==============================================================================\n",
      "Omnibus:                        4.142   Durbin-Watson:                   1.887\n",
      "Prob(Omnibus):                  0.126   Jarque-Bera (JB):                2.868\n",
      "Skew:                          -0.710   Prob(JB):                        0.238\n",
      "Kurtosis:                       3.370   Cond. No.                         196.\n",
      "==============================================================================\n",
      "\n",
      "Notes:\n",
      "[1] Standard Errors assume that the covariance matrix of the errors is correctly specified.\n"
     ]
    },
    {
     "data": {
      "image/png": "[encoded data removed]",
      "text/plain": [
       "<Figure size 432x288 with 1 Axes>"
      ]
     },
     "metadata": {
      "needs_background": "light"
     },
     "output_type": "display_data"
    }
   ],
   "source": [
    "# Merge data\n",
    "data_uni = pd.merge(wellbeing, ndvi[['lb_code','percent_green']], \n",
    "                    left_on = 'Area', right_on = 'lb_code').drop('lb_code', axis = 1)\n",
    "\n",
    "# Regress physical activity against NDVI\n",
    "reg_model = sm.OLS(endog=data_uni.Anxiety, exog=sm.add_constant(data_uni.percent_green)).fit()\n",
    "print(reg_model.summary())\n",
    "plt.scatter(reg_model.fittedvalues, reg_model.resid)\n",
    "plt.xlabel('Fitted Value')\n",
    "plt.ylabel('Residual')\n",
    "plt.title('Residual vs. Fitted Plot for Anxiety')\n",
    "plt.show()"
   ]
  },
  {
   "cell_type": "markdown",
   "id": "e99e7f7b",
   "metadata": {},
   "source": [
    "## Regression 3: Wellbeing Against NDVI and Mediators"
   ]
  },
  {
   "cell_type": "code",
   "execution_count": 20,
   "id": "7a0404c8",
   "metadata": {},
   "outputs": [],
   "source": [
    "# Merge all variables into a dataframe\n",
    "data = data.merge(air_quality[['Borough Name', 'log_PopExc2013 %']], \n",
    "                  left_on = 'Area', right_on = 'Borough Name').drop('Borough Name', axis = 1)"
   ]
  },
  {
   "cell_type": "code",
   "execution_count": 24,
   "id": "d95c3b25",
   "metadata": {},
   "outputs": [
    {
     "name": "stdout",
     "output_type": "stream",
     "text": [
      "Dropping: Age_45-64\n",
      "Dropping: Bad\n",
      "Dropping: Fair\n"
     ]
    }
   ],
   "source": [
    "# Drop collinear independent variables\n",
    "ind_var_data = drop_column_using_vif_(data.drop(['Area'] + wellbeing_cols, axis=1))"
   ]
  },
  {
   "cell_type": "code",
   "execution_count": 25,
   "id": "7b5b8ec0",
   "metadata": {},
   "outputs": [
    {
     "name": "stdout",
     "output_type": "stream",
     "text": [
      "PERFORMING REGRESSION ON:LIFE SATISFACTION\n",
      "Dropping: percent_green\n",
      "Dropping: Age_15-29\n",
      "Dropping: log_PopExc2013 %\n",
      "                            OLS Regression Results                            \n",
      "==============================================================================\n",
      "Dep. Variable:      Life Satisfaction   R-squared:                       0.709\n",
      "Model:                            OLS   Adj. R-squared:                  0.665\n",
      "Method:                 Least Squares   F-statistic:                     16.42\n",
      "Date:                Thu, 06 Jan 2022   Prob (F-statistic):           6.23e-07\n",
      "Time:                        22:45:24   Log-Likelihood:                 33.268\n",
      "No. Observations:                  32   AIC:                            -56.54\n",
      "Df Residuals:                      27   BIC:                            -49.21\n",
      "Df Model:                           4                                         \n",
      "Covariance Type:            nonrobust                                         \n",
      "==============================================================================\n",
      "                 coef    std err          t      P>|t|      [0.025      0.975]\n",
      "------------------------------------------------------------------------------\n",
      "const         10.6006      0.625     16.962      0.000       9.318      11.883\n",
      "Good          -0.0462      0.014     -3.223      0.003      -0.076      -0.017\n",
      "Very_bad      -0.3592      0.072     -4.985      0.000      -0.507      -0.211\n",
      "Age_0-15      -0.0221      0.010     -2.249      0.033      -0.042      -0.002\n",
      "Age_30-44     -0.0367      0.010     -3.674      0.001      -0.057      -0.016\n",
      "==============================================================================\n",
      "Omnibus:                        3.742   Durbin-Watson:                   1.874\n",
      "Prob(Omnibus):                  0.154   Jarque-Bera (JB):                3.307\n",
      "Skew:                          -0.773   Prob(JB):                        0.191\n",
      "Kurtosis:                       2.697   Cond. No.                     1.76e+03\n",
      "==============================================================================\n",
      "\n",
      "Notes:\n",
      "[1] Standard Errors assume that the covariance matrix of the errors is correctly specified.\n",
      "[2] The condition number is large, 1.76e+03. This might indicate that there are\n",
      "strong multicollinearity or other numerical problems.\n"
     ]
    },
    {
     "data": {
      "image/png": "[encoded data removed]",
      "text/plain": [
       "<Figure size 432x288 with 1 Axes>"
      ]
     },
     "metadata": {
      "needs_background": "light"
     },
     "output_type": "display_data"
    },
    {
     "name": "stdout",
     "output_type": "stream",
     "text": [
      "\n",
      "\n",
      "PERFORMING REGRESSION ON:WORTHWHILE\n",
      "Dropping: percent_green\n",
      "Dropping: Age_0-15\n",
      "Dropping: log_PopExc2013 %\n",
      "Dropping: Age_30-44\n",
      "                            OLS Regression Results                            \n",
      "==============================================================================\n",
      "Dep. Variable:             Worthwhile   R-squared:                       0.673\n",
      "Model:                            OLS   Adj. R-squared:                  0.638\n",
      "Method:                 Least Squares   F-statistic:                     19.22\n",
      "Date:                Thu, 06 Jan 2022   Prob (F-statistic):           5.74e-07\n",
      "Time:                        22:45:24   Log-Likelihood:                 29.928\n",
      "No. Observations:                  32   AIC:                            -51.86\n",
      "Df Residuals:                      28   BIC:                            -45.99\n",
      "Df Model:                           3                                         \n",
      "Covariance Type:            nonrobust                                         \n",
      "==============================================================================\n",
      "                 coef    std err          t      P>|t|      [0.025      0.975]\n",
      "------------------------------------------------------------------------------\n",
      "const          9.2915      0.373     24.881      0.000       8.527      10.056\n",
      "Good          -0.0276      0.009     -2.932      0.007      -0.047      -0.008\n",
      "Very_bad      -0.2289      0.100     -2.284      0.030      -0.434      -0.024\n",
      "Age_15-29     -0.0258      0.007     -3.870      0.001      -0.039      -0.012\n",
      "==============================================================================\n",
      "Omnibus:                        3.275   Durbin-Watson:                   2.356\n",
      "Prob(Omnibus):                  0.194   Jarque-Bera (JB):                2.968\n",
      "Skew:                          -0.701   Prob(JB):                        0.227\n",
      "Kurtosis:                       2.487   Cond. No.                         836.\n",
      "==============================================================================\n",
      "\n",
      "Notes:\n",
      "[1] Standard Errors assume that the covariance matrix of the errors is correctly specified.\n"
     ]
    },
    {
     "data": {
      "image/png": "[encoded data removed]",
      "text/plain": [
       "<Figure size 432x288 with 1 Axes>"
      ]
     },
     "metadata": {
      "needs_background": "light"
     },
     "output_type": "display_data"
    },
    {
     "name": "stdout",
     "output_type": "stream",
     "text": [
      "\n",
      "\n",
      "PERFORMING REGRESSION ON:HAPPINESS\n",
      "Dropping: Good\n",
      "Dropping: Age_15-29\n",
      "Dropping: percent_green\n",
      "Dropping: Age_0-15\n",
      "                            OLS Regression Results                            \n",
      "==============================================================================\n",
      "Dep. Variable:              Happiness   R-squared:                       0.543\n",
      "Model:                            OLS   Adj. R-squared:                  0.494\n",
      "Method:                 Least Squares   F-statistic:                     11.10\n",
      "Date:                Thu, 06 Jan 2022   Prob (F-statistic):           5.64e-05\n",
      "Time:                        22:45:25   Log-Likelihood:                 31.106\n",
      "No. Observations:                  32   AIC:                            -54.21\n",
      "Df Residuals:                      28   BIC:                            -48.35\n",
      "Df Model:                           3                                         \n",
      "Covariance Type:            nonrobust                                         \n",
      "====================================================================================\n",
      "                       coef    std err          t      P>|t|      [0.025      0.975]\n",
      "------------------------------------------------------------------------------------\n",
      "const                8.1802      0.224     36.567      0.000       7.722       8.638\n",
      "Very_bad            -0.3157      0.077     -4.115      0.000      -0.473      -0.159\n",
      "Age_30-44           -0.0311      0.009     -3.320      0.003      -0.050      -0.012\n",
      "log_PopExc2013 %     0.0928      0.019      4.851      0.000       0.054       0.132\n",
      "==============================================================================\n",
      "Omnibus:                        1.066   Durbin-Watson:                   2.084\n",
      "Prob(Omnibus):                  0.587   Jarque-Bera (JB):                1.004\n",
      "Skew:                           0.390   Prob(JB):                        0.605\n",
      "Kurtosis:                       2.621   Cond. No.                         336.\n",
      "==============================================================================\n",
      "\n",
      "Notes:\n",
      "[1] Standard Errors assume that the covariance matrix of the errors is correctly specified.\n"
     ]
    },
    {
     "data": {
      "image/png": "[encoded data removed]",
      "text/plain": [
       "<Figure size 432x288 with 1 Axes>"
      ]
     },
     "metadata": {
      "needs_background": "light"
     },
     "output_type": "display_data"
    },
    {
     "name": "stdout",
     "output_type": "stream",
     "text": [
      "\n",
      "\n"
     ]
    }
   ],
   "source": [
    "# Perform regression without removing outliers\n",
    "\n",
    "for cat in wellbeing_cols:\n",
    "    print(f'PERFORMING REGRESSION ON:{cat.upper()}')\n",
    "\n",
    "    # Perform regression\n",
    "    reg_model = back_regress(data[cat], ind_var_data)\n",
    "    #reg_model = sm.OLS(endog=data[cat], exog=sm.add_constant(ind_var_data)).fit()\n",
    "    print(reg_model.summary())\n",
    "\n",
    "    # plot residual vs. fit\n",
    "    plt.scatter(reg_model.fittedvalues, reg_model.resid)\n",
    "    plt.xlabel('Fitted Value')\n",
    "    plt.ylabel('Residual')\n",
    "    plt.title('Residual vs. Fitted Plot for ' + cat.title())\n",
    "    plt.show()\n",
    "    print('\\n')"
   ]
  },
  {
   "cell_type": "code",
   "execution_count": 27,
   "id": "a280c983",
   "metadata": {},
   "outputs": [
    {
     "name": "stdout",
     "output_type": "stream",
     "text": [
      "PERFORMING REGRESSION ON:LIFE SATISFACTION\n",
      "Outliers: ['Barking and Dagenham', 'Camden', 'Enfield', 'Hammersmith and Fulham', 'Islington', 'Kensington and Chelsea', 'Lambeth', 'Newham', 'Redbridge', 'Wandsworth', 'Westminster']\n",
      "Dropping: percent_green\n",
      "Dropping: Good\n",
      "Dropping: Very_bad\n",
      "Dropping: Age_30-44\n",
      "Dropping: log_PopExc2013 %\n",
      "                            OLS Regression Results                            \n",
      "==============================================================================\n",
      "Dep. Variable:      Life Satisfaction   R-squared:                       0.576\n",
      "Model:                            OLS   Adj. R-squared:                  0.529\n",
      "Method:                 Least Squares   F-statistic:                     12.25\n",
      "Date:                Thu, 06 Jan 2022   Prob (F-statistic):           0.000438\n",
      "Time:                        22:48:20   Log-Likelihood:                 17.812\n",
      "No. Observations:                  21   AIC:                            -29.62\n",
      "Df Residuals:                      18   BIC:                            -26.49\n",
      "Df Model:                           2                                         \n",
      "Covariance Type:            nonrobust                                         \n",
      "==============================================================================\n",
      "                 coef    std err          t      P>|t|      [0.025      0.975]\n",
      "------------------------------------------------------------------------------\n",
      "const          9.2045      0.583     15.775      0.000       7.979      10.430\n",
      "Age_0-15      -0.0680      0.028     -2.414      0.027      -0.127      -0.009\n",
      "Age_15-29     -0.0270      0.006     -4.285      0.000      -0.040      -0.014\n",
      "==============================================================================\n",
      "Omnibus:                        0.251   Durbin-Watson:                   1.669\n",
      "Prob(Omnibus):                  0.882   Jarque-Bera (JB):                0.439\n",
      "Skew:                          -0.088   Prob(JB):                        0.803\n",
      "Kurtosis:                       2.314   Cond. No.                         707.\n",
      "==============================================================================\n",
      "\n",
      "Notes:\n",
      "[1] Standard Errors assume that the covariance matrix of the errors is correctly specified.\n"
     ]
    },
    {
     "data": {
      "image/png": "[encoded data removed]",
      "text/plain": [
       "<Figure size 432x288 with 1 Axes>"
      ]
     },
     "metadata": {
      "needs_background": "light"
     },
     "output_type": "display_data"
    },
    {
     "name": "stdout",
     "output_type": "stream",
     "text": [
      "\n",
      "\n",
      "PERFORMING REGRESSION ON:WORTHWHILE\n",
      "Outliers: ['Barking and Dagenham', 'Camden', 'Enfield', 'Hammersmith and Fulham', 'Islington', 'Kensington and Chelsea', 'Lambeth', 'Newham', 'Redbridge', 'Wandsworth', 'Westminster']\n",
      "Dropping: percent_green\n",
      "Dropping: log_PopExc2013 %\n",
      "Dropping: Age_0-15\n",
      "Dropping: Age_15-29\n",
      "                            OLS Regression Results                            \n",
      "==============================================================================\n",
      "Dep. Variable:             Worthwhile   R-squared:                       0.689\n",
      "Model:                            OLS   Adj. R-squared:                  0.634\n",
      "Method:                 Least Squares   F-statistic:                     12.56\n",
      "Date:                Thu, 06 Jan 2022   Prob (F-statistic):           0.000142\n",
      "Time:                        22:48:20   Log-Likelihood:                 18.000\n",
      "No. Observations:                  21   AIC:                            -28.00\n",
      "Df Residuals:                      17   BIC:                            -23.82\n",
      "Df Model:                           3                                         \n",
      "Covariance Type:            nonrobust                                         \n",
      "==============================================================================\n",
      "                 coef    std err          t      P>|t|      [0.025      0.975]\n",
      "------------------------------------------------------------------------------\n",
      "const         10.5602      0.954     11.068      0.000       8.547      12.573\n",
      "Good          -0.0471      0.021     -2.246      0.038      -0.091      -0.003\n",
      "Very_bad      -0.4501      0.116     -3.893      0.001      -0.694      -0.206\n",
      "Age_30-44     -0.0372      0.015     -2.544      0.021      -0.068      -0.006\n",
      "==============================================================================\n",
      "Omnibus:                        0.756   Durbin-Watson:                   2.783\n",
      "Prob(Omnibus):                  0.685   Jarque-Bera (JB):                0.746\n",
      "Skew:                          -0.378   Prob(JB):                        0.689\n",
      "Kurtosis:                       2.470   Cond. No.                     1.61e+03\n",
      "==============================================================================\n",
      "\n",
      "Notes:\n",
      "[1] Standard Errors assume that the covariance matrix of the errors is correctly specified.\n",
      "[2] The condition number is large, 1.61e+03. This might indicate that there are\n",
      "strong multicollinearity or other numerical problems.\n"
     ]
    },
    {
     "data": {
      "image/png": "[encoded data removed]",
      "text/plain": [
       "<Figure size 432x288 with 1 Axes>"
      ]
     },
     "metadata": {
      "needs_background": "light"
     },
     "output_type": "display_data"
    },
    {
     "name": "stdout",
     "output_type": "stream",
     "text": [
      "\n",
      "\n",
      "PERFORMING REGRESSION ON:HAPPINESS\n",
      "Outliers: ['Barking and Dagenham', 'Camden', 'Enfield', 'Hammersmith and Fulham', 'Islington', 'Kensington and Chelsea', 'Lambeth', 'Newham', 'Redbridge', 'Wandsworth', 'Westminster']\n",
      "Dropping: Age_15-29\n",
      "Dropping: Very_bad\n",
      "Dropping: Age_0-15\n",
      "Dropping: Good\n",
      "                            OLS Regression Results                            \n",
      "==============================================================================\n",
      "Dep. Variable:              Happiness   R-squared:                       0.690\n",
      "Model:                            OLS   Adj. R-squared:                  0.635\n",
      "Method:                 Least Squares   F-statistic:                     12.60\n",
      "Date:                Thu, 06 Jan 2022   Prob (F-statistic):           0.000139\n",
      "Time:                        22:48:20   Log-Likelihood:                 26.989\n",
      "No. Observations:                  21   AIC:                            -45.98\n",
      "Df Residuals:                      17   BIC:                            -41.80\n",
      "Df Model:                           3                                         \n",
      "Covariance Type:            nonrobust                                         \n",
      "====================================================================================\n",
      "                       coef    std err          t      P>|t|      [0.025      0.975]\n",
      "------------------------------------------------------------------------------------\n",
      "const                7.4259      0.296     25.071      0.000       6.801       8.051\n",
      "percent_green        0.0067      0.002      3.159      0.006       0.002       0.011\n",
      "Age_30-44           -0.0272      0.010     -2.839      0.011      -0.047      -0.007\n",
      "log_PopExc2013 %     0.0658      0.018      3.737      0.002       0.029       0.103\n",
      "==============================================================================\n",
      "Omnibus:                       19.096   Durbin-Watson:                   2.214\n",
      "Prob(Omnibus):                  0.000   Jarque-Bera (JB):               23.317\n",
      "Skew:                           1.738   Prob(JB):                     8.65e-06\n",
      "Kurtosis:                       6.817   Cond. No.                     1.01e+03\n",
      "==============================================================================\n",
      "\n",
      "Notes:\n",
      "[1] Standard Errors assume that the covariance matrix of the errors is correctly specified.\n",
      "[2] The condition number is large, 1.01e+03. This might indicate that there are\n",
      "strong multicollinearity or other numerical problems.\n"
     ]
    },
    {
     "data": {
      "image/png": "[encoded data removed]",
      "text/plain": [
       "<Figure size 432x288 with 1 Axes>"
      ]
     },
     "metadata": {
      "needs_background": "light"
     },
     "output_type": "display_data"
    },
    {
     "name": "stdout",
     "output_type": "stream",
     "text": [
      "\n",
      "\n"
     ]
    }
   ],
   "source": [
    "# Perform regression with outliers removed\n",
    "\n",
    "for cat in wellbeing_cols:\n",
    "    print(f'PERFORMING REGRESSION ON:{cat.upper()}')\n",
    "\n",
    "    # Remove outliers first\n",
    "    ind_var = ind_var_data.columns.tolist()\n",
    "    df = data[['Area', cat]+ ind_var]\n",
    "    data_reout, outliers_area = re_outliers_paired(df, ([cat]+ ind_var))\n",
    "    print('Outliers:', format(outliers_area))\n",
    "\n",
    "    # Perform regression\n",
    "    reg_model = back_regress(data_reout[cat], data_reout[ind_var])\n",
    "    #reg_model = sm.OLS(endog=data_reout[cat], exog=sm.add_constant(data_reout[ind_var])).fit()\n",
    "    print(reg_model.summary())\n",
    "\n",
    "    # plot residual vs. fit\n",
    "    plt.scatter(reg_model.fittedvalues, reg_model.resid)\n",
    "    plt.xlabel('Fitted Value')\n",
    "    plt.ylabel('Residual')\n",
    "    plt.title('Residual vs. Fitted Plot for ' + cat.title())\n",
    "    plt.show()\n",
    "    print('\\n')"
   ]
  },
  {
   "cell_type": "code",
   "execution_count": null,
   "id": "1c5274c3",
   "metadata": {},
   "outputs": [],
   "source": []
  }
 ],
 "metadata": {
  "kernelspec": {
   "display_name": "Python 3 (ipykernel)",
   "language": "python",
   "name": "python3"
  },
  "language_info": {
   "codemirror_mode": {
    "name": "ipython",
    "version": 3
   },
   "file_extension": ".py",
   "mimetype": "text/x-python",
   "name": "python",
   "nbconvert_exporter": "python",
   "pygments_lexer": "ipython3",
   "version": "3.9.6"
  }
 },
 "nbformat": 4,
 "nbformat_minor": 5
}
