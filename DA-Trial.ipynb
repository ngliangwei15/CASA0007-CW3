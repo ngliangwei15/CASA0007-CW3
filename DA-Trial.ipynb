{
 "cells": [
  {
   "cell_type": "markdown",
   "id": "a4842315",
   "metadata": {},
   "source": [
    "# CASA0007 QM Coursework 3\n",
    "\n",
    "Focused analysis"
   ]
  },
  {
   "cell_type": "code",
   "execution_count": 1,
   "id": "49f87d04",
   "metadata": {},
   "outputs": [],
   "source": [
    "# Import library\n",
    "\n",
    "import numpy as np\n",
    "import pandas as pd\n",
    "import os\n",
    "import re\n",
    "import numpy as np\n",
    "import matplotlib.pyplot as plt\n",
    "from statsmodels.stats.outliers_influence import variance_inflation_factor \n",
    "from statsmodels.tools.tools import add_constant\n",
    "import statsmodels.api as sm\n",
    "from sklearn.linear_model import LinearRegression\n",
    "from math import log"
   ]
  },
  {
   "cell_type": "markdown",
   "id": "9451a969",
   "metadata": {},
   "source": [
    "## Regression 1: Wellbeing against NDVI"
   ]
  },
  {
   "cell_type": "markdown",
   "id": "ccdef60d",
   "metadata": {},
   "source": [
    "### Well-being scores\n",
    "\n",
    "I am using the data from 2011/12 as the available data on self-reported health and age are from 2011 census."
   ]
  },
  {
   "cell_type": "code",
   "execution_count": 2,
   "id": "f3d75935",
   "metadata": {},
   "outputs": [],
   "source": [
    "# Read well-being\n",
    "wellbeing = pd.read_excel(os.path.join(os.getcwd(), 'Data', 'personal-well-being-borough.xlsx'),\n",
    "                         sheet_name = 'Summary - Mean Scores', skiprows = 1)\n",
    "\n",
    "# Rename and keep useful columns\n",
    "wellbeing_cols = ['Life Satisfaction', 'Worthwhile', 'Happiness']\n",
    "year = '2011/12'\n",
    "wellbeing.rename({year: wellbeing_cols[0],\n",
    "                 year+'.1': wellbeing_cols[1],\n",
    "                 year+'.2': wellbeing_cols[2],\n",
    "                 year+'.3': 'Anxiety'},\n",
    "                axis = 1, inplace = True)\n",
    "wellbeing = wellbeing[['Code', 'Area'] + wellbeing_cols + ['Anxiety']]\n",
    "\n",
    "# Keep only data on London boroughs (Area Code starts with E09)\n",
    "wellbeing.dropna(axis = 0, inplace = True)\n",
    "wellbeing.drop(wellbeing[wellbeing.Area == \"City of London\"].index, inplace = True)\n",
    "wellbeing = wellbeing[wellbeing['Code'].str.match(r'E09')].sort_values(by = ['Code'], ascending=True)\n",
    "wellbeing = wellbeing.reset_index(drop = True)\n",
    "\n",
    "# Set data type\n",
    "wellbeing[wellbeing_cols + ['Anxiety']] = wellbeing[wellbeing_cols + ['Anxiety']].astype('float', copy = False)"
   ]
  },
  {
   "cell_type": "code",
   "execution_count": 3,
   "id": "19cf45d2",
   "metadata": {},
   "outputs": [
    {
     "data": {
      "image/png": "[encoded data removed]",
      "text/plain": [
       "<Figure size 432x432 with 1 Axes>"
      ]
     },
     "metadata": {
      "needs_background": "light"
     },
     "output_type": "display_data"
    }
   ],
   "source": [
    "# Box plot\n",
    "plt.figure(figsize=(6, 6))\n",
    "plt.title('Boxplot of Wellbeing Score')\n",
    "plt.xlabel('Wellbeing Category')\n",
    "plt.ylabel('Score')\n",
    "plt_wellbeing = wellbeing.boxplot(wellbeing_cols + ['Anxiety'], grid = False, rot = 30, widths = 0.5)"
   ]
  },
  {
   "cell_type": "markdown",
   "id": "955f4d07",
   "metadata": {},
   "source": [
    "Next, I will read in independent variables - NDVI, self-reported health, age and economic activity. Other variables added in to control for them, based on study done by ONS (these are those with at least moderate effect on well-being score) and availability of data.\n",
    "\n",
    "Self-reported health and age are from 2011 census, but NDVI is collected in 2019. An alternative is to look at the land use data, but there seems to be a data gap between 2005 and 2018. 2018 data is also not very suitable as urban greenery is not a category on its own - they may be subsumed under other land uses. Should be ok to use NDVI data from 2019, since green cover may not change very fast as part of the built environment (??).\n",
    "\n",
    "### NDVI"
   ]
  },
  {
   "cell_type": "code",
   "execution_count": 4,
   "id": "fc3f8d5b",
   "metadata": {},
   "outputs": [],
   "source": [
    "# Read NDVI\n",
    "ndvi_cols = ['lb_code', 'lb_name', 'percent_green']\n",
    "ndvi = pd.read_excel(os.path.join(os.getcwd(), 'Data', 'green_cover_borough_summary_0.05.xlsx'),\n",
    "                         sheet_name = 'borough_green_cover', usecols = ndvi_cols)\n",
    "\n",
    "# Drop City of London\n",
    "ndvi.drop(ndvi[ndvi.lb_code == 'City of London'].index, inplace = True)\n",
    "ndvi.sort_values(by = ['lb_name'], ascending=True)\n",
    "ndvi = ndvi.reset_index(drop = True)\n",
    "\n",
    "# Change name of 'City of Westminster' to Westminster\n",
    "ndvi.loc[ndvi[ndvi.lb_code == 'City of Westminster'].index, 'lb_code'] = 'Westminster'"
   ]
  },
  {
   "cell_type": "code",
   "execution_count": 5,
   "id": "bf9bfd60",
   "metadata": {},
   "outputs": [
    {
     "data": {
      "text/html": [
       "<div>\n",
       "<style scoped>\n",
       "    .dataframe tbody tr th:only-of-type {\n",
       "        vertical-align: middle;\n",
       "    }\n",
       "\n",
       "    .dataframe tbody tr th {\n",
       "        vertical-align: top;\n",
       "    }\n",
       "\n",
       "    .dataframe thead th {\n",
       "        text-align: right;\n",
       "    }\n",
       "</style>\n",
       "<table border=\"1\" class=\"dataframe\">\n",
       "  <thead>\n",
       "    <tr style=\"text-align: right;\">\n",
       "      <th></th>\n",
       "      <th>lb_code</th>\n",
       "      <th>lb_name</th>\n",
       "      <th>percent_green</th>\n",
       "    </tr>\n",
       "  </thead>\n",
       "  <tbody>\n",
       "    <tr>\n",
       "      <th>0</th>\n",
       "      <td>Barking and Dagenham</td>\n",
       "      <td>E09000002</td>\n",
       "      <td>39.201168</td>\n",
       "    </tr>\n",
       "    <tr>\n",
       "      <th>1</th>\n",
       "      <td>Barnet</td>\n",
       "      <td>E09000003</td>\n",
       "      <td>57.994299</td>\n",
       "    </tr>\n",
       "    <tr>\n",
       "      <th>2</th>\n",
       "      <td>Bexley</td>\n",
       "      <td>E09000004</td>\n",
       "      <td>42.918334</td>\n",
       "    </tr>\n",
       "    <tr>\n",
       "      <th>3</th>\n",
       "      <td>Brent</td>\n",
       "      <td>E09000005</td>\n",
       "      <td>39.936406</td>\n",
       "    </tr>\n",
       "    <tr>\n",
       "      <th>4</th>\n",
       "      <td>Bromley</td>\n",
       "      <td>E09000006</td>\n",
       "      <td>68.356138</td>\n",
       "    </tr>\n",
       "    <tr>\n",
       "      <th>5</th>\n",
       "      <td>Camden</td>\n",
       "      <td>E09000007</td>\n",
       "      <td>43.278949</td>\n",
       "    </tr>\n",
       "    <tr>\n",
       "      <th>6</th>\n",
       "      <td>Croydon</td>\n",
       "      <td>E09000008</td>\n",
       "      <td>55.527790</td>\n",
       "    </tr>\n",
       "    <tr>\n",
       "      <th>7</th>\n",
       "      <td>Ealing</td>\n",
       "      <td>E09000009</td>\n",
       "      <td>43.958704</td>\n",
       "    </tr>\n",
       "    <tr>\n",
       "      <th>8</th>\n",
       "      <td>Enfield</td>\n",
       "      <td>E09000010</td>\n",
       "      <td>52.952754</td>\n",
       "    </tr>\n",
       "    <tr>\n",
       "      <th>9</th>\n",
       "      <td>Greenwich</td>\n",
       "      <td>E09000011</td>\n",
       "      <td>43.219748</td>\n",
       "    </tr>\n",
       "    <tr>\n",
       "      <th>10</th>\n",
       "      <td>Hackney</td>\n",
       "      <td>E09000012</td>\n",
       "      <td>38.793030</td>\n",
       "    </tr>\n",
       "    <tr>\n",
       "      <th>11</th>\n",
       "      <td>Hammersmith and Fulham</td>\n",
       "      <td>E09000013</td>\n",
       "      <td>27.595121</td>\n",
       "    </tr>\n",
       "    <tr>\n",
       "      <th>12</th>\n",
       "      <td>Haringey</td>\n",
       "      <td>E09000014</td>\n",
       "      <td>43.545834</td>\n",
       "    </tr>\n",
       "    <tr>\n",
       "      <th>13</th>\n",
       "      <td>Harrow</td>\n",
       "      <td>E09000015</td>\n",
       "      <td>55.418726</td>\n",
       "    </tr>\n",
       "    <tr>\n",
       "      <th>14</th>\n",
       "      <td>Havering</td>\n",
       "      <td>E09000016</td>\n",
       "      <td>65.980651</td>\n",
       "    </tr>\n",
       "    <tr>\n",
       "      <th>15</th>\n",
       "      <td>Hillingdon</td>\n",
       "      <td>E09000017</td>\n",
       "      <td>54.596097</td>\n",
       "    </tr>\n",
       "    <tr>\n",
       "      <th>16</th>\n",
       "      <td>Hounslow</td>\n",
       "      <td>E09000018</td>\n",
       "      <td>47.313020</td>\n",
       "    </tr>\n",
       "    <tr>\n",
       "      <th>17</th>\n",
       "      <td>Islington</td>\n",
       "      <td>E09000019</td>\n",
       "      <td>34.875685</td>\n",
       "    </tr>\n",
       "    <tr>\n",
       "      <th>18</th>\n",
       "      <td>Kensington and Chelsea</td>\n",
       "      <td>E09000020</td>\n",
       "      <td>30.368157</td>\n",
       "    </tr>\n",
       "    <tr>\n",
       "      <th>19</th>\n",
       "      <td>Kingston upon Thames</td>\n",
       "      <td>E09000021</td>\n",
       "      <td>52.424867</td>\n",
       "    </tr>\n",
       "    <tr>\n",
       "      <th>20</th>\n",
       "      <td>Lambeth</td>\n",
       "      <td>E09000022</td>\n",
       "      <td>32.911124</td>\n",
       "    </tr>\n",
       "    <tr>\n",
       "      <th>21</th>\n",
       "      <td>Lewisham</td>\n",
       "      <td>E09000023</td>\n",
       "      <td>40.249960</td>\n",
       "    </tr>\n",
       "    <tr>\n",
       "      <th>22</th>\n",
       "      <td>Merton</td>\n",
       "      <td>E09000024</td>\n",
       "      <td>48.780888</td>\n",
       "    </tr>\n",
       "    <tr>\n",
       "      <th>23</th>\n",
       "      <td>Newham</td>\n",
       "      <td>E09000025</td>\n",
       "      <td>30.641327</td>\n",
       "    </tr>\n",
       "    <tr>\n",
       "      <th>24</th>\n",
       "      <td>Redbridge</td>\n",
       "      <td>E09000026</td>\n",
       "      <td>53.563235</td>\n",
       "    </tr>\n",
       "    <tr>\n",
       "      <th>25</th>\n",
       "      <td>Richmond upon Thames</td>\n",
       "      <td>E09000027</td>\n",
       "      <td>61.991302</td>\n",
       "    </tr>\n",
       "    <tr>\n",
       "      <th>26</th>\n",
       "      <td>Southwark</td>\n",
       "      <td>E09000028</td>\n",
       "      <td>37.665919</td>\n",
       "    </tr>\n",
       "    <tr>\n",
       "      <th>27</th>\n",
       "      <td>Sutton</td>\n",
       "      <td>E09000029</td>\n",
       "      <td>49.691710</td>\n",
       "    </tr>\n",
       "    <tr>\n",
       "      <th>28</th>\n",
       "      <td>Tower Hamlets</td>\n",
       "      <td>E09000030</td>\n",
       "      <td>25.381534</td>\n",
       "    </tr>\n",
       "    <tr>\n",
       "      <th>29</th>\n",
       "      <td>Waltham Forest</td>\n",
       "      <td>E09000031</td>\n",
       "      <td>44.355343</td>\n",
       "    </tr>\n",
       "    <tr>\n",
       "      <th>30</th>\n",
       "      <td>Wandsworth</td>\n",
       "      <td>E09000032</td>\n",
       "      <td>39.009269</td>\n",
       "    </tr>\n",
       "    <tr>\n",
       "      <th>31</th>\n",
       "      <td>Westminster</td>\n",
       "      <td>E09000033</td>\n",
       "      <td>31.197604</td>\n",
       "    </tr>\n",
       "  </tbody>\n",
       "</table>\n",
       "</div>"
      ],
      "text/plain": [
       "                   lb_code    lb_name  percent_green\n",
       "0     Barking and Dagenham  E09000002      39.201168\n",
       "1                   Barnet  E09000003      57.994299\n",
       "2                   Bexley  E09000004      42.918334\n",
       "3                    Brent  E09000005      39.936406\n",
       "4                  Bromley  E09000006      68.356138\n",
       "5                   Camden  E09000007      43.278949\n",
       "6                  Croydon  E09000008      55.527790\n",
       "7                   Ealing  E09000009      43.958704\n",
       "8                  Enfield  E09000010      52.952754\n",
       "9                Greenwich  E09000011      43.219748\n",
       "10                 Hackney  E09000012      38.793030\n",
       "11  Hammersmith and Fulham  E09000013      27.595121\n",
       "12                Haringey  E09000014      43.545834\n",
       "13                  Harrow  E09000015      55.418726\n",
       "14                Havering  E09000016      65.980651\n",
       "15              Hillingdon  E09000017      54.596097\n",
       "16                Hounslow  E09000018      47.313020\n",
       "17               Islington  E09000019      34.875685\n",
       "18  Kensington and Chelsea  E09000020      30.368157\n",
       "19    Kingston upon Thames  E09000021      52.424867\n",
       "20                 Lambeth  E09000022      32.911124\n",
       "21                Lewisham  E09000023      40.249960\n",
       "22                  Merton  E09000024      48.780888\n",
       "23                  Newham  E09000025      30.641327\n",
       "24               Redbridge  E09000026      53.563235\n",
       "25    Richmond upon Thames  E09000027      61.991302\n",
       "26               Southwark  E09000028      37.665919\n",
       "27                  Sutton  E09000029      49.691710\n",
       "28           Tower Hamlets  E09000030      25.381534\n",
       "29          Waltham Forest  E09000031      44.355343\n",
       "30              Wandsworth  E09000032      39.009269\n",
       "31             Westminster  E09000033      31.197604"
      ]
     },
     "execution_count": 5,
     "metadata": {},
     "output_type": "execute_result"
    }
   ],
   "source": [
    "ndvi"
   ]
  },
  {
   "cell_type": "code",
   "execution_count": 8,
   "id": "a2130ce3",
   "metadata": {},
   "outputs": [
    {
     "data": {
      "image/png": "[encoded data removed]",
      "text/plain": [
       "<Figure size 432x432 with 1 Axes>"
      ]
     },
     "metadata": {
      "needs_background": "light"
     },
     "output_type": "display_data"
    }
   ],
   "source": [
    "# Box plot\n",
    "plt.figure(figsize=(6, 6))\n",
    "plt.title('Boxplot of NDVI')\n",
    "plt.xlabel('NDVI')\n",
    "plt.ylabel('Percentage')\n",
    "plt_ndvi = ndvi.boxplot('percent_green', grid = False, rot = 30, widths = 0.5)"
   ]
  },
  {
   "cell_type": "markdown",
   "id": "1196f955",
   "metadata": {},
   "source": [
    "### Univariate regression\n",
    "\n",
    "I will now perform regression on well-being scores against NDVI only to see if there is any significant relationship."
   ]
  },
  {
   "cell_type": "code",
   "execution_count": 9,
   "id": "e6869dc5",
   "metadata": {},
   "outputs": [],
   "source": [
    "# Merge data\n",
    "data_uni = pd.merge(wellbeing[['Area'] + wellbeing_cols], ndvi[['lb_code','percent_green']], \n",
    "                    left_on = 'Area', right_on = 'lb_code').drop('lb_code', axis = 1)"
   ]
  },
  {
   "cell_type": "code",
   "execution_count": 10,
   "id": "afe88972",
   "metadata": {},
   "outputs": [
    {
     "name": "stdout",
     "output_type": "stream",
     "text": [
      "PERFORMING REGRESSION ON:LIFE SATISFACTION\n",
      "                            OLS Regression Results                            \n",
      "==============================================================================\n",
      "Dep. Variable:      Life Satisfaction   R-squared:                       0.163\n",
      "Model:                            OLS   Adj. R-squared:                  0.135\n",
      "Method:                 Least Squares   F-statistic:                     5.844\n",
      "Date:                Thu, 06 Jan 2022   Prob (F-statistic):             0.0219\n",
      "Time:                        20:46:44   Log-Likelihood:                 16.386\n",
      "No. Observations:                  32   AIC:                            -28.77\n",
      "Df Residuals:                      30   BIC:                            -25.84\n",
      "Df Model:                           1                                         \n",
      "Covariance Type:            nonrobust                                         \n",
      "=================================================================================\n",
      "                    coef    std err          t      P>|t|      [0.025      0.975]\n",
      "---------------------------------------------------------------------------------\n",
      "const             7.0866      0.076     93.577      0.000       6.932       7.241\n",
      "percent_green     0.0054      0.002      2.417      0.022       0.001       0.010\n",
      "==============================================================================\n",
      "Omnibus:                        2.100   Durbin-Watson:                   1.869\n",
      "Prob(Omnibus):                  0.350   Jarque-Bera (JB):                1.448\n",
      "Skew:                           0.521   Prob(JB):                        0.485\n",
      "Kurtosis:                       3.016   Cond. No.                         96.9\n",
      "==============================================================================\n",
      "\n",
      "Notes:\n",
      "[1] Standard Errors assume that the covariance matrix of the errors is correctly specified.\n"
     ]
    },
    {
     "data": {
      "image/png": "[encoded data removed]",
      "text/plain": [
       "<Figure size 432x288 with 1 Axes>"
      ]
     },
     "metadata": {
      "needs_background": "light"
     },
     "output_type": "display_data"
    },
    {
     "name": "stdout",
     "output_type": "stream",
     "text": [
      "\n",
      "\n",
      "PERFORMING REGRESSION ON:WORTHWHILE\n",
      "                            OLS Regression Results                            \n",
      "==============================================================================\n",
      "Dep. Variable:             Worthwhile   R-squared:                       0.357\n",
      "Model:                            OLS   Adj. R-squared:                  0.335\n",
      "Method:                 Least Squares   F-statistic:                     16.63\n",
      "Date:                Thu, 06 Jan 2022   Prob (F-statistic):           0.000308\n",
      "Time:                        20:46:45   Log-Likelihood:                 19.093\n",
      "No. Observations:                  32   AIC:                            -34.19\n",
      "Df Residuals:                      30   BIC:                            -31.25\n",
      "Df Model:                           1                                         \n",
      "Covariance Type:            nonrobust                                         \n",
      "=================================================================================\n",
      "                    coef    std err          t      P>|t|      [0.025      0.975]\n",
      "---------------------------------------------------------------------------------\n",
      "const             7.2495      0.070    104.176      0.000       7.107       7.392\n",
      "percent_green     0.0084      0.002      4.078      0.000       0.004       0.013\n",
      "==============================================================================\n",
      "Omnibus:                        0.303   Durbin-Watson:                   1.901\n",
      "Prob(Omnibus):                  0.859   Jarque-Bera (JB):                0.481\n",
      "Skew:                           0.142   Prob(JB):                        0.786\n",
      "Kurtosis:                       2.471   Cond. No.                         96.9\n",
      "==============================================================================\n",
      "\n",
      "Notes:\n",
      "[1] Standard Errors assume that the covariance matrix of the errors is correctly specified.\n"
     ]
    },
    {
     "data": {
      "image/png": "[encoded data removed]",
      "text/plain": [
       "<Figure size 432x288 with 1 Axes>"
      ]
     },
     "metadata": {
      "needs_background": "light"
     },
     "output_type": "display_data"
    },
    {
     "name": "stdout",
     "output_type": "stream",
     "text": [
      "\n",
      "\n",
      "PERFORMING REGRESSION ON:HAPPINESS\n",
      "                            OLS Regression Results                            \n",
      "==============================================================================\n",
      "Dep. Variable:              Happiness   R-squared:                       0.091\n",
      "Model:                            OLS   Adj. R-squared:                  0.061\n",
      "Method:                 Least Squares   F-statistic:                     3.005\n",
      "Date:                Thu, 06 Jan 2022   Prob (F-statistic):             0.0933\n",
      "Time:                        20:46:45   Log-Likelihood:                 20.094\n",
      "No. Observations:                  32   AIC:                            -36.19\n",
      "Df Residuals:                      30   BIC:                            -33.26\n",
      "Df Model:                           1                                         \n",
      "Covariance Type:            nonrobust                                         \n",
      "=================================================================================\n",
      "                    coef    std err          t      P>|t|      [0.025      0.975]\n",
      "---------------------------------------------------------------------------------\n",
      "const             7.0873      0.067    105.085      0.000       6.950       7.225\n",
      "percent_green     0.0035      0.002      1.734      0.093      -0.001       0.008\n",
      "==============================================================================\n",
      "Omnibus:                        1.668   Durbin-Watson:                   1.628\n",
      "Prob(Omnibus):                  0.434   Jarque-Bera (JB):                0.706\n",
      "Skew:                           0.291   Prob(JB):                        0.703\n",
      "Kurtosis:                       3.437   Cond. No.                         96.9\n",
      "==============================================================================\n",
      "\n",
      "Notes:\n",
      "[1] Standard Errors assume that the covariance matrix of the errors is correctly specified.\n"
     ]
    },
    {
     "data": {
      "image/png": "[encoded data removed]",
      "text/plain": [
       "<Figure size 432x288 with 1 Axes>"
      ]
     },
     "metadata": {
      "needs_background": "light"
     },
     "output_type": "display_data"
    },
    {
     "name": "stdout",
     "output_type": "stream",
     "text": [
      "\n",
      "\n"
     ]
    }
   ],
   "source": [
    "# Perform regression\n",
    "for cat in wellbeing_cols:\n",
    "    print(f'PERFORMING REGRESSION ON:{cat.upper()}')\n",
    "    \n",
    "    # Perform regression\n",
    "    reg_model = sm.OLS(endog=data_uni[cat], exog=sm.add_constant(data_uni.percent_green)).fit()\n",
    "    print(reg_model.summary())\n",
    "\n",
    "    # plot residual vs. fit\n",
    "    plt.scatter(reg_model.fittedvalues, reg_model.resid)\n",
    "    plt.xlabel('Fitted Value')\n",
    "    plt.ylabel('Residual')\n",
    "    plt.title('Residual vs. Fitted Plot for ' + cat.title())\n",
    "    plt.show()\n",
    "    print('\\n')"
   ]
  },
  {
   "cell_type": "markdown",
   "id": "49d18bec",
   "metadata": {},
   "source": [
    "At 5% significance level, life satisfaction and worthwhile have positive and significant relationship with NDVI. Happiness has no significant relationship with NDVI. Compare with lit - work done by Houlden et. al.\n",
    "\n",
    "Next, I will read in other variables that are known to have at least a moderate effect on well-being based on study done by ONS."
   ]
  },
  {
   "cell_type": "markdown",
   "id": "0f831005",
   "metadata": {},
   "source": [
    "### Age and health"
   ]
  },
  {
   "cell_type": "code",
   "execution_count": 11,
   "id": "40a0ceb7",
   "metadata": {},
   "outputs": [],
   "source": [
    "# Read self-reported health and age profile\n",
    "age_cols = ['Age Structure (2011 Census);0-15;',\n",
    "            'Age Structure (2011 Census);16-29;',\n",
    "            'Age Structure (2011 Census);30-44;',\n",
    "            'Age Structure (2011 Census);45-64;',\n",
    "            'Age Structure (2011 Census);65+;']\n",
    "health_cols = ['Health (2011 Census);Very good health;',\n",
    "              'Health (2011 Census);Good health;',\n",
    "              'Health (2011 Census);Fair health;',\n",
    "              'Health (2011 Census);Bad health;',\n",
    "              'Health (2011 Census);Very bad health;']\n",
    "age_health = pd.read_csv(os.path.join(os.getcwd(), 'Data', 'msoa-data.csv'),\n",
    "                         usecols = ['Middle Super Output Area', 'MSOA Name',\n",
    "                                    'Age Structure (2011 Census);All Ages;'] + age_cols + health_cols, \n",
    "                         low_memory = False, encoding = 'latin')\n",
    "\n",
    "# Drop row on average for London and City of London\n",
    "age_health.dropna(axis = 0, inplace = True)\n",
    "age_health.drop(age_health[age_health['MSOA Name'] == 'City of London 001'].index, inplace = True)\n",
    "age_health.reset_index(inplace = True)\n",
    "\n",
    "# Change data type\n",
    "age_health[age_cols] = age_health[age_cols].astype('int', copy = False)\n",
    "age_health[health_cols] = age_health[health_cols].astype('int', copy = False)\n",
    "\n",
    "# Drop numbers (last 4 characters) from MSOA name\n",
    "for i in range(0, age_health.shape[0]):\n",
    "               age_health.iloc[i,2] = age_health.iloc[i,2][:-4]\n",
    "\n",
    "# Compute total number of respondents in MSOA\n",
    "respondents = age_health.groupby('MSOA Name').agg({'Age Structure (2011 Census);All Ages;': np.sum}).reset_index()\n",
    "\n",
    "# Compute number and percentage of respondents in each age group\n",
    "age = age_health.groupby('MSOA Name').agg(dict.fromkeys(age_cols, np.sum)).reset_index()\n",
    "age[age_cols] = age[age_cols].div(respondents['Age Structure (2011 Census);All Ages;'], axis = 0) * 100\n",
    "\n",
    "# Compute number and percentage of respondents in each health category\n",
    "health = age_health.groupby('MSOA Name').agg(dict.fromkeys(health_cols, np.sum)).reset_index()\n",
    "health[health_cols] = health[health_cols].div(respondents['Age Structure (2011 Census);All Ages;'], axis = 0) * 100\n",
    "\n",
    "# Rename columns for easy reference\n",
    "age.rename({age_cols[0]: 'Age_0-15',\n",
    "           age_cols[1]: 'Age_15-29',\n",
    "           age_cols[2]: 'Age_30-44',\n",
    "           age_cols[3]: 'Age_45-64',\n",
    "           age_cols[4]: 'Age_65+'},\n",
    "          axis = 1, inplace = True)\n",
    "health.rename({health_cols[0]: 'Very_good',\n",
    "               health_cols[1]: 'Good',\n",
    "               health_cols[2]: 'Fair',\n",
    "               health_cols[3]: 'Bad',\n",
    "               health_cols[4]: 'Very_bad'},\n",
    "              axis = 1, inplace = True)"
   ]
  },
  {
   "cell_type": "code",
   "execution_count": 12,
   "id": "9d40073b",
   "metadata": {},
   "outputs": [
    {
     "data": {
      "image/png": "[encoded data removed]",
      "text/plain": [
       "<Figure size 432x432 with 1 Axes>"
      ]
     },
     "metadata": {
      "needs_background": "light"
     },
     "output_type": "display_data"
    }
   ],
   "source": [
    "# Box plot\n",
    "plt.figure(figsize=(6, 6))\n",
    "plt.title('Boxplot of Age')\n",
    "plt.xlabel('Age Group')\n",
    "plt.ylabel('Percentage')\n",
    "plt_age = age.boxplot(['Age_0-15', 'Age_15-29', 'Age_30-44', 'Age_45-64', 'Age_65+'], \n",
    "                       grid = False, rot = 30, widths = 0.5)"
   ]
  },
  {
   "cell_type": "code",
   "execution_count": 13,
   "id": "82d95a12",
   "metadata": {},
   "outputs": [
    {
     "data": {
      "image/png": "[encoded data removed]",
      "text/plain": [
       "<Figure size 432x432 with 1 Axes>"
      ]
     },
     "metadata": {
      "needs_background": "light"
     },
     "output_type": "display_data"
    }
   ],
   "source": [
    "# Box plot\n",
    "plt.figure(figsize=(6, 6))\n",
    "plt.title('Boxplot of Self-Reported Health')\n",
    "plt.xlabel('Self-Reported Health')\n",
    "plt.ylabel('Percentage')\n",
    "plt_health = health.boxplot(['Very_good', 'Good', 'Fair', 'Bad', 'Very_bad'], \n",
    "                            grid = False, rot = 30, widths = 0.5)"
   ]
  },
  {
   "cell_type": "markdown",
   "id": "bed74062",
   "metadata": {},
   "source": [
    "### Economic activity"
   ]
  },
  {
   "cell_type": "code",
   "execution_count": 14,
   "id": "9c66118a",
   "metadata": {},
   "outputs": [],
   "source": [
    "# Read economic inactivity and rename columns for easy reference\n",
    "econ_cols = ['Code', 'Area', 'percent; Jan 2011-Dec 2011']\n",
    "economic = pd.read_csv(os.path.join(os.getcwd(), 'Data', 'economic-inactivity.csv'),\n",
    "                         usecols = econ_cols, \n",
    "                         low_memory = False, encoding = 'latin')\n",
    "economic.rename({econ_cols[2]: 'Econ_inactive'}, axis = 1, inplace = True)\n",
    "\n",
    "# Keep only data on London boroughs (Area Code starts with E09), drop City of London and change data type\n",
    "economic.dropna(axis = 0, inplace = True)\n",
    "economic = economic[economic['Code'].str.match(r'E09')].sort_values(by = ['Code'], ascending=True)\n",
    "economic.drop(economic[economic.Area == 'City of London'].index, inplace = True)\n",
    "economic = economic.reset_index(drop = True)\n",
    "\n",
    "# Change data type\n",
    "economic.Econ_inactive = economic.Econ_inactive.astype('float', copy = False)"
   ]
  },
  {
   "cell_type": "code",
   "execution_count": 15,
   "id": "a80eaf91",
   "metadata": {},
   "outputs": [],
   "source": [
    "# Read unemployment rate\n",
    "unemployment_cols = ['Code', 'Area', 'Jan 2011-Dec 2011']\n",
    "unemployment = pd.read_excel(os.path.join(os.getcwd(), 'Data', 'mb-unemployment-rates.xlsx'), \n",
    "                             usecols = unemployment_cols, sheet_name = 'Rates')\n",
    "\n",
    "# Keep only data on London boroughs (Area Code starts with E09), drop City of London and change data type\n",
    "unemployment.dropna(axis = 0, inplace = True)\n",
    "unemployment = unemployment[unemployment['Code'].str.match(r'E09')].sort_values(by = ['Code'], ascending=True)\n",
    "unemployment.drop(unemployment[unemployment.Area == 'City of London'].index, inplace = True)\n",
    "unemployment = unemployment.reset_index(drop = True)\n",
    "\n",
    "# Change data type\n",
    "unemployment['Jan 2011-Dec 2011'] = unemployment['Jan 2011-Dec 2011'].astype('float', copy = False)"
   ]
  },
  {
   "cell_type": "code",
   "execution_count": 16,
   "id": "2105b84d",
   "metadata": {},
   "outputs": [],
   "source": [
    "# Compute unemployment rate among economically active\n",
    "economic['Unemployed'] = ((100 - economic.Econ_inactive)/100) * (unemployment['Jan 2011-Dec 2011']/100) * 100\n",
    "\n",
    "# Compute employment rate among economically active\n",
    "economic['Employed'] = 100 - economic.Econ_inactive - economic.Unemployed"
   ]
  },
  {
   "cell_type": "code",
   "execution_count": 17,
   "id": "2b23e988",
   "metadata": {},
   "outputs": [
    {
     "data": {
      "image/png": "[encoded data removed]",
      "text/plain": [
       "<Figure size 432x432 with 1 Axes>"
      ]
     },
     "metadata": {
      "needs_background": "light"
     },
     "output_type": "display_data"
    }
   ],
   "source": [
    "# Box plot\n",
    "plt.figure(figsize=(6, 6))\n",
    "plt.title('Boxplot of Economic Activity')\n",
    "plt.xlabel('Economic Activity')\n",
    "plt.ylabel('Percentage')\n",
    "plt_economic = economic.boxplot(['Econ_inactive', 'Unemployed', 'Employed'], \n",
    "                                grid = False, rot = 30, widths = 0.5)"
   ]
  },
  {
   "cell_type": "markdown",
   "id": "ea8f36ec",
   "metadata": {},
   "source": [
    "### Multi-variate regression"
   ]
  },
  {
   "cell_type": "code",
   "execution_count": 18,
   "id": "8b8fb166",
   "metadata": {},
   "outputs": [],
   "source": [
    "# Merge all variables into a dataframe\n",
    "data = data_uni.merge(health, left_on = 'Area', right_on = 'MSOA Name').drop('MSOA Name', axis = 1)\n",
    "data = data.merge(age, left_on = 'Area', right_on = 'MSOA Name').drop('MSOA Name', axis = 1)\n",
    "data = data.merge(economic[['Area','Econ_inactive','Unemployed','Employed']], on = 'Area')"
   ]
  },
  {
   "cell_type": "markdown",
   "id": "0017486b",
   "metadata": {},
   "source": [
    "Check for collinearity first"
   ]
  },
  {
   "cell_type": "code",
   "execution_count": 19,
   "id": "dee74d41",
   "metadata": {},
   "outputs": [],
   "source": [
    "# Define function to drop variables using VIF\n",
    "# This function is adjusted from: https://stackoverflow.com/a/51329496/4667568\n",
    "\n",
    "def drop_column_using_vif_(df, thresh=5):\n",
    "    '''\n",
    "    Calculates VIF each feature in a pandas dataframe, and repeatedly drop the columns with the highest VIF\n",
    "    A constant must be added to variance_inflation_factor or the results will be incorrect\n",
    "\n",
    "    :param df: the pandas dataframe containing only the predictor features, not the response variable\n",
    "    :param thresh: (default 5) the threshould VIF value. If the VIF of a variable is greater than thresh, it should be removed from the dataframe\n",
    "    :return: dataframe with multicollinear features removed\n",
    "    '''\n",
    "    while True:\n",
    "        # adding a constatnt item to the data\n",
    "        df_with_const = add_constant(df)\n",
    "\n",
    "        vif_df = pd.Series([variance_inflation_factor(df_with_const.values, i) \n",
    "               for i in range(df_with_const.shape[1])], name= \"VIF\",\n",
    "              index=df_with_const.columns).to_frame()\n",
    "\n",
    "        # drop the const\n",
    "        vif_df = vif_df.drop('const')\n",
    "        \n",
    "        # if the largest VIF is above the thresh, remove a variable with the largest VIF\n",
    "        # If there are multiple variabels with VIF>thresh, only one of them is removed. This is because we want to keep as many variables as possible\n",
    "        if vif_df.VIF.max() > thresh:\n",
    "            # If there are multiple variables with the maximum VIF, choose the first one\n",
    "            index_to_drop = vif_df.index[vif_df.VIF == vif_df.VIF.max()].tolist()[0]\n",
    "            print('Dropping: {}'.format(index_to_drop))\n",
    "            df = df.drop(columns = index_to_drop)\n",
    "        else:\n",
    "            # No VIF is above threshold. Exit the loop\n",
    "            break\n",
    "\n",
    "    return df"
   ]
  },
  {
   "cell_type": "code",
   "execution_count": 20,
   "id": "0655d66b",
   "metadata": {},
   "outputs": [
    {
     "name": "stdout",
     "output_type": "stream",
     "text": [
      "Dropping: Very_good\n",
      "Dropping: Age_0-15\n",
      "Dropping: Econ_inactive\n",
      "Dropping: Bad\n",
      "Dropping: Age_65+\n",
      "Dropping: Fair\n",
      "Dropping: Age_45-64\n",
      "Dropping: Age_30-44\n"
     ]
    },
    {
     "name": "stderr",
     "output_type": "stream",
     "text": [
      "/opt/conda/envs/sds2021/lib/python3.9/site-packages/statsmodels/regression/linear_model.py:1738: RuntimeWarning: divide by zero encountered in double_scalars\n",
      "  return 1 - self.ssr/self.centered_tss\n",
      "/opt/conda/envs/sds2021/lib/python3.9/site-packages/statsmodels/stats/outliers_influence.py:195: RuntimeWarning: divide by zero encountered in double_scalars\n",
      "  vif = 1. / (1. - r_squared_i)\n"
     ]
    }
   ],
   "source": [
    "# Drop collinear independent variables\n",
    "ind_var_data = drop_column_using_vif_(data.drop(['Area'] + wellbeing_cols, axis=1))"
   ]
  },
  {
   "cell_type": "markdown",
   "id": "cc65f5f6",
   "metadata": {},
   "source": [
    "Define functions to remove outliers"
   ]
  },
  {
   "cell_type": "code",
   "execution_count": 21,
   "id": "63c24d31",
   "metadata": {},
   "outputs": [],
   "source": [
    "# Define function to extract outliers based on Tukey fences\n",
    "\n",
    "def re_outliers(df, col_name):\n",
    "\n",
    "    '''\n",
    "    Remove the outliers from dataframe based on Tukey fences\n",
    "\n",
    "    :param df: the pandas dataframe\n",
    "    :param col_name: the column being checked for outliers\n",
    "    :return: (1) dataframe with outliers removed, and (2) outliers [area] that have been removed\n",
    "    '''\n",
    "\n",
    "    # Initialize\n",
    "    df_clean = df\n",
    "    outliers_areas = []\n",
    "    temp_areas = []\n",
    "\n",
    "    while True:\n",
    "    \n",
    "        # Compute quartiles and IQR\n",
    "        q1 = df_clean[col_name].quantile(0.25)\n",
    "        q3 = df_clean[col_name].quantile(0.75)\n",
    "        iqr = q3 - q1\n",
    "        # Compute Tukey fences\n",
    "        lo_tukey = q1 - 1.5*iqr\n",
    "        hi_tukey = q3 + 1.5*iqr\n",
    "    \n",
    "        # Locate the rows and areas that are outside the Tukey fences\n",
    "        outliers_rows = df_clean.index[(df_clean[col_name] < lo_tukey) | (df_clean[col_name] > hi_tukey)]\n",
    "        \n",
    "        if len(outliers_rows) > 0:\n",
    "            temp_areas = df_clean['Area'][outliers_rows].values.tolist()\n",
    "            outliers_areas = list(set(outliers_areas + temp_areas))\n",
    "            df_clean = df_clean.drop(index = outliers_rows)\n",
    "        else:\n",
    "            break\n",
    "    \n",
    "    # Return both cleaned df and outlier areas\n",
    "    return df_clean, sorted(outliers_areas)"
   ]
  },
  {
   "cell_type": "code",
   "execution_count": 22,
   "id": "aaaa8235",
   "metadata": {},
   "outputs": [],
   "source": [
    "# Define function to remove outliers in paired samples\n",
    "\n",
    "def re_outliers_paired(df, col_name):\n",
    "\n",
    "    '''\n",
    "    Remove the outliers from dataframe based on Tukey fences in paired fashion for multiple columns\n",
    "\n",
    "    :param df: the pandas dataframe\n",
    "    :param col_name: the list of column(s) being checked for outliers\n",
    "    :return: (1) dataframe with outliers removed, and (2) outliers [local authority area] that have been removed\n",
    "    '''\n",
    "    # initialize list to hold outlier areas\n",
    "    outliers_area = []\n",
    "    \n",
    "    # For each column\n",
    "    for col in col_name:\n",
    "        # get outliers for the column\n",
    "        temp_df, temp_outliers = re_outliers(df, col)\n",
    "        # find all unique areas\n",
    "        outliers_area = list(set(outliers_area + temp_outliers))\n",
    "    \n",
    "    outliers_area = sorted(outliers_area)\n",
    "    \n",
    "    # For all outlier areas\n",
    "    df_clean = df\n",
    "    for i in outliers_area:\n",
    "        # Drop from df\n",
    "        df_clean = df_clean.drop(df.index[df['Area'] == i])\n",
    "    \n",
    "    return df_clean, outliers_area"
   ]
  },
  {
   "cell_type": "markdown",
   "id": "61976a1a",
   "metadata": {},
   "source": [
    "Perform regression"
   ]
  },
  {
   "cell_type": "code",
   "execution_count": 23,
   "id": "6a74a0c3",
   "metadata": {},
   "outputs": [],
   "source": [
    "# Define function to perform backwards regression using p-value as selection criterion\n",
    "\n",
    "def back_regress(df_dep, df_ind, thresh=0.05):\n",
    "    '''\n",
    "    Performs regression with backwards selection of variables using AIC as selection criterion.\n",
    "\n",
    "    :param df_dep, df_ind: the pandas dataframe containing dependent variable and indepdendent variables respectively.\n",
    "    :return: the final regression model\n",
    "    '''    \n",
    "    \n",
    "    # Initialize index_to_drop\n",
    "    index_to_drop = []\n",
    "    \n",
    "    while True:\n",
    "        # Get variables\n",
    "        var = df_ind.columns.values.tolist()\n",
    "        \n",
    "        # Perform regressions\n",
    "        if index_to_drop == 'const':\n",
    "            reg_model = sm.OLS(endog=df_dep, exog=df_ind).fit()\n",
    "        else:\n",
    "            reg_model = sm.OLS(endog=df_dep, exog=sm.add_constant(df_ind)).fit()\n",
    "        \n",
    "        # Find p-values for all variables\n",
    "        df_pval = reg_model.pvalues\n",
    "        #df_pval = pd.Series([reg_model.pvalues[i] for i in var], name='pvalue', index = var).to_frame()\n",
    "        \n",
    "        # If best (lowest) new AIC is lower than the current best, remove variable that improves AIC the most\n",
    "        if df_pval.max() > thresh:\n",
    "            # If there are multiple variables with best new AIC, choose the first one\n",
    "            index_to_drop = df_pval.index[df_pval == df_pval.max()].tolist()[0]\n",
    "            print('Dropping: {}'.format(index_to_drop))\n",
    "            # Drop variable from df_ind\n",
    "            if index_to_drop != 'const':\n",
    "                df_ind = df_ind.drop(columns = index_to_drop)\n",
    "        else:\n",
    "            break\n",
    "            \n",
    "    # Perform regression with final set of variables\n",
    "    if index_to_drop == 'const':\n",
    "        reg_model = sm.OLS(endog=df_dep, exog=df_ind).fit()\n",
    "    else:\n",
    "        reg_model = sm.OLS(endog=df_dep, exog=sm.add_constant(df_ind)).fit()\n",
    "    \n",
    "    return reg_model"
   ]
  },
  {
   "cell_type": "code",
   "execution_count": 24,
   "id": "938b72d6",
   "metadata": {},
   "outputs": [
    {
     "name": "stdout",
     "output_type": "stream",
     "text": [
      "PERFORMING REGRESSION ON:LIFE SATISFACTION\n",
      "                            OLS Regression Results                            \n",
      "==============================================================================\n",
      "Dep. Variable:      Life Satisfaction   R-squared:                       0.694\n",
      "Model:                            OLS   Adj. R-squared:                  0.620\n",
      "Method:                 Least Squares   F-statistic:                     9.434\n",
      "Date:                Thu, 06 Jan 2022   Prob (F-statistic):           1.90e-05\n",
      "Time:                        20:46:49   Log-Likelihood:                 32.466\n",
      "No. Observations:                  32   AIC:                            -50.93\n",
      "Df Residuals:                      25   BIC:                            -40.67\n",
      "Df Model:                           6                                         \n",
      "Covariance Type:            nonrobust                                         \n",
      "=================================================================================\n",
      "                    coef    std err          t      P>|t|      [0.025      0.975]\n",
      "---------------------------------------------------------------------------------\n",
      "const             8.8572      0.592     14.952      0.000       7.637      10.077\n",
      "percent_green     0.0035      0.002      1.408      0.171      -0.002       0.009\n",
      "Good             -0.0210      0.012     -1.697      0.102      -0.047       0.004\n",
      "Very_bad         -0.1913      0.128     -1.497      0.147      -0.454       0.072\n",
      "Age_15-29        -0.0028      0.008     -0.352      0.728      -0.019       0.013\n",
      "Unemployed       -0.0517      0.019     -2.664      0.013      -0.092      -0.012\n",
      "Employed         -0.0053      0.005     -1.027      0.314      -0.016       0.005\n",
      "==============================================================================\n",
      "Omnibus:                        1.839   Durbin-Watson:                   2.079\n",
      "Prob(Omnibus):                  0.399   Jarque-Bera (JB):                1.575\n",
      "Skew:                          -0.523   Prob(JB):                        0.455\n",
      "Kurtosis:                       2.702   Cond. No.                     2.89e+03\n",
      "==============================================================================\n",
      "\n",
      "Notes:\n",
      "[1] Standard Errors assume that the covariance matrix of the errors is correctly specified.\n",
      "[2] The condition number is large, 2.89e+03. This might indicate that there are\n",
      "strong multicollinearity or other numerical problems.\n"
     ]
    },
    {
     "data": {
      "image/png": "[encoded data removed]",
      "text/plain": [
       "<Figure size 432x288 with 1 Axes>"
      ]
     },
     "metadata": {
      "needs_background": "light"
     },
     "output_type": "display_data"
    },
    {
     "name": "stdout",
     "output_type": "stream",
     "text": [
      "\n",
      "\n",
      "PERFORMING REGRESSION ON:WORTHWHILE\n",
      "                            OLS Regression Results                            \n",
      "==============================================================================\n",
      "Dep. Variable:             Worthwhile   R-squared:                       0.704\n",
      "Model:                            OLS   Adj. R-squared:                  0.633\n",
      "Method:                 Least Squares   F-statistic:                     9.906\n",
      "Date:                Thu, 06 Jan 2022   Prob (F-statistic):           1.27e-05\n",
      "Time:                        20:46:49   Log-Likelihood:                 31.510\n",
      "No. Observations:                  32   AIC:                            -49.02\n",
      "Df Residuals:                      25   BIC:                            -38.76\n",
      "Df Model:                           6                                         \n",
      "Covariance Type:            nonrobust                                         \n",
      "=================================================================================\n",
      "                    coef    std err          t      P>|t|      [0.025      0.975]\n",
      "---------------------------------------------------------------------------------\n",
      "const             9.3640      0.610     15.342      0.000       8.107      10.621\n",
      "percent_green     0.0041      0.003      1.582      0.126      -0.001       0.009\n",
      "Good             -0.0337      0.013     -2.634      0.014      -0.060      -0.007\n",
      "Very_bad         -0.2281      0.132     -1.733      0.095      -0.499       0.043\n",
      "Age_15-29        -0.0196      0.008     -2.414      0.023      -0.036      -0.003\n",
      "Unemployed        0.0013      0.020      0.064      0.950      -0.040       0.042\n",
      "Employed         -0.0022      0.005     -0.414      0.682      -0.013       0.009\n",
      "==============================================================================\n",
      "Omnibus:                        2.819   Durbin-Watson:                   2.312\n",
      "Prob(Omnibus):                  0.244   Jarque-Bera (JB):                2.475\n",
      "Skew:                          -0.659   Prob(JB):                        0.290\n",
      "Kurtosis:                       2.656   Cond. No.                     2.89e+03\n",
      "==============================================================================\n",
      "\n",
      "Notes:\n",
      "[1] Standard Errors assume that the covariance matrix of the errors is correctly specified.\n",
      "[2] The condition number is large, 2.89e+03. This might indicate that there are\n",
      "strong multicollinearity or other numerical problems.\n"
     ]
    },
    {
     "data": {
      "image/png": "[encoded data removed]",
      "text/plain": [
       "<Figure size 432x288 with 1 Axes>"
      ]
     },
     "metadata": {
      "needs_background": "light"
     },
     "output_type": "display_data"
    },
    {
     "name": "stdout",
     "output_type": "stream",
     "text": [
      "\n",
      "\n",
      "PERFORMING REGRESSION ON:HAPPINESS\n",
      "                            OLS Regression Results                            \n",
      "==============================================================================\n",
      "Dep. Variable:              Happiness   R-squared:                       0.398\n",
      "Model:                            OLS   Adj. R-squared:                  0.253\n",
      "Method:                 Least Squares   F-statistic:                     2.754\n",
      "Date:                Thu, 06 Jan 2022   Prob (F-statistic):             0.0340\n",
      "Time:                        20:46:49   Log-Likelihood:                 26.686\n",
      "No. Observations:                  32   AIC:                            -39.37\n",
      "Df Residuals:                      25   BIC:                            -29.11\n",
      "Df Model:                           6                                         \n",
      "Covariance Type:            nonrobust                                         \n",
      "=================================================================================\n",
      "                    coef    std err          t      P>|t|      [0.025      0.975]\n",
      "---------------------------------------------------------------------------------\n",
      "const             7.7513      0.710     10.923      0.000       6.290       9.213\n",
      "percent_green     0.0034      0.003      1.156      0.258      -0.003       0.010\n",
      "Good             -0.0018      0.015     -0.122      0.904      -0.032       0.029\n",
      "Very_bad         -0.0443      0.153     -0.289      0.775      -0.359       0.271\n",
      "Age_15-29         0.0055      0.009      0.586      0.563      -0.014       0.025\n",
      "Unemployed       -0.0550      0.023     -2.367      0.026      -0.103      -0.007\n",
      "Employed         -0.0043      0.006     -0.703      0.489      -0.017       0.008\n",
      "==============================================================================\n",
      "Omnibus:                        0.214   Durbin-Watson:                   2.551\n",
      "Prob(Omnibus):                  0.899   Jarque-Bera (JB):                0.008\n",
      "Skew:                           0.035   Prob(JB):                        0.996\n",
      "Kurtosis:                       2.966   Cond. No.                     2.89e+03\n",
      "==============================================================================\n",
      "\n",
      "Notes:\n",
      "[1] Standard Errors assume that the covariance matrix of the errors is correctly specified.\n",
      "[2] The condition number is large, 2.89e+03. This might indicate that there are\n",
      "strong multicollinearity or other numerical problems.\n"
     ]
    },
    {
     "data": {
      "image/png": "[encoded data removed]",
      "text/plain": [
       "<Figure size 432x288 with 1 Axes>"
      ]
     },
     "metadata": {
      "needs_background": "light"
     },
     "output_type": "display_data"
    },
    {
     "name": "stdout",
     "output_type": "stream",
     "text": [
      "\n",
      "\n"
     ]
    }
   ],
   "source": [
    "# Perform regression without removing outliers\n",
    "\n",
    "for cat in wellbeing_cols:\n",
    "    print(f'PERFORMING REGRESSION ON:{cat.upper()}')\n",
    "\n",
    "    # Perform regression\n",
    "    #reg_model = back_regress(data[cat], ind_var_data)\n",
    "    reg_model = sm.OLS(endog=data[cat], exog=sm.add_constant(ind_var_data)).fit()\n",
    "    print(reg_model.summary())\n",
    "\n",
    "    # plot residual vs. fit\n",
    "    plt.scatter(reg_model.fittedvalues, reg_model.resid)\n",
    "    plt.xlabel('Fitted Value')\n",
    "    plt.ylabel('Residual')\n",
    "    plt.title('Residual vs. Fitted Plot for ' + cat.title())\n",
    "    plt.show()\n",
    "    print('\\n')"
   ]
  },
  {
   "cell_type": "code",
   "execution_count": 25,
   "id": "9833f08b",
   "metadata": {},
   "outputs": [
    {
     "name": "stdout",
     "output_type": "stream",
     "text": [
      "PERFORMING REGRESSION ON:LIFE SATISFACTION\n",
      "Outliers: []\n",
      "                            OLS Regression Results                            \n",
      "==============================================================================\n",
      "Dep. Variable:      Life Satisfaction   R-squared:                       0.694\n",
      "Model:                            OLS   Adj. R-squared:                  0.620\n",
      "Method:                 Least Squares   F-statistic:                     9.434\n",
      "Date:                Thu, 06 Jan 2022   Prob (F-statistic):           1.90e-05\n",
      "Time:                        20:46:49   Log-Likelihood:                 32.466\n",
      "No. Observations:                  32   AIC:                            -50.93\n",
      "Df Residuals:                      25   BIC:                            -40.67\n",
      "Df Model:                           6                                         \n",
      "Covariance Type:            nonrobust                                         \n",
      "=================================================================================\n",
      "                    coef    std err          t      P>|t|      [0.025      0.975]\n",
      "---------------------------------------------------------------------------------\n",
      "const             8.8572      0.592     14.952      0.000       7.637      10.077\n",
      "percent_green     0.0035      0.002      1.408      0.171      -0.002       0.009\n",
      "Good             -0.0210      0.012     -1.697      0.102      -0.047       0.004\n",
      "Very_bad         -0.1913      0.128     -1.497      0.147      -0.454       0.072\n",
      "Age_15-29        -0.0028      0.008     -0.352      0.728      -0.019       0.013\n",
      "Unemployed       -0.0517      0.019     -2.664      0.013      -0.092      -0.012\n",
      "Employed         -0.0053      0.005     -1.027      0.314      -0.016       0.005\n",
      "==============================================================================\n",
      "Omnibus:                        1.839   Durbin-Watson:                   2.079\n",
      "Prob(Omnibus):                  0.399   Jarque-Bera (JB):                1.575\n",
      "Skew:                          -0.523   Prob(JB):                        0.455\n",
      "Kurtosis:                       2.702   Cond. No.                     2.89e+03\n",
      "==============================================================================\n",
      "\n",
      "Notes:\n",
      "[1] Standard Errors assume that the covariance matrix of the errors is correctly specified.\n",
      "[2] The condition number is large, 2.89e+03. This might indicate that there are\n",
      "strong multicollinearity or other numerical problems.\n"
     ]
    },
    {
     "data": {
      "image/png": "[encoded data removed]",
      "text/plain": [
       "<Figure size 432x288 with 1 Axes>"
      ]
     },
     "metadata": {
      "needs_background": "light"
     },
     "output_type": "display_data"
    },
    {
     "name": "stdout",
     "output_type": "stream",
     "text": [
      "\n",
      "\n",
      "PERFORMING REGRESSION ON:WORTHWHILE\n",
      "Outliers: []\n",
      "                            OLS Regression Results                            \n",
      "==============================================================================\n",
      "Dep. Variable:             Worthwhile   R-squared:                       0.704\n",
      "Model:                            OLS   Adj. R-squared:                  0.633\n",
      "Method:                 Least Squares   F-statistic:                     9.906\n",
      "Date:                Thu, 06 Jan 2022   Prob (F-statistic):           1.27e-05\n",
      "Time:                        20:46:49   Log-Likelihood:                 31.510\n",
      "No. Observations:                  32   AIC:                            -49.02\n",
      "Df Residuals:                      25   BIC:                            -38.76\n",
      "Df Model:                           6                                         \n",
      "Covariance Type:            nonrobust                                         \n",
      "=================================================================================\n",
      "                    coef    std err          t      P>|t|      [0.025      0.975]\n",
      "---------------------------------------------------------------------------------\n",
      "const             9.3640      0.610     15.342      0.000       8.107      10.621\n",
      "percent_green     0.0041      0.003      1.582      0.126      -0.001       0.009\n",
      "Good             -0.0337      0.013     -2.634      0.014      -0.060      -0.007\n",
      "Very_bad         -0.2281      0.132     -1.733      0.095      -0.499       0.043\n",
      "Age_15-29        -0.0196      0.008     -2.414      0.023      -0.036      -0.003\n",
      "Unemployed        0.0013      0.020      0.064      0.950      -0.040       0.042\n",
      "Employed         -0.0022      0.005     -0.414      0.682      -0.013       0.009\n",
      "==============================================================================\n",
      "Omnibus:                        2.819   Durbin-Watson:                   2.312\n",
      "Prob(Omnibus):                  0.244   Jarque-Bera (JB):                2.475\n",
      "Skew:                          -0.659   Prob(JB):                        0.290\n",
      "Kurtosis:                       2.656   Cond. No.                     2.89e+03\n",
      "==============================================================================\n",
      "\n",
      "Notes:\n",
      "[1] Standard Errors assume that the covariance matrix of the errors is correctly specified.\n",
      "[2] The condition number is large, 2.89e+03. This might indicate that there are\n",
      "strong multicollinearity or other numerical problems.\n"
     ]
    },
    {
     "data": {
      "image/png": "[encoded data removed]",
      "text/plain": [
       "<Figure size 432x288 with 1 Axes>"
      ]
     },
     "metadata": {
      "needs_background": "light"
     },
     "output_type": "display_data"
    },
    {
     "name": "stdout",
     "output_type": "stream",
     "text": [
      "\n",
      "\n",
      "PERFORMING REGRESSION ON:HAPPINESS\n",
      "Outliers: []\n",
      "                            OLS Regression Results                            \n",
      "==============================================================================\n",
      "Dep. Variable:              Happiness   R-squared:                       0.398\n",
      "Model:                            OLS   Adj. R-squared:                  0.253\n",
      "Method:                 Least Squares   F-statistic:                     2.754\n",
      "Date:                Thu, 06 Jan 2022   Prob (F-statistic):             0.0340\n",
      "Time:                        20:46:50   Log-Likelihood:                 26.686\n",
      "No. Observations:                  32   AIC:                            -39.37\n",
      "Df Residuals:                      25   BIC:                            -29.11\n",
      "Df Model:                           6                                         \n",
      "Covariance Type:            nonrobust                                         \n",
      "=================================================================================\n",
      "                    coef    std err          t      P>|t|      [0.025      0.975]\n",
      "---------------------------------------------------------------------------------\n",
      "const             7.7513      0.710     10.923      0.000       6.290       9.213\n",
      "percent_green     0.0034      0.003      1.156      0.258      -0.003       0.010\n",
      "Good             -0.0018      0.015     -0.122      0.904      -0.032       0.029\n",
      "Very_bad         -0.0443      0.153     -0.289      0.775      -0.359       0.271\n",
      "Age_15-29         0.0055      0.009      0.586      0.563      -0.014       0.025\n",
      "Unemployed       -0.0550      0.023     -2.367      0.026      -0.103      -0.007\n",
      "Employed         -0.0043      0.006     -0.703      0.489      -0.017       0.008\n",
      "==============================================================================\n",
      "Omnibus:                        0.214   Durbin-Watson:                   2.551\n",
      "Prob(Omnibus):                  0.899   Jarque-Bera (JB):                0.008\n",
      "Skew:                           0.035   Prob(JB):                        0.996\n",
      "Kurtosis:                       2.966   Cond. No.                     2.89e+03\n",
      "==============================================================================\n",
      "\n",
      "Notes:\n",
      "[1] Standard Errors assume that the covariance matrix of the errors is correctly specified.\n",
      "[2] The condition number is large, 2.89e+03. This might indicate that there are\n",
      "strong multicollinearity or other numerical problems.\n"
     ]
    },
    {
     "data": {
      "image/png": "[encoded data removed]",
      "text/plain": [
       "<Figure size 432x288 with 1 Axes>"
      ]
     },
     "metadata": {
      "needs_background": "light"
     },
     "output_type": "display_data"
    },
    {
     "name": "stdout",
     "output_type": "stream",
     "text": [
      "\n",
      "\n"
     ]
    }
   ],
   "source": [
    "# Perform regression with outliers removed\n",
    "\n",
    "for cat in wellbeing_cols:\n",
    "    print(f'PERFORMING REGRESSION ON:{cat.upper()}')\n",
    "\n",
    "    # Remove outliers first\n",
    "    ind_var = ind_var_data.columns.tolist()\n",
    "    df = data[['Area', cat]+ ind_var]\n",
    "    data_reout, outliers_area = re_outliers_paired(df, ([cat]+ ind_var))\n",
    "    print('Outliers:', format(outliers_area))\n",
    "\n",
    "    # Perform regression\n",
    "    #reg_model = back_regress(data_reout[cat], data_reout[ind_var])\n",
    "    reg_model = sm.OLS(endog=data_reout[cat], exog=sm.add_constant(data_reout[ind_var])).fit()\n",
    "    print(reg_model.summary())\n",
    "\n",
    "    # plot residual vs. fit\n",
    "    plt.scatter(reg_model.fittedvalues, reg_model.resid)\n",
    "    plt.xlabel('Fitted Value')\n",
    "    plt.ylabel('Residual')\n",
    "    plt.title('Residual vs. Fitted Plot for ' + cat.title())\n",
    "    plt.show()\n",
    "    print('\\n')"
   ]
  },
  {
   "cell_type": "markdown",
   "id": "2c7ab128",
   "metadata": {},
   "source": [
    "Once we add other variables, there is no longer any significant relationship between well-being scores and NDVI. Significance of relationship between well-being scores and NDVI may be due to associations with other predictors.\n",
    "\n",
    "Justify looking for mediators???"
   ]
  },
  {
   "cell_type": "markdown",
   "id": "43eedb0f",
   "metadata": {},
   "source": [
    "## Regression 2: Mediators against NDVI\n",
    "\n",
    "Four mediators from literature: Physical exercise, air quality and noise, self-reported stress, and social cohesion.\n",
    "\n",
    "Due to lack of data, I am unable to look at social cohesion. Also, I will only be looking at objective air quality."
   ]
  },
  {
   "cell_type": "markdown",
   "id": "e29b407a",
   "metadata": {},
   "source": [
    "### Physical Activity"
   ]
  },
  {
   "cell_type": "code",
   "execution_count": 26,
   "id": "17f41ff5",
   "metadata": {},
   "outputs": [],
   "source": [
    "# Read in physical exercise (from 2012)\n",
    "exercise = pd.read_excel(os.path.join(os.getcwd(), 'Data', 'LSD21-APS-Physical-Activity-Levels.xlsx'),\n",
    "                         sheet_name = '2012', usecols = ['GSS_Code', 'Region', 'Active'])\n",
    "\n",
    "# Keep only data on London boroughs (Area Code starts with E09)\n",
    "exercise = exercise[exercise['GSS_Code'].str.match(r'E09')].sort_values(by = ['GSS_Code'], ascending=True)\n",
    "exercise = exercise.reset_index(drop = True)\n",
    "\n",
    "# Convert 'Active' to percentage\n",
    "exercise.Active = exercise.Active*100"
   ]
  },
  {
   "cell_type": "code",
   "execution_count": 27,
   "id": "9ebadcab",
   "metadata": {},
   "outputs": [
    {
     "data": {
      "image/png": "[encoded data removed]",
      "text/plain": [
       "<Figure size 432x432 with 1 Axes>"
      ]
     },
     "metadata": {
      "needs_background": "light"
     },
     "output_type": "display_data"
    }
   ],
   "source": [
    "# Box plot\n",
    "plt.figure(figsize=(6, 6))\n",
    "plt.title('Boxplot of Physical Exercise')\n",
    "plt.xlabel('Physical Exercise')\n",
    "plt.ylabel('Percentage')\n",
    "plt_exercise = exercise.boxplot('Active', grid = False, rot = 30, widths = 0.5)"
   ]
  },
  {
   "cell_type": "code",
   "execution_count": 28,
   "id": "435a1f7f",
   "metadata": {},
   "outputs": [
    {
     "name": "stdout",
     "output_type": "stream",
     "text": [
      "                            OLS Regression Results                            \n",
      "==============================================================================\n",
      "Dep. Variable:                 Active   R-squared:                       0.005\n",
      "Model:                            OLS   Adj. R-squared:                 -0.028\n",
      "Method:                 Least Squares   F-statistic:                    0.1479\n",
      "Date:                Thu, 06 Jan 2022   Prob (F-statistic):              0.703\n",
      "Time:                        20:46:50   Log-Likelihood:                -94.902\n",
      "No. Observations:                  32   AIC:                             193.8\n",
      "Df Residuals:                      30   BIC:                             196.7\n",
      "Df Model:                           1                                         \n",
      "Covariance Type:            nonrobust                                         \n",
      "=================================================================================\n",
      "                    coef    std err          t      P>|t|      [0.025      0.975]\n",
      "---------------------------------------------------------------------------------\n",
      "const            57.5307      2.453     23.456      0.000      52.522      62.540\n",
      "percent_green    -0.0279      0.072     -0.385      0.703      -0.176       0.120\n",
      "==============================================================================\n",
      "Omnibus:                        1.639   Durbin-Watson:                   1.912\n",
      "Prob(Omnibus):                  0.441   Jarque-Bera (JB):                1.479\n",
      "Skew:                           0.490   Prob(JB):                        0.477\n",
      "Kurtosis:                       2.612   Cond. No.                         96.9\n",
      "==============================================================================\n",
      "\n",
      "Notes:\n",
      "[1] Standard Errors assume that the covariance matrix of the errors is correctly specified.\n"
     ]
    },
    {
     "data": {
      "image/png": "[encoded data removed]",
      "text/plain": [
       "<Figure size 432x288 with 1 Axes>"
      ]
     },
     "metadata": {
      "needs_background": "light"
     },
     "output_type": "display_data"
    }
   ],
   "source": [
    "# Merge data\n",
    "data_uni = pd.merge(exercise[['Region', 'Active']], ndvi[['lb_code','percent_green']], \n",
    "                    left_on = 'Region', right_on = 'lb_code').drop('lb_code', axis = 1)\n",
    "\n",
    "# Regress physical activity against NDVI\n",
    "\n",
    "reg_model = sm.OLS(endog=data_uni.Active, exog=sm.add_constant(data_uni.percent_green)).fit()\n",
    "print(reg_model.summary())\n",
    "plt.scatter(reg_model.fittedvalues, reg_model.resid)\n",
    "plt.xlabel('Fitted Value')\n",
    "plt.ylabel('Residual')\n",
    "plt.title('Residual vs. Fitted Plot for Physical Exercise')\n",
    "plt.show()"
   ]
  },
  {
   "cell_type": "markdown",
   "id": "2fb5c698",
   "metadata": {},
   "source": [
    "Physical activity not significantly correlated with NDVI"
   ]
  },
  {
   "cell_type": "markdown",
   "id": "7fdbdac5",
   "metadata": {},
   "source": [
    "### Air Quality"
   ]
  },
  {
   "cell_type": "code",
   "execution_count": 29,
   "id": "b52fea5a",
   "metadata": {},
   "outputs": [],
   "source": [
    "# Read in air quality (from 2013)\n",
    "air_quality = pd.read_excel(os.path.join(os.getcwd(), 'Data', 'NO2_AnnualMean_2013_PopulationData.xlsx'),\n",
    "                            sheet_name = 'Borough exceeding 40', skiprows = 4, \n",
    "                            usecols=['Borough Name', 'PopExc2013 %'])\n",
    "air_quality['Borough Name'] = air_quality['Borough Name'].str.replace('&', 'and')\n",
    "\n",
    "# Drop City of London\n",
    "air_quality.drop(air_quality[air_quality['Borough Name'] == 'City of London'].index, inplace = True)\n",
    "air_quality = air_quality.reset_index(drop = True)\n"
   ]
  },
  {
   "cell_type": "code",
   "execution_count": 30,
   "id": "d3fed1b1",
   "metadata": {},
   "outputs": [
    {
     "data": {
      "image/png": "[encoded data removed]",
      "text/plain": [
       "<Figure size 432x432 with 1 Axes>"
      ]
     },
     "metadata": {
      "needs_background": "light"
     },
     "output_type": "display_data"
    }
   ],
   "source": [
    "# Box plot\n",
    "plt.figure(figsize=(6, 6))\n",
    "plt.title('Boxplot of Air Quality')\n",
    "plt.xlabel('Percentage of Population Exceeding Limits')\n",
    "plt.ylabel('Percentage')\n",
    "plt_air = air_quality.boxplot('PopExc2013 %', grid = False, rot = 30, widths = 0.5)"
   ]
  },
  {
   "cell_type": "code",
   "execution_count": 31,
   "id": "382797bd",
   "metadata": {},
   "outputs": [
    {
     "name": "stdout",
     "output_type": "stream",
     "text": [
      "                            OLS Regression Results                            \n",
      "==============================================================================\n",
      "Dep. Variable:           PopExc2013 %   R-squared:                       0.390\n",
      "Model:                            OLS   Adj. R-squared:                  0.369\n",
      "Method:                 Least Squares   F-statistic:                     19.16\n",
      "Date:                Thu, 06 Jan 2022   Prob (F-statistic):           0.000134\n",
      "Time:                        20:46:50   Log-Likelihood:                -138.40\n",
      "No. Observations:                  32   AIC:                             280.8\n",
      "Df Residuals:                      30   BIC:                             283.7\n",
      "Df Model:                           1                                         \n",
      "Covariance Type:            nonrobust                                         \n",
      "=================================================================================\n",
      "                    coef    std err          t      P>|t|      [0.025      0.975]\n",
      "---------------------------------------------------------------------------------\n",
      "const            57.7776      9.550      6.050      0.000      38.273      77.282\n",
      "percent_green    -1.2347      0.282     -4.377      0.000      -1.811      -0.659\n",
      "==============================================================================\n",
      "Omnibus:                        9.150   Durbin-Watson:                   1.474\n",
      "Prob(Omnibus):                  0.010   Jarque-Bera (JB):                7.794\n",
      "Skew:                           1.133   Prob(JB):                       0.0203\n",
      "Kurtosis:                       3.842   Cond. No.                         96.9\n",
      "==============================================================================\n",
      "\n",
      "Notes:\n",
      "[1] Standard Errors assume that the covariance matrix of the errors is correctly specified.\n"
     ]
    },
    {
     "data": {
      "image/png": "[encoded data removed]",
      "text/plain": [
       "<Figure size 432x288 with 1 Axes>"
      ]
     },
     "metadata": {
      "needs_background": "light"
     },
     "output_type": "display_data"
    }
   ],
   "source": [
    "# Merge data\n",
    "data_uni = pd.merge(air_quality, ndvi[['lb_code','percent_green']], \n",
    "                    left_on = 'Borough Name', right_on = 'lb_code').drop('lb_code', axis = 1)\n",
    "\n",
    "# Regress air quality against NDVI without removing outliers\n",
    "reg_model = sm.OLS(endog=data_uni['PopExc2013 %'], exog=sm.add_constant(data_uni.percent_green)).fit()\n",
    "print(reg_model.summary())\n",
    "plt.scatter(reg_model.fittedvalues, reg_model.resid)\n",
    "plt.xlabel('Fitted Value')\n",
    "plt.ylabel('Residual')\n",
    "plt.title('Residual vs. Fitted Plot for Air Quality')\n",
    "plt.show()"
   ]
  },
  {
   "cell_type": "code",
   "execution_count": 32,
   "id": "6639f18e",
   "metadata": {},
   "outputs": [
    {
     "data": {
      "text/plain": [
       "<matplotlib.collections.PathCollection at 0x7f0ff4293850>"
      ]
     },
     "execution_count": 32,
     "metadata": {},
     "output_type": "execute_result"
    },
    {
     "data": {
      "image/png": "[encoded data removed]",
      "text/plain": [
       "<Figure size 432x288 with 1 Axes>"
      ]
     },
     "metadata": {
      "needs_background": "light"
     },
     "output_type": "display_data"
    }
   ],
   "source": [
    "plt.scatter(ndvi.percent_green, air_quality['PopExc2013 %'])"
   ]
  },
  {
   "cell_type": "markdown",
   "id": "570a336b",
   "metadata": {},
   "source": [
    "Greenery has negative and significant relationship with air quality. However, there appears to be heteroskedasticity, likely because there are a lot of values near zero. Try taking log."
   ]
  },
  {
   "cell_type": "code",
   "execution_count": 33,
   "id": "5e800e81",
   "metadata": {},
   "outputs": [
    {
     "data": {
      "image/png": "[encoded data removed]",
      "text/plain": [
       "<Figure size 432x432 with 1 Axes>"
      ]
     },
     "metadata": {
      "needs_background": "light"
     },
     "output_type": "display_data"
    }
   ],
   "source": [
    "# Log\n",
    "air_quality['log_PopExc2013 %'] = air_quality['PopExc2013 %'].apply(log)\n",
    "\n",
    "# Box plot\n",
    "plt.figure(figsize=(6, 6))\n",
    "plt.title('Boxplot of Air Quality')\n",
    "plt.xlabel('Percentage of Population Exceeding Limits')\n",
    "plt.ylabel('Log Percentage')\n",
    "plt_air = air_quality.boxplot('log_PopExc2013 %', grid = False, rot = 30, widths = 0.5)"
   ]
  },
  {
   "cell_type": "code",
   "execution_count": 34,
   "id": "67681b98",
   "metadata": {},
   "outputs": [
    {
     "name": "stdout",
     "output_type": "stream",
     "text": [
      "                            OLS Regression Results                            \n",
      "==============================================================================\n",
      "Dep. Variable:       log_PopExc2013 %   R-squared:                       0.413\n",
      "Model:                            OLS   Adj. R-squared:                  0.393\n",
      "Method:                 Least Squares   F-statistic:                     21.08\n",
      "Date:                Thu, 06 Jan 2022   Prob (F-statistic):           7.38e-05\n",
      "Time:                        20:46:51   Log-Likelihood:                -47.372\n",
      "No. Observations:                  32   AIC:                             98.74\n",
      "Df Residuals:                      30   BIC:                             101.7\n",
      "Df Model:                           1                                         \n",
      "Covariance Type:            nonrobust                                         \n",
      "=================================================================================\n",
      "                    coef    std err          t      P>|t|      [0.025      0.975]\n",
      "---------------------------------------------------------------------------------\n",
      "const             4.4784      0.555      8.064      0.000       3.344       5.613\n",
      "percent_green    -0.0753      0.016     -4.591      0.000      -0.109      -0.042\n",
      "==============================================================================\n",
      "Omnibus:                        0.877   Durbin-Watson:                   1.511\n",
      "Prob(Omnibus):                  0.645   Jarque-Bera (JB):                0.841\n",
      "Skew:                          -0.354   Prob(JB):                        0.657\n",
      "Kurtosis:                       2.639   Cond. No.                         96.9\n",
      "==============================================================================\n",
      "\n",
      "Notes:\n",
      "[1] Standard Errors assume that the covariance matrix of the errors is correctly specified.\n"
     ]
    },
    {
     "data": {
      "image/png": "[encoded data removed]",
      "text/plain": [
       "<Figure size 432x288 with 1 Axes>"
      ]
     },
     "metadata": {
      "needs_background": "light"
     },
     "output_type": "display_data"
    }
   ],
   "source": [
    "# Merge data\n",
    "data_uni = pd.merge(air_quality, ndvi[['lb_code','percent_green']], \n",
    "                    left_on = 'Borough Name', right_on = 'lb_code').drop('lb_code', axis = 1)\n",
    "\n",
    "# Regress air quality against NDVI without removing outliers\n",
    "\n",
    "reg_model = sm.OLS(endog=data_uni['log_PopExc2013 %'], exog=sm.add_constant(data_uni.percent_green)).fit()\n",
    "print(reg_model.summary())\n",
    "plt.scatter(reg_model.fittedvalues, reg_model.resid)\n",
    "plt.xlabel('Fitted Value')\n",
    "plt.ylabel('Residual')\n",
    "plt.title('Residual vs. Fitted Plot for Air Quality')\n",
    "plt.show()"
   ]
  },
  {
   "cell_type": "markdown",
   "id": "ffd50fa2",
   "metadata": {},
   "source": [
    "Negative and significant relationship between log pop exceeding limits and greenery. With homoskedasticity."
   ]
  },
  {
   "cell_type": "markdown",
   "id": "008b3487",
   "metadata": {},
   "source": [
    "### Stress"
   ]
  },
  {
   "cell_type": "code",
   "execution_count": 35,
   "id": "4f1fc8b3",
   "metadata": {},
   "outputs": [
    {
     "name": "stdout",
     "output_type": "stream",
     "text": [
      "                            OLS Regression Results                            \n",
      "==============================================================================\n",
      "Dep. Variable:                Anxiety   R-squared:                       0.016\n",
      "Model:                            OLS   Adj. R-squared:                 -0.017\n",
      "Method:                 Least Squares   F-statistic:                    0.4755\n",
      "Date:                Thu, 06 Jan 2022   Prob (F-statistic):              0.496\n",
      "Time:                        20:46:51   Log-Likelihood:                -6.0555\n",
      "No. Observations:                  32   AIC:                             16.11\n",
      "Df Residuals:                      30   BIC:                             19.04\n",
      "Df Model:                           1                                         \n",
      "Covariance Type:            nonrobust                                         \n",
      "=================================================================================\n",
      "                    coef    std err          t      P>|t|      [0.025      0.975]\n",
      "---------------------------------------------------------------------------------\n",
      "const             3.5068      0.153     22.965      0.000       3.195       3.819\n",
      "percent_green    -0.0031      0.005     -0.690      0.496      -0.012       0.006\n",
      "==============================================================================\n",
      "Omnibus:                        4.567   Durbin-Watson:                   1.855\n",
      "Prob(Omnibus):                  0.102   Jarque-Bera (JB):                3.146\n",
      "Skew:                          -0.726   Prob(JB):                        0.207\n",
      "Kurtosis:                       3.501   Cond. No.                         96.9\n",
      "==============================================================================\n",
      "\n",
      "Notes:\n",
      "[1] Standard Errors assume that the covariance matrix of the errors is correctly specified.\n"
     ]
    },
    {
     "data": {
      "image/png": "[encoded data removed]",
      "text/plain": [
       "<Figure size 432x288 with 1 Axes>"
      ]
     },
     "metadata": {
      "needs_background": "light"
     },
     "output_type": "display_data"
    }
   ],
   "source": [
    "# Merge data\n",
    "data_uni = pd.merge(wellbeing, ndvi[['lb_code','percent_green']], \n",
    "                    left_on = 'Area', right_on = 'lb_code').drop('lb_code', axis = 1)\n",
    "\n",
    "# Regress physical activity against NDVI\n",
    "reg_model = sm.OLS(endog=data_uni.Anxiety, exog=sm.add_constant(data_uni.percent_green)).fit()\n",
    "print(reg_model.summary())\n",
    "plt.scatter(reg_model.fittedvalues, reg_model.resid)\n",
    "plt.xlabel('Fitted Value')\n",
    "plt.ylabel('Residual')\n",
    "plt.title('Residual vs. Fitted Plot for Anxiety')\n",
    "plt.show()"
   ]
  },
  {
   "cell_type": "markdown",
   "id": "d2b09d3c",
   "metadata": {},
   "source": [
    "Anxiety not significantly correlated with NDVI"
   ]
  },
  {
   "cell_type": "markdown",
   "id": "b5cf975a",
   "metadata": {},
   "source": [
    "## Regression 3: Wellbeing Against NDVI and Mediators"
   ]
  },
  {
   "cell_type": "markdown",
   "id": "74ba8e2e",
   "metadata": {},
   "source": [
    "I will now regress the wellbeing scores against NDVI and the mediators for those that are significant (i.e. wellbeing - life satisfaction and worthwhile, mediators - air quality)."
   ]
  },
  {
   "cell_type": "markdown",
   "id": "a91990e4",
   "metadata": {},
   "source": [
    "### Bivariate regression - with only NDVI and mediators"
   ]
  },
  {
   "cell_type": "code",
   "execution_count": 36,
   "id": "c300667c",
   "metadata": {},
   "outputs": [],
   "source": [
    "# Merge data\n",
    "data_bi = pd.merge(wellbeing[['Area', 'Life Satisfaction', 'Worthwhile', 'Happiness']], ndvi[['lb_code','percent_green']], \n",
    "                   left_on = 'Area', right_on = 'lb_code').drop('lb_code', axis = 1)\n",
    "data_bi = data_bi.merge(air_quality[['Borough Name', 'log_PopExc2013 %']], \n",
    "                        left_on = 'Area', right_on = 'Borough Name').drop('Borough Name', axis = 1)"
   ]
  },
  {
   "cell_type": "code",
   "execution_count": 37,
   "id": "f8c75ed4",
   "metadata": {},
   "outputs": [
    {
     "name": "stdout",
     "output_type": "stream",
     "text": [
      "PERFORMING REGRESSION ON:LIFE SATISFACTION\n",
      "Outliers: []\n",
      "                            OLS Regression Results                            \n",
      "==============================================================================\n",
      "Dep. Variable:      Life Satisfaction   R-squared:                       0.348\n",
      "Model:                            OLS   Adj. R-squared:                  0.303\n",
      "Method:                 Least Squares   F-statistic:                     7.730\n",
      "Date:                Thu, 06 Jan 2022   Prob (F-statistic):            0.00204\n",
      "Time:                        20:46:51   Log-Likelihood:                 20.376\n",
      "No. Observations:                  32   AIC:                            -34.75\n",
      "Df Residuals:                      29   BIC:                            -30.35\n",
      "Df Model:                           2                                         \n",
      "Covariance Type:            nonrobust                                         \n",
      "====================================================================================\n",
      "                       coef    std err          t      P>|t|      [0.025      0.975]\n",
      "------------------------------------------------------------------------------------\n",
      "const                6.7997      0.121     56.187      0.000       6.552       7.047\n",
      "percent_green        0.0102      0.003      3.904      0.001       0.005       0.016\n",
      "log_PopExc2013 %     0.0641      0.022      2.866      0.008       0.018       0.110\n",
      "==============================================================================\n",
      "Omnibus:                        2.632   Durbin-Watson:                   2.249\n",
      "Prob(Omnibus):                  0.268   Jarque-Bera (JB):                1.694\n",
      "Skew:                           0.555   Prob(JB):                        0.429\n",
      "Kurtosis:                       3.198   Cond. No.                         175.\n",
      "==============================================================================\n",
      "\n",
      "Notes:\n",
      "[1] Standard Errors assume that the covariance matrix of the errors is correctly specified.\n"
     ]
    },
    {
     "data": {
      "image/png": "[encoded data removed]",
      "text/plain": [
       "<Figure size 432x288 with 1 Axes>"
      ]
     },
     "metadata": {
      "needs_background": "light"
     },
     "output_type": "display_data"
    },
    {
     "name": "stdout",
     "output_type": "stream",
     "text": [
      "\n",
      "\n",
      "PERFORMING REGRESSION ON:WORTHWHILE\n",
      "Outliers: []\n",
      "                            OLS Regression Results                            \n",
      "==============================================================================\n",
      "Dep. Variable:             Worthwhile   R-squared:                       0.393\n",
      "Model:                            OLS   Adj. R-squared:                  0.351\n",
      "Method:                 Least Squares   F-statistic:                     9.374\n",
      "Date:                Thu, 06 Jan 2022   Prob (F-statistic):           0.000725\n",
      "Time:                        20:46:51   Log-Likelihood:                 20.015\n",
      "No. Observations:                  32   AIC:                            -34.03\n",
      "Df Residuals:                      29   BIC:                            -29.63\n",
      "Df Model:                           2                                         \n",
      "Covariance Type:            nonrobust                                         \n",
      "====================================================================================\n",
      "                       coef    std err          t      P>|t|      [0.025      0.975]\n",
      "------------------------------------------------------------------------------------\n",
      "const                7.1167      0.122     58.147      0.000       6.866       7.367\n",
      "percent_green        0.0106      0.003      4.005      0.000       0.005       0.016\n",
      "log_PopExc2013 %     0.0297      0.023      1.312      0.200      -0.017       0.076\n",
      "==============================================================================\n",
      "Omnibus:                        0.508   Durbin-Watson:                   2.032\n",
      "Prob(Omnibus):                  0.776   Jarque-Bera (JB):                0.638\n",
      "Skew:                           0.199   Prob(JB):                        0.727\n",
      "Kurtosis:                       2.434   Cond. No.                         175.\n",
      "==============================================================================\n",
      "\n",
      "Notes:\n",
      "[1] Standard Errors assume that the covariance matrix of the errors is correctly specified.\n"
     ]
    },
    {
     "data": {
      "image/png": "[encoded data removed]",
      "text/plain": [
       "<Figure size 432x288 with 1 Axes>"
      ]
     },
     "metadata": {
      "needs_background": "light"
     },
     "output_type": "display_data"
    },
    {
     "name": "stdout",
     "output_type": "stream",
     "text": [
      "\n",
      "\n",
      "PERFORMING REGRESSION ON:HAPPINESS\n",
      "Outliers: []\n",
      "                            OLS Regression Results                            \n",
      "==============================================================================\n",
      "Dep. Variable:              Happiness   R-squared:                       0.432\n",
      "Model:                            OLS   Adj. R-squared:                  0.393\n",
      "Method:                 Least Squares   F-statistic:                     11.02\n",
      "Date:                Thu, 06 Jan 2022   Prob (F-statistic):           0.000276\n",
      "Time:                        20:46:51   Log-Likelihood:                 27.609\n",
      "No. Observations:                  32   AIC:                            -49.22\n",
      "Df Residuals:                      29   BIC:                            -44.82\n",
      "Df Model:                           2                                         \n",
      "Covariance Type:            nonrobust                                         \n",
      "====================================================================================\n",
      "                       coef    std err          t      P>|t|      [0.025      0.975]\n",
      "------------------------------------------------------------------------------------\n",
      "const                6.7544      0.097     69.969      0.000       6.557       6.952\n",
      "percent_green        0.0091      0.002      4.330      0.000       0.005       0.013\n",
      "log_PopExc2013 %     0.0743      0.018      4.169      0.000       0.038       0.111\n",
      "==============================================================================\n",
      "Omnibus:                        4.078   Durbin-Watson:                   2.209\n",
      "Prob(Omnibus):                  0.130   Jarque-Bera (JB):                2.742\n",
      "Skew:                           0.682   Prob(JB):                        0.254\n",
      "Kurtosis:                       3.440   Cond. No.                         175.\n",
      "==============================================================================\n",
      "\n",
      "Notes:\n",
      "[1] Standard Errors assume that the covariance matrix of the errors is correctly specified.\n"
     ]
    },
    {
     "data": {
      "image/png": "[encoded data removed]",
      "text/plain": [
       "<Figure size 432x288 with 1 Axes>"
      ]
     },
     "metadata": {
      "needs_background": "light"
     },
     "output_type": "display_data"
    },
    {
     "name": "stdout",
     "output_type": "stream",
     "text": [
      "\n",
      "\n"
     ]
    }
   ],
   "source": [
    "# Perform regression with outliers removed\n",
    "\n",
    "for cat in ['Life Satisfaction', 'Worthwhile', 'Happiness']:\n",
    "    print(f'PERFORMING REGRESSION ON:{cat.upper()}')\n",
    "\n",
    "    # Remove outliers first\n",
    "    ind_var = ['percent_green', 'log_PopExc2013 %']\n",
    "    df = data_bi[['Area', cat]+ ind_var]\n",
    "    data_reout, outliers_area = re_outliers_paired(df, ([cat]+ ind_var))\n",
    "    print('Outliers:', format(outliers_area))\n",
    "\n",
    "    # Perform regression\n",
    "    #reg_model = back_regress(data_reout[cat], data_reout[ind_var])\n",
    "    reg_model = sm.OLS(endog=data_reout[cat], exog=sm.add_constant(data_reout[ind_var])).fit()\n",
    "    print(reg_model.summary())\n",
    "\n",
    "    # plot residual vs. fit\n",
    "    plt.scatter(reg_model.fittedvalues, reg_model.resid)\n",
    "    plt.xlabel('Fitted Value')\n",
    "    plt.ylabel('Residual')\n",
    "    plt.title('Residual vs. Fitted Plot for ' + cat.title())\n",
    "    plt.show()\n",
    "    print('\\n')"
   ]
  },
  {
   "cell_type": "markdown",
   "id": "9777ec2f",
   "metadata": {},
   "source": [
    "### Multivariate regression"
   ]
  },
  {
   "cell_type": "code",
   "execution_count": 38,
   "id": "26204729",
   "metadata": {},
   "outputs": [],
   "source": [
    "# Merge all variables into a dataframe\n",
    "data = data.merge(air_quality[['Borough Name', 'log_PopExc2013 %']], \n",
    "                  left_on = 'Area', right_on = 'Borough Name').drop('Borough Name', axis = 1)\n"
   ]
  },
  {
   "cell_type": "code",
   "execution_count": 39,
   "id": "94b3c65c",
   "metadata": {},
   "outputs": [
    {
     "data": {
      "text/html": [
       "<div>\n",
       "<style scoped>\n",
       "    .dataframe tbody tr th:only-of-type {\n",
       "        vertical-align: middle;\n",
       "    }\n",
       "\n",
       "    .dataframe tbody tr th {\n",
       "        vertical-align: top;\n",
       "    }\n",
       "\n",
       "    .dataframe thead th {\n",
       "        text-align: right;\n",
       "    }\n",
       "</style>\n",
       "<table border=\"1\" class=\"dataframe\">\n",
       "  <thead>\n",
       "    <tr style=\"text-align: right;\">\n",
       "      <th></th>\n",
       "      <th>Area</th>\n",
       "      <th>Life Satisfaction</th>\n",
       "      <th>Worthwhile</th>\n",
       "      <th>Happiness</th>\n",
       "      <th>percent_green</th>\n",
       "      <th>Very_good</th>\n",
       "      <th>Good</th>\n",
       "      <th>Fair</th>\n",
       "      <th>Bad</th>\n",
       "      <th>Very_bad</th>\n",
       "      <th>Age_0-15</th>\n",
       "      <th>Age_15-29</th>\n",
       "      <th>Age_30-44</th>\n",
       "      <th>Age_45-64</th>\n",
       "      <th>Age_65+</th>\n",
       "      <th>Econ_inactive</th>\n",
       "      <th>Unemployed</th>\n",
       "      <th>Employed</th>\n",
       "      <th>log_PopExc2013 %</th>\n",
       "    </tr>\n",
       "  </thead>\n",
       "  <tbody>\n",
       "    <tr>\n",
       "      <th>0</th>\n",
       "      <td>Barking and Dagenham</td>\n",
       "      <td>7.05</td>\n",
       "      <td>7.49</td>\n",
       "      <td>6.91</td>\n",
       "      <td>33.575923</td>\n",
       "      <td>47.237119</td>\n",
       "      <td>33.736573</td>\n",
       "      <td>12.931994</td>\n",
       "      <td>4.672128</td>\n",
       "      <td>1.422186</td>\n",
       "      <td>25.979098</td>\n",
       "      <td>20.480230</td>\n",
       "      <td>23.378391</td>\n",
       "      <td>19.769675</td>\n",
       "      <td>10.392607</td>\n",
       "      <td>28.6</td>\n",
       "      <td>9.2820</td>\n",
       "      <td>62.1180</td>\n",
       "      <td>0.210578</td>\n",
       "    </tr>\n",
       "    <tr>\n",
       "      <th>1</th>\n",
       "      <td>Barnet</td>\n",
       "      <td>7.43</td>\n",
       "      <td>7.70</td>\n",
       "      <td>7.26</td>\n",
       "      <td>41.317540</td>\n",
       "      <td>51.475928</td>\n",
       "      <td>32.972115</td>\n",
       "      <td>10.991453</td>\n",
       "      <td>3.422413</td>\n",
       "      <td>1.138092</td>\n",
       "      <td>20.829662</td>\n",
       "      <td>20.081597</td>\n",
       "      <td>23.531789</td>\n",
       "      <td>22.247788</td>\n",
       "      <td>13.309165</td>\n",
       "      <td>24.7</td>\n",
       "      <td>6.0240</td>\n",
       "      <td>69.2760</td>\n",
       "      <td>1.800270</td>\n",
       "    </tr>\n",
       "    <tr>\n",
       "      <th>2</th>\n",
       "      <td>Bexley</td>\n",
       "      <td>7.42</td>\n",
       "      <td>7.68</td>\n",
       "      <td>7.22</td>\n",
       "      <td>31.691892</td>\n",
       "      <td>47.984672</td>\n",
       "      <td>34.675448</td>\n",
       "      <td>12.506627</td>\n",
       "      <td>3.744876</td>\n",
       "      <td>1.088376</td>\n",
       "      <td>20.502851</td>\n",
       "      <td>17.823506</td>\n",
       "      <td>20.321815</td>\n",
       "      <td>25.311965</td>\n",
       "      <td>16.039863</td>\n",
       "      <td>23.2</td>\n",
       "      <td>6.1440</td>\n",
       "      <td>70.6560</td>\n",
       "      <td>0.451858</td>\n",
       "    </tr>\n",
       "    <tr>\n",
       "      <th>3</th>\n",
       "      <td>Brent</td>\n",
       "      <td>7.11</td>\n",
       "      <td>7.20</td>\n",
       "      <td>7.07</td>\n",
       "      <td>21.943362</td>\n",
       "      <td>48.100188</td>\n",
       "      <td>34.757001</td>\n",
       "      <td>11.802452</td>\n",
       "      <td>3.964783</td>\n",
       "      <td>1.375576</td>\n",
       "      <td>20.165159</td>\n",
       "      <td>23.701942</td>\n",
       "      <td>24.512957</td>\n",
       "      <td>21.120447</td>\n",
       "      <td>10.499494</td>\n",
       "      <td>30.8</td>\n",
       "      <td>7.4736</td>\n",
       "      <td>61.7264</td>\n",
       "      <td>1.512117</td>\n",
       "    </tr>\n",
       "    <tr>\n",
       "      <th>4</th>\n",
       "      <td>Bromley</td>\n",
       "      <td>7.50</td>\n",
       "      <td>7.84</td>\n",
       "      <td>7.44</td>\n",
       "      <td>57.779609</td>\n",
       "      <td>50.097611</td>\n",
       "      <td>34.123054</td>\n",
       "      <td>11.667399</td>\n",
       "      <td>3.201117</td>\n",
       "      <td>0.910819</td>\n",
       "      <td>19.582277</td>\n",
       "      <td>15.546620</td>\n",
       "      <td>22.021255</td>\n",
       "      <td>26.030731</td>\n",
       "      <td>16.819116</td>\n",
       "      <td>21.9</td>\n",
       "      <td>5.3889</td>\n",
       "      <td>72.7111</td>\n",
       "      <td>1.758317</td>\n",
       "    </tr>\n",
       "  </tbody>\n",
       "</table>\n",
       "</div>"
      ],
      "text/plain": [
       "                   Area  Life Satisfaction  Worthwhile  Happiness  \\\n",
       "0  Barking and Dagenham               7.05        7.49       6.91   \n",
       "1                Barnet               7.43        7.70       7.26   \n",
       "2                Bexley               7.42        7.68       7.22   \n",
       "3                 Brent               7.11        7.20       7.07   \n",
       "4               Bromley               7.50        7.84       7.44   \n",
       "\n",
       "   percent_green  Very_good       Good       Fair       Bad  Very_bad  \\\n",
       "0      33.575923  47.237119  33.736573  12.931994  4.672128  1.422186   \n",
       "1      41.317540  51.475928  32.972115  10.991453  3.422413  1.138092   \n",
       "2      31.691892  47.984672  34.675448  12.506627  3.744876  1.088376   \n",
       "3      21.943362  48.100188  34.757001  11.802452  3.964783  1.375576   \n",
       "4      57.779609  50.097611  34.123054  11.667399  3.201117  0.910819   \n",
       "\n",
       "    Age_0-15  Age_15-29  Age_30-44  Age_45-64    Age_65+  Econ_inactive  \\\n",
       "0  25.979098  20.480230  23.378391  19.769675  10.392607           28.6   \n",
       "1  20.829662  20.081597  23.531789  22.247788  13.309165           24.7   \n",
       "2  20.502851  17.823506  20.321815  25.311965  16.039863           23.2   \n",
       "3  20.165159  23.701942  24.512957  21.120447  10.499494           30.8   \n",
       "4  19.582277  15.546620  22.021255  26.030731  16.819116           21.9   \n",
       "\n",
       "   Unemployed  Employed  log_PopExc2013 %  \n",
       "0      9.2820   62.1180          0.210578  \n",
       "1      6.0240   69.2760          1.800270  \n",
       "2      6.1440   70.6560          0.451858  \n",
       "3      7.4736   61.7264          1.512117  \n",
       "4      5.3889   72.7111          1.758317  "
      ]
     },
     "execution_count": 39,
     "metadata": {},
     "output_type": "execute_result"
    }
   ],
   "source": [
    "data.head()"
   ]
  },
  {
   "cell_type": "code",
   "execution_count": 40,
   "id": "d8618d69",
   "metadata": {},
   "outputs": [
    {
     "name": "stdout",
     "output_type": "stream",
     "text": [
      "Dropping: Very_good\n",
      "Dropping: Age_0-15\n",
      "Dropping: Econ_inactive\n",
      "Dropping: Bad\n",
      "Dropping: Age_65+\n",
      "Dropping: Fair\n",
      "Dropping: Age_45-64\n",
      "Dropping: Age_30-44\n"
     ]
    },
    {
     "name": "stderr",
     "output_type": "stream",
     "text": [
      "/opt/conda/envs/sds2021/lib/python3.9/site-packages/statsmodels/regression/linear_model.py:1738: RuntimeWarning: divide by zero encountered in double_scalars\n",
      "  return 1 - self.ssr/self.centered_tss\n",
      "/opt/conda/envs/sds2021/lib/python3.9/site-packages/statsmodels/stats/outliers_influence.py:195: RuntimeWarning: divide by zero encountered in double_scalars\n",
      "  vif = 1. / (1. - r_squared_i)\n"
     ]
    }
   ],
   "source": [
    "# Drop collinear independent variables\n",
    "ind_var_data = drop_column_using_vif_(data.drop(['Area'] + wellbeing_cols, axis=1))"
   ]
  },
  {
   "cell_type": "code",
   "execution_count": 41,
   "id": "850f9d93",
   "metadata": {},
   "outputs": [
    {
     "name": "stdout",
     "output_type": "stream",
     "text": [
      "PERFORMING REGRESSION ON:LIFE SATISFACTION\n",
      "Outliers: []\n",
      "                            OLS Regression Results                            \n",
      "==============================================================================\n",
      "Dep. Variable:      Life Satisfaction   R-squared:                       0.719\n",
      "Model:                            OLS   Adj. R-squared:                  0.637\n",
      "Method:                 Least Squares   F-statistic:                     8.778\n",
      "Date:                Thu, 06 Jan 2022   Prob (F-statistic):           2.40e-05\n",
      "Time:                        20:46:51   Log-Likelihood:                 33.856\n",
      "No. Observations:                  32   AIC:                            -51.71\n",
      "Df Residuals:                      24   BIC:                            -39.99\n",
      "Df Model:                           7                                         \n",
      "Covariance Type:            nonrobust                                         \n",
      "====================================================================================\n",
      "                       coef    std err          t      P>|t|      [0.025      0.975]\n",
      "------------------------------------------------------------------------------------\n",
      "const                8.3818      0.662     12.653      0.000       7.015       9.749\n",
      "percent_green        0.0040      0.002      1.619      0.119      -0.001       0.009\n",
      "Good                -0.0106      0.014     -0.753      0.459      -0.040       0.018\n",
      "Very_bad            -0.1975      0.125     -1.581      0.127      -0.455       0.060\n",
      "Age_15-29           -0.0072      0.008     -0.871      0.393      -0.024       0.010\n",
      "Unemployed          -0.0441      0.020     -2.243      0.034      -0.085      -0.004\n",
      "Employed            -0.0039      0.005     -0.762      0.453      -0.015       0.007\n",
      "log_PopExc2013 %     0.0354      0.024      1.476      0.153      -0.014       0.085\n",
      "==============================================================================\n",
      "Omnibus:                        1.216   Durbin-Watson:                   2.073\n",
      "Prob(Omnibus):                  0.544   Jarque-Bera (JB):                1.183\n",
      "Skew:                          -0.366   Prob(JB):                        0.554\n",
      "Kurtosis:                       2.409   Cond. No.                     3.30e+03\n",
      "==============================================================================\n",
      "\n",
      "Notes:\n",
      "[1] Standard Errors assume that the covariance matrix of the errors is correctly specified.\n",
      "[2] The condition number is large, 3.3e+03. This might indicate that there are\n",
      "strong multicollinearity or other numerical problems.\n"
     ]
    },
    {
     "data": {
      "image/png": "[encoded data removed]",
      "text/plain": [
       "<Figure size 432x288 with 1 Axes>"
      ]
     },
     "metadata": {
      "needs_background": "light"
     },
     "output_type": "display_data"
    },
    {
     "name": "stdout",
     "output_type": "stream",
     "text": [
      "\n",
      "\n",
      "PERFORMING REGRESSION ON:WORTHWHILE\n",
      "Outliers: []\n",
      "                            OLS Regression Results                            \n",
      "==============================================================================\n",
      "Dep. Variable:             Worthwhile   R-squared:                       0.708\n",
      "Model:                            OLS   Adj. R-squared:                  0.623\n",
      "Method:                 Least Squares   F-statistic:                     8.321\n",
      "Date:                Thu, 06 Jan 2022   Prob (F-statistic):           3.66e-05\n",
      "Time:                        20:46:52   Log-Likelihood:                 31.743\n",
      "No. Observations:                  32   AIC:                            -47.49\n",
      "Df Residuals:                      24   BIC:                            -35.76\n",
      "Df Model:                           7                                         \n",
      "Covariance Type:            nonrobust                                         \n",
      "====================================================================================\n",
      "                       coef    std err          t      P>|t|      [0.025      0.975]\n",
      "------------------------------------------------------------------------------------\n",
      "const                9.1599      0.708     12.944      0.000       7.699      10.620\n",
      "percent_green        0.0043      0.003      1.625      0.117      -0.001       0.010\n",
      "Good                -0.0292      0.015     -1.944      0.064      -0.060       0.002\n",
      "Very_bad            -0.2307      0.133     -1.729      0.097      -0.506       0.045\n",
      "Age_15-29           -0.0215      0.009     -2.436      0.023      -0.040      -0.003\n",
      "Unemployed           0.0045      0.021      0.216      0.830      -0.039       0.048\n",
      "Employed            -0.0016      0.005     -0.293      0.772      -0.013       0.010\n",
      "log_PopExc2013 %     0.0152      0.026      0.593      0.559      -0.038       0.068\n",
      "==============================================================================\n",
      "Omnibus:                        2.435   Durbin-Watson:                   2.284\n",
      "Prob(Omnibus):                  0.296   Jarque-Bera (JB):                2.079\n",
      "Skew:                          -0.608   Prob(JB):                        0.354\n",
      "Kurtosis:                       2.715   Cond. No.                     3.30e+03\n",
      "==============================================================================\n",
      "\n",
      "Notes:\n",
      "[1] Standard Errors assume that the covariance matrix of the errors is correctly specified.\n",
      "[2] The condition number is large, 3.3e+03. This might indicate that there are\n",
      "strong multicollinearity or other numerical problems.\n"
     ]
    },
    {
     "data": {
      "image/png": "[encoded data removed]",
      "text/plain": [
       "<Figure size 432x288 with 1 Axes>"
      ]
     },
     "metadata": {
      "needs_background": "light"
     },
     "output_type": "display_data"
    },
    {
     "name": "stdout",
     "output_type": "stream",
     "text": [
      "\n",
      "\n",
      "PERFORMING REGRESSION ON:HAPPINESS\n",
      "Outliers: []\n",
      "                            OLS Regression Results                            \n",
      "==============================================================================\n",
      "Dep. Variable:              Happiness   R-squared:                       0.615\n",
      "Model:                            OLS   Adj. R-squared:                  0.503\n",
      "Method:                 Least Squares   F-statistic:                     5.480\n",
      "Date:                Thu, 06 Jan 2022   Prob (F-statistic):           0.000744\n",
      "Time:                        20:46:52   Log-Likelihood:                 33.844\n",
      "No. Observations:                  32   AIC:                            -51.69\n",
      "Df Residuals:                      24   BIC:                            -39.96\n",
      "Df Model:                           7                                         \n",
      "Covariance Type:            nonrobust                                         \n",
      "====================================================================================\n",
      "                       coef    std err          t      P>|t|      [0.025      0.975]\n",
      "------------------------------------------------------------------------------------\n",
      "const                6.5657      0.663      9.907      0.000       5.198       7.933\n",
      "percent_green        0.0046      0.002      1.879      0.072      -0.000       0.010\n",
      "Good                 0.0243      0.014      1.729      0.097      -0.005       0.053\n",
      "Very_bad            -0.0598      0.125     -0.478      0.637      -0.318       0.198\n",
      "Age_15-29           -0.0055      0.008     -0.665      0.512      -0.023       0.012\n",
      "Unemployed          -0.0360      0.020     -1.833      0.079      -0.077       0.005\n",
      "Employed            -0.0009      0.005     -0.171      0.865      -0.011       0.010\n",
      "log_PopExc2013 %     0.0882      0.024      3.680      0.001       0.039       0.138\n",
      "==============================================================================\n",
      "Omnibus:                        3.101   Durbin-Watson:                   2.796\n",
      "Prob(Omnibus):                  0.212   Jarque-Bera (JB):                2.030\n",
      "Skew:                           0.135   Prob(JB):                        0.362\n",
      "Kurtosis:                       4.204   Cond. No.                     3.30e+03\n",
      "==============================================================================\n",
      "\n",
      "Notes:\n",
      "[1] Standard Errors assume that the covariance matrix of the errors is correctly specified.\n",
      "[2] The condition number is large, 3.3e+03. This might indicate that there are\n",
      "strong multicollinearity or other numerical problems.\n"
     ]
    },
    {
     "data": {
      "image/png": "[encoded data removed]",
      "text/plain": [
       "<Figure size 432x288 with 1 Axes>"
      ]
     },
     "metadata": {
      "needs_background": "light"
     },
     "output_type": "display_data"
    },
    {
     "name": "stdout",
     "output_type": "stream",
     "text": [
      "\n",
      "\n"
     ]
    }
   ],
   "source": [
    "# Perform regression with outliers removed\n",
    "\n",
    "for cat in wellbeing_cols:\n",
    "    print(f'PERFORMING REGRESSION ON:{cat.upper()}')\n",
    "\n",
    "    # Remove outliers first\n",
    "    ind_var = ind_var_data.columns.tolist()\n",
    "    df = data[['Area', cat]+ ind_var]\n",
    "    data_reout, outliers_area = re_outliers_paired(df, ([cat]+ ind_var))\n",
    "    print('Outliers:', format(outliers_area))\n",
    "\n",
    "    # Perform regression\n",
    "    #reg_model = back_regress(data_reout[cat], data_reout[ind_var])\n",
    "    reg_model = sm.OLS(endog=data_reout[cat], exog=sm.add_constant(data_reout[ind_var])).fit()\n",
    "    print(reg_model.summary())\n",
    "\n",
    "    # plot residual vs. fit\n",
    "    plt.scatter(reg_model.fittedvalues, reg_model.resid)\n",
    "    plt.xlabel('Fitted Value')\n",
    "    plt.ylabel('Residual')\n",
    "    plt.title('Residual vs. Fitted Plot for ' + cat.title())\n",
    "    plt.show()\n",
    "    print('\\n')"
   ]
  },
  {
   "cell_type": "code",
   "execution_count": null,
   "id": "82548f8c",
   "metadata": {},
   "outputs": [],
   "source": []
  },
  {
   "cell_type": "code",
   "execution_count": null,
   "id": "d9328abf",
   "metadata": {},
   "outputs": [],
   "source": []
  },
  {
   "cell_type": "code",
   "execution_count": null,
   "id": "6b0ab2d8",
   "metadata": {},
   "outputs": [],
   "source": []
  },
  {
   "cell_type": "code",
   "execution_count": null,
   "id": "1ad4c8bd",
   "metadata": {},
   "outputs": [],
   "source": []
  },
  {
   "cell_type": "code",
   "execution_count": null,
   "id": "6eced7cc",
   "metadata": {},
   "outputs": [],
   "source": []
  },
  {
   "cell_type": "markdown",
   "id": "dc7e1061",
   "metadata": {},
   "source": [
    "# PLACEHOLDER"
   ]
  },
  {
   "cell_type": "code",
   "execution_count": null,
   "id": "bf384150",
   "metadata": {},
   "outputs": [],
   "source": [
    "# Using GLUD data for green cover\n",
    "\n",
    "ndvi = pd.read_excel(os.path.join(os.getcwd(), 'Data', 'land-use-glud-borough.xls'),\n",
    "                     sheet_name = 'Percent', \n",
    "                     usecols = ['Area Code', 'Local Authority Name', 'Area of Greenspace'], skipfooter = 3)\n",
    "# Drop City of London\n",
    "ndvi.dropna(axis = 0, inplace = True)\n",
    "ndvi.drop(ndvi[ndvi['Local Authority Name'] == \"City of London\"].index, inplace = True)\n",
    "ndvi = ndvi.reset_index(drop = True)\n",
    "\n",
    "ndvi.rename({'Local Authority Name': 'lb_code',\n",
    "            'Area of Greenspace': 'percent_green'},\n",
    "            axis = 1, inplace = True)\n"
   ]
  }
 ],
 "metadata": {
  "kernelspec": {
   "display_name": "Python 3 (ipykernel)",
   "language": "python",
   "name": "python3"
  },
  "language_info": {
   "codemirror_mode": {
    "name": "ipython",
    "version": 3
   },
   "file_extension": ".py",
   "mimetype": "text/x-python",
   "name": "python",
   "nbconvert_exporter": "python",
   "pygments_lexer": "ipython3",
   "version": "3.9.6"
  }
 },
 "nbformat": 4,
 "nbformat_minor": 5
}
